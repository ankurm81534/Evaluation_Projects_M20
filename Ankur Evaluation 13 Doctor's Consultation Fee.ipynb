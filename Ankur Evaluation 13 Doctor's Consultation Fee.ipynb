{
 "cells": [
  {
   "cell_type": "code",
   "execution_count": 1,
   "metadata": {},
   "outputs": [],
   "source": [
    "import numpy as np\n",
    "import pandas as pd\n",
    "import matplotlib.pyplot as plt\n",
    "import seaborn as sns\n",
    "import warnings\n",
    "import sklearn\n",
    "warnings.filterwarnings('ignore')"
   ]
  },
  {
   "cell_type": "code",
   "execution_count": 2,
   "metadata": {},
   "outputs": [
    {
     "data": {
      "text/html": [
       "<div>\n",
       "<style scoped>\n",
       "    .dataframe tbody tr th:only-of-type {\n",
       "        vertical-align: middle;\n",
       "    }\n",
       "\n",
       "    .dataframe tbody tr th {\n",
       "        vertical-align: top;\n",
       "    }\n",
       "\n",
       "    .dataframe thead th {\n",
       "        text-align: right;\n",
       "    }\n",
       "</style>\n",
       "<table border=\"1\" class=\"dataframe\">\n",
       "  <thead>\n",
       "    <tr style=\"text-align: right;\">\n",
       "      <th></th>\n",
       "      <th>Qualification</th>\n",
       "      <th>Experience</th>\n",
       "      <th>Rating</th>\n",
       "      <th>Place</th>\n",
       "      <th>Profile</th>\n",
       "      <th>Miscellaneous_Info</th>\n",
       "      <th>Fees</th>\n",
       "    </tr>\n",
       "  </thead>\n",
       "  <tbody>\n",
       "    <tr>\n",
       "      <th>1741</th>\n",
       "      <td>MBBS, MS - ENT</td>\n",
       "      <td>13 years experience</td>\n",
       "      <td>77%</td>\n",
       "      <td>Kukatpally, Hyderabad</td>\n",
       "      <td>ENT Specialist</td>\n",
       "      <td>77% 3 Feedback Kukatpally, Hyderabad</td>\n",
       "      <td>300</td>\n",
       "    </tr>\n",
       "    <tr>\n",
       "      <th>881</th>\n",
       "      <td>BHMS, DHMS (Diploma in Homeopathic Medicine an...</td>\n",
       "      <td>8 years experience</td>\n",
       "      <td>NaN</td>\n",
       "      <td>Malleswaram, Bangalore</td>\n",
       "      <td>Homeopath</td>\n",
       "      <td>NaN</td>\n",
       "      <td>500</td>\n",
       "    </tr>\n",
       "    <tr>\n",
       "      <th>3961</th>\n",
       "      <td>BDS, MDS - Conservative Dentistry &amp; Endodontics</td>\n",
       "      <td>5 years experience</td>\n",
       "      <td>100%</td>\n",
       "      <td>Green Park, Delhi</td>\n",
       "      <td>Dentist</td>\n",
       "      <td>Scaling / Polishing Mouth Guard Dental prophyl...</td>\n",
       "      <td>500</td>\n",
       "    </tr>\n",
       "    <tr>\n",
       "      <th>4989</th>\n",
       "      <td>MS - ENT, MBBS</td>\n",
       "      <td>23 years experience</td>\n",
       "      <td>NaN</td>\n",
       "      <td>Old Rajendra Nagar, Delhi</td>\n",
       "      <td>ENT Specialist</td>\n",
       "      <td>NaN</td>\n",
       "      <td>700</td>\n",
       "    </tr>\n",
       "    <tr>\n",
       "      <th>4810</th>\n",
       "      <td>BDS</td>\n",
       "      <td>9 years experience</td>\n",
       "      <td>100%</td>\n",
       "      <td>Borivali East, Mumbai</td>\n",
       "      <td>Dentist</td>\n",
       "      <td>Tooth Extraction Dental Fillings Ceramic Venee...</td>\n",
       "      <td>100</td>\n",
       "    </tr>\n",
       "  </tbody>\n",
       "</table>\n",
       "</div>"
      ],
      "text/plain": [
       "                                          Qualification           Experience  \\\n",
       "1741                                     MBBS, MS - ENT  13 years experience   \n",
       "881   BHMS, DHMS (Diploma in Homeopathic Medicine an...   8 years experience   \n",
       "3961    BDS, MDS - Conservative Dentistry & Endodontics   5 years experience   \n",
       "4989                                     MS - ENT, MBBS  23 years experience   \n",
       "4810                                                BDS   9 years experience   \n",
       "\n",
       "     Rating                      Place         Profile  \\\n",
       "1741    77%      Kukatpally, Hyderabad  ENT Specialist   \n",
       "881     NaN     Malleswaram, Bangalore       Homeopath   \n",
       "3961   100%          Green Park, Delhi         Dentist   \n",
       "4989    NaN  Old Rajendra Nagar, Delhi  ENT Specialist   \n",
       "4810   100%      Borivali East, Mumbai         Dentist   \n",
       "\n",
       "                                     Miscellaneous_Info  Fees  \n",
       "1741               77% 3 Feedback Kukatpally, Hyderabad   300  \n",
       "881                                                 NaN   500  \n",
       "3961  Scaling / Polishing Mouth Guard Dental prophyl...   500  \n",
       "4989                                                NaN   700  \n",
       "4810  Tooth Extraction Dental Fillings Ceramic Venee...   100  "
      ]
     },
     "execution_count": 2,
     "metadata": {},
     "output_type": "execute_result"
    }
   ],
   "source": [
    "df = pd.read_excel(\"Doctor_Train.xlsx\")\n",
    "df.sample(5)"
   ]
  },
  {
   "cell_type": "code",
   "execution_count": 3,
   "metadata": {},
   "outputs": [
    {
     "name": "stdout",
     "output_type": "stream",
     "text": [
      "<class 'pandas.core.frame.DataFrame'>\n",
      "RangeIndex: 5961 entries, 0 to 5960\n",
      "Data columns (total 7 columns):\n",
      " #   Column              Non-Null Count  Dtype \n",
      "---  ------              --------------  ----- \n",
      " 0   Qualification       5961 non-null   object\n",
      " 1   Experience          5961 non-null   object\n",
      " 2   Rating              2659 non-null   object\n",
      " 3   Place               5936 non-null   object\n",
      " 4   Profile             5961 non-null   object\n",
      " 5   Miscellaneous_Info  3341 non-null   object\n",
      " 6   Fees                5961 non-null   int64 \n",
      "dtypes: int64(1), object(6)\n",
      "memory usage: 326.1+ KB\n"
     ]
    }
   ],
   "source": [
    "df.info()"
   ]
  },
  {
   "cell_type": "markdown",
   "metadata": {},
   "source": [
    "There are many missing values in Rating(an important column as name suggests) and Miscellaneous_Info which have descripive data in it, some values in Miscellaneous_Info columns are related to address and sone are related to the treatment they provide, but we have address as a separate column and Profile for knowing the treatment they provide.\n",
    "\n",
    "We shall drop the column Miscellaneous_Info right away."
   ]
  },
  {
   "cell_type": "markdown",
   "metadata": {},
   "source": [
    "There are some missing values in column Place, so we can later understand about it what does it signifies in this dataset."
   ]
  },
  {
   "cell_type": "code",
   "execution_count": 4,
   "metadata": {},
   "outputs": [],
   "source": [
    "df.drop(\"Miscellaneous_Info\",1,inplace=True)"
   ]
  },
  {
   "cell_type": "code",
   "execution_count": 5,
   "metadata": {},
   "outputs": [
    {
     "name": "stdout",
     "output_type": "stream",
     "text": [
      "<class 'pandas.core.frame.DataFrame'>\n",
      "RangeIndex: 5961 entries, 0 to 5960\n",
      "Data columns (total 6 columns):\n",
      " #   Column         Non-Null Count  Dtype \n",
      "---  ------         --------------  ----- \n",
      " 0   Qualification  5961 non-null   object\n",
      " 1   Experience     5961 non-null   object\n",
      " 2   Rating         2659 non-null   object\n",
      " 3   Place          5936 non-null   object\n",
      " 4   Profile        5961 non-null   object\n",
      " 5   Fees           5961 non-null   int64 \n",
      "dtypes: int64(1), object(5)\n",
      "memory usage: 279.5+ KB\n"
     ]
    }
   ],
   "source": [
    "df.info()"
   ]
  },
  {
   "cell_type": "markdown",
   "metadata": {},
   "source": [
    "We have our target variable Fees which is the only numeric column, rest are categorical. We can;t infer much from categorical data, let's Encode them for the sake of understanding through varous EDA techniques."
   ]
  },
  {
   "cell_type": "code",
   "execution_count": 6,
   "metadata": {},
   "outputs": [
    {
     "name": "stdout",
     "output_type": "stream",
     "text": [
      "Number of unique values in Qualification is: 1420\n",
      "Number of unique values in Experience is: 64\n",
      "Number of unique values in Rating is: 52\n",
      "Number of unique values in Place is: 878\n",
      "Number of unique values in Profile is: 6\n"
     ]
    }
   ],
   "source": [
    "for i in df.columns[:-1]:\n",
    "    print(\"Number of unique values in {} is:\".format(i),len(df[i].unique()))"
   ]
  },
  {
   "cell_type": "code",
   "execution_count": 7,
   "metadata": {},
   "outputs": [
    {
     "data": {
      "text/plain": [
       "0       24\n",
       "1       12\n",
       "2        9\n",
       "3       12\n",
       "4       20\n",
       "        ..\n",
       "5956    19\n",
       "5957    33\n",
       "5958    41\n",
       "5959    15\n",
       "5960    17\n",
       "Name: ExperienceSplit, Length: 5961, dtype: object"
      ]
     },
     "execution_count": 7,
     "metadata": {},
     "output_type": "execute_result"
    }
   ],
   "source": [
    "df['ExperienceSplit'] = df['Experience'].str.split(\" \", n = -1, expand = True)[0]\n",
    "df['ExperienceSplit']"
   ]
  },
  {
   "cell_type": "code",
   "execution_count": 8,
   "metadata": {},
   "outputs": [
    {
     "data": {
      "text/plain": [
       "0       24\n",
       "1       12\n",
       "2        9\n",
       "3       12\n",
       "4       20\n",
       "        ..\n",
       "5956    19\n",
       "5957    33\n",
       "5958    41\n",
       "5959    15\n",
       "5960    17\n",
       "Name: Experience, Length: 5961, dtype: object"
      ]
     },
     "execution_count": 8,
     "metadata": {},
     "output_type": "execute_result"
    }
   ],
   "source": [
    "#Dropping the unwanted values to keep only numeric value in column Experience\n",
    "df['Experience'] = df['ExperienceSplit']\n",
    "df.drop(\"ExperienceSplit\",1,inplace=True)\n",
    "df['Experience']"
   ]
  },
  {
   "cell_type": "code",
   "execution_count": 9,
   "metadata": {},
   "outputs": [
    {
     "data": {
      "text/plain": [
       "0       100\n",
       "1        98\n",
       "2       NaN\n",
       "3       NaN\n",
       "4       100\n",
       "       ... \n",
       "5956     98\n",
       "5957    NaN\n",
       "5958     97\n",
       "5959     90\n",
       "5960    100\n",
       "Name: Rating, Length: 5961, dtype: object"
      ]
     },
     "execution_count": 9,
     "metadata": {},
     "output_type": "execute_result"
    }
   ],
   "source": [
    "#Dropping the '%' symbol to keep only numeric value in column Rating\n",
    "df['Rating'] = df['Rating'].str.replace(r'\\D', '')\n",
    "df['Rating']"
   ]
  },
  {
   "cell_type": "code",
   "execution_count": 10,
   "metadata": {},
   "outputs": [
    {
     "name": "stdout",
     "output_type": "stream",
     "text": [
      "<class 'pandas.core.frame.DataFrame'>\n",
      "RangeIndex: 5961 entries, 0 to 5960\n",
      "Data columns (total 6 columns):\n",
      " #   Column         Non-Null Count  Dtype \n",
      "---  ------         --------------  ----- \n",
      " 0   Qualification  5961 non-null   object\n",
      " 1   Experience     5961 non-null   object\n",
      " 2   Rating         2659 non-null   object\n",
      " 3   Place          5936 non-null   object\n",
      " 4   Profile        5961 non-null   object\n",
      " 5   Fees           5961 non-null   int64 \n",
      "dtypes: int64(1), object(5)\n",
      "memory usage: 279.5+ KB\n"
     ]
    }
   ],
   "source": [
    "df.info()"
   ]
  },
  {
   "cell_type": "code",
   "execution_count": 11,
   "metadata": {},
   "outputs": [],
   "source": [
    "#Converting the Experience data type to integer\n",
    "df['Experience'] = df['Experience'].astype('int64')"
   ]
  },
  {
   "cell_type": "code",
   "execution_count": 12,
   "metadata": {},
   "outputs": [
    {
     "name": "stdout",
     "output_type": "stream",
     "text": [
      "<class 'pandas.core.frame.DataFrame'>\n",
      "RangeIndex: 5961 entries, 0 to 5960\n",
      "Data columns (total 6 columns):\n",
      " #   Column         Non-Null Count  Dtype \n",
      "---  ------         --------------  ----- \n",
      " 0   Qualification  5961 non-null   object\n",
      " 1   Experience     5961 non-null   int64 \n",
      " 2   Rating         2659 non-null   object\n",
      " 3   Place          5936 non-null   object\n",
      " 4   Profile        5961 non-null   object\n",
      " 5   Fees           5961 non-null   int64 \n",
      "dtypes: int64(2), object(4)\n",
      "memory usage: 279.5+ KB\n"
     ]
    }
   ],
   "source": [
    "df.info()"
   ]
  },
  {
   "cell_type": "code",
   "execution_count": 13,
   "metadata": {},
   "outputs": [],
   "source": [
    "#Converting the Rating data type to float\n",
    "df['Rating'] = df['Rating'].astype('float64')"
   ]
  },
  {
   "cell_type": "code",
   "execution_count": 14,
   "metadata": {},
   "outputs": [
    {
     "data": {
      "text/html": [
       "<div>\n",
       "<style scoped>\n",
       "    .dataframe tbody tr th:only-of-type {\n",
       "        vertical-align: middle;\n",
       "    }\n",
       "\n",
       "    .dataframe tbody tr th {\n",
       "        vertical-align: top;\n",
       "    }\n",
       "\n",
       "    .dataframe thead th {\n",
       "        text-align: right;\n",
       "    }\n",
       "</style>\n",
       "<table border=\"1\" class=\"dataframe\">\n",
       "  <thead>\n",
       "    <tr style=\"text-align: right;\">\n",
       "      <th></th>\n",
       "      <th>Qualification</th>\n",
       "      <th>Experience</th>\n",
       "      <th>Rating</th>\n",
       "      <th>Place</th>\n",
       "      <th>Profile</th>\n",
       "      <th>Fees</th>\n",
       "    </tr>\n",
       "  </thead>\n",
       "  <tbody>\n",
       "    <tr>\n",
       "      <th>0</th>\n",
       "      <td>BHMS, MD - Homeopathy</td>\n",
       "      <td>24</td>\n",
       "      <td>100.0</td>\n",
       "      <td>Kakkanad, Ernakulam</td>\n",
       "      <td>Homeopath</td>\n",
       "      <td>100</td>\n",
       "    </tr>\n",
       "    <tr>\n",
       "      <th>1</th>\n",
       "      <td>BAMS, MD - Ayurveda Medicine</td>\n",
       "      <td>12</td>\n",
       "      <td>98.0</td>\n",
       "      <td>Whitefield, Bangalore</td>\n",
       "      <td>Ayurveda</td>\n",
       "      <td>350</td>\n",
       "    </tr>\n",
       "    <tr>\n",
       "      <th>2</th>\n",
       "      <td>MBBS, MS - Otorhinolaryngology</td>\n",
       "      <td>9</td>\n",
       "      <td>NaN</td>\n",
       "      <td>Mathikere - BEL, Bangalore</td>\n",
       "      <td>ENT Specialist</td>\n",
       "      <td>300</td>\n",
       "    </tr>\n",
       "    <tr>\n",
       "      <th>3</th>\n",
       "      <td>BSc - Zoology, BAMS</td>\n",
       "      <td>12</td>\n",
       "      <td>NaN</td>\n",
       "      <td>Bannerghatta Road, Bangalore</td>\n",
       "      <td>Ayurveda</td>\n",
       "      <td>250</td>\n",
       "    </tr>\n",
       "    <tr>\n",
       "      <th>4</th>\n",
       "      <td>BAMS</td>\n",
       "      <td>20</td>\n",
       "      <td>100.0</td>\n",
       "      <td>Keelkattalai, Chennai</td>\n",
       "      <td>Ayurveda</td>\n",
       "      <td>250</td>\n",
       "    </tr>\n",
       "  </tbody>\n",
       "</table>\n",
       "</div>"
      ],
      "text/plain": [
       "                    Qualification  Experience  Rating  \\\n",
       "0           BHMS, MD - Homeopathy          24   100.0   \n",
       "1    BAMS, MD - Ayurveda Medicine          12    98.0   \n",
       "2  MBBS, MS - Otorhinolaryngology           9     NaN   \n",
       "3             BSc - Zoology, BAMS          12     NaN   \n",
       "4                            BAMS          20   100.0   \n",
       "\n",
       "                          Place         Profile  Fees  \n",
       "0           Kakkanad, Ernakulam       Homeopath   100  \n",
       "1         Whitefield, Bangalore        Ayurveda   350  \n",
       "2    Mathikere - BEL, Bangalore  ENT Specialist   300  \n",
       "3  Bannerghatta Road, Bangalore        Ayurveda   250  \n",
       "4         Keelkattalai, Chennai        Ayurveda   250  "
      ]
     },
     "execution_count": 14,
     "metadata": {},
     "output_type": "execute_result"
    }
   ],
   "source": [
    "df.head()"
   ]
  },
  {
   "cell_type": "code",
   "execution_count": 15,
   "metadata": {},
   "outputs": [
    {
     "data": {
      "text/html": [
       "<div>\n",
       "<style scoped>\n",
       "    .dataframe tbody tr th:only-of-type {\n",
       "        vertical-align: middle;\n",
       "    }\n",
       "\n",
       "    .dataframe tbody tr th {\n",
       "        vertical-align: top;\n",
       "    }\n",
       "\n",
       "    .dataframe thead th {\n",
       "        text-align: right;\n",
       "    }\n",
       "</style>\n",
       "<table border=\"1\" class=\"dataframe\">\n",
       "  <thead>\n",
       "    <tr style=\"text-align: right;\">\n",
       "      <th></th>\n",
       "      <th>Rating</th>\n",
       "      <th>Fees</th>\n",
       "    </tr>\n",
       "  </thead>\n",
       "  <tbody>\n",
       "    <tr>\n",
       "      <th>Rating</th>\n",
       "      <td>1.000000</td>\n",
       "      <td>-0.133572</td>\n",
       "    </tr>\n",
       "    <tr>\n",
       "      <th>Fees</th>\n",
       "      <td>-0.133572</td>\n",
       "      <td>1.000000</td>\n",
       "    </tr>\n",
       "  </tbody>\n",
       "</table>\n",
       "</div>"
      ],
      "text/plain": [
       "          Rating      Fees\n",
       "Rating  1.000000 -0.133572\n",
       "Fees   -0.133572  1.000000"
      ]
     },
     "execution_count": 15,
     "metadata": {},
     "output_type": "execute_result"
    }
   ],
   "source": [
    "df[['Rating', 'Fees']].corr()"
   ]
  },
  {
   "cell_type": "markdown",
   "metadata": {},
   "source": [
    "As we can see that we have negative correlation between Fees and Rating, we can't just drop the column."
   ]
  },
  {
   "cell_type": "code",
   "execution_count": 16,
   "metadata": {},
   "outputs": [],
   "source": [
    "#Replacing the NaN values in Rating with the mean value of itself\n",
    "df.loc[df['Rating'].isnull(), 'Rating'] = df['Rating'].mean()"
   ]
  },
  {
   "cell_type": "code",
   "execution_count": 17,
   "metadata": {},
   "outputs": [
    {
     "data": {
      "text/plain": [
       "Qualification     0\n",
       "Experience        0\n",
       "Rating            0\n",
       "Place            25\n",
       "Profile           0\n",
       "Fees              0\n",
       "dtype: int64"
      ]
     },
     "execution_count": 17,
     "metadata": {},
     "output_type": "execute_result"
    }
   ],
   "source": [
    "df.isnull().sum()"
   ]
  },
  {
   "cell_type": "code",
   "execution_count": 18,
   "metadata": {},
   "outputs": [],
   "source": [
    "#Drop Place\n",
    "df.drop(\"Place\",1,inplace=True)"
   ]
  },
  {
   "cell_type": "code",
   "execution_count": 19,
   "metadata": {},
   "outputs": [
    {
     "data": {
      "text/html": [
       "<div>\n",
       "<style scoped>\n",
       "    .dataframe tbody tr th:only-of-type {\n",
       "        vertical-align: middle;\n",
       "    }\n",
       "\n",
       "    .dataframe tbody tr th {\n",
       "        vertical-align: top;\n",
       "    }\n",
       "\n",
       "    .dataframe thead th {\n",
       "        text-align: right;\n",
       "    }\n",
       "</style>\n",
       "<table border=\"1\" class=\"dataframe\">\n",
       "  <thead>\n",
       "    <tr style=\"text-align: right;\">\n",
       "      <th></th>\n",
       "      <th>Experience</th>\n",
       "      <th>Rating</th>\n",
       "      <th>Fees</th>\n",
       "    </tr>\n",
       "  </thead>\n",
       "  <tbody>\n",
       "    <tr>\n",
       "      <th>count</th>\n",
       "      <td>5961.000000</td>\n",
       "      <td>5961.000000</td>\n",
       "      <td>5961.000000</td>\n",
       "    </tr>\n",
       "    <tr>\n",
       "      <th>mean</th>\n",
       "      <td>17.303976</td>\n",
       "      <td>94.643475</td>\n",
       "      <td>307.944640</td>\n",
       "    </tr>\n",
       "    <tr>\n",
       "      <th>std</th>\n",
       "      <td>11.142798</td>\n",
       "      <td>5.244204</td>\n",
       "      <td>190.920373</td>\n",
       "    </tr>\n",
       "    <tr>\n",
       "      <th>min</th>\n",
       "      <td>0.000000</td>\n",
       "      <td>7.000000</td>\n",
       "      <td>5.000000</td>\n",
       "    </tr>\n",
       "    <tr>\n",
       "      <th>25%</th>\n",
       "      <td>9.000000</td>\n",
       "      <td>94.643475</td>\n",
       "      <td>150.000000</td>\n",
       "    </tr>\n",
       "    <tr>\n",
       "      <th>50%</th>\n",
       "      <td>14.000000</td>\n",
       "      <td>94.643475</td>\n",
       "      <td>300.000000</td>\n",
       "    </tr>\n",
       "    <tr>\n",
       "      <th>75%</th>\n",
       "      <td>23.000000</td>\n",
       "      <td>96.000000</td>\n",
       "      <td>500.000000</td>\n",
       "    </tr>\n",
       "    <tr>\n",
       "      <th>max</th>\n",
       "      <td>66.000000</td>\n",
       "      <td>100.000000</td>\n",
       "      <td>950.000000</td>\n",
       "    </tr>\n",
       "  </tbody>\n",
       "</table>\n",
       "</div>"
      ],
      "text/plain": [
       "        Experience       Rating         Fees\n",
       "count  5961.000000  5961.000000  5961.000000\n",
       "mean     17.303976    94.643475   307.944640\n",
       "std      11.142798     5.244204   190.920373\n",
       "min       0.000000     7.000000     5.000000\n",
       "25%       9.000000    94.643475   150.000000\n",
       "50%      14.000000    94.643475   300.000000\n",
       "75%      23.000000    96.000000   500.000000\n",
       "max      66.000000   100.000000   950.000000"
      ]
     },
     "execution_count": 19,
     "metadata": {},
     "output_type": "execute_result"
    }
   ],
   "source": [
    "df.describe()"
   ]
  },
  {
   "cell_type": "markdown",
   "metadata": {},
   "source": [
    "Dataset seems pretty spreadout, with no outliers"
   ]
  },
  {
   "cell_type": "code",
   "execution_count": 20,
   "metadata": {},
   "outputs": [
    {
     "name": "stdout",
     "output_type": "stream",
     "text": [
      "<class 'pandas.core.frame.DataFrame'>\n",
      "RangeIndex: 5961 entries, 0 to 5960\n",
      "Data columns (total 5 columns):\n",
      " #   Column         Non-Null Count  Dtype  \n",
      "---  ------         --------------  -----  \n",
      " 0   Qualification  5961 non-null   object \n",
      " 1   Experience     5961 non-null   int64  \n",
      " 2   Rating         5961 non-null   float64\n",
      " 3   Profile        5961 non-null   object \n",
      " 4   Fees           5961 non-null   int64  \n",
      "dtypes: float64(1), int64(2), object(2)\n",
      "memory usage: 233.0+ KB\n"
     ]
    }
   ],
   "source": [
    "df.info()"
   ]
  },
  {
   "cell_type": "markdown",
   "metadata": {},
   "source": [
    "# Univariate Analysis"
   ]
  },
  {
   "cell_type": "code",
   "execution_count": 21,
   "metadata": {},
   "outputs": [
    {
     "data": {
      "text/plain": [
       "['Experience', 'Rating', 'Fees']"
      ]
     },
     "execution_count": 21,
     "metadata": {},
     "output_type": "execute_result"
    }
   ],
   "source": [
    "arr = []\n",
    "for i in df.columns:\n",
    "    if df[i].dtype != 'object':\n",
    "        arr.append(i)\n",
    "arr"
   ]
  },
  {
   "cell_type": "code",
   "execution_count": 22,
   "metadata": {},
   "outputs": [
    {
     "data": {
      "image/png": "[encoded data removed]",
      "text/plain": [
       "<Figure size 1080x216 with 3 Axes>"
      ]
     },
     "metadata": {
      "needs_background": "light"
     },
     "output_type": "display_data"
    }
   ],
   "source": [
    "plt.figure(figsize=(15,3))\n",
    "for i,j in enumerate(arr):\n",
    "    plt.subplot(1,3,i+1)\n",
    "    sns.stripplot(df[j])\n",
    "plt.show()"
   ]
  },
  {
   "cell_type": "markdown",
   "metadata": {},
   "source": [
    "Number of doctors with Experience more than 45 years are comparitively less.\n",
    "\n",
    "Most of the doctors have rating more than 80\n",
    "\n",
    "Fees seems pretty spreadout"
   ]
  },
  {
   "cell_type": "code",
   "execution_count": 23,
   "metadata": {},
   "outputs": [
    {
     "data": {
      "image/png": "[encoded data removed]",
      "text/plain": [
       "<Figure size 1080x216 with 3 Axes>"
      ]
     },
     "metadata": {
      "needs_background": "light"
     },
     "output_type": "display_data"
    }
   ],
   "source": [
    "plt.figure(figsize=(15,3))\n",
    "for i,j in enumerate(arr):\n",
    "    plt.subplot(1,3,i+1)\n",
    "    sns.boxplot(df[j], orient=\"v\")\n",
    "plt.show()"
   ]
  },
  {
   "cell_type": "markdown",
   "metadata": {},
   "source": [
    "We've huge outliers in Experience and Rating columns"
   ]
  },
  {
   "cell_type": "markdown",
   "metadata": {},
   "source": [
    "There are very few outliers in Rating columns which seems outstanding, let's treat them using zscore method."
   ]
  },
  {
   "cell_type": "code",
   "execution_count": 24,
   "metadata": {},
   "outputs": [],
   "source": [
    "from scipy.stats import zscore"
   ]
  },
  {
   "cell_type": "code",
   "execution_count": 25,
   "metadata": {},
   "outputs": [
    {
     "data": {
      "text/plain": [
       "0       1.021504e+00\n",
       "1       6.400983e-01\n",
       "2       2.710048e-15\n",
       "3       2.710048e-15\n",
       "4       1.021504e+00\n",
       "            ...     \n",
       "5956    6.400983e-01\n",
       "5957    2.710048e-15\n",
       "5958    4.493957e-01\n",
       "5959   -8.855232e-01\n",
       "5960    1.021504e+00\n",
       "Name: RatingZscore, Length: 5961, dtype: float64"
      ]
     },
     "execution_count": 25,
     "metadata": {},
     "output_type": "execute_result"
    }
   ],
   "source": [
    "df['RatingZscore'] = zscore(df['Rating'])\n",
    "df['RatingZscore']"
   ]
  },
  {
   "cell_type": "code",
   "execution_count": 26,
   "metadata": {},
   "outputs": [
    {
     "data": {
      "text/plain": [
       "1.0215037229554507"
      ]
     },
     "execution_count": 26,
     "metadata": {},
     "output_type": "execute_result"
    }
   ],
   "source": [
    "df['RatingZscore'].max()"
   ]
  },
  {
   "cell_type": "code",
   "execution_count": 27,
   "metadata": {},
   "outputs": [
    {
     "data": {
      "text/plain": [
       "-16.713846353466913"
      ]
     },
     "execution_count": 27,
     "metadata": {},
     "output_type": "execute_result"
    }
   ],
   "source": [
    "df['RatingZscore'].min()"
   ]
  },
  {
   "cell_type": "code",
   "execution_count": 28,
   "metadata": {},
   "outputs": [
    {
     "data": {
      "text/plain": [
       "51"
      ]
     },
     "execution_count": 28,
     "metadata": {},
     "output_type": "execute_result"
    }
   ],
   "source": [
    "df.loc[df['RatingZscore'] < -5, 'RatingZscore'].count()"
   ]
  },
  {
   "cell_type": "markdown",
   "metadata": {},
   "source": [
    "51 is approx 0.85% of the total dataset rows, we can remove them."
   ]
  },
  {
   "cell_type": "code",
   "execution_count": 29,
   "metadata": {},
   "outputs": [],
   "source": [
    "df_New = df[df['RatingZscore'] > -5]"
   ]
  },
  {
   "cell_type": "code",
   "execution_count": 30,
   "metadata": {},
   "outputs": [
    {
     "data": {
      "text/plain": [
       "(5961, 6)"
      ]
     },
     "execution_count": 30,
     "metadata": {},
     "output_type": "execute_result"
    }
   ],
   "source": [
    "df.shape"
   ]
  },
  {
   "cell_type": "code",
   "execution_count": 31,
   "metadata": {},
   "outputs": [
    {
     "data": {
      "text/plain": [
       "(5910, 6)"
      ]
     },
     "execution_count": 31,
     "metadata": {},
     "output_type": "execute_result"
    }
   ],
   "source": [
    "df_New.shape"
   ]
  },
  {
   "cell_type": "code",
   "execution_count": 32,
   "metadata": {},
   "outputs": [
    {
     "data": {
      "text/plain": [
       "51"
      ]
     },
     "execution_count": 32,
     "metadata": {},
     "output_type": "execute_result"
    }
   ],
   "source": [
    "df.shape[0] - df_New.shape[0]"
   ]
  },
  {
   "cell_type": "markdown",
   "metadata": {},
   "source": [
    "We have removed 51 rows"
   ]
  },
  {
   "cell_type": "code",
   "execution_count": 33,
   "metadata": {},
   "outputs": [],
   "source": [
    "df = df_New.copy()"
   ]
  },
  {
   "cell_type": "code",
   "execution_count": 34,
   "metadata": {},
   "outputs": [],
   "source": [
    "df.drop(\"RatingZscore\",1,inplace=True)"
   ]
  },
  {
   "cell_type": "code",
   "execution_count": 35,
   "metadata": {},
   "outputs": [
    {
     "data": {
      "image/png": "[encoded data removed]",
      "text/plain": [
       "<Figure size 1080x216 with 3 Axes>"
      ]
     },
     "metadata": {
      "needs_background": "light"
     },
     "output_type": "display_data"
    }
   ],
   "source": [
    "plt.figure(figsize=(15,3))\n",
    "for i,j in enumerate(arr):\n",
    "    plt.subplot(1,3,i+1)\n",
    "    sns.distplot(df[j])\n",
    "plt.show()"
   ]
  },
  {
   "cell_type": "markdown",
   "metadata": {},
   "source": [
    "Experience is a bit positively skewed, Rating is quite negatively skewed and Fees seems pretty normal."
   ]
  },
  {
   "cell_type": "code",
   "execution_count": 36,
   "metadata": {},
   "outputs": [
    {
     "data": {
      "text/plain": [
       "Experience    0.997788\n",
       "Rating       -2.649242\n",
       "Fees          0.760750\n",
       "dtype: float64"
      ]
     },
     "execution_count": 36,
     "metadata": {},
     "output_type": "execute_result"
    }
   ],
   "source": [
    "df.skew()"
   ]
  },
  {
   "cell_type": "markdown",
   "metadata": {},
   "source": [
    "We tried trasforming using log and square root but the skewness increased, let's keep it as is."
   ]
  },
  {
   "cell_type": "markdown",
   "metadata": {},
   "source": [
    "95 rating is the maximum case in our dataset as it is very high peak."
   ]
  },
  {
   "cell_type": "code",
   "execution_count": 37,
   "metadata": {},
   "outputs": [
    {
     "data": {
      "text/plain": [
       "<Figure size 1440x432 with 0 Axes>"
      ]
     },
     "metadata": {},
     "output_type": "display_data"
    },
    {
     "data": {
      "image/png": "[encoded data removed]",
      "text/plain": [
       "<Figure size 360x360 with 1 Axes>"
      ]
     },
     "metadata": {
      "needs_background": "light"
     },
     "output_type": "display_data"
    },
    {
     "data": {
      "image/png": "[encoded data removed]",
      "text/plain": [
       "<Figure size 360x360 with 1 Axes>"
      ]
     },
     "metadata": {
      "needs_background": "light"
     },
     "output_type": "display_data"
    },
    {
     "data": {
      "image/png": "[encoded data removed]",
      "text/plain": [
       "<Figure size 360x360 with 1 Axes>"
      ]
     },
     "metadata": {
      "needs_background": "light"
     },
     "output_type": "display_data"
    }
   ],
   "source": [
    "plt.figure(figsize=(20,6))\n",
    "for i,j in enumerate(arr):\n",
    "    sns.lmplot(x=j, y ='Fees', data=df)\n",
    "plt.show()"
   ]
  },
  {
   "cell_type": "markdown",
   "metadata": {},
   "source": [
    "Experience and Fees does not seems to relate at all.\n",
    "\n",
    "While as Rating is increased Fees seems to decrease which is quite opposite."
   ]
  },
  {
   "cell_type": "markdown",
   "metadata": {},
   "source": [
    "# Encoding"
   ]
  },
  {
   "cell_type": "code",
   "execution_count": 38,
   "metadata": {},
   "outputs": [],
   "source": [
    "from sklearn.preprocessing import LabelEncoder, MinMaxScaler\n",
    "le = LabelEncoder()"
   ]
  },
  {
   "cell_type": "markdown",
   "metadata": {},
   "source": [
    "We can't do One hot encoding as there are huge number of unique values in each categorical values"
   ]
  },
  {
   "cell_type": "code",
   "execution_count": 39,
   "metadata": {},
   "outputs": [
    {
     "data": {
      "text/plain": [
       "['Qualification', 'Profile']"
      ]
     },
     "execution_count": 39,
     "metadata": {},
     "output_type": "execute_result"
    }
   ],
   "source": [
    "arrObj = []\n",
    "for i in df.columns:\n",
    "    if df[i].dtype == 'object':\n",
    "        arrObj.append(i)\n",
    "arrObj"
   ]
  },
  {
   "cell_type": "code",
   "execution_count": 40,
   "metadata": {},
   "outputs": [
    {
     "data": {
      "text/html": [
       "<div>\n",
       "<style scoped>\n",
       "    .dataframe tbody tr th:only-of-type {\n",
       "        vertical-align: middle;\n",
       "    }\n",
       "\n",
       "    .dataframe tbody tr th {\n",
       "        vertical-align: top;\n",
       "    }\n",
       "\n",
       "    .dataframe thead th {\n",
       "        text-align: right;\n",
       "    }\n",
       "</style>\n",
       "<table border=\"1\" class=\"dataframe\">\n",
       "  <thead>\n",
       "    <tr style=\"text-align: right;\">\n",
       "      <th></th>\n",
       "      <th>Qualification</th>\n",
       "      <th>Experience</th>\n",
       "      <th>Rating</th>\n",
       "      <th>Profile</th>\n",
       "      <th>Fees</th>\n",
       "    </tr>\n",
       "  </thead>\n",
       "  <tbody>\n",
       "    <tr>\n",
       "      <th>0</th>\n",
       "      <td>400</td>\n",
       "      <td>24</td>\n",
       "      <td>100.000000</td>\n",
       "      <td>5</td>\n",
       "      <td>100</td>\n",
       "    </tr>\n",
       "    <tr>\n",
       "      <th>1</th>\n",
       "      <td>73</td>\n",
       "      <td>12</td>\n",
       "      <td>98.000000</td>\n",
       "      <td>0</td>\n",
       "      <td>350</td>\n",
       "    </tr>\n",
       "    <tr>\n",
       "      <th>2</th>\n",
       "      <td>1127</td>\n",
       "      <td>9</td>\n",
       "      <td>94.643475</td>\n",
       "      <td>3</td>\n",
       "      <td>300</td>\n",
       "    </tr>\n",
       "    <tr>\n",
       "      <th>3</th>\n",
       "      <td>463</td>\n",
       "      <td>12</td>\n",
       "      <td>94.643475</td>\n",
       "      <td>0</td>\n",
       "      <td>250</td>\n",
       "    </tr>\n",
       "    <tr>\n",
       "      <th>4</th>\n",
       "      <td>10</td>\n",
       "      <td>20</td>\n",
       "      <td>100.000000</td>\n",
       "      <td>0</td>\n",
       "      <td>250</td>\n",
       "    </tr>\n",
       "  </tbody>\n",
       "</table>\n",
       "</div>"
      ],
      "text/plain": [
       "   Qualification  Experience      Rating  Profile  Fees\n",
       "0            400          24  100.000000        5   100\n",
       "1             73          12   98.000000        0   350\n",
       "2           1127           9   94.643475        3   300\n",
       "3            463          12   94.643475        0   250\n",
       "4             10          20  100.000000        0   250"
      ]
     },
     "execution_count": 40,
     "metadata": {},
     "output_type": "execute_result"
    }
   ],
   "source": [
    "for i in arrObj:\n",
    "    df[i] = le.fit_transform(df[[i]])\n",
    "df.head()"
   ]
  },
  {
   "cell_type": "code",
   "execution_count": 41,
   "metadata": {},
   "outputs": [
    {
     "data": {
      "text/html": [
       "<div>\n",
       "<style scoped>\n",
       "    .dataframe tbody tr th:only-of-type {\n",
       "        vertical-align: middle;\n",
       "    }\n",
       "\n",
       "    .dataframe tbody tr th {\n",
       "        vertical-align: top;\n",
       "    }\n",
       "\n",
       "    .dataframe thead th {\n",
       "        text-align: right;\n",
       "    }\n",
       "</style>\n",
       "<table border=\"1\" class=\"dataframe\">\n",
       "  <thead>\n",
       "    <tr style=\"text-align: right;\">\n",
       "      <th></th>\n",
       "      <th>Qualification</th>\n",
       "      <th>Experience</th>\n",
       "      <th>Rating</th>\n",
       "      <th>Profile</th>\n",
       "      <th>Fees</th>\n",
       "    </tr>\n",
       "  </thead>\n",
       "  <tbody>\n",
       "    <tr>\n",
       "      <th>count</th>\n",
       "      <td>5910.000000</td>\n",
       "      <td>5910.000000</td>\n",
       "      <td>5910.000000</td>\n",
       "      <td>5910.000000</td>\n",
       "      <td>5910.000000</td>\n",
       "    </tr>\n",
       "    <tr>\n",
       "      <th>mean</th>\n",
       "      <td>590.881218</td>\n",
       "      <td>17.223519</td>\n",
       "      <td>94.957996</td>\n",
       "      <td>2.435871</td>\n",
       "      <td>306.862606</td>\n",
       "    </tr>\n",
       "    <tr>\n",
       "      <th>std</th>\n",
       "      <td>411.432504</td>\n",
       "      <td>11.101706</td>\n",
       "      <td>3.875720</td>\n",
       "      <td>1.661750</td>\n",
       "      <td>190.439729</td>\n",
       "    </tr>\n",
       "    <tr>\n",
       "      <th>min</th>\n",
       "      <td>0.000000</td>\n",
       "      <td>0.000000</td>\n",
       "      <td>69.000000</td>\n",
       "      <td>0.000000</td>\n",
       "      <td>5.000000</td>\n",
       "    </tr>\n",
       "    <tr>\n",
       "      <th>25%</th>\n",
       "      <td>218.000000</td>\n",
       "      <td>9.000000</td>\n",
       "      <td>94.643475</td>\n",
       "      <td>1.000000</td>\n",
       "      <td>150.000000</td>\n",
       "    </tr>\n",
       "    <tr>\n",
       "      <th>50%</th>\n",
       "      <td>592.000000</td>\n",
       "      <td>14.000000</td>\n",
       "      <td>94.643475</td>\n",
       "      <td>2.000000</td>\n",
       "      <td>300.000000</td>\n",
       "    </tr>\n",
       "    <tr>\n",
       "      <th>75%</th>\n",
       "      <td>938.000000</td>\n",
       "      <td>23.000000</td>\n",
       "      <td>96.000000</td>\n",
       "      <td>4.000000</td>\n",
       "      <td>500.000000</td>\n",
       "    </tr>\n",
       "    <tr>\n",
       "      <th>max</th>\n",
       "      <td>1410.000000</td>\n",
       "      <td>66.000000</td>\n",
       "      <td>100.000000</td>\n",
       "      <td>5.000000</td>\n",
       "      <td>950.000000</td>\n",
       "    </tr>\n",
       "  </tbody>\n",
       "</table>\n",
       "</div>"
      ],
      "text/plain": [
       "       Qualification   Experience       Rating      Profile         Fees\n",
       "count    5910.000000  5910.000000  5910.000000  5910.000000  5910.000000\n",
       "mean      590.881218    17.223519    94.957996     2.435871   306.862606\n",
       "std       411.432504    11.101706     3.875720     1.661750   190.439729\n",
       "min         0.000000     0.000000    69.000000     0.000000     5.000000\n",
       "25%       218.000000     9.000000    94.643475     1.000000   150.000000\n",
       "50%       592.000000    14.000000    94.643475     2.000000   300.000000\n",
       "75%       938.000000    23.000000    96.000000     4.000000   500.000000\n",
       "max      1410.000000    66.000000   100.000000     5.000000   950.000000"
      ]
     },
     "execution_count": 41,
     "metadata": {},
     "output_type": "execute_result"
    }
   ],
   "source": [
    "df.describe()"
   ]
  },
  {
   "cell_type": "markdown",
   "metadata": {},
   "source": [
    "# Data Scaling"
   ]
  },
  {
   "cell_type": "code",
   "execution_count": 42,
   "metadata": {},
   "outputs": [],
   "source": [
    "mms = MinMaxScaler()"
   ]
  },
  {
   "cell_type": "code",
   "execution_count": 43,
   "metadata": {},
   "outputs": [
    {
     "data": {
      "text/html": [
       "<div>\n",
       "<style scoped>\n",
       "    .dataframe tbody tr th:only-of-type {\n",
       "        vertical-align: middle;\n",
       "    }\n",
       "\n",
       "    .dataframe tbody tr th {\n",
       "        vertical-align: top;\n",
       "    }\n",
       "\n",
       "    .dataframe thead th {\n",
       "        text-align: right;\n",
       "    }\n",
       "</style>\n",
       "<table border=\"1\" class=\"dataframe\">\n",
       "  <thead>\n",
       "    <tr style=\"text-align: right;\">\n",
       "      <th></th>\n",
       "      <th>Qualification</th>\n",
       "      <th>Experience</th>\n",
       "      <th>Rating</th>\n",
       "      <th>Profile</th>\n",
       "      <th>Fees</th>\n",
       "    </tr>\n",
       "  </thead>\n",
       "  <tbody>\n",
       "    <tr>\n",
       "      <th>Qualification</th>\n",
       "      <td>1.000000</td>\n",
       "      <td>0.131170</td>\n",
       "      <td>-0.157541</td>\n",
       "      <td>0.393044</td>\n",
       "      <td>0.261486</td>\n",
       "    </tr>\n",
       "    <tr>\n",
       "      <th>Experience</th>\n",
       "      <td>0.131170</td>\n",
       "      <td>1.000000</td>\n",
       "      <td>-0.172829</td>\n",
       "      <td>0.200340</td>\n",
       "      <td>-0.000975</td>\n",
       "    </tr>\n",
       "    <tr>\n",
       "      <th>Rating</th>\n",
       "      <td>-0.157541</td>\n",
       "      <td>-0.172829</td>\n",
       "      <td>1.000000</td>\n",
       "      <td>-0.115749</td>\n",
       "      <td>-0.070797</td>\n",
       "    </tr>\n",
       "    <tr>\n",
       "      <th>Profile</th>\n",
       "      <td>0.393044</td>\n",
       "      <td>0.200340</td>\n",
       "      <td>-0.115749</td>\n",
       "      <td>1.000000</td>\n",
       "      <td>0.144005</td>\n",
       "    </tr>\n",
       "    <tr>\n",
       "      <th>Fees</th>\n",
       "      <td>0.261486</td>\n",
       "      <td>-0.000975</td>\n",
       "      <td>-0.070797</td>\n",
       "      <td>0.144005</td>\n",
       "      <td>1.000000</td>\n",
       "    </tr>\n",
       "  </tbody>\n",
       "</table>\n",
       "</div>"
      ],
      "text/plain": [
       "               Qualification  Experience    Rating   Profile      Fees\n",
       "Qualification       1.000000    0.131170 -0.157541  0.393044  0.261486\n",
       "Experience          0.131170    1.000000 -0.172829  0.200340 -0.000975\n",
       "Rating             -0.157541   -0.172829  1.000000 -0.115749 -0.070797\n",
       "Profile             0.393044    0.200340 -0.115749  1.000000  0.144005\n",
       "Fees                0.261486   -0.000975 -0.070797  0.144005  1.000000"
      ]
     },
     "execution_count": 43,
     "metadata": {},
     "output_type": "execute_result"
    }
   ],
   "source": [
    "df.corr()"
   ]
  },
  {
   "cell_type": "code",
   "execution_count": 44,
   "metadata": {},
   "outputs": [
    {
     "data": {
      "text/plain": [
       "<matplotlib.axes._subplots.AxesSubplot at 0x2063c2bfa00>"
      ]
     },
     "execution_count": 44,
     "metadata": {},
     "output_type": "execute_result"
    },
    {
     "data": {
      "image/png": "[encoded data removed]",
      "text/plain": [
       "<Figure size 432x288 with 2 Axes>"
      ]
     },
     "metadata": {
      "needs_background": "light"
     },
     "output_type": "display_data"
    }
   ],
   "source": [
    "sns.heatmap(df.corr(), annot=True)"
   ]
  },
  {
   "cell_type": "markdown",
   "metadata": {},
   "source": [
    "We have Qualification and Profile having positive correlation with Fees\n",
    "\n",
    "We have Experience and Rating having negative correlation with Fees."
   ]
  },
  {
   "cell_type": "code",
   "execution_count": 45,
   "metadata": {},
   "outputs": [],
   "source": [
    "from sklearn.model_selection import train_test_split, cross_val_score, GridSearchCV\n",
    "X = df.drop(\"Fees\",1)\n",
    "Y = df['Fees']\n",
    "X_train, X_test, y_train, y_test = train_test_split(X, Y, test_size=0.25, random_state=7)"
   ]
  },
  {
   "cell_type": "code",
   "execution_count": 46,
   "metadata": {},
   "outputs": [
    {
     "data": {
      "text/html": [
       "<div>\n",
       "<style scoped>\n",
       "    .dataframe tbody tr th:only-of-type {\n",
       "        vertical-align: middle;\n",
       "    }\n",
       "\n",
       "    .dataframe tbody tr th {\n",
       "        vertical-align: top;\n",
       "    }\n",
       "\n",
       "    .dataframe thead th {\n",
       "        text-align: right;\n",
       "    }\n",
       "</style>\n",
       "<table border=\"1\" class=\"dataframe\">\n",
       "  <thead>\n",
       "    <tr style=\"text-align: right;\">\n",
       "      <th></th>\n",
       "      <th>Qualification</th>\n",
       "      <th>Experience</th>\n",
       "      <th>Rating</th>\n",
       "      <th>Profile</th>\n",
       "      <th>Fees</th>\n",
       "    </tr>\n",
       "  </thead>\n",
       "  <tbody>\n",
       "    <tr>\n",
       "      <th>1615</th>\n",
       "      <td>350</td>\n",
       "      <td>9</td>\n",
       "      <td>94.643475</td>\n",
       "      <td>5</td>\n",
       "      <td>100</td>\n",
       "    </tr>\n",
       "    <tr>\n",
       "      <th>2880</th>\n",
       "      <td>772</td>\n",
       "      <td>24</td>\n",
       "      <td>99.000000</td>\n",
       "      <td>3</td>\n",
       "      <td>100</td>\n",
       "    </tr>\n",
       "    <tr>\n",
       "      <th>5391</th>\n",
       "      <td>1225</td>\n",
       "      <td>15</td>\n",
       "      <td>99.000000</td>\n",
       "      <td>2</td>\n",
       "      <td>700</td>\n",
       "    </tr>\n",
       "    <tr>\n",
       "      <th>2484</th>\n",
       "      <td>400</td>\n",
       "      <td>14</td>\n",
       "      <td>94.643475</td>\n",
       "      <td>5</td>\n",
       "      <td>150</td>\n",
       "    </tr>\n",
       "    <tr>\n",
       "      <th>4918</th>\n",
       "      <td>1154</td>\n",
       "      <td>12</td>\n",
       "      <td>94.000000</td>\n",
       "      <td>4</td>\n",
       "      <td>500</td>\n",
       "    </tr>\n",
       "  </tbody>\n",
       "</table>\n",
       "</div>"
      ],
      "text/plain": [
       "      Qualification  Experience     Rating  Profile  Fees\n",
       "1615            350           9  94.643475        5   100\n",
       "2880            772          24  99.000000        3   100\n",
       "5391           1225          15  99.000000        2   700\n",
       "2484            400          14  94.643475        5   150\n",
       "4918           1154          12  94.000000        4   500"
      ]
     },
     "execution_count": 46,
     "metadata": {},
     "output_type": "execute_result"
    }
   ],
   "source": [
    "df.sample(5)"
   ]
  },
  {
   "cell_type": "code",
   "execution_count": 47,
   "metadata": {},
   "outputs": [],
   "source": [
    "arr1 = ['Qualification', 'Experience', 'Rating']\n",
    "for i in arr1:\n",
    "    X[i] = mms.fit_transform(df[[i]])"
   ]
  },
  {
   "cell_type": "code",
   "execution_count": 48,
   "metadata": {},
   "outputs": [
    {
     "data": {
      "text/html": [
       "<div>\n",
       "<style scoped>\n",
       "    .dataframe tbody tr th:only-of-type {\n",
       "        vertical-align: middle;\n",
       "    }\n",
       "\n",
       "    .dataframe tbody tr th {\n",
       "        vertical-align: top;\n",
       "    }\n",
       "\n",
       "    .dataframe thead th {\n",
       "        text-align: right;\n",
       "    }\n",
       "</style>\n",
       "<table border=\"1\" class=\"dataframe\">\n",
       "  <thead>\n",
       "    <tr style=\"text-align: right;\">\n",
       "      <th></th>\n",
       "      <th>Qualification</th>\n",
       "      <th>Experience</th>\n",
       "      <th>Rating</th>\n",
       "      <th>Profile</th>\n",
       "    </tr>\n",
       "  </thead>\n",
       "  <tbody>\n",
       "    <tr>\n",
       "      <th>count</th>\n",
       "      <td>5910.000000</td>\n",
       "      <td>5910.000000</td>\n",
       "      <td>5910.000000</td>\n",
       "      <td>5910.000000</td>\n",
       "    </tr>\n",
       "    <tr>\n",
       "      <th>mean</th>\n",
       "      <td>0.419065</td>\n",
       "      <td>0.260962</td>\n",
       "      <td>0.837355</td>\n",
       "      <td>2.435871</td>\n",
       "    </tr>\n",
       "    <tr>\n",
       "      <th>std</th>\n",
       "      <td>0.291796</td>\n",
       "      <td>0.168208</td>\n",
       "      <td>0.125023</td>\n",
       "      <td>1.661750</td>\n",
       "    </tr>\n",
       "    <tr>\n",
       "      <th>min</th>\n",
       "      <td>0.000000</td>\n",
       "      <td>0.000000</td>\n",
       "      <td>0.000000</td>\n",
       "      <td>0.000000</td>\n",
       "    </tr>\n",
       "    <tr>\n",
       "      <th>25%</th>\n",
       "      <td>0.154610</td>\n",
       "      <td>0.136364</td>\n",
       "      <td>0.827209</td>\n",
       "      <td>1.000000</td>\n",
       "    </tr>\n",
       "    <tr>\n",
       "      <th>50%</th>\n",
       "      <td>0.419858</td>\n",
       "      <td>0.212121</td>\n",
       "      <td>0.827209</td>\n",
       "      <td>2.000000</td>\n",
       "    </tr>\n",
       "    <tr>\n",
       "      <th>75%</th>\n",
       "      <td>0.665248</td>\n",
       "      <td>0.348485</td>\n",
       "      <td>0.870968</td>\n",
       "      <td>4.000000</td>\n",
       "    </tr>\n",
       "    <tr>\n",
       "      <th>max</th>\n",
       "      <td>1.000000</td>\n",
       "      <td>1.000000</td>\n",
       "      <td>1.000000</td>\n",
       "      <td>5.000000</td>\n",
       "    </tr>\n",
       "  </tbody>\n",
       "</table>\n",
       "</div>"
      ],
      "text/plain": [
       "       Qualification   Experience       Rating      Profile\n",
       "count    5910.000000  5910.000000  5910.000000  5910.000000\n",
       "mean        0.419065     0.260962     0.837355     2.435871\n",
       "std         0.291796     0.168208     0.125023     1.661750\n",
       "min         0.000000     0.000000     0.000000     0.000000\n",
       "25%         0.154610     0.136364     0.827209     1.000000\n",
       "50%         0.419858     0.212121     0.827209     2.000000\n",
       "75%         0.665248     0.348485     0.870968     4.000000\n",
       "max         1.000000     1.000000     1.000000     5.000000"
      ]
     },
     "execution_count": 48,
     "metadata": {},
     "output_type": "execute_result"
    }
   ],
   "source": [
    "X.describe()"
   ]
  },
  {
   "cell_type": "code",
   "execution_count": 49,
   "metadata": {},
   "outputs": [],
   "source": [
    "#Models Import\n",
    "import sklearn\n",
    "from sklearn.linear_model import LinearRegression, Ridge, Lasso\n",
    "from sklearn.model_selection import train_test_split, cross_val_score, GridSearchCV, RandomizedSearchCV\n",
    "from sklearn.tree import DecisionTreeRegressor\n",
    "from sklearn.ensemble import RandomForestRegressor, ExtraTreesRegressor, GradientBoostingRegressor\n",
    "from sklearn.tree import DecisionTreeClassifier\n",
    "from sklearn.ensemble import RandomForestClassifier, ExtraTreesClassifier, GradientBoostingClassifier\n",
    "from sklearn.svm import SVC\n",
    "from sklearn.neighbors import KNeighborsClassifier\n",
    "\n",
    "#Metrics Import\n",
    "from sklearn.metrics import mean_absolute_error, mean_squared_error, r2_score"
   ]
  },
  {
   "cell_type": "code",
   "execution_count": 50,
   "metadata": {},
   "outputs": [],
   "source": [
    "def classify(model, x, y):\n",
    "    # Model training\n",
    "    model.fit(x, y)\n",
    "    pred = model.predict(x)\n",
    "    print(\"MSE is:\",mean_squared_error(y,pred))\n",
    "    #Cross validation\n",
    "    score = cross_val_score(model, x,y, cv=5)\n",
    "    print(\"Cross validation score is :\",np.abs(np.mean(score)))\n",
    "    return np.abs(np.mean(score))"
   ]
  },
  {
   "cell_type": "code",
   "execution_count": 51,
   "metadata": {},
   "outputs": [],
   "source": [
    "#Regression\n",
    "lm = LinearRegression()\n",
    "rr = Ridge()\n",
    "ls = Lasso()\n",
    "dtr = DecisionTreeRegressor()\n",
    "rfr = RandomForestRegressor()\n",
    "etr = ExtraTreesRegressor()\n",
    "gbr = GradientBoostingRegressor()\n",
    "\n",
    "#Regression Parameters\n",
    "rrparams = {'alpha' : [0.0001, 0.001, 0.01, 0.1, 1.0], 'random_state': range(70,150)}\n",
    "lsparams = {'alpha' : [0.0001, 0.001, 0.01, 0.1, 1.0], 'random_state': range(70,150)}\n",
    "dtrparams = {'criterion' : ['mse', 'friedman_mse', 'mae', 'poisson'], 'min_samples_split' : range(10),\n",
    "            'random_state' : range(70,150)}\n",
    "rfrparams = {'criterion' : ['mse', 'friedman_mse', 'mae', 'poisson'], 'n_estimators' : range(50,80),\n",
    "             'random_state' : range(70,150)}\n",
    "etrparams = {'criterion' : ['mse', 'friedman_mse', 'mae'], 'min_samples_split' : range(10),\n",
    "            'random_state' : range(70,150)}\n",
    "gbrparams = {'loss' : ['ls', 'lad', 'huber', 'quantile'], 'n_estimators' : range(50,80),\n",
    "             'criterion' : ['mse', 'friedman_mse', 'mae'], 'random_state' : range(70,150)}"
   ]
  },
  {
   "cell_type": "code",
   "execution_count": 52,
   "metadata": {},
   "outputs": [],
   "source": [
    "def rstate(model, X, Y):\n",
    "    mse = []\n",
    "    for i in range(1,201):\n",
    "        X_train, X_test, y_train, y_test = train_test_split(X,Y,test_size=.3, random_state=i)\n",
    "        model.fit(X_train, y_train)\n",
    "        pred = model.predict(X_test)\n",
    "        #print(mean_squared_error(y_test, pred))\n",
    "        #print(np.sqrt(mean_squared_error(y_test, pred)))\n",
    "        #print(mean_absolute_error(y_test, pred))\n",
    "        #print(r2_score(y_test, pred))\n",
    "        mse.append(mean_squared_error(y_test, pred))\n",
    "    return mse.index(min(mse))+1"
   ]
  },
  {
   "cell_type": "code",
   "execution_count": 53,
   "metadata": {},
   "outputs": [
    {
     "name": "stdout",
     "output_type": "stream",
     "text": [
      "Linear Model best random state is:  172\n"
     ]
    }
   ],
   "source": [
    "lmRS = rstate(lm, X, Y)\n",
    "print(\"Linear Model best random state is: \",lmRS)"
   ]
  },
  {
   "cell_type": "code",
   "execution_count": 54,
   "metadata": {},
   "outputs": [
    {
     "name": "stdout",
     "output_type": "stream",
     "text": [
      "30818.907406610164\n",
      "0.06719456036557858\n"
     ]
    }
   ],
   "source": [
    "X_train, X_test, y_train, y_test = train_test_split(X,Y,test_size=.3, random_state=172)\n",
    "lm.fit(X_train, y_train)\n",
    "pred = lm.predict(X_test)\n",
    "print(mean_squared_error(y_test, pred))\n",
    "print(r2_score(y_test, pred))"
   ]
  },
  {
   "cell_type": "code",
   "execution_count": 55,
   "metadata": {},
   "outputs": [
    {
     "data": {
      "text/html": [
       "<div>\n",
       "<style scoped>\n",
       "    .dataframe tbody tr th:only-of-type {\n",
       "        vertical-align: middle;\n",
       "    }\n",
       "\n",
       "    .dataframe tbody tr th {\n",
       "        vertical-align: top;\n",
       "    }\n",
       "\n",
       "    .dataframe thead th {\n",
       "        text-align: right;\n",
       "    }\n",
       "</style>\n",
       "<table border=\"1\" class=\"dataframe\">\n",
       "  <thead>\n",
       "    <tr style=\"text-align: right;\">\n",
       "      <th></th>\n",
       "      <th>params</th>\n",
       "      <th>mean_test_neg_mean_squared_error</th>\n",
       "      <th>rank_test_neg_mean_squared_error</th>\n",
       "      <th>mean_test_r2</th>\n",
       "      <th>rank_test_r2</th>\n",
       "    </tr>\n",
       "  </thead>\n",
       "  <tbody>\n",
       "    <tr>\n",
       "      <th>99</th>\n",
       "      <td>{'random_state': 76, 'alpha': 1.0}</td>\n",
       "      <td>-33657.114473</td>\n",
       "      <td>1</td>\n",
       "      <td>0.071342</td>\n",
       "      <td>1</td>\n",
       "    </tr>\n",
       "    <tr>\n",
       "      <th>81</th>\n",
       "      <td>{'random_state': 119, 'alpha': 1.0}</td>\n",
       "      <td>-33657.114473</td>\n",
       "      <td>1</td>\n",
       "      <td>0.071342</td>\n",
       "      <td>1</td>\n",
       "    </tr>\n",
       "    <tr>\n",
       "      <th>32</th>\n",
       "      <td>{'random_state': 81, 'alpha': 1.0}</td>\n",
       "      <td>-33657.114473</td>\n",
       "      <td>1</td>\n",
       "      <td>0.071342</td>\n",
       "      <td>1</td>\n",
       "    </tr>\n",
       "    <tr>\n",
       "      <th>45</th>\n",
       "      <td>{'random_state': 146, 'alpha': 1.0}</td>\n",
       "      <td>-33657.114473</td>\n",
       "      <td>1</td>\n",
       "      <td>0.071342</td>\n",
       "      <td>1</td>\n",
       "    </tr>\n",
       "    <tr>\n",
       "      <th>49</th>\n",
       "      <td>{'random_state': 104, 'alpha': 1.0}</td>\n",
       "      <td>-33657.114473</td>\n",
       "      <td>1</td>\n",
       "      <td>0.071342</td>\n",
       "      <td>1</td>\n",
       "    </tr>\n",
       "    <tr>\n",
       "      <th>...</th>\n",
       "      <td>...</td>\n",
       "      <td>...</td>\n",
       "      <td>...</td>\n",
       "      <td>...</td>\n",
       "      <td>...</td>\n",
       "    </tr>\n",
       "    <tr>\n",
       "      <th>77</th>\n",
       "      <td>{'random_state': 80, 'alpha': 0.0001}</td>\n",
       "      <td>-33657.366560</td>\n",
       "      <td>79</td>\n",
       "      <td>0.071335</td>\n",
       "      <td>79</td>\n",
       "    </tr>\n",
       "    <tr>\n",
       "      <th>61</th>\n",
       "      <td>{'random_state': 93, 'alpha': 0.0001}</td>\n",
       "      <td>-33657.366560</td>\n",
       "      <td>79</td>\n",
       "      <td>0.071335</td>\n",
       "      <td>79</td>\n",
       "    </tr>\n",
       "    <tr>\n",
       "      <th>63</th>\n",
       "      <td>{'random_state': 132, 'alpha': 0.0001}</td>\n",
       "      <td>-33657.366560</td>\n",
       "      <td>79</td>\n",
       "      <td>0.071335</td>\n",
       "      <td>79</td>\n",
       "    </tr>\n",
       "    <tr>\n",
       "      <th>66</th>\n",
       "      <td>{'random_state': 129, 'alpha': 0.0001}</td>\n",
       "      <td>-33657.366560</td>\n",
       "      <td>79</td>\n",
       "      <td>0.071335</td>\n",
       "      <td>79</td>\n",
       "    </tr>\n",
       "    <tr>\n",
       "      <th>35</th>\n",
       "      <td>{'random_state': 123, 'alpha': 0.0001}</td>\n",
       "      <td>-33657.366560</td>\n",
       "      <td>79</td>\n",
       "      <td>0.071335</td>\n",
       "      <td>79</td>\n",
       "    </tr>\n",
       "  </tbody>\n",
       "</table>\n",
       "<p>100 rows × 5 columns</p>\n",
       "</div>"
      ],
      "text/plain": [
       "                                    params  mean_test_neg_mean_squared_error  \\\n",
       "99      {'random_state': 76, 'alpha': 1.0}                     -33657.114473   \n",
       "81     {'random_state': 119, 'alpha': 1.0}                     -33657.114473   \n",
       "32      {'random_state': 81, 'alpha': 1.0}                     -33657.114473   \n",
       "45     {'random_state': 146, 'alpha': 1.0}                     -33657.114473   \n",
       "49     {'random_state': 104, 'alpha': 1.0}                     -33657.114473   \n",
       "..                                     ...                               ...   \n",
       "77   {'random_state': 80, 'alpha': 0.0001}                     -33657.366560   \n",
       "61   {'random_state': 93, 'alpha': 0.0001}                     -33657.366560   \n",
       "63  {'random_state': 132, 'alpha': 0.0001}                     -33657.366560   \n",
       "66  {'random_state': 129, 'alpha': 0.0001}                     -33657.366560   \n",
       "35  {'random_state': 123, 'alpha': 0.0001}                     -33657.366560   \n",
       "\n",
       "    rank_test_neg_mean_squared_error  mean_test_r2  rank_test_r2  \n",
       "99                                 1      0.071342             1  \n",
       "81                                 1      0.071342             1  \n",
       "32                                 1      0.071342             1  \n",
       "45                                 1      0.071342             1  \n",
       "49                                 1      0.071342             1  \n",
       "..                               ...           ...           ...  \n",
       "77                                79      0.071335            79  \n",
       "61                                79      0.071335            79  \n",
       "63                                79      0.071335            79  \n",
       "66                                79      0.071335            79  \n",
       "35                                79      0.071335            79  \n",
       "\n",
       "[100 rows x 5 columns]"
      ]
     },
     "execution_count": 55,
     "metadata": {},
     "output_type": "execute_result"
    }
   ],
   "source": [
    "rrgs = RandomizedSearchCV(rr, rrparams, return_train_score = False, n_iter=100, cv = 5, scoring=['neg_mean_squared_error', 'r2'], refit='neg_mean_squared_error')\n",
    "rrgs.fit(X, Y)\n",
    "rrDF = pd.DataFrame(rrgs.cv_results_)\n",
    "rrDF[['params', 'mean_test_neg_mean_squared_error', 'rank_test_neg_mean_squared_error', 'mean_test_r2', 'rank_test_r2']].sort_values(by='mean_test_r2', ascending=False)"
   ]
  },
  {
   "cell_type": "code",
   "execution_count": 56,
   "metadata": {},
   "outputs": [],
   "source": [
    "model_score_table = pd.DataFrame(columns=['Model Name','Params', 'MSE Score', 'R2 Score'])"
   ]
  },
  {
   "cell_type": "code",
   "execution_count": 57,
   "metadata": {},
   "outputs": [
    {
     "data": {
      "text/html": [
       "<div>\n",
       "<style scoped>\n",
       "    .dataframe tbody tr th:only-of-type {\n",
       "        vertical-align: middle;\n",
       "    }\n",
       "\n",
       "    .dataframe tbody tr th {\n",
       "        vertical-align: top;\n",
       "    }\n",
       "\n",
       "    .dataframe thead th {\n",
       "        text-align: right;\n",
       "    }\n",
       "</style>\n",
       "<table border=\"1\" class=\"dataframe\">\n",
       "  <thead>\n",
       "    <tr style=\"text-align: right;\">\n",
       "      <th></th>\n",
       "      <th>Model Name</th>\n",
       "      <th>Params</th>\n",
       "      <th>MSE Score</th>\n",
       "      <th>R2 Score</th>\n",
       "    </tr>\n",
       "  </thead>\n",
       "  <tbody>\n",
       "    <tr>\n",
       "      <th>0</th>\n",
       "      <td>Ridge Regressor</td>\n",
       "      <td>{'random_state': 74, 'alpha': 1.0}</td>\n",
       "      <td>-33657.114473</td>\n",
       "      <td>0.071342</td>\n",
       "    </tr>\n",
       "  </tbody>\n",
       "</table>\n",
       "</div>"
      ],
      "text/plain": [
       "        Model Name                              Params     MSE Score  R2 Score\n",
       "0  Ridge Regressor  {'random_state': 74, 'alpha': 1.0} -33657.114473  0.071342"
      ]
     },
     "execution_count": 57,
     "metadata": {},
     "output_type": "execute_result"
    }
   ],
   "source": [
    "i = list(rrDF['mean_test_neg_mean_squared_error']).index(rrDF['mean_test_neg_mean_squared_error'].max())\n",
    "model_score_table.loc[0] = [\"Ridge Regressor\", rrDF['params'][i], rrDF['mean_test_neg_mean_squared_error'][i], rrDF['mean_test_r2'][i]]\n",
    "model_score_table"
   ]
  },
  {
   "cell_type": "code",
   "execution_count": 58,
   "metadata": {},
   "outputs": [
    {
     "data": {
      "text/html": [
       "<div>\n",
       "<style scoped>\n",
       "    .dataframe tbody tr th:only-of-type {\n",
       "        vertical-align: middle;\n",
       "    }\n",
       "\n",
       "    .dataframe tbody tr th {\n",
       "        vertical-align: top;\n",
       "    }\n",
       "\n",
       "    .dataframe thead th {\n",
       "        text-align: right;\n",
       "    }\n",
       "</style>\n",
       "<table border=\"1\" class=\"dataframe\">\n",
       "  <thead>\n",
       "    <tr style=\"text-align: right;\">\n",
       "      <th></th>\n",
       "      <th>params</th>\n",
       "      <th>mean_test_neg_mean_squared_error</th>\n",
       "      <th>rank_test_neg_mean_squared_error</th>\n",
       "      <th>mean_test_r2</th>\n",
       "      <th>rank_test_r2</th>\n",
       "    </tr>\n",
       "  </thead>\n",
       "  <tbody>\n",
       "    <tr>\n",
       "      <th>17</th>\n",
       "      <td>{'random_state': 89, 'alpha': 0.01}</td>\n",
       "      <td>-33657.342656</td>\n",
       "      <td>1</td>\n",
       "      <td>0.071336</td>\n",
       "      <td>1</td>\n",
       "    </tr>\n",
       "    <tr>\n",
       "      <th>67</th>\n",
       "      <td>{'random_state': 123, 'alpha': 0.01}</td>\n",
       "      <td>-33657.342656</td>\n",
       "      <td>1</td>\n",
       "      <td>0.071336</td>\n",
       "      <td>1</td>\n",
       "    </tr>\n",
       "    <tr>\n",
       "      <th>39</th>\n",
       "      <td>{'random_state': 119, 'alpha': 0.01}</td>\n",
       "      <td>-33657.342656</td>\n",
       "      <td>1</td>\n",
       "      <td>0.071336</td>\n",
       "      <td>1</td>\n",
       "    </tr>\n",
       "    <tr>\n",
       "      <th>40</th>\n",
       "      <td>{'random_state': 144, 'alpha': 0.01}</td>\n",
       "      <td>-33657.342656</td>\n",
       "      <td>1</td>\n",
       "      <td>0.071336</td>\n",
       "      <td>1</td>\n",
       "    </tr>\n",
       "    <tr>\n",
       "      <th>43</th>\n",
       "      <td>{'random_state': 114, 'alpha': 0.01}</td>\n",
       "      <td>-33657.342656</td>\n",
       "      <td>1</td>\n",
       "      <td>0.071336</td>\n",
       "      <td>1</td>\n",
       "    </tr>\n",
       "    <tr>\n",
       "      <th>...</th>\n",
       "      <td>...</td>\n",
       "      <td>...</td>\n",
       "      <td>...</td>\n",
       "      <td>...</td>\n",
       "      <td>...</td>\n",
       "    </tr>\n",
       "    <tr>\n",
       "      <th>62</th>\n",
       "      <td>{'random_state': 77, 'alpha': 1.0}</td>\n",
       "      <td>-33743.775176</td>\n",
       "      <td>76</td>\n",
       "      <td>0.068971</td>\n",
       "      <td>76</td>\n",
       "    </tr>\n",
       "    <tr>\n",
       "      <th>18</th>\n",
       "      <td>{'random_state': 107, 'alpha': 1.0}</td>\n",
       "      <td>-33743.775176</td>\n",
       "      <td>76</td>\n",
       "      <td>0.068971</td>\n",
       "      <td>76</td>\n",
       "    </tr>\n",
       "    <tr>\n",
       "      <th>65</th>\n",
       "      <td>{'random_state': 86, 'alpha': 1.0}</td>\n",
       "      <td>-33743.775176</td>\n",
       "      <td>76</td>\n",
       "      <td>0.068971</td>\n",
       "      <td>76</td>\n",
       "    </tr>\n",
       "    <tr>\n",
       "      <th>66</th>\n",
       "      <td>{'random_state': 133, 'alpha': 1.0}</td>\n",
       "      <td>-33743.775176</td>\n",
       "      <td>76</td>\n",
       "      <td>0.068971</td>\n",
       "      <td>76</td>\n",
       "    </tr>\n",
       "    <tr>\n",
       "      <th>50</th>\n",
       "      <td>{'random_state': 117, 'alpha': 1.0}</td>\n",
       "      <td>-33743.775176</td>\n",
       "      <td>76</td>\n",
       "      <td>0.068971</td>\n",
       "      <td>76</td>\n",
       "    </tr>\n",
       "  </tbody>\n",
       "</table>\n",
       "<p>100 rows × 5 columns</p>\n",
       "</div>"
      ],
      "text/plain": [
       "                                  params  mean_test_neg_mean_squared_error  \\\n",
       "17   {'random_state': 89, 'alpha': 0.01}                     -33657.342656   \n",
       "67  {'random_state': 123, 'alpha': 0.01}                     -33657.342656   \n",
       "39  {'random_state': 119, 'alpha': 0.01}                     -33657.342656   \n",
       "40  {'random_state': 144, 'alpha': 0.01}                     -33657.342656   \n",
       "43  {'random_state': 114, 'alpha': 0.01}                     -33657.342656   \n",
       "..                                   ...                               ...   \n",
       "62    {'random_state': 77, 'alpha': 1.0}                     -33743.775176   \n",
       "18   {'random_state': 107, 'alpha': 1.0}                     -33743.775176   \n",
       "65    {'random_state': 86, 'alpha': 1.0}                     -33743.775176   \n",
       "66   {'random_state': 133, 'alpha': 1.0}                     -33743.775176   \n",
       "50   {'random_state': 117, 'alpha': 1.0}                     -33743.775176   \n",
       "\n",
       "    rank_test_neg_mean_squared_error  mean_test_r2  rank_test_r2  \n",
       "17                                 1      0.071336             1  \n",
       "67                                 1      0.071336             1  \n",
       "39                                 1      0.071336             1  \n",
       "40                                 1      0.071336             1  \n",
       "43                                 1      0.071336             1  \n",
       "..                               ...           ...           ...  \n",
       "62                                76      0.068971            76  \n",
       "18                                76      0.068971            76  \n",
       "65                                76      0.068971            76  \n",
       "66                                76      0.068971            76  \n",
       "50                                76      0.068971            76  \n",
       "\n",
       "[100 rows x 5 columns]"
      ]
     },
     "execution_count": 58,
     "metadata": {},
     "output_type": "execute_result"
    }
   ],
   "source": [
    "lsgs = RandomizedSearchCV(ls, lsparams,return_train_score = False, n_iter=100, cv = 5, scoring=['neg_mean_squared_error', 'r2'], refit='neg_mean_squared_error')\n",
    "lsgs.fit(X, Y)\n",
    "lsDF = pd.DataFrame(lsgs.cv_results_)\n",
    "lsDF[['params', 'mean_test_neg_mean_squared_error', 'rank_test_neg_mean_squared_error', 'mean_test_r2', 'rank_test_r2']].sort_values(by='mean_test_r2', ascending=False)"
   ]
  },
  {
   "cell_type": "code",
   "execution_count": 59,
   "metadata": {},
   "outputs": [
    {
     "data": {
      "text/html": [
       "<div>\n",
       "<style scoped>\n",
       "    .dataframe tbody tr th:only-of-type {\n",
       "        vertical-align: middle;\n",
       "    }\n",
       "\n",
       "    .dataframe tbody tr th {\n",
       "        vertical-align: top;\n",
       "    }\n",
       "\n",
       "    .dataframe thead th {\n",
       "        text-align: right;\n",
       "    }\n",
       "</style>\n",
       "<table border=\"1\" class=\"dataframe\">\n",
       "  <thead>\n",
       "    <tr style=\"text-align: right;\">\n",
       "      <th></th>\n",
       "      <th>Model Name</th>\n",
       "      <th>Params</th>\n",
       "      <th>MSE Score</th>\n",
       "      <th>R2 Score</th>\n",
       "    </tr>\n",
       "  </thead>\n",
       "  <tbody>\n",
       "    <tr>\n",
       "      <th>0</th>\n",
       "      <td>Ridge Regressor</td>\n",
       "      <td>{'random_state': 74, 'alpha': 1.0}</td>\n",
       "      <td>-33657.114473</td>\n",
       "      <td>0.071342</td>\n",
       "    </tr>\n",
       "    <tr>\n",
       "      <th>1</th>\n",
       "      <td>Lasso Regressor</td>\n",
       "      <td>{'random_state': 87, 'alpha': 0.01}</td>\n",
       "      <td>-33657.342656</td>\n",
       "      <td>0.071336</td>\n",
       "    </tr>\n",
       "  </tbody>\n",
       "</table>\n",
       "</div>"
      ],
      "text/plain": [
       "        Model Name                               Params     MSE Score  \\\n",
       "0  Ridge Regressor   {'random_state': 74, 'alpha': 1.0} -33657.114473   \n",
       "1  Lasso Regressor  {'random_state': 87, 'alpha': 0.01} -33657.342656   \n",
       "\n",
       "   R2 Score  \n",
       "0  0.071342  \n",
       "1  0.071336  "
      ]
     },
     "execution_count": 59,
     "metadata": {},
     "output_type": "execute_result"
    }
   ],
   "source": [
    "i = list(lsDF['mean_test_neg_mean_squared_error']).index(lsDF['mean_test_neg_mean_squared_error'].max())\n",
    "model_score_table.loc[1] = [\"Lasso Regressor\", lsDF['params'][i], lsDF['mean_test_neg_mean_squared_error'][i], lsDF['mean_test_r2'][i]]\n",
    "model_score_table"
   ]
  },
  {
   "cell_type": "code",
   "execution_count": 60,
   "metadata": {},
   "outputs": [
    {
     "data": {
      "text/html": [
       "<div>\n",
       "<style scoped>\n",
       "    .dataframe tbody tr th:only-of-type {\n",
       "        vertical-align: middle;\n",
       "    }\n",
       "\n",
       "    .dataframe tbody tr th {\n",
       "        vertical-align: top;\n",
       "    }\n",
       "\n",
       "    .dataframe thead th {\n",
       "        text-align: right;\n",
       "    }\n",
       "</style>\n",
       "<table border=\"1\" class=\"dataframe\">\n",
       "  <thead>\n",
       "    <tr style=\"text-align: right;\">\n",
       "      <th></th>\n",
       "      <th>params</th>\n",
       "      <th>mean_test_neg_mean_squared_error</th>\n",
       "      <th>rank_test_neg_mean_squared_error</th>\n",
       "      <th>mean_test_r2</th>\n",
       "      <th>rank_test_r2</th>\n",
       "    </tr>\n",
       "  </thead>\n",
       "  <tbody>\n",
       "    <tr>\n",
       "      <th>76</th>\n",
       "      <td>{'random_state': 110, 'min_samples_split': 9, ...</td>\n",
       "      <td>-44143.676311</td>\n",
       "      <td>1</td>\n",
       "      <td>-0.217829</td>\n",
       "      <td>1</td>\n",
       "    </tr>\n",
       "    <tr>\n",
       "      <th>62</th>\n",
       "      <td>{'random_state': 125, 'min_samples_split': 9, ...</td>\n",
       "      <td>-44445.512183</td>\n",
       "      <td>2</td>\n",
       "      <td>-0.227307</td>\n",
       "      <td>2</td>\n",
       "    </tr>\n",
       "    <tr>\n",
       "      <th>4</th>\n",
       "      <td>{'random_state': 90, 'min_samples_split': 9, '...</td>\n",
       "      <td>-44481.404738</td>\n",
       "      <td>3</td>\n",
       "      <td>-0.227920</td>\n",
       "      <td>3</td>\n",
       "    </tr>\n",
       "    <tr>\n",
       "      <th>41</th>\n",
       "      <td>{'random_state': 82, 'min_samples_split': 9, '...</td>\n",
       "      <td>-44838.460575</td>\n",
       "      <td>4</td>\n",
       "      <td>-0.238490</td>\n",
       "      <td>4</td>\n",
       "    </tr>\n",
       "    <tr>\n",
       "      <th>50</th>\n",
       "      <td>{'random_state': 134, 'min_samples_split': 9, ...</td>\n",
       "      <td>-45320.084941</td>\n",
       "      <td>5</td>\n",
       "      <td>-0.250884</td>\n",
       "      <td>5</td>\n",
       "    </tr>\n",
       "    <tr>\n",
       "      <th>...</th>\n",
       "      <td>...</td>\n",
       "      <td>...</td>\n",
       "      <td>...</td>\n",
       "      <td>...</td>\n",
       "      <td>...</td>\n",
       "    </tr>\n",
       "    <tr>\n",
       "      <th>89</th>\n",
       "      <td>{'random_state': 82, 'min_samples_split': 1, '...</td>\n",
       "      <td>NaN</td>\n",
       "      <td>68</td>\n",
       "      <td>NaN</td>\n",
       "      <td>68</td>\n",
       "    </tr>\n",
       "    <tr>\n",
       "      <th>93</th>\n",
       "      <td>{'random_state': 107, 'min_samples_split': 7, ...</td>\n",
       "      <td>NaN</td>\n",
       "      <td>72</td>\n",
       "      <td>NaN</td>\n",
       "      <td>72</td>\n",
       "    </tr>\n",
       "    <tr>\n",
       "      <th>94</th>\n",
       "      <td>{'random_state': 86, 'min_samples_split': 7, '...</td>\n",
       "      <td>NaN</td>\n",
       "      <td>73</td>\n",
       "      <td>NaN</td>\n",
       "      <td>73</td>\n",
       "    </tr>\n",
       "    <tr>\n",
       "      <th>96</th>\n",
       "      <td>{'random_state': 146, 'min_samples_split': 9, ...</td>\n",
       "      <td>NaN</td>\n",
       "      <td>74</td>\n",
       "      <td>NaN</td>\n",
       "      <td>74</td>\n",
       "    </tr>\n",
       "    <tr>\n",
       "      <th>98</th>\n",
       "      <td>{'random_state': 71, 'min_samples_split': 0, '...</td>\n",
       "      <td>NaN</td>\n",
       "      <td>60</td>\n",
       "      <td>NaN</td>\n",
       "      <td>60</td>\n",
       "    </tr>\n",
       "  </tbody>\n",
       "</table>\n",
       "<p>100 rows × 5 columns</p>\n",
       "</div>"
      ],
      "text/plain": [
       "                                               params  \\\n",
       "76  {'random_state': 110, 'min_samples_split': 9, ...   \n",
       "62  {'random_state': 125, 'min_samples_split': 9, ...   \n",
       "4   {'random_state': 90, 'min_samples_split': 9, '...   \n",
       "41  {'random_state': 82, 'min_samples_split': 9, '...   \n",
       "50  {'random_state': 134, 'min_samples_split': 9, ...   \n",
       "..                                                ...   \n",
       "89  {'random_state': 82, 'min_samples_split': 1, '...   \n",
       "93  {'random_state': 107, 'min_samples_split': 7, ...   \n",
       "94  {'random_state': 86, 'min_samples_split': 7, '...   \n",
       "96  {'random_state': 146, 'min_samples_split': 9, ...   \n",
       "98  {'random_state': 71, 'min_samples_split': 0, '...   \n",
       "\n",
       "    mean_test_neg_mean_squared_error  rank_test_neg_mean_squared_error  \\\n",
       "76                     -44143.676311                                 1   \n",
       "62                     -44445.512183                                 2   \n",
       "4                      -44481.404738                                 3   \n",
       "41                     -44838.460575                                 4   \n",
       "50                     -45320.084941                                 5   \n",
       "..                               ...                               ...   \n",
       "89                               NaN                                68   \n",
       "93                               NaN                                72   \n",
       "94                               NaN                                73   \n",
       "96                               NaN                                74   \n",
       "98                               NaN                                60   \n",
       "\n",
       "    mean_test_r2  rank_test_r2  \n",
       "76     -0.217829             1  \n",
       "62     -0.227307             2  \n",
       "4      -0.227920             3  \n",
       "41     -0.238490             4  \n",
       "50     -0.250884             5  \n",
       "..           ...           ...  \n",
       "89           NaN            68  \n",
       "93           NaN            72  \n",
       "94           NaN            73  \n",
       "96           NaN            74  \n",
       "98           NaN            60  \n",
       "\n",
       "[100 rows x 5 columns]"
      ]
     },
     "execution_count": 60,
     "metadata": {},
     "output_type": "execute_result"
    }
   ],
   "source": [
    "dtrgs = RandomizedSearchCV(dtr, dtrparams,return_train_score = False, n_iter=100, cv = 5, scoring=['neg_mean_squared_error', 'r2'], refit='neg_mean_squared_error')\n",
    "dtrgs.fit(X, Y)\n",
    "dtrDF = pd.DataFrame(dtrgs.cv_results_)\n",
    "dtrDF[['params', 'mean_test_neg_mean_squared_error', 'rank_test_neg_mean_squared_error', 'mean_test_r2', 'rank_test_r2']].sort_values(by='mean_test_r2', ascending=False)"
   ]
  },
  {
   "cell_type": "code",
   "execution_count": 61,
   "metadata": {},
   "outputs": [
    {
     "data": {
      "text/html": [
       "<div>\n",
       "<style scoped>\n",
       "    .dataframe tbody tr th:only-of-type {\n",
       "        vertical-align: middle;\n",
       "    }\n",
       "\n",
       "    .dataframe tbody tr th {\n",
       "        vertical-align: top;\n",
       "    }\n",
       "\n",
       "    .dataframe thead th {\n",
       "        text-align: right;\n",
       "    }\n",
       "</style>\n",
       "<table border=\"1\" class=\"dataframe\">\n",
       "  <thead>\n",
       "    <tr style=\"text-align: right;\">\n",
       "      <th></th>\n",
       "      <th>Model Name</th>\n",
       "      <th>Params</th>\n",
       "      <th>MSE Score</th>\n",
       "      <th>R2 Score</th>\n",
       "    </tr>\n",
       "  </thead>\n",
       "  <tbody>\n",
       "    <tr>\n",
       "      <th>0</th>\n",
       "      <td>Ridge Regressor</td>\n",
       "      <td>{'random_state': 74, 'alpha': 1.0}</td>\n",
       "      <td>-33657.114473</td>\n",
       "      <td>0.071342</td>\n",
       "    </tr>\n",
       "    <tr>\n",
       "      <th>1</th>\n",
       "      <td>Lasso Regressor</td>\n",
       "      <td>{'random_state': 87, 'alpha': 0.01}</td>\n",
       "      <td>-33657.342656</td>\n",
       "      <td>0.071336</td>\n",
       "    </tr>\n",
       "    <tr>\n",
       "      <th>2</th>\n",
       "      <td>Decision Tree Regressor</td>\n",
       "      <td>{'random_state': 110, 'min_samples_split': 9, ...</td>\n",
       "      <td>-44143.676311</td>\n",
       "      <td>-0.217829</td>\n",
       "    </tr>\n",
       "  </tbody>\n",
       "</table>\n",
       "</div>"
      ],
      "text/plain": [
       "                Model Name                                             Params  \\\n",
       "0          Ridge Regressor                 {'random_state': 74, 'alpha': 1.0}   \n",
       "1          Lasso Regressor                {'random_state': 87, 'alpha': 0.01}   \n",
       "2  Decision Tree Regressor  {'random_state': 110, 'min_samples_split': 9, ...   \n",
       "\n",
       "      MSE Score  R2 Score  \n",
       "0 -33657.114473  0.071342  \n",
       "1 -33657.342656  0.071336  \n",
       "2 -44143.676311 -0.217829  "
      ]
     },
     "execution_count": 61,
     "metadata": {},
     "output_type": "execute_result"
    }
   ],
   "source": [
    "i = list(dtrDF['mean_test_neg_mean_squared_error']).index(dtrDF['mean_test_neg_mean_squared_error'].max())\n",
    "model_score_table.loc[2] = [\"Decision Tree Regressor\", dtrDF['params'][i], dtrDF['mean_test_neg_mean_squared_error'][i], dtrDF['mean_test_r2'][i]]\n",
    "model_score_table"
   ]
  },
  {
   "cell_type": "code",
   "execution_count": 62,
   "metadata": {},
   "outputs": [
    {
     "data": {
      "text/html": [
       "<div>\n",
       "<style scoped>\n",
       "    .dataframe tbody tr th:only-of-type {\n",
       "        vertical-align: middle;\n",
       "    }\n",
       "\n",
       "    .dataframe tbody tr th {\n",
       "        vertical-align: top;\n",
       "    }\n",
       "\n",
       "    .dataframe thead th {\n",
       "        text-align: right;\n",
       "    }\n",
       "</style>\n",
       "<table border=\"1\" class=\"dataframe\">\n",
       "  <thead>\n",
       "    <tr style=\"text-align: right;\">\n",
       "      <th></th>\n",
       "      <th>params</th>\n",
       "      <th>mean_test_neg_mean_squared_error</th>\n",
       "      <th>rank_test_neg_mean_squared_error</th>\n",
       "      <th>mean_test_r2</th>\n",
       "      <th>rank_test_r2</th>\n",
       "    </tr>\n",
       "  </thead>\n",
       "  <tbody>\n",
       "    <tr>\n",
       "      <th>16</th>\n",
       "      <td>{'random_state': 84, 'n_estimators': 73, 'crit...</td>\n",
       "      <td>-34336.560911</td>\n",
       "      <td>1</td>\n",
       "      <td>0.052164</td>\n",
       "      <td>1</td>\n",
       "    </tr>\n",
       "    <tr>\n",
       "      <th>23</th>\n",
       "      <td>{'random_state': 87, 'n_estimators': 75, 'crit...</td>\n",
       "      <td>-34371.214867</td>\n",
       "      <td>2</td>\n",
       "      <td>0.051005</td>\n",
       "      <td>2</td>\n",
       "    </tr>\n",
       "    <tr>\n",
       "      <th>80</th>\n",
       "      <td>{'random_state': 110, 'n_estimators': 57, 'cri...</td>\n",
       "      <td>-34456.510627</td>\n",
       "      <td>3</td>\n",
       "      <td>0.048798</td>\n",
       "      <td>3</td>\n",
       "    </tr>\n",
       "    <tr>\n",
       "      <th>35</th>\n",
       "      <td>{'random_state': 119, 'n_estimators': 74, 'cri...</td>\n",
       "      <td>-34471.904353</td>\n",
       "      <td>5</td>\n",
       "      <td>0.048351</td>\n",
       "      <td>4</td>\n",
       "    </tr>\n",
       "    <tr>\n",
       "      <th>46</th>\n",
       "      <td>{'random_state': 102, 'n_estimators': 59, 'cri...</td>\n",
       "      <td>-34471.032946</td>\n",
       "      <td>4</td>\n",
       "      <td>0.048337</td>\n",
       "      <td>5</td>\n",
       "    </tr>\n",
       "    <tr>\n",
       "      <th>...</th>\n",
       "      <td>...</td>\n",
       "      <td>...</td>\n",
       "      <td>...</td>\n",
       "      <td>...</td>\n",
       "      <td>...</td>\n",
       "    </tr>\n",
       "    <tr>\n",
       "      <th>89</th>\n",
       "      <td>{'random_state': 99, 'n_estimators': 55, 'crit...</td>\n",
       "      <td>NaN</td>\n",
       "      <td>81</td>\n",
       "      <td>NaN</td>\n",
       "      <td>82</td>\n",
       "    </tr>\n",
       "    <tr>\n",
       "      <th>92</th>\n",
       "      <td>{'random_state': 106, 'n_estimators': 68, 'cri...</td>\n",
       "      <td>NaN</td>\n",
       "      <td>77</td>\n",
       "      <td>NaN</td>\n",
       "      <td>79</td>\n",
       "    </tr>\n",
       "    <tr>\n",
       "      <th>93</th>\n",
       "      <td>{'random_state': 142, 'n_estimators': 51, 'cri...</td>\n",
       "      <td>NaN</td>\n",
       "      <td>76</td>\n",
       "      <td>NaN</td>\n",
       "      <td>78</td>\n",
       "    </tr>\n",
       "    <tr>\n",
       "      <th>95</th>\n",
       "      <td>{'random_state': 122, 'n_estimators': 74, 'cri...</td>\n",
       "      <td>NaN</td>\n",
       "      <td>78</td>\n",
       "      <td>NaN</td>\n",
       "      <td>77</td>\n",
       "    </tr>\n",
       "    <tr>\n",
       "      <th>97</th>\n",
       "      <td>{'random_state': 71, 'n_estimators': 59, 'crit...</td>\n",
       "      <td>NaN</td>\n",
       "      <td>82</td>\n",
       "      <td>NaN</td>\n",
       "      <td>76</td>\n",
       "    </tr>\n",
       "  </tbody>\n",
       "</table>\n",
       "<p>100 rows × 5 columns</p>\n",
       "</div>"
      ],
      "text/plain": [
       "                                               params  \\\n",
       "16  {'random_state': 84, 'n_estimators': 73, 'crit...   \n",
       "23  {'random_state': 87, 'n_estimators': 75, 'crit...   \n",
       "80  {'random_state': 110, 'n_estimators': 57, 'cri...   \n",
       "35  {'random_state': 119, 'n_estimators': 74, 'cri...   \n",
       "46  {'random_state': 102, 'n_estimators': 59, 'cri...   \n",
       "..                                                ...   \n",
       "89  {'random_state': 99, 'n_estimators': 55, 'crit...   \n",
       "92  {'random_state': 106, 'n_estimators': 68, 'cri...   \n",
       "93  {'random_state': 142, 'n_estimators': 51, 'cri...   \n",
       "95  {'random_state': 122, 'n_estimators': 74, 'cri...   \n",
       "97  {'random_state': 71, 'n_estimators': 59, 'crit...   \n",
       "\n",
       "    mean_test_neg_mean_squared_error  rank_test_neg_mean_squared_error  \\\n",
       "16                     -34336.560911                                 1   \n",
       "23                     -34371.214867                                 2   \n",
       "80                     -34456.510627                                 3   \n",
       "35                     -34471.904353                                 5   \n",
       "46                     -34471.032946                                 4   \n",
       "..                               ...                               ...   \n",
       "89                               NaN                                81   \n",
       "92                               NaN                                77   \n",
       "93                               NaN                                76   \n",
       "95                               NaN                                78   \n",
       "97                               NaN                                82   \n",
       "\n",
       "    mean_test_r2  rank_test_r2  \n",
       "16      0.052164             1  \n",
       "23      0.051005             2  \n",
       "80      0.048798             3  \n",
       "35      0.048351             4  \n",
       "46      0.048337             5  \n",
       "..           ...           ...  \n",
       "89           NaN            82  \n",
       "92           NaN            79  \n",
       "93           NaN            78  \n",
       "95           NaN            77  \n",
       "97           NaN            76  \n",
       "\n",
       "[100 rows x 5 columns]"
      ]
     },
     "execution_count": 62,
     "metadata": {},
     "output_type": "execute_result"
    }
   ],
   "source": [
    "rfrgs = RandomizedSearchCV(rfr, rfrparams,return_train_score = False, n_iter=100, cv = 5, scoring=['neg_mean_squared_error', 'r2'], refit='neg_mean_squared_error')\n",
    "rfrgs.fit(X, Y)\n",
    "rfrDF = pd.DataFrame(rfrgs.cv_results_)\n",
    "rfrDF[['params', 'mean_test_neg_mean_squared_error', 'rank_test_neg_mean_squared_error', 'mean_test_r2', 'rank_test_r2']].sort_values(by='mean_test_r2', ascending=False)"
   ]
  },
  {
   "cell_type": "code",
   "execution_count": 63,
   "metadata": {},
   "outputs": [
    {
     "data": {
      "text/html": [
       "<div>\n",
       "<style scoped>\n",
       "    .dataframe tbody tr th:only-of-type {\n",
       "        vertical-align: middle;\n",
       "    }\n",
       "\n",
       "    .dataframe tbody tr th {\n",
       "        vertical-align: top;\n",
       "    }\n",
       "\n",
       "    .dataframe thead th {\n",
       "        text-align: right;\n",
       "    }\n",
       "</style>\n",
       "<table border=\"1\" class=\"dataframe\">\n",
       "  <thead>\n",
       "    <tr style=\"text-align: right;\">\n",
       "      <th></th>\n",
       "      <th>Model Name</th>\n",
       "      <th>Params</th>\n",
       "      <th>MSE Score</th>\n",
       "      <th>R2 Score</th>\n",
       "    </tr>\n",
       "  </thead>\n",
       "  <tbody>\n",
       "    <tr>\n",
       "      <th>0</th>\n",
       "      <td>Ridge Regressor</td>\n",
       "      <td>{'random_state': 74, 'alpha': 1.0}</td>\n",
       "      <td>-33657.114473</td>\n",
       "      <td>0.071342</td>\n",
       "    </tr>\n",
       "    <tr>\n",
       "      <th>1</th>\n",
       "      <td>Lasso Regressor</td>\n",
       "      <td>{'random_state': 87, 'alpha': 0.01}</td>\n",
       "      <td>-33657.342656</td>\n",
       "      <td>0.071336</td>\n",
       "    </tr>\n",
       "    <tr>\n",
       "      <th>2</th>\n",
       "      <td>Decision Tree Regressor</td>\n",
       "      <td>{'random_state': 110, 'min_samples_split': 9, ...</td>\n",
       "      <td>-44143.676311</td>\n",
       "      <td>-0.217829</td>\n",
       "    </tr>\n",
       "    <tr>\n",
       "      <th>3</th>\n",
       "      <td>Random Forest Regressor</td>\n",
       "      <td>{'random_state': 84, 'n_estimators': 73, 'crit...</td>\n",
       "      <td>-34336.560911</td>\n",
       "      <td>0.052164</td>\n",
       "    </tr>\n",
       "  </tbody>\n",
       "</table>\n",
       "</div>"
      ],
      "text/plain": [
       "                Model Name                                             Params  \\\n",
       "0          Ridge Regressor                 {'random_state': 74, 'alpha': 1.0}   \n",
       "1          Lasso Regressor                {'random_state': 87, 'alpha': 0.01}   \n",
       "2  Decision Tree Regressor  {'random_state': 110, 'min_samples_split': 9, ...   \n",
       "3  Random Forest Regressor  {'random_state': 84, 'n_estimators': 73, 'crit...   \n",
       "\n",
       "      MSE Score  R2 Score  \n",
       "0 -33657.114473  0.071342  \n",
       "1 -33657.342656  0.071336  \n",
       "2 -44143.676311 -0.217829  \n",
       "3 -34336.560911  0.052164  "
      ]
     },
     "execution_count": 63,
     "metadata": {},
     "output_type": "execute_result"
    }
   ],
   "source": [
    "i = list(rfrDF['mean_test_neg_mean_squared_error']).index(rfrDF['mean_test_neg_mean_squared_error'].max())\n",
    "model_score_table.loc[3] = [\"Random Forest Regressor\", rfrDF['params'][i], rfrDF['mean_test_neg_mean_squared_error'][i], rfrDF['mean_test_r2'][i]]\n",
    "model_score_table"
   ]
  },
  {
   "cell_type": "code",
   "execution_count": 64,
   "metadata": {},
   "outputs": [
    {
     "data": {
      "text/html": [
       "<div>\n",
       "<style scoped>\n",
       "    .dataframe tbody tr th:only-of-type {\n",
       "        vertical-align: middle;\n",
       "    }\n",
       "\n",
       "    .dataframe tbody tr th {\n",
       "        vertical-align: top;\n",
       "    }\n",
       "\n",
       "    .dataframe thead th {\n",
       "        text-align: right;\n",
       "    }\n",
       "</style>\n",
       "<table border=\"1\" class=\"dataframe\">\n",
       "  <thead>\n",
       "    <tr style=\"text-align: right;\">\n",
       "      <th></th>\n",
       "      <th>params</th>\n",
       "      <th>mean_test_neg_mean_squared_error</th>\n",
       "      <th>rank_test_neg_mean_squared_error</th>\n",
       "      <th>mean_test_r2</th>\n",
       "      <th>rank_test_r2</th>\n",
       "    </tr>\n",
       "  </thead>\n",
       "  <tbody>\n",
       "    <tr>\n",
       "      <th>17</th>\n",
       "      <td>{'random_state': 85, 'min_samples_split': 9, '...</td>\n",
       "      <td>-32588.066107</td>\n",
       "      <td>1</td>\n",
       "      <td>0.100557</td>\n",
       "      <td>1</td>\n",
       "    </tr>\n",
       "    <tr>\n",
       "      <th>90</th>\n",
       "      <td>{'random_state': 86, 'min_samples_split': 9, '...</td>\n",
       "      <td>-32637.750863</td>\n",
       "      <td>2</td>\n",
       "      <td>0.099145</td>\n",
       "      <td>2</td>\n",
       "    </tr>\n",
       "    <tr>\n",
       "      <th>14</th>\n",
       "      <td>{'random_state': 128, 'min_samples_split': 9, ...</td>\n",
       "      <td>-32766.994389</td>\n",
       "      <td>3</td>\n",
       "      <td>0.095633</td>\n",
       "      <td>3</td>\n",
       "    </tr>\n",
       "    <tr>\n",
       "      <th>77</th>\n",
       "      <td>{'random_state': 123, 'min_samples_split': 9, ...</td>\n",
       "      <td>-32800.500225</td>\n",
       "      <td>4</td>\n",
       "      <td>0.094707</td>\n",
       "      <td>4</td>\n",
       "    </tr>\n",
       "    <tr>\n",
       "      <th>87</th>\n",
       "      <td>{'random_state': 77, 'min_samples_split': 8, '...</td>\n",
       "      <td>-32874.247492</td>\n",
       "      <td>5</td>\n",
       "      <td>0.092596</td>\n",
       "      <td>5</td>\n",
       "    </tr>\n",
       "    <tr>\n",
       "      <th>...</th>\n",
       "      <td>...</td>\n",
       "      <td>...</td>\n",
       "      <td>...</td>\n",
       "      <td>...</td>\n",
       "      <td>...</td>\n",
       "    </tr>\n",
       "    <tr>\n",
       "      <th>71</th>\n",
       "      <td>{'random_state': 88, 'min_samples_split': 0, '...</td>\n",
       "      <td>NaN</td>\n",
       "      <td>91</td>\n",
       "      <td>NaN</td>\n",
       "      <td>91</td>\n",
       "    </tr>\n",
       "    <tr>\n",
       "      <th>79</th>\n",
       "      <td>{'random_state': 139, 'min_samples_split': 0, ...</td>\n",
       "      <td>NaN</td>\n",
       "      <td>93</td>\n",
       "      <td>NaN</td>\n",
       "      <td>93</td>\n",
       "    </tr>\n",
       "    <tr>\n",
       "      <th>80</th>\n",
       "      <td>{'random_state': 109, 'min_samples_split': 1, ...</td>\n",
       "      <td>NaN</td>\n",
       "      <td>99</td>\n",
       "      <td>NaN</td>\n",
       "      <td>99</td>\n",
       "    </tr>\n",
       "    <tr>\n",
       "      <th>81</th>\n",
       "      <td>{'random_state': 144, 'min_samples_split': 1, ...</td>\n",
       "      <td>NaN</td>\n",
       "      <td>83</td>\n",
       "      <td>NaN</td>\n",
       "      <td>83</td>\n",
       "    </tr>\n",
       "    <tr>\n",
       "      <th>82</th>\n",
       "      <td>{'random_state': 113, 'min_samples_split': 0, ...</td>\n",
       "      <td>NaN</td>\n",
       "      <td>98</td>\n",
       "      <td>NaN</td>\n",
       "      <td>98</td>\n",
       "    </tr>\n",
       "  </tbody>\n",
       "</table>\n",
       "<p>100 rows × 5 columns</p>\n",
       "</div>"
      ],
      "text/plain": [
       "                                               params  \\\n",
       "17  {'random_state': 85, 'min_samples_split': 9, '...   \n",
       "90  {'random_state': 86, 'min_samples_split': 9, '...   \n",
       "14  {'random_state': 128, 'min_samples_split': 9, ...   \n",
       "77  {'random_state': 123, 'min_samples_split': 9, ...   \n",
       "87  {'random_state': 77, 'min_samples_split': 8, '...   \n",
       "..                                                ...   \n",
       "71  {'random_state': 88, 'min_samples_split': 0, '...   \n",
       "79  {'random_state': 139, 'min_samples_split': 0, ...   \n",
       "80  {'random_state': 109, 'min_samples_split': 1, ...   \n",
       "81  {'random_state': 144, 'min_samples_split': 1, ...   \n",
       "82  {'random_state': 113, 'min_samples_split': 0, ...   \n",
       "\n",
       "    mean_test_neg_mean_squared_error  rank_test_neg_mean_squared_error  \\\n",
       "17                     -32588.066107                                 1   \n",
       "90                     -32637.750863                                 2   \n",
       "14                     -32766.994389                                 3   \n",
       "77                     -32800.500225                                 4   \n",
       "87                     -32874.247492                                 5   \n",
       "..                               ...                               ...   \n",
       "71                               NaN                                91   \n",
       "79                               NaN                                93   \n",
       "80                               NaN                                99   \n",
       "81                               NaN                                83   \n",
       "82                               NaN                                98   \n",
       "\n",
       "    mean_test_r2  rank_test_r2  \n",
       "17      0.100557             1  \n",
       "90      0.099145             2  \n",
       "14      0.095633             3  \n",
       "77      0.094707             4  \n",
       "87      0.092596             5  \n",
       "..           ...           ...  \n",
       "71           NaN            91  \n",
       "79           NaN            93  \n",
       "80           NaN            99  \n",
       "81           NaN            83  \n",
       "82           NaN            98  \n",
       "\n",
       "[100 rows x 5 columns]"
      ]
     },
     "execution_count": 64,
     "metadata": {},
     "output_type": "execute_result"
    }
   ],
   "source": [
    "etrgs = RandomizedSearchCV(etr, etrparams,return_train_score = False, n_iter=100, cv = 5, scoring=['neg_mean_squared_error', 'r2'], refit='neg_mean_squared_error')\n",
    "etrgs.fit(X, Y)\n",
    "etrDF = pd.DataFrame(etrgs.cv_results_)\n",
    "etrDF[['params', 'mean_test_neg_mean_squared_error', 'rank_test_neg_mean_squared_error', 'mean_test_r2', 'rank_test_r2']].sort_values(by='mean_test_r2', ascending=False)"
   ]
  },
  {
   "cell_type": "code",
   "execution_count": 65,
   "metadata": {},
   "outputs": [
    {
     "data": {
      "text/html": [
       "<div>\n",
       "<style scoped>\n",
       "    .dataframe tbody tr th:only-of-type {\n",
       "        vertical-align: middle;\n",
       "    }\n",
       "\n",
       "    .dataframe tbody tr th {\n",
       "        vertical-align: top;\n",
       "    }\n",
       "\n",
       "    .dataframe thead th {\n",
       "        text-align: right;\n",
       "    }\n",
       "</style>\n",
       "<table border=\"1\" class=\"dataframe\">\n",
       "  <thead>\n",
       "    <tr style=\"text-align: right;\">\n",
       "      <th></th>\n",
       "      <th>Model Name</th>\n",
       "      <th>Params</th>\n",
       "      <th>MSE Score</th>\n",
       "      <th>R2 Score</th>\n",
       "    </tr>\n",
       "  </thead>\n",
       "  <tbody>\n",
       "    <tr>\n",
       "      <th>0</th>\n",
       "      <td>Ridge Regressor</td>\n",
       "      <td>{'random_state': 74, 'alpha': 1.0}</td>\n",
       "      <td>-33657.114473</td>\n",
       "      <td>0.071342</td>\n",
       "    </tr>\n",
       "    <tr>\n",
       "      <th>1</th>\n",
       "      <td>Lasso Regressor</td>\n",
       "      <td>{'random_state': 87, 'alpha': 0.01}</td>\n",
       "      <td>-33657.342656</td>\n",
       "      <td>0.071336</td>\n",
       "    </tr>\n",
       "    <tr>\n",
       "      <th>2</th>\n",
       "      <td>Decision Tree Regressor</td>\n",
       "      <td>{'random_state': 110, 'min_samples_split': 9, ...</td>\n",
       "      <td>-44143.676311</td>\n",
       "      <td>-0.217829</td>\n",
       "    </tr>\n",
       "    <tr>\n",
       "      <th>3</th>\n",
       "      <td>Random Forest Regressor</td>\n",
       "      <td>{'random_state': 84, 'n_estimators': 73, 'crit...</td>\n",
       "      <td>-34336.560911</td>\n",
       "      <td>0.052164</td>\n",
       "    </tr>\n",
       "    <tr>\n",
       "      <th>4</th>\n",
       "      <td>Extra Trees Regressor</td>\n",
       "      <td>{'random_state': 85, 'min_samples_split': 9, '...</td>\n",
       "      <td>-32588.066107</td>\n",
       "      <td>0.100557</td>\n",
       "    </tr>\n",
       "  </tbody>\n",
       "</table>\n",
       "</div>"
      ],
      "text/plain": [
       "                Model Name                                             Params  \\\n",
       "0          Ridge Regressor                 {'random_state': 74, 'alpha': 1.0}   \n",
       "1          Lasso Regressor                {'random_state': 87, 'alpha': 0.01}   \n",
       "2  Decision Tree Regressor  {'random_state': 110, 'min_samples_split': 9, ...   \n",
       "3  Random Forest Regressor  {'random_state': 84, 'n_estimators': 73, 'crit...   \n",
       "4    Extra Trees Regressor  {'random_state': 85, 'min_samples_split': 9, '...   \n",
       "\n",
       "      MSE Score  R2 Score  \n",
       "0 -33657.114473  0.071342  \n",
       "1 -33657.342656  0.071336  \n",
       "2 -44143.676311 -0.217829  \n",
       "3 -34336.560911  0.052164  \n",
       "4 -32588.066107  0.100557  "
      ]
     },
     "execution_count": 65,
     "metadata": {},
     "output_type": "execute_result"
    }
   ],
   "source": [
    "i = list(etrDF['mean_test_neg_mean_squared_error']).index(etrDF['mean_test_neg_mean_squared_error'].max())\n",
    "model_score_table.loc[4] = [\"Extra Trees Regressor\", etrDF['params'][i], etrDF['mean_test_neg_mean_squared_error'][i], etrDF['mean_test_r2'][i]]\n",
    "model_score_table"
   ]
  },
  {
   "cell_type": "code",
   "execution_count": 66,
   "metadata": {},
   "outputs": [
    {
     "data": {
      "text/html": [
       "<div>\n",
       "<style scoped>\n",
       "    .dataframe tbody tr th:only-of-type {\n",
       "        vertical-align: middle;\n",
       "    }\n",
       "\n",
       "    .dataframe tbody tr th {\n",
       "        vertical-align: top;\n",
       "    }\n",
       "\n",
       "    .dataframe thead th {\n",
       "        text-align: right;\n",
       "    }\n",
       "</style>\n",
       "<table border=\"1\" class=\"dataframe\">\n",
       "  <thead>\n",
       "    <tr style=\"text-align: right;\">\n",
       "      <th></th>\n",
       "      <th>params</th>\n",
       "      <th>mean_test_neg_mean_squared_error</th>\n",
       "      <th>rank_test_neg_mean_squared_error</th>\n",
       "      <th>mean_test_r2</th>\n",
       "      <th>rank_test_r2</th>\n",
       "    </tr>\n",
       "  </thead>\n",
       "  <tbody>\n",
       "    <tr>\n",
       "      <th>12</th>\n",
       "      <td>{'random_state': 93, 'n_estimators': 54, 'loss...</td>\n",
       "      <td>-30460.024952</td>\n",
       "      <td>1</td>\n",
       "      <td>0.159483</td>\n",
       "      <td>1</td>\n",
       "    </tr>\n",
       "    <tr>\n",
       "      <th>46</th>\n",
       "      <td>{'random_state': 85, 'n_estimators': 75, 'loss...</td>\n",
       "      <td>-30464.121906</td>\n",
       "      <td>2</td>\n",
       "      <td>0.159384</td>\n",
       "      <td>2</td>\n",
       "    </tr>\n",
       "    <tr>\n",
       "      <th>86</th>\n",
       "      <td>{'random_state': 137, 'n_estimators': 56, 'los...</td>\n",
       "      <td>-30465.620673</td>\n",
       "      <td>3</td>\n",
       "      <td>0.159343</td>\n",
       "      <td>3</td>\n",
       "    </tr>\n",
       "    <tr>\n",
       "      <th>74</th>\n",
       "      <td>{'random_state': 93, 'n_estimators': 60, 'loss...</td>\n",
       "      <td>-30467.641192</td>\n",
       "      <td>4</td>\n",
       "      <td>0.159311</td>\n",
       "      <td>4</td>\n",
       "    </tr>\n",
       "    <tr>\n",
       "      <th>36</th>\n",
       "      <td>{'random_state': 92, 'n_estimators': 71, 'loss...</td>\n",
       "      <td>-30468.743001</td>\n",
       "      <td>5</td>\n",
       "      <td>0.159264</td>\n",
       "      <td>5</td>\n",
       "    </tr>\n",
       "    <tr>\n",
       "      <th>...</th>\n",
       "      <td>...</td>\n",
       "      <td>...</td>\n",
       "      <td>...</td>\n",
       "      <td>...</td>\n",
       "      <td>...</td>\n",
       "    </tr>\n",
       "    <tr>\n",
       "      <th>98</th>\n",
       "      <td>{'random_state': 92, 'n_estimators': 67, 'loss...</td>\n",
       "      <td>-100361.928596</td>\n",
       "      <td>96</td>\n",
       "      <td>-1.770602</td>\n",
       "      <td>96</td>\n",
       "    </tr>\n",
       "    <tr>\n",
       "      <th>59</th>\n",
       "      <td>{'random_state': 102, 'n_estimators': 75, 'los...</td>\n",
       "      <td>-100449.757591</td>\n",
       "      <td>97</td>\n",
       "      <td>-1.773057</td>\n",
       "      <td>97</td>\n",
       "    </tr>\n",
       "    <tr>\n",
       "      <th>29</th>\n",
       "      <td>{'random_state': 76, 'n_estimators': 78, 'loss...</td>\n",
       "      <td>-100483.113417</td>\n",
       "      <td>98</td>\n",
       "      <td>-1.773998</td>\n",
       "      <td>98</td>\n",
       "    </tr>\n",
       "    <tr>\n",
       "      <th>65</th>\n",
       "      <td>{'random_state': 109, 'n_estimators': 78, 'los...</td>\n",
       "      <td>-100483.113417</td>\n",
       "      <td>98</td>\n",
       "      <td>-1.773998</td>\n",
       "      <td>98</td>\n",
       "    </tr>\n",
       "    <tr>\n",
       "      <th>9</th>\n",
       "      <td>{'random_state': 101, 'n_estimators': 79, 'los...</td>\n",
       "      <td>-100493.044257</td>\n",
       "      <td>100</td>\n",
       "      <td>-1.774278</td>\n",
       "      <td>100</td>\n",
       "    </tr>\n",
       "  </tbody>\n",
       "</table>\n",
       "<p>100 rows × 5 columns</p>\n",
       "</div>"
      ],
      "text/plain": [
       "                                               params  \\\n",
       "12  {'random_state': 93, 'n_estimators': 54, 'loss...   \n",
       "46  {'random_state': 85, 'n_estimators': 75, 'loss...   \n",
       "86  {'random_state': 137, 'n_estimators': 56, 'los...   \n",
       "74  {'random_state': 93, 'n_estimators': 60, 'loss...   \n",
       "36  {'random_state': 92, 'n_estimators': 71, 'loss...   \n",
       "..                                                ...   \n",
       "98  {'random_state': 92, 'n_estimators': 67, 'loss...   \n",
       "59  {'random_state': 102, 'n_estimators': 75, 'los...   \n",
       "29  {'random_state': 76, 'n_estimators': 78, 'loss...   \n",
       "65  {'random_state': 109, 'n_estimators': 78, 'los...   \n",
       "9   {'random_state': 101, 'n_estimators': 79, 'los...   \n",
       "\n",
       "    mean_test_neg_mean_squared_error  rank_test_neg_mean_squared_error  \\\n",
       "12                     -30460.024952                                 1   \n",
       "46                     -30464.121906                                 2   \n",
       "86                     -30465.620673                                 3   \n",
       "74                     -30467.641192                                 4   \n",
       "36                     -30468.743001                                 5   \n",
       "..                               ...                               ...   \n",
       "98                    -100361.928596                                96   \n",
       "59                    -100449.757591                                97   \n",
       "29                    -100483.113417                                98   \n",
       "65                    -100483.113417                                98   \n",
       "9                     -100493.044257                               100   \n",
       "\n",
       "    mean_test_r2  rank_test_r2  \n",
       "12      0.159483             1  \n",
       "46      0.159384             2  \n",
       "86      0.159343             3  \n",
       "74      0.159311             4  \n",
       "36      0.159264             5  \n",
       "..           ...           ...  \n",
       "98     -1.770602            96  \n",
       "59     -1.773057            97  \n",
       "29     -1.773998            98  \n",
       "65     -1.773998            98  \n",
       "9      -1.774278           100  \n",
       "\n",
       "[100 rows x 5 columns]"
      ]
     },
     "execution_count": 66,
     "metadata": {},
     "output_type": "execute_result"
    }
   ],
   "source": [
    "gbrgs = RandomizedSearchCV(gbr, gbrparams,return_train_score = False, n_iter=100, cv = 5, scoring=['neg_mean_squared_error', 'r2'], refit='neg_mean_squared_error')\n",
    "gbrgs.fit(X, Y)\n",
    "gbrDF = pd.DataFrame(gbrgs.cv_results_)\n",
    "gbrDF[['params', 'mean_test_neg_mean_squared_error', 'rank_test_neg_mean_squared_error', 'mean_test_r2', 'rank_test_r2']].sort_values(by='mean_test_r2', ascending=False)"
   ]
  },
  {
   "cell_type": "code",
   "execution_count": 67,
   "metadata": {},
   "outputs": [
    {
     "data": {
      "text/html": [
       "<div>\n",
       "<style scoped>\n",
       "    .dataframe tbody tr th:only-of-type {\n",
       "        vertical-align: middle;\n",
       "    }\n",
       "\n",
       "    .dataframe tbody tr th {\n",
       "        vertical-align: top;\n",
       "    }\n",
       "\n",
       "    .dataframe thead th {\n",
       "        text-align: right;\n",
       "    }\n",
       "</style>\n",
       "<table border=\"1\" class=\"dataframe\">\n",
       "  <thead>\n",
       "    <tr style=\"text-align: right;\">\n",
       "      <th></th>\n",
       "      <th>Model Name</th>\n",
       "      <th>Params</th>\n",
       "      <th>MSE Score</th>\n",
       "      <th>R2 Score</th>\n",
       "    </tr>\n",
       "  </thead>\n",
       "  <tbody>\n",
       "    <tr>\n",
       "      <th>0</th>\n",
       "      <td>Ridge Regressor</td>\n",
       "      <td>{'random_state': 74, 'alpha': 1.0}</td>\n",
       "      <td>-33657.114473</td>\n",
       "      <td>0.071342</td>\n",
       "    </tr>\n",
       "    <tr>\n",
       "      <th>1</th>\n",
       "      <td>Lasso Regressor</td>\n",
       "      <td>{'random_state': 87, 'alpha': 0.01}</td>\n",
       "      <td>-33657.342656</td>\n",
       "      <td>0.071336</td>\n",
       "    </tr>\n",
       "    <tr>\n",
       "      <th>2</th>\n",
       "      <td>Decision Tree Regressor</td>\n",
       "      <td>{'random_state': 110, 'min_samples_split': 9, ...</td>\n",
       "      <td>-44143.676311</td>\n",
       "      <td>-0.217829</td>\n",
       "    </tr>\n",
       "    <tr>\n",
       "      <th>3</th>\n",
       "      <td>Random Forest Regressor</td>\n",
       "      <td>{'random_state': 84, 'n_estimators': 73, 'crit...</td>\n",
       "      <td>-34336.560911</td>\n",
       "      <td>0.052164</td>\n",
       "    </tr>\n",
       "    <tr>\n",
       "      <th>4</th>\n",
       "      <td>Extra Trees Regressor</td>\n",
       "      <td>{'random_state': 85, 'min_samples_split': 9, '...</td>\n",
       "      <td>-32588.066107</td>\n",
       "      <td>0.100557</td>\n",
       "    </tr>\n",
       "    <tr>\n",
       "      <th>5</th>\n",
       "      <td>Gradient Boost Regressor</td>\n",
       "      <td>{'random_state': 93, 'n_estimators': 54, 'loss...</td>\n",
       "      <td>-30460.024952</td>\n",
       "      <td>0.159483</td>\n",
       "    </tr>\n",
       "  </tbody>\n",
       "</table>\n",
       "</div>"
      ],
      "text/plain": [
       "                 Model Name  \\\n",
       "0           Ridge Regressor   \n",
       "1           Lasso Regressor   \n",
       "2   Decision Tree Regressor   \n",
       "3   Random Forest Regressor   \n",
       "4     Extra Trees Regressor   \n",
       "5  Gradient Boost Regressor   \n",
       "\n",
       "                                              Params     MSE Score  R2 Score  \n",
       "0                 {'random_state': 74, 'alpha': 1.0} -33657.114473  0.071342  \n",
       "1                {'random_state': 87, 'alpha': 0.01} -33657.342656  0.071336  \n",
       "2  {'random_state': 110, 'min_samples_split': 9, ... -44143.676311 -0.217829  \n",
       "3  {'random_state': 84, 'n_estimators': 73, 'crit... -34336.560911  0.052164  \n",
       "4  {'random_state': 85, 'min_samples_split': 9, '... -32588.066107  0.100557  \n",
       "5  {'random_state': 93, 'n_estimators': 54, 'loss... -30460.024952  0.159483  "
      ]
     },
     "execution_count": 67,
     "metadata": {},
     "output_type": "execute_result"
    }
   ],
   "source": [
    "i = list(gbrDF['mean_test_neg_mean_squared_error']).index(gbrDF['mean_test_neg_mean_squared_error'].max())\n",
    "model_score_table.loc[5] = [\"Gradient Boost Regressor\", gbrDF['params'][i], gbrDF['mean_test_neg_mean_squared_error'][i], gbrDF['mean_test_r2'][i]]\n",
    "model_score_table"
   ]
  },
  {
   "cell_type": "code",
   "execution_count": 68,
   "metadata": {},
   "outputs": [
    {
     "data": {
      "text/html": [
       "<div>\n",
       "<style scoped>\n",
       "    .dataframe tbody tr th:only-of-type {\n",
       "        vertical-align: middle;\n",
       "    }\n",
       "\n",
       "    .dataframe tbody tr th {\n",
       "        vertical-align: top;\n",
       "    }\n",
       "\n",
       "    .dataframe thead th {\n",
       "        text-align: right;\n",
       "    }\n",
       "</style>\n",
       "<table border=\"1\" class=\"dataframe\">\n",
       "  <thead>\n",
       "    <tr style=\"text-align: right;\">\n",
       "      <th></th>\n",
       "      <th>Model Name</th>\n",
       "      <th>Params</th>\n",
       "      <th>MSE Score</th>\n",
       "      <th>R2 Score</th>\n",
       "    </tr>\n",
       "  </thead>\n",
       "  <tbody>\n",
       "    <tr>\n",
       "      <th>5</th>\n",
       "      <td>Gradient Boost Regressor</td>\n",
       "      <td>{'random_state': 93, 'n_estimators': 54, 'loss...</td>\n",
       "      <td>-30460.024952</td>\n",
       "      <td>0.159483</td>\n",
       "    </tr>\n",
       "    <tr>\n",
       "      <th>4</th>\n",
       "      <td>Extra Trees Regressor</td>\n",
       "      <td>{'random_state': 85, 'min_samples_split': 9, '...</td>\n",
       "      <td>-32588.066107</td>\n",
       "      <td>0.100557</td>\n",
       "    </tr>\n",
       "    <tr>\n",
       "      <th>0</th>\n",
       "      <td>Ridge Regressor</td>\n",
       "      <td>{'random_state': 74, 'alpha': 1.0}</td>\n",
       "      <td>-33657.114473</td>\n",
       "      <td>0.071342</td>\n",
       "    </tr>\n",
       "    <tr>\n",
       "      <th>1</th>\n",
       "      <td>Lasso Regressor</td>\n",
       "      <td>{'random_state': 87, 'alpha': 0.01}</td>\n",
       "      <td>-33657.342656</td>\n",
       "      <td>0.071336</td>\n",
       "    </tr>\n",
       "    <tr>\n",
       "      <th>3</th>\n",
       "      <td>Random Forest Regressor</td>\n",
       "      <td>{'random_state': 84, 'n_estimators': 73, 'crit...</td>\n",
       "      <td>-34336.560911</td>\n",
       "      <td>0.052164</td>\n",
       "    </tr>\n",
       "    <tr>\n",
       "      <th>2</th>\n",
       "      <td>Decision Tree Regressor</td>\n",
       "      <td>{'random_state': 110, 'min_samples_split': 9, ...</td>\n",
       "      <td>-44143.676311</td>\n",
       "      <td>-0.217829</td>\n",
       "    </tr>\n",
       "  </tbody>\n",
       "</table>\n",
       "</div>"
      ],
      "text/plain": [
       "                 Model Name  \\\n",
       "5  Gradient Boost Regressor   \n",
       "4     Extra Trees Regressor   \n",
       "0           Ridge Regressor   \n",
       "1           Lasso Regressor   \n",
       "3   Random Forest Regressor   \n",
       "2   Decision Tree Regressor   \n",
       "\n",
       "                                              Params     MSE Score  R2 Score  \n",
       "5  {'random_state': 93, 'n_estimators': 54, 'loss... -30460.024952  0.159483  \n",
       "4  {'random_state': 85, 'min_samples_split': 9, '... -32588.066107  0.100557  \n",
       "0                 {'random_state': 74, 'alpha': 1.0} -33657.114473  0.071342  \n",
       "1                {'random_state': 87, 'alpha': 0.01} -33657.342656  0.071336  \n",
       "3  {'random_state': 84, 'n_estimators': 73, 'crit... -34336.560911  0.052164  \n",
       "2  {'random_state': 110, 'min_samples_split': 9, ... -44143.676311 -0.217829  "
      ]
     },
     "execution_count": 68,
     "metadata": {},
     "output_type": "execute_result"
    }
   ],
   "source": [
    "model_score_table.sort_values(by=\"R2 Score\", ascending=False)"
   ]
  },
  {
   "cell_type": "markdown",
   "metadata": {},
   "source": [
    "Gradient Boost Regressor is the best performing model"
   ]
  },
  {
   "cell_type": "code",
   "execution_count": 69,
   "metadata": {},
   "outputs": [
    {
     "data": {
      "text/plain": [
       "{'random_state': 93,\n",
       " 'n_estimators': 54,\n",
       " 'loss': 'ls',\n",
       " 'criterion': 'friedman_mse'}"
      ]
     },
     "execution_count": 69,
     "metadata": {},
     "output_type": "execute_result"
    }
   ],
   "source": [
    "#Parameters of the Gradient Boosting Regression\n",
    "model_score_table['Params'][5]"
   ]
  },
  {
   "cell_type": "code",
   "execution_count": 86,
   "metadata": {},
   "outputs": [
    {
     "data": {
      "text/html": [
       "<div>\n",
       "<style scoped>\n",
       "    .dataframe tbody tr th:only-of-type {\n",
       "        vertical-align: middle;\n",
       "    }\n",
       "\n",
       "    .dataframe tbody tr th {\n",
       "        vertical-align: top;\n",
       "    }\n",
       "\n",
       "    .dataframe thead th {\n",
       "        text-align: right;\n",
       "    }\n",
       "</style>\n",
       "<table border=\"1\" class=\"dataframe\">\n",
       "  <thead>\n",
       "    <tr style=\"text-align: right;\">\n",
       "      <th></th>\n",
       "      <th>0</th>\n",
       "    </tr>\n",
       "  </thead>\n",
       "  <tbody>\n",
       "    <tr>\n",
       "      <th>0</th>\n",
       "      <td>374.851849</td>\n",
       "    </tr>\n",
       "    <tr>\n",
       "      <th>1</th>\n",
       "      <td>288.183598</td>\n",
       "    </tr>\n",
       "    <tr>\n",
       "      <th>2</th>\n",
       "      <td>232.926111</td>\n",
       "    </tr>\n",
       "    <tr>\n",
       "      <th>3</th>\n",
       "      <td>333.581806</td>\n",
       "    </tr>\n",
       "    <tr>\n",
       "      <th>4</th>\n",
       "      <td>243.280288</td>\n",
       "    </tr>\n",
       "    <tr>\n",
       "      <th>...</th>\n",
       "      <td>...</td>\n",
       "    </tr>\n",
       "    <tr>\n",
       "      <th>1473</th>\n",
       "      <td>400.170585</td>\n",
       "    </tr>\n",
       "    <tr>\n",
       "      <th>1474</th>\n",
       "      <td>407.017403</td>\n",
       "    </tr>\n",
       "    <tr>\n",
       "      <th>1475</th>\n",
       "      <td>395.143131</td>\n",
       "    </tr>\n",
       "    <tr>\n",
       "      <th>1476</th>\n",
       "      <td>380.623534</td>\n",
       "    </tr>\n",
       "    <tr>\n",
       "      <th>1477</th>\n",
       "      <td>226.479729</td>\n",
       "    </tr>\n",
       "  </tbody>\n",
       "</table>\n",
       "<p>1478 rows × 1 columns</p>\n",
       "</div>"
      ],
      "text/plain": [
       "               0\n",
       "0     374.851849\n",
       "1     288.183598\n",
       "2     232.926111\n",
       "3     333.581806\n",
       "4     243.280288\n",
       "...          ...\n",
       "1473  400.170585\n",
       "1474  407.017403\n",
       "1475  395.143131\n",
       "1476  380.623534\n",
       "1477  226.479729\n",
       "\n",
       "[1478 rows x 1 columns]"
      ]
     },
     "execution_count": 86,
     "metadata": {},
     "output_type": "execute_result"
    }
   ],
   "source": [
    "X_train, X_test, y_train, y_test = train_test_split(X, Y, test_size=0.25, random_state=93)\n",
    "gbr_model = GradientBoostingRegressor(random_state = 93, n_estimators = 54, loss = 'ls', criterion = 'friedman_mse')\n",
    "gbr_model.fit(X_train, y_train)\n",
    "pred = gbr_model.predict(X_test)\n",
    "pred = pd.DataFrame(pred)\n",
    "pred"
   ]
  },
  {
   "cell_type": "code",
   "execution_count": 87,
   "metadata": {},
   "outputs": [
    {
     "data": {
      "text/plain": [
       "0.19776480053121337"
      ]
     },
     "execution_count": 87,
     "metadata": {},
     "output_type": "execute_result"
    }
   ],
   "source": [
    "gbr_model.score(X_train,y_train)"
   ]
  },
  {
   "cell_type": "code",
   "execution_count": 88,
   "metadata": {},
   "outputs": [
    {
     "data": {
      "text/plain": [
       "0.1597486899201459"
      ]
     },
     "execution_count": 88,
     "metadata": {},
     "output_type": "execute_result"
    }
   ],
   "source": [
    "gbr_model.score(X_test,y_test)"
   ]
  },
  {
   "cell_type": "code",
   "execution_count": 89,
   "metadata": {},
   "outputs": [
    {
     "name": "stdout",
     "output_type": "stream",
     "text": [
      "32165.345884855044\n",
      "142.3453901177057\n"
     ]
    }
   ],
   "source": [
    "print(mean_squared_error(y_test , pred))\n",
    "print(mean_absolute_error(y_test , pred))"
   ]
  },
  {
   "cell_type": "code",
   "execution_count": 96,
   "metadata": {},
   "outputs": [
    {
     "data": {
      "text/html": [
       "<div>\n",
       "<style scoped>\n",
       "    .dataframe tbody tr th:only-of-type {\n",
       "        vertical-align: middle;\n",
       "    }\n",
       "\n",
       "    .dataframe tbody tr th {\n",
       "        vertical-align: top;\n",
       "    }\n",
       "\n",
       "    .dataframe thead th {\n",
       "        text-align: right;\n",
       "    }\n",
       "</style>\n",
       "<table border=\"1\" class=\"dataframe\">\n",
       "  <thead>\n",
       "    <tr style=\"text-align: right;\">\n",
       "      <th></th>\n",
       "      <th>Qualification</th>\n",
       "      <th>Experience</th>\n",
       "      <th>Rating</th>\n",
       "      <th>Place</th>\n",
       "      <th>Profile</th>\n",
       "      <th>Miscellaneous_Info</th>\n",
       "    </tr>\n",
       "  </thead>\n",
       "  <tbody>\n",
       "    <tr>\n",
       "      <th>0</th>\n",
       "      <td>MBBS</td>\n",
       "      <td>35 years experience</td>\n",
       "      <td>NaN</td>\n",
       "      <td>Ghatkopar East, Mumbai</td>\n",
       "      <td>General Medicine</td>\n",
       "      <td>NaN</td>\n",
       "    </tr>\n",
       "    <tr>\n",
       "      <th>1</th>\n",
       "      <td>MBBS, Diploma in Otorhinolaryngology (DLO)</td>\n",
       "      <td>31 years experience</td>\n",
       "      <td>NaN</td>\n",
       "      <td>West Marredpally, Hyderabad</td>\n",
       "      <td>ENT Specialist</td>\n",
       "      <td>NaN</td>\n",
       "    </tr>\n",
       "    <tr>\n",
       "      <th>2</th>\n",
       "      <td>MBBS, DDVL</td>\n",
       "      <td>40 years experience</td>\n",
       "      <td>70%</td>\n",
       "      <td>KK Nagar, Chennai</td>\n",
       "      <td>Dermatologists</td>\n",
       "      <td>70% 4 Feedback KK Nagar, Chennai</td>\n",
       "    </tr>\n",
       "    <tr>\n",
       "      <th>3</th>\n",
       "      <td>BAMS</td>\n",
       "      <td>0 years experience</td>\n",
       "      <td>NaN</td>\n",
       "      <td>New Ashok Nagar, Delhi</td>\n",
       "      <td>Ayurveda</td>\n",
       "      <td>NaN</td>\n",
       "    </tr>\n",
       "    <tr>\n",
       "      <th>4</th>\n",
       "      <td>BDS, MDS - Conservative Dentistry &amp; Endodontics</td>\n",
       "      <td>16 years experience</td>\n",
       "      <td>100%</td>\n",
       "      <td>Kanakpura Road, Bangalore</td>\n",
       "      <td>Dentist</td>\n",
       "      <td>General Dentistry Conservative Dentistry Cosme...</td>\n",
       "    </tr>\n",
       "  </tbody>\n",
       "</table>\n",
       "</div>"
      ],
      "text/plain": [
       "                                     Qualification           Experience  \\\n",
       "0                                             MBBS  35 years experience   \n",
       "1       MBBS, Diploma in Otorhinolaryngology (DLO)  31 years experience   \n",
       "2                                       MBBS, DDVL  40 years experience   \n",
       "3                                             BAMS   0 years experience   \n",
       "4  BDS, MDS - Conservative Dentistry & Endodontics  16 years experience   \n",
       "\n",
       "  Rating                        Place           Profile  \\\n",
       "0    NaN       Ghatkopar East, Mumbai  General Medicine   \n",
       "1    NaN  West Marredpally, Hyderabad    ENT Specialist   \n",
       "2    70%            KK Nagar, Chennai    Dermatologists   \n",
       "3    NaN       New Ashok Nagar, Delhi          Ayurveda   \n",
       "4   100%    Kanakpura Road, Bangalore           Dentist   \n",
       "\n",
       "                                  Miscellaneous_Info  \n",
       "0                                                NaN  \n",
       "1                                                NaN  \n",
       "2                   70% 4 Feedback KK Nagar, Chennai  \n",
       "3                                                NaN  \n",
       "4  General Dentistry Conservative Dentistry Cosme...  "
      ]
     },
     "execution_count": 96,
     "metadata": {},
     "output_type": "execute_result"
    }
   ],
   "source": [
    "dftest = pd.read_excel('Doctor_Test.xlsx')\n",
    "dftest.head()"
   ]
  },
  {
   "cell_type": "code",
   "execution_count": 97,
   "metadata": {},
   "outputs": [],
   "source": [
    "dftest.drop(\"Miscellaneous_Info\",1,inplace=True)"
   ]
  },
  {
   "cell_type": "code",
   "execution_count": 98,
   "metadata": {},
   "outputs": [
    {
     "data": {
      "text/plain": [
       "0       35\n",
       "1       31\n",
       "2       40\n",
       "3        0\n",
       "4       16\n",
       "        ..\n",
       "1982    10\n",
       "1983     4\n",
       "1984     9\n",
       "1985    12\n",
       "1986     8\n",
       "Name: ExperienceSplit, Length: 1987, dtype: object"
      ]
     },
     "execution_count": 98,
     "metadata": {},
     "output_type": "execute_result"
    }
   ],
   "source": [
    "dftest['ExperienceSplit'] = dftest['Experience'].str.split(\" \", n = -1, expand = True)[0]\n",
    "dftest['ExperienceSplit']"
   ]
  },
  {
   "cell_type": "code",
   "execution_count": 99,
   "metadata": {},
   "outputs": [
    {
     "data": {
      "text/plain": [
       "0       35\n",
       "1       31\n",
       "2       40\n",
       "3        0\n",
       "4       16\n",
       "        ..\n",
       "1982    10\n",
       "1983     4\n",
       "1984     9\n",
       "1985    12\n",
       "1986     8\n",
       "Name: Experience, Length: 1987, dtype: object"
      ]
     },
     "execution_count": 99,
     "metadata": {},
     "output_type": "execute_result"
    }
   ],
   "source": [
    "#Dropping the unwanted values to keep only numeric value in column Experience\n",
    "dftest['Experience'] = dftest['ExperienceSplit']\n",
    "dftest.drop(\"ExperienceSplit\",1,inplace=True)\n",
    "dftest['Experience']"
   ]
  },
  {
   "cell_type": "code",
   "execution_count": 100,
   "metadata": {},
   "outputs": [
    {
     "data": {
      "text/plain": [
       "0       NaN\n",
       "1       NaN\n",
       "2        70\n",
       "3       NaN\n",
       "4       100\n",
       "       ... \n",
       "1982    NaN\n",
       "1983    NaN\n",
       "1984    NaN\n",
       "1985     98\n",
       "1986    NaN\n",
       "Name: Rating, Length: 1987, dtype: object"
      ]
     },
     "execution_count": 100,
     "metadata": {},
     "output_type": "execute_result"
    }
   ],
   "source": [
    "#Dropping the '%' symbol to keep only numeric value in column Rating\n",
    "dftest['Rating'] = dftest['Rating'].str.replace(r'\\D', '')\n",
    "dftest['Rating']"
   ]
  },
  {
   "cell_type": "code",
   "execution_count": 101,
   "metadata": {},
   "outputs": [],
   "source": [
    "#Converting the Experience data type to integer\n",
    "dftest['Experience'] = dftest['Experience'].astype('int64')"
   ]
  },
  {
   "cell_type": "code",
   "execution_count": 102,
   "metadata": {},
   "outputs": [],
   "source": [
    "#Converting the Rating data type to float\n",
    "dftest['Rating'] = dftest['Rating'].astype('float64')"
   ]
  },
  {
   "cell_type": "code",
   "execution_count": 103,
   "metadata": {},
   "outputs": [],
   "source": [
    "#Replacing the NaN values in Rating with the mean value of itself\n",
    "dftest.loc[dftest['Rating'].isnull(), 'Rating'] = dftest['Rating'].mean()"
   ]
  },
  {
   "cell_type": "code",
   "execution_count": 104,
   "metadata": {},
   "outputs": [],
   "source": [
    "#Drop Place\n",
    "dftest.drop(\"Place\",1,inplace=True)"
   ]
  },
  {
   "cell_type": "code",
   "execution_count": 105,
   "metadata": {},
   "outputs": [
    {
     "data": {
      "text/plain": [
       "0       0.000000\n",
       "1       0.000000\n",
       "2      -4.803364\n",
       "3       0.000000\n",
       "4       1.092391\n",
       "          ...   \n",
       "1982    0.000000\n",
       "1983    0.000000\n",
       "1984    0.000000\n",
       "1985    0.699340\n",
       "1986    0.000000\n",
       "Name: RatingZscore, Length: 1987, dtype: float64"
      ]
     },
     "execution_count": 105,
     "metadata": {},
     "output_type": "execute_result"
    }
   ],
   "source": [
    "dftest['RatingZscore'] = zscore(dftest['Rating'])\n",
    "dftest['RatingZscore']"
   ]
  },
  {
   "cell_type": "code",
   "execution_count": 106,
   "metadata": {},
   "outputs": [
    {
     "data": {
      "text/plain": [
       "1.092390687006677"
      ]
     },
     "execution_count": 106,
     "metadata": {},
     "output_type": "execute_result"
    }
   ],
   "source": [
    "dftest['RatingZscore'].max()"
   ]
  },
  {
   "cell_type": "code",
   "execution_count": 107,
   "metadata": {},
   "outputs": [
    {
     "data": {
      "text/plain": [
       "-8.340816978408371"
      ]
     },
     "execution_count": 107,
     "metadata": {},
     "output_type": "execute_result"
    }
   ],
   "source": [
    "dftest['RatingZscore'].min()"
   ]
  },
  {
   "cell_type": "code",
   "execution_count": 108,
   "metadata": {},
   "outputs": [
    {
     "data": {
      "text/plain": [
       "17"
      ]
     },
     "execution_count": 108,
     "metadata": {},
     "output_type": "execute_result"
    }
   ],
   "source": [
    "dftest.loc[dftest['RatingZscore'] < -5, 'RatingZscore'].count()"
   ]
  },
  {
   "cell_type": "code",
   "execution_count": 109,
   "metadata": {},
   "outputs": [],
   "source": [
    "dftest_New = dftest[dftest['RatingZscore'] > -5]"
   ]
  },
  {
   "cell_type": "code",
   "execution_count": 110,
   "metadata": {},
   "outputs": [],
   "source": [
    "dftest = dftest_New.copy()"
   ]
  },
  {
   "cell_type": "code",
   "execution_count": 111,
   "metadata": {},
   "outputs": [],
   "source": [
    "dftest.drop(\"RatingZscore\",1,inplace=True)"
   ]
  },
  {
   "cell_type": "code",
   "execution_count": 112,
   "metadata": {},
   "outputs": [
    {
     "data": {
      "text/html": [
       "<div>\n",
       "<style scoped>\n",
       "    .dataframe tbody tr th:only-of-type {\n",
       "        vertical-align: middle;\n",
       "    }\n",
       "\n",
       "    .dataframe tbody tr th {\n",
       "        vertical-align: top;\n",
       "    }\n",
       "\n",
       "    .dataframe thead th {\n",
       "        text-align: right;\n",
       "    }\n",
       "</style>\n",
       "<table border=\"1\" class=\"dataframe\">\n",
       "  <thead>\n",
       "    <tr style=\"text-align: right;\">\n",
       "      <th></th>\n",
       "      <th>Qualification</th>\n",
       "      <th>Experience</th>\n",
       "      <th>Rating</th>\n",
       "      <th>Profile</th>\n",
       "    </tr>\n",
       "  </thead>\n",
       "  <tbody>\n",
       "    <tr>\n",
       "      <th>0</th>\n",
       "      <td>238</td>\n",
       "      <td>35</td>\n",
       "      <td>94.441472</td>\n",
       "      <td>4</td>\n",
       "    </tr>\n",
       "    <tr>\n",
       "      <th>1</th>\n",
       "      <td>337</td>\n",
       "      <td>31</td>\n",
       "      <td>94.441472</td>\n",
       "      <td>3</td>\n",
       "    </tr>\n",
       "    <tr>\n",
       "      <th>2</th>\n",
       "      <td>255</td>\n",
       "      <td>40</td>\n",
       "      <td>70.000000</td>\n",
       "      <td>2</td>\n",
       "    </tr>\n",
       "    <tr>\n",
       "      <th>3</th>\n",
       "      <td>6</td>\n",
       "      <td>0</td>\n",
       "      <td>94.441472</td>\n",
       "      <td>0</td>\n",
       "    </tr>\n",
       "    <tr>\n",
       "      <th>4</th>\n",
       "      <td>78</td>\n",
       "      <td>16</td>\n",
       "      <td>100.000000</td>\n",
       "      <td>1</td>\n",
       "    </tr>\n",
       "  </tbody>\n",
       "</table>\n",
       "</div>"
      ],
      "text/plain": [
       "   Qualification  Experience      Rating  Profile\n",
       "0            238          35   94.441472        4\n",
       "1            337          31   94.441472        3\n",
       "2            255          40   70.000000        2\n",
       "3              6           0   94.441472        0\n",
       "4             78          16  100.000000        1"
      ]
     },
     "execution_count": 112,
     "metadata": {},
     "output_type": "execute_result"
    }
   ],
   "source": [
    "for i in arrObj:\n",
    "    dftest[i] = le.fit_transform(dftest[[i]])\n",
    "dftest.head()"
   ]
  },
  {
   "cell_type": "code",
   "execution_count": 114,
   "metadata": {},
   "outputs": [],
   "source": [
    "arr1 = ['Qualification', 'Experience', 'Rating']\n",
    "for i in arr1:\n",
    "    dftest[i] = mms.fit_transform(dftest[[i]])"
   ]
  },
  {
   "cell_type": "code",
   "execution_count": 115,
   "metadata": {},
   "outputs": [
    {
     "data": {
      "text/html": [
       "<div>\n",
       "<style scoped>\n",
       "    .dataframe tbody tr th:only-of-type {\n",
       "        vertical-align: middle;\n",
       "    }\n",
       "\n",
       "    .dataframe tbody tr th {\n",
       "        vertical-align: top;\n",
       "    }\n",
       "\n",
       "    .dataframe thead th {\n",
       "        text-align: right;\n",
       "    }\n",
       "</style>\n",
       "<table border=\"1\" class=\"dataframe\">\n",
       "  <thead>\n",
       "    <tr style=\"text-align: right;\">\n",
       "      <th></th>\n",
       "      <th>Qualification</th>\n",
       "      <th>Experience</th>\n",
       "      <th>Rating</th>\n",
       "      <th>Profile</th>\n",
       "    </tr>\n",
       "  </thead>\n",
       "  <tbody>\n",
       "    <tr>\n",
       "      <th>0</th>\n",
       "      <td>0.283688</td>\n",
       "      <td>0.363636</td>\n",
       "      <td>1.000000</td>\n",
       "      <td>5</td>\n",
       "    </tr>\n",
       "    <tr>\n",
       "      <th>1</th>\n",
       "      <td>0.051773</td>\n",
       "      <td>0.181818</td>\n",
       "      <td>0.935484</td>\n",
       "      <td>0</td>\n",
       "    </tr>\n",
       "    <tr>\n",
       "      <th>2</th>\n",
       "      <td>0.799291</td>\n",
       "      <td>0.136364</td>\n",
       "      <td>0.827209</td>\n",
       "      <td>3</td>\n",
       "    </tr>\n",
       "    <tr>\n",
       "      <th>3</th>\n",
       "      <td>0.328369</td>\n",
       "      <td>0.181818</td>\n",
       "      <td>0.827209</td>\n",
       "      <td>0</td>\n",
       "    </tr>\n",
       "    <tr>\n",
       "      <th>4</th>\n",
       "      <td>0.007092</td>\n",
       "      <td>0.303030</td>\n",
       "      <td>1.000000</td>\n",
       "      <td>0</td>\n",
       "    </tr>\n",
       "  </tbody>\n",
       "</table>\n",
       "</div>"
      ],
      "text/plain": [
       "   Qualification  Experience    Rating  Profile\n",
       "0       0.283688    0.363636  1.000000        5\n",
       "1       0.051773    0.181818  0.935484        0\n",
       "2       0.799291    0.136364  0.827209        3\n",
       "3       0.328369    0.181818  0.827209        0\n",
       "4       0.007092    0.303030  1.000000        0"
      ]
     },
     "execution_count": 115,
     "metadata": {},
     "output_type": "execute_result"
    }
   ],
   "source": [
    "X.head()"
   ]
  },
  {
   "cell_type": "code",
   "execution_count": 116,
   "metadata": {},
   "outputs": [
    {
     "data": {
      "text/html": [
       "<div>\n",
       "<style scoped>\n",
       "    .dataframe tbody tr th:only-of-type {\n",
       "        vertical-align: middle;\n",
       "    }\n",
       "\n",
       "    .dataframe tbody tr th {\n",
       "        vertical-align: top;\n",
       "    }\n",
       "\n",
       "    .dataframe thead th {\n",
       "        text-align: right;\n",
       "    }\n",
       "</style>\n",
       "<table border=\"1\" class=\"dataframe\">\n",
       "  <thead>\n",
       "    <tr style=\"text-align: right;\">\n",
       "      <th></th>\n",
       "      <th>Qualification</th>\n",
       "      <th>Experience</th>\n",
       "      <th>Rating</th>\n",
       "      <th>Profile</th>\n",
       "    </tr>\n",
       "  </thead>\n",
       "  <tbody>\n",
       "    <tr>\n",
       "      <th>0</th>\n",
       "      <td>0.382022</td>\n",
       "      <td>0.538462</td>\n",
       "      <td>0.820693</td>\n",
       "      <td>4</td>\n",
       "    </tr>\n",
       "    <tr>\n",
       "      <th>1</th>\n",
       "      <td>0.540931</td>\n",
       "      <td>0.476923</td>\n",
       "      <td>0.820693</td>\n",
       "      <td>3</td>\n",
       "    </tr>\n",
       "    <tr>\n",
       "      <th>2</th>\n",
       "      <td>0.409310</td>\n",
       "      <td>0.615385</td>\n",
       "      <td>0.032258</td>\n",
       "      <td>2</td>\n",
       "    </tr>\n",
       "    <tr>\n",
       "      <th>3</th>\n",
       "      <td>0.009631</td>\n",
       "      <td>0.000000</td>\n",
       "      <td>0.820693</td>\n",
       "      <td>0</td>\n",
       "    </tr>\n",
       "    <tr>\n",
       "      <th>4</th>\n",
       "      <td>0.125201</td>\n",
       "      <td>0.246154</td>\n",
       "      <td>1.000000</td>\n",
       "      <td>1</td>\n",
       "    </tr>\n",
       "  </tbody>\n",
       "</table>\n",
       "</div>"
      ],
      "text/plain": [
       "   Qualification  Experience    Rating  Profile\n",
       "0       0.382022    0.538462  0.820693        4\n",
       "1       0.540931    0.476923  0.820693        3\n",
       "2       0.409310    0.615385  0.032258        2\n",
       "3       0.009631    0.000000  0.820693        0\n",
       "4       0.125201    0.246154  1.000000        1"
      ]
     },
     "execution_count": 116,
     "metadata": {},
     "output_type": "execute_result"
    }
   ],
   "source": [
    "dftest.head()"
   ]
  },
  {
   "cell_type": "code",
   "execution_count": 117,
   "metadata": {},
   "outputs": [
    {
     "data": {
      "text/html": [
       "<div>\n",
       "<style scoped>\n",
       "    .dataframe tbody tr th:only-of-type {\n",
       "        vertical-align: middle;\n",
       "    }\n",
       "\n",
       "    .dataframe tbody tr th {\n",
       "        vertical-align: top;\n",
       "    }\n",
       "\n",
       "    .dataframe thead th {\n",
       "        text-align: right;\n",
       "    }\n",
       "</style>\n",
       "<table border=\"1\" class=\"dataframe\">\n",
       "  <thead>\n",
       "    <tr style=\"text-align: right;\">\n",
       "      <th></th>\n",
       "      <th>0</th>\n",
       "    </tr>\n",
       "  </thead>\n",
       "  <tbody>\n",
       "    <tr>\n",
       "      <th>0</th>\n",
       "      <td>257.016166</td>\n",
       "    </tr>\n",
       "    <tr>\n",
       "      <th>1</th>\n",
       "      <td>365.228051</td>\n",
       "    </tr>\n",
       "    <tr>\n",
       "      <th>2</th>\n",
       "      <td>171.689768</td>\n",
       "    </tr>\n",
       "    <tr>\n",
       "      <th>3</th>\n",
       "      <td>174.544366</td>\n",
       "    </tr>\n",
       "    <tr>\n",
       "      <th>4</th>\n",
       "      <td>268.149296</td>\n",
       "    </tr>\n",
       "    <tr>\n",
       "      <th>...</th>\n",
       "      <td>...</td>\n",
       "    </tr>\n",
       "    <tr>\n",
       "      <th>1965</th>\n",
       "      <td>215.725088</td>\n",
       "    </tr>\n",
       "    <tr>\n",
       "      <th>1966</th>\n",
       "      <td>383.873743</td>\n",
       "    </tr>\n",
       "    <tr>\n",
       "      <th>1967</th>\n",
       "      <td>353.475373</td>\n",
       "    </tr>\n",
       "    <tr>\n",
       "      <th>1968</th>\n",
       "      <td>237.235897</td>\n",
       "    </tr>\n",
       "    <tr>\n",
       "      <th>1969</th>\n",
       "      <td>376.042076</td>\n",
       "    </tr>\n",
       "  </tbody>\n",
       "</table>\n",
       "<p>1970 rows × 1 columns</p>\n",
       "</div>"
      ],
      "text/plain": [
       "               0\n",
       "0     257.016166\n",
       "1     365.228051\n",
       "2     171.689768\n",
       "3     174.544366\n",
       "4     268.149296\n",
       "...          ...\n",
       "1965  215.725088\n",
       "1966  383.873743\n",
       "1967  353.475373\n",
       "1968  237.235897\n",
       "1969  376.042076\n",
       "\n",
       "[1970 rows x 1 columns]"
      ]
     },
     "execution_count": 117,
     "metadata": {},
     "output_type": "execute_result"
    }
   ],
   "source": [
    "pred = gbr_model.predict(dftest)\n",
    "pred = pd.DataFrame(pred)\n",
    "pred"
   ]
  },
  {
   "cell_type": "code",
   "execution_count": 118,
   "metadata": {},
   "outputs": [],
   "source": [
    "import joblib"
   ]
  },
  {
   "cell_type": "code",
   "execution_count": 119,
   "metadata": {},
   "outputs": [
    {
     "data": {
      "text/plain": [
       "['final_model.pkl']"
      ]
     },
     "execution_count": 119,
     "metadata": {},
     "output_type": "execute_result"
    }
   ],
   "source": [
    "# save the model to disk\n",
    "filename = 'final_model.pkl'\n",
    "joblib.dump(gbr_model, filename)"
   ]
  },
  {
   "cell_type": "code",
   "execution_count": 120,
   "metadata": {},
   "outputs": [
    {
     "name": "stdout",
     "output_type": "stream",
     "text": [
      "0.1597486899201459\n"
     ]
    }
   ],
   "source": [
    "# load the model from disk\n",
    "load_model = joblib.load(filename)\n",
    "result = load_model.score(X_test, y_test)\n",
    "print(result)"
   ]
  },
  {
   "cell_type": "code",
   "execution_count": 121,
   "metadata": {},
   "outputs": [
    {
     "data": {
      "text/plain": [
       "array([257.01616638, 365.22805104, 171.68976783, ..., 353.47537282,\n",
       "       237.23589669, 376.04207578])"
      ]
     },
     "execution_count": 121,
     "metadata": {},
     "output_type": "execute_result"
    }
   ],
   "source": [
    "pred = load_model.predict(dftest)\n",
    "pred"
   ]
  },
  {
   "cell_type": "code",
   "execution_count": null,
   "metadata": {},
   "outputs": [],
   "source": []
  }
 ],
 "metadata": {
  "kernelspec": {
   "display_name": "Python 3",
   "language": "python",
   "name": "python3"
  },
  "language_info": {
   "codemirror_mode": {
    "name": "ipython",
    "version": 3
   },
   "file_extension": ".py",
   "mimetype": "text/x-python",
   "name": "python",
   "nbconvert_exporter": "python",
   "pygments_lexer": "ipython3",
   "version": "3.8.3"
  }
 },
 "nbformat": 4,
 "nbformat_minor": 4
}
