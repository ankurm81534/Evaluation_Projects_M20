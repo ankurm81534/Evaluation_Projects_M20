{
 "cells": [
  {
   "cell_type": "code",
   "execution_count": 1,
   "metadata": {},
   "outputs": [],
   "source": [
    "import numpy as np\n",
    "import pandas as pd\n",
    "import matplotlib.pyplot as plt\n",
    "import seaborn as sns\n",
    "import warnings\n",
    "import sklearn\n",
    "warnings.filterwarnings('ignore')"
   ]
  },
  {
   "cell_type": "code",
   "execution_count": 2,
   "metadata": {},
   "outputs": [
    {
     "data": {
      "text/html": [
       "<div>\n",
       "<style scoped>\n",
       "    .dataframe tbody tr th:only-of-type {\n",
       "        vertical-align: middle;\n",
       "    }\n",
       "\n",
       "    .dataframe tbody tr th {\n",
       "        vertical-align: top;\n",
       "    }\n",
       "\n",
       "    .dataframe thead th {\n",
       "        text-align: right;\n",
       "    }\n",
       "</style>\n",
       "<table border=\"1\" class=\"dataframe\">\n",
       "  <thead>\n",
       "    <tr style=\"text-align: right;\">\n",
       "      <th></th>\n",
       "      <th>TITLE</th>\n",
       "      <th>RESTAURANT_ID</th>\n",
       "      <th>CUISINES</th>\n",
       "      <th>TIME</th>\n",
       "      <th>CITY</th>\n",
       "      <th>LOCALITY</th>\n",
       "      <th>RATING</th>\n",
       "      <th>VOTES</th>\n",
       "      <th>COST</th>\n",
       "    </tr>\n",
       "  </thead>\n",
       "  <tbody>\n",
       "    <tr>\n",
       "      <th>10046</th>\n",
       "      <td>QUICK BITES</td>\n",
       "      <td>358</td>\n",
       "      <td>South Indian, Chinese, Arabian, Kerala</td>\n",
       "      <td>Closed (Mon),8:57am – 12midnight (Tue),8:15am ...</td>\n",
       "      <td>Kochi</td>\n",
       "      <td>Tripunithura</td>\n",
       "      <td>3.3</td>\n",
       "      <td>32 votes</td>\n",
       "      <td>200</td>\n",
       "    </tr>\n",
       "    <tr>\n",
       "      <th>9248</th>\n",
       "      <td>QUICK BITES</td>\n",
       "      <td>6021</td>\n",
       "      <td>South Indian</td>\n",
       "      <td>7:30am – 12:45pm, 3:45pm – 8:45pm (Mon, Tue...</td>\n",
       "      <td>Bangalore</td>\n",
       "      <td>Malleshwaram</td>\n",
       "      <td>4.2</td>\n",
       "      <td>752 votes</td>\n",
       "      <td>150</td>\n",
       "    </tr>\n",
       "    <tr>\n",
       "      <th>4468</th>\n",
       "      <td>QUICK BITES</td>\n",
       "      <td>11716</td>\n",
       "      <td>North Indian, Chinese</td>\n",
       "      <td>11am – 11pm (Mon-Sun)</td>\n",
       "      <td>Navi Mumbai</td>\n",
       "      <td>Ulwe</td>\n",
       "      <td>NEW</td>\n",
       "      <td>NaN</td>\n",
       "      <td>400</td>\n",
       "    </tr>\n",
       "    <tr>\n",
       "      <th>4493</th>\n",
       "      <td>CASUAL DINING</td>\n",
       "      <td>12892</td>\n",
       "      <td>North Indian, South Indian</td>\n",
       "      <td>12noon – 3:30pm, 7pm – 11pm (Mon-Sun)</td>\n",
       "      <td>Bengalore</td>\n",
       "      <td>Jayanagar</td>\n",
       "      <td>4.2</td>\n",
       "      <td>2049 votes</td>\n",
       "      <td>1000</td>\n",
       "    </tr>\n",
       "    <tr>\n",
       "      <th>10845</th>\n",
       "      <td>QUICK BITES</td>\n",
       "      <td>10033</td>\n",
       "      <td>Fast Food, Continental</td>\n",
       "      <td>11am – 11pm (Mon-Sat),12noon – 11pm (Sun)</td>\n",
       "      <td>GST Road</td>\n",
       "      <td>Urapakkam Station Road</td>\n",
       "      <td>3.5</td>\n",
       "      <td>28 votes</td>\n",
       "      <td>300</td>\n",
       "    </tr>\n",
       "  </tbody>\n",
       "</table>\n",
       "</div>"
      ],
      "text/plain": [
       "               TITLE  RESTAURANT_ID                                CUISINES  \\\n",
       "10046    QUICK BITES            358  South Indian, Chinese, Arabian, Kerala   \n",
       "9248     QUICK BITES           6021                            South Indian   \n",
       "4468     QUICK BITES          11716                   North Indian, Chinese   \n",
       "4493   CASUAL DINING          12892              North Indian, South Indian   \n",
       "10845    QUICK BITES          10033                  Fast Food, Continental   \n",
       "\n",
       "                                                    TIME         CITY  \\\n",
       "10046  Closed (Mon),8:57am – 12midnight (Tue),8:15am ...        Kochi   \n",
       "9248      7:30am – 12:45pm, 3:45pm – 8:45pm (Mon, Tue...    Bangalore   \n",
       "4468                               11am – 11pm (Mon-Sun)  Navi Mumbai   \n",
       "4493               12noon – 3:30pm, 7pm – 11pm (Mon-Sun)    Bengalore   \n",
       "10845          11am – 11pm (Mon-Sat),12noon – 11pm (Sun)     GST Road   \n",
       "\n",
       "                     LOCALITY RATING       VOTES  COST  \n",
       "10046            Tripunithura    3.3    32 votes   200  \n",
       "9248             Malleshwaram    4.2   752 votes   150  \n",
       "4468                     Ulwe    NEW         NaN   400  \n",
       "4493                Jayanagar    4.2  2049 votes  1000  \n",
       "10845  Urapakkam Station Road    3.5    28 votes   300  "
      ]
     },
     "execution_count": 2,
     "metadata": {},
     "output_type": "execute_result"
    }
   ],
   "source": [
    "df = pd.read_excel(\"Restaurant_Train.xlsx\")\n",
    "df.sample(5)"
   ]
  },
  {
   "cell_type": "code",
   "execution_count": 3,
   "metadata": {},
   "outputs": [
    {
     "name": "stdout",
     "output_type": "stream",
     "text": [
      "<class 'pandas.core.frame.DataFrame'>\n",
      "RangeIndex: 12690 entries, 0 to 12689\n",
      "Data columns (total 9 columns):\n",
      " #   Column         Non-Null Count  Dtype \n",
      "---  ------         --------------  ----- \n",
      " 0   TITLE          12690 non-null  object\n",
      " 1   RESTAURANT_ID  12690 non-null  int64 \n",
      " 2   CUISINES       12690 non-null  object\n",
      " 3   TIME           12690 non-null  object\n",
      " 4   CITY           12578 non-null  object\n",
      " 5   LOCALITY       12592 non-null  object\n",
      " 6   RATING         12688 non-null  object\n",
      " 7   VOTES          11486 non-null  object\n",
      " 8   COST           12690 non-null  int64 \n",
      "dtypes: int64(2), object(7)\n",
      "memory usage: 892.4+ KB\n"
     ]
    }
   ],
   "source": [
    "df.info()"
   ]
  },
  {
   "cell_type": "markdown",
   "metadata": {},
   "source": [
    "Most number of missing values VOTES(1204), followed by CITY(112), LOCALITY(98), RATING(2)\n",
    "\n",
    "7 categorical columns and only 2 numerical column one of the being our target column COST.\n",
    "\n",
    "RESTAURANT_ID can be dropped since we can make use of Index for our purpose which would left us with only target column as numeric variable."
   ]
  },
  {
   "cell_type": "code",
   "execution_count": 4,
   "metadata": {},
   "outputs": [],
   "source": [
    "df.drop(\"RESTAURANT_ID\",1,inplace=True)"
   ]
  },
  {
   "cell_type": "code",
   "execution_count": 5,
   "metadata": {},
   "outputs": [
    {
     "data": {
      "text/html": [
       "<div>\n",
       "<style scoped>\n",
       "    .dataframe tbody tr th:only-of-type {\n",
       "        vertical-align: middle;\n",
       "    }\n",
       "\n",
       "    .dataframe tbody tr th {\n",
       "        vertical-align: top;\n",
       "    }\n",
       "\n",
       "    .dataframe thead th {\n",
       "        text-align: right;\n",
       "    }\n",
       "</style>\n",
       "<table border=\"1\" class=\"dataframe\">\n",
       "  <thead>\n",
       "    <tr style=\"text-align: right;\">\n",
       "      <th></th>\n",
       "      <th>COST</th>\n",
       "    </tr>\n",
       "  </thead>\n",
       "  <tbody>\n",
       "    <tr>\n",
       "      <th>count</th>\n",
       "      <td>12690.000000</td>\n",
       "    </tr>\n",
       "    <tr>\n",
       "      <th>mean</th>\n",
       "      <td>655.252246</td>\n",
       "    </tr>\n",
       "    <tr>\n",
       "      <th>std</th>\n",
       "      <td>627.003540</td>\n",
       "    </tr>\n",
       "    <tr>\n",
       "      <th>min</th>\n",
       "      <td>20.000000</td>\n",
       "    </tr>\n",
       "    <tr>\n",
       "      <th>25%</th>\n",
       "      <td>300.000000</td>\n",
       "    </tr>\n",
       "    <tr>\n",
       "      <th>50%</th>\n",
       "      <td>500.000000</td>\n",
       "    </tr>\n",
       "    <tr>\n",
       "      <th>75%</th>\n",
       "      <td>800.000000</td>\n",
       "    </tr>\n",
       "    <tr>\n",
       "      <th>max</th>\n",
       "      <td>14000.000000</td>\n",
       "    </tr>\n",
       "  </tbody>\n",
       "</table>\n",
       "</div>"
      ],
      "text/plain": [
       "               COST\n",
       "count  12690.000000\n",
       "mean     655.252246\n",
       "std      627.003540\n",
       "min       20.000000\n",
       "25%      300.000000\n",
       "50%      500.000000\n",
       "75%      800.000000\n",
       "max    14000.000000"
      ]
     },
     "execution_count": 5,
     "metadata": {},
     "output_type": "execute_result"
    }
   ],
   "source": [
    "df.describe()"
   ]
  },
  {
   "cell_type": "markdown",
   "metadata": {},
   "source": [
    "max value is way above the 75 percentile, we can assume there are lots of outliers."
   ]
  },
  {
   "cell_type": "code",
   "execution_count": 6,
   "metadata": {},
   "outputs": [
    {
     "data": {
      "image/png": "[encoded data removed]",
      "text/plain": [
       "<Figure size 432x288 with 1 Axes>"
      ]
     },
     "metadata": {
      "needs_background": "light"
     },
     "output_type": "display_data"
    }
   ],
   "source": [
    "sns.boxplot(df['COST'], orient=\"v\")\n",
    "plt.show()"
   ]
  },
  {
   "cell_type": "markdown",
   "metadata": {},
   "source": [
    "There are quite a large number of outliers."
   ]
  },
  {
   "cell_type": "code",
   "execution_count": 7,
   "metadata": {},
   "outputs": [
    {
     "name": "stdout",
     "output_type": "stream",
     "text": [
      "Number of unique values in TITLE is: 113\n",
      "Number of unique values in CUISINES is: 4155\n",
      "Number of unique values in TIME is: 2689\n",
      "Number of unique values in CITY is: 360\n",
      "Number of unique values in LOCALITY is: 1417\n",
      "Number of unique values in RATING is: 33\n",
      "Number of unique values in VOTES is: 1848\n",
      "Number of unique values in COST is: 86\n"
     ]
    }
   ],
   "source": [
    "#Checking number of unique values in every column\n",
    "\n",
    "for i in df.columns:\n",
    "    print(\"Number of unique values in {} is:\".format(i),len(df[i].unique()))"
   ]
  },
  {
   "cell_type": "markdown",
   "metadata": {},
   "source": [
    "Since there are not so many unique COST values so we can treat its outliers to make our model efficient.\n",
    "\n",
    "We shall drop Title and TIME as well as it shouldn't matter much in COST.\n",
    "\n",
    "We can drop CITY as LOCALITY gives mode vivid data on locality.\n",
    "\n",
    "CUISINES play a big role in pricing of the dish, Locality plays an important role too, as restaurants in posh areas will have higher price, more rating means preference, rating also depends on number of votings, as average vote rate is the rating."
   ]
  },
  {
   "cell_type": "code",
   "execution_count": 8,
   "metadata": {},
   "outputs": [],
   "source": [
    "df.drop(['TITLE', 'TIME', 'CITY'],1,inplace=True)"
   ]
  },
  {
   "cell_type": "code",
   "execution_count": 9,
   "metadata": {},
   "outputs": [
    {
     "name": "stdout",
     "output_type": "stream",
     "text": [
      "<class 'pandas.core.frame.DataFrame'>\n",
      "RangeIndex: 12690 entries, 0 to 12689\n",
      "Data columns (total 5 columns):\n",
      " #   Column    Non-Null Count  Dtype \n",
      "---  ------    --------------  ----- \n",
      " 0   CUISINES  12690 non-null  object\n",
      " 1   LOCALITY  12592 non-null  object\n",
      " 2   RATING    12688 non-null  object\n",
      " 3   VOTES     11486 non-null  object\n",
      " 4   COST      12690 non-null  int64 \n",
      "dtypes: int64(1), object(4)\n",
      "memory usage: 495.8+ KB\n"
     ]
    }
   ],
   "source": [
    "df.info()"
   ]
  },
  {
   "cell_type": "markdown",
   "metadata": {},
   "source": [
    "We need to encode now as we can't do analysis on categorical data. But first let's clean the dataset."
   ]
  },
  {
   "cell_type": "code",
   "execution_count": 10,
   "metadata": {},
   "outputs": [
    {
     "data": {
      "text/plain": [
       "3.9    1238\n",
       "3.8    1190\n",
       "4.0    1099\n",
       "3.7    1086\n",
       "3.6     951\n",
       "4.1     936\n",
       "3.5     771\n",
       "4.2     723\n",
       "NEW     707\n",
       "3.4     575\n",
       "4.3     556\n",
       "-       495\n",
       "3.3     365\n",
       "4.4     362\n",
       "3.2     266\n",
       "4.5     199\n",
       "2.9     186\n",
       "3.1     186\n",
       "3.0     170\n",
       "2.8     146\n",
       "4.6     141\n",
       "2.7      89\n",
       "4.7      69\n",
       "2.6      61\n",
       "2.5      35\n",
       "4.8      32\n",
       "4.9      22\n",
       "2.4      15\n",
       "2.3      10\n",
       "2.1       3\n",
       "2.0       2\n",
       "2.2       2\n",
       "Name: RATING, dtype: int64"
      ]
     },
     "execution_count": 10,
     "metadata": {},
     "output_type": "execute_result"
    }
   ],
   "source": [
    "df['RATING'].value_counts()"
   ]
  },
  {
   "cell_type": "markdown",
   "metadata": {},
   "source": [
    "We have 707 as NEW, 495 as - and 2 blank values."
   ]
  },
  {
   "cell_type": "markdown",
   "metadata": {},
   "source": [
    "Let's find out the mean of the present values and put them in the NEW, - and blank values"
   ]
  },
  {
   "cell_type": "code",
   "execution_count": 11,
   "metadata": {},
   "outputs": [
    {
     "data": {
      "text/plain": [
       "11488"
      ]
     },
     "execution_count": 11,
     "metadata": {},
     "output_type": "execute_result"
    }
   ],
   "source": [
    "arr = []\n",
    "barr = []\n",
    "for i in list(df['RATING']):\n",
    "    if i not in ['NEW', '-', '']:\n",
    "        arr.append(i)\n",
    "    else:\n",
    "        barr.append(i)\n",
    "\n",
    "\n",
    "\n",
    "len(arr)"
   ]
  },
  {
   "cell_type": "code",
   "execution_count": 12,
   "metadata": {},
   "outputs": [
    {
     "data": {
      "text/plain": [
       "Int64Index([   13,    62,    69,    85,   111,   117,   120,   156,   165,\n",
       "              178,\n",
       "            ...\n",
       "            12584, 12585, 12591, 12602, 12613, 12630, 12641, 12646, 12658,\n",
       "            12660],\n",
       "           dtype='int64', length=1204)"
      ]
     },
     "execution_count": 12,
     "metadata": {},
     "output_type": "execute_result"
    }
   ],
   "source": [
    "df_New = pd.DataFrame()\n",
    "df_New['RATING'] = df['RATING']\n",
    "#df_New.dropna(inplace=True)\n",
    "df_New.loc[(df_New['RATING'].isnull()) | (df_New['RATING'] == '-') | (df_New['RATING'] == 'NEW'), 'RATING'].index"
   ]
  },
  {
   "cell_type": "code",
   "execution_count": 13,
   "metadata": {},
   "outputs": [],
   "source": [
    "for i in df_New.loc[(df_New['RATING'].isnull()) | (df_New['RATING'] == '-') | (df_New['RATING'] == 'NEW'), 'RATING'].index:\n",
    "    df_New.drop(i, inplace=True)"
   ]
  },
  {
   "cell_type": "code",
   "execution_count": 14,
   "metadata": {},
   "outputs": [
    {
     "data": {
      "text/plain": [
       "3.8"
      ]
     },
     "execution_count": 14,
     "metadata": {},
     "output_type": "execute_result"
    }
   ],
   "source": [
    "#Average of RATINGS in the dataset\n",
    "\n",
    "df_New['RATING'] = df_New['RATING'].astype('float64')\n",
    "avg_of_RATING = df_New['RATING'].mean()\n",
    "avg_of_RATING = round(avg_of_RATING,1)\n",
    "avg_of_RATING"
   ]
  },
  {
   "cell_type": "code",
   "execution_count": 15,
   "metadata": {},
   "outputs": [],
   "source": [
    "#Replace the not RATING value in dataset with the average RATING\n",
    "\n",
    "df.loc[(df['RATING'].isnull()) | (df['RATING'] == '-') | (df['RATING'] == 'NEW'), 'RATING'] = avg_of_RATING"
   ]
  },
  {
   "cell_type": "code",
   "execution_count": 16,
   "metadata": {},
   "outputs": [],
   "source": [
    "df['RATING'] = df['RATING'].astype('float64')"
   ]
  },
  {
   "cell_type": "code",
   "execution_count": 17,
   "metadata": {},
   "outputs": [
    {
     "data": {
      "text/html": [
       "<div>\n",
       "<style scoped>\n",
       "    .dataframe tbody tr th:only-of-type {\n",
       "        vertical-align: middle;\n",
       "    }\n",
       "\n",
       "    .dataframe tbody tr th {\n",
       "        vertical-align: top;\n",
       "    }\n",
       "\n",
       "    .dataframe thead th {\n",
       "        text-align: right;\n",
       "    }\n",
       "</style>\n",
       "<table border=\"1\" class=\"dataframe\">\n",
       "  <thead>\n",
       "    <tr style=\"text-align: right;\">\n",
       "      <th></th>\n",
       "      <th>RATING</th>\n",
       "      <th>COST</th>\n",
       "    </tr>\n",
       "  </thead>\n",
       "  <tbody>\n",
       "    <tr>\n",
       "      <th>count</th>\n",
       "      <td>12690.000000</td>\n",
       "      <td>12690.000000</td>\n",
       "    </tr>\n",
       "    <tr>\n",
       "      <th>mean</th>\n",
       "      <td>3.786832</td>\n",
       "      <td>655.252246</td>\n",
       "    </tr>\n",
       "    <tr>\n",
       "      <th>std</th>\n",
       "      <td>0.401588</td>\n",
       "      <td>627.003540</td>\n",
       "    </tr>\n",
       "    <tr>\n",
       "      <th>min</th>\n",
       "      <td>2.000000</td>\n",
       "      <td>20.000000</td>\n",
       "    </tr>\n",
       "    <tr>\n",
       "      <th>25%</th>\n",
       "      <td>3.600000</td>\n",
       "      <td>300.000000</td>\n",
       "    </tr>\n",
       "    <tr>\n",
       "      <th>50%</th>\n",
       "      <td>3.800000</td>\n",
       "      <td>500.000000</td>\n",
       "    </tr>\n",
       "    <tr>\n",
       "      <th>75%</th>\n",
       "      <td>4.000000</td>\n",
       "      <td>800.000000</td>\n",
       "    </tr>\n",
       "    <tr>\n",
       "      <th>max</th>\n",
       "      <td>4.900000</td>\n",
       "      <td>14000.000000</td>\n",
       "    </tr>\n",
       "  </tbody>\n",
       "</table>\n",
       "</div>"
      ],
      "text/plain": [
       "             RATING          COST\n",
       "count  12690.000000  12690.000000\n",
       "mean       3.786832    655.252246\n",
       "std        0.401588    627.003540\n",
       "min        2.000000     20.000000\n",
       "25%        3.600000    300.000000\n",
       "50%        3.800000    500.000000\n",
       "75%        4.000000    800.000000\n",
       "max        4.900000  14000.000000"
      ]
     },
     "execution_count": 17,
     "metadata": {},
     "output_type": "execute_result"
    }
   ],
   "source": [
    "df.describe()"
   ]
  },
  {
   "cell_type": "code",
   "execution_count": 18,
   "metadata": {},
   "outputs": [],
   "source": [
    "from scipy.stats import zscore"
   ]
  },
  {
   "cell_type": "code",
   "execution_count": 19,
   "metadata": {},
   "outputs": [
    {
     "data": {
      "text/plain": [
       "RATING   -0.547569\n",
       "COST      3.978801\n",
       "zcost     3.978801\n",
       "dtype: float64"
      ]
     },
     "execution_count": 19,
     "metadata": {},
     "output_type": "execute_result"
    }
   ],
   "source": [
    "df['zcost'] = zscore(df['COST'])\n",
    "df.skew()"
   ]
  },
  {
   "cell_type": "code",
   "execution_count": 20,
   "metadata": {},
   "outputs": [
    {
     "data": {
      "text/plain": [
       "<matplotlib.axes._subplots.AxesSubplot at 0x278dc1d8a90>"
      ]
     },
     "execution_count": 20,
     "metadata": {},
     "output_type": "execute_result"
    },
    {
     "data": {
      "image/png": "[encoded data removed]",
      "text/plain": [
       "<Figure size 432x288 with 1 Axes>"
      ]
     },
     "metadata": {
      "needs_background": "light"
     },
     "output_type": "display_data"
    }
   ],
   "source": [
    "sns.distplot(df['COST'])"
   ]
  },
  {
   "cell_type": "markdown",
   "metadata": {},
   "source": [
    "COST is highly Positivelly skewed, let's clean the data."
   ]
  },
  {
   "cell_type": "code",
   "execution_count": 21,
   "metadata": {},
   "outputs": [
    {
     "data": {
      "text/plain": [
       "(12466, 6)"
      ]
     },
     "execution_count": 21,
     "metadata": {},
     "output_type": "execute_result"
    }
   ],
   "source": [
    "df = df[df['zcost'] < 3]\n",
    "df.shape"
   ]
  },
  {
   "cell_type": "markdown",
   "metadata": {},
   "source": [
    "224 rows are removed in removal of outliers"
   ]
  },
  {
   "cell_type": "code",
   "execution_count": 22,
   "metadata": {},
   "outputs": [
    {
     "data": {
      "image/png": "[encoded data removed]",
      "text/plain": [
       "<Figure size 432x288 with 1 Axes>"
      ]
     },
     "metadata": {
      "needs_background": "light"
     },
     "output_type": "display_data"
    }
   ],
   "source": [
    "sns.distplot(df['COST'])\n",
    "plt.show()"
   ]
  },
  {
   "cell_type": "code",
   "execution_count": 23,
   "metadata": {},
   "outputs": [
    {
     "data": {
      "text/plain": [
       "1.7707897187650845"
      ]
     },
     "execution_count": 23,
     "metadata": {},
     "output_type": "execute_result"
    }
   ],
   "source": [
    "df['COST'].skew()"
   ]
  },
  {
   "cell_type": "markdown",
   "metadata": {},
   "source": [
    "Skewness is well near normal distribution"
   ]
  },
  {
   "cell_type": "code",
   "execution_count": 24,
   "metadata": {},
   "outputs": [
    {
     "name": "stdout",
     "output_type": "stream",
     "text": [
      "<class 'pandas.core.frame.DataFrame'>\n",
      "Int64Index: 12466 entries, 0 to 12689\n",
      "Data columns (total 6 columns):\n",
      " #   Column    Non-Null Count  Dtype  \n",
      "---  ------    --------------  -----  \n",
      " 0   CUISINES  12466 non-null  object \n",
      " 1   LOCALITY  12369 non-null  object \n",
      " 2   RATING    12466 non-null  float64\n",
      " 3   VOTES     11264 non-null  object \n",
      " 4   COST      12466 non-null  int64  \n",
      " 5   zcost     12466 non-null  float64\n",
      "dtypes: float64(2), int64(1), object(3)\n",
      "memory usage: 681.7+ KB\n"
     ]
    }
   ],
   "source": [
    "df.info()"
   ]
  },
  {
   "cell_type": "code",
   "execution_count": 25,
   "metadata": {},
   "outputs": [],
   "source": [
    "for i in df[df['LOCALITY'].isnull()].index:\n",
    "    df.drop(i, inplace=True)"
   ]
  },
  {
   "cell_type": "code",
   "execution_count": 26,
   "metadata": {},
   "outputs": [
    {
     "name": "stdout",
     "output_type": "stream",
     "text": [
      "<class 'pandas.core.frame.DataFrame'>\n",
      "Int64Index: 12369 entries, 0 to 12689\n",
      "Data columns (total 6 columns):\n",
      " #   Column    Non-Null Count  Dtype  \n",
      "---  ------    --------------  -----  \n",
      " 0   CUISINES  12369 non-null  object \n",
      " 1   LOCALITY  12369 non-null  object \n",
      " 2   RATING    12369 non-null  float64\n",
      " 3   VOTES     11187 non-null  object \n",
      " 4   COST      12369 non-null  int64  \n",
      " 5   zcost     12369 non-null  float64\n",
      "dtypes: float64(2), int64(1), object(3)\n",
      "memory usage: 676.4+ KB\n"
     ]
    }
   ],
   "source": [
    "df.info()"
   ]
  },
  {
   "cell_type": "code",
   "execution_count": 27,
   "metadata": {},
   "outputs": [
    {
     "data": {
      "text/plain": [
       "0          49 votes\n",
       "1          30 votes\n",
       "2         221 votes\n",
       "3          24 votes\n",
       "4         165 votes\n",
       "            ...    \n",
       "12685     546 votes\n",
       "12686    1214 votes\n",
       "12687     608 votes\n",
       "12688      32 votes\n",
       "12689     677 votes\n",
       "Name: VOTES, Length: 12369, dtype: object"
      ]
     },
     "execution_count": 27,
     "metadata": {},
     "output_type": "execute_result"
    }
   ],
   "source": [
    "df['VOTES']"
   ]
  },
  {
   "cell_type": "code",
   "execution_count": 28,
   "metadata": {},
   "outputs": [
    {
     "data": {
      "text/plain": [
       "0          49\n",
       "1          30\n",
       "2         221\n",
       "3          24\n",
       "4         165\n",
       "         ... \n",
       "12685     546\n",
       "12686    1214\n",
       "12687     608\n",
       "12688      32\n",
       "12689     677\n",
       "Name: VOTES_split, Length: 12369, dtype: object"
      ]
     },
     "execution_count": 28,
     "metadata": {},
     "output_type": "execute_result"
    }
   ],
   "source": [
    "df['VOTES_split'] = df['VOTES'].str.split(\" \", n = -1, expand = True)[0]\n",
    "df['VOTES_split']"
   ]
  },
  {
   "cell_type": "code",
   "execution_count": 29,
   "metadata": {},
   "outputs": [],
   "source": [
    "df['VOTES'] = df['VOTES_split']\n",
    "df.drop('VOTES_split',1,inplace=True)"
   ]
  },
  {
   "cell_type": "code",
   "execution_count": 30,
   "metadata": {},
   "outputs": [
    {
     "data": {
      "text/plain": [
       "CUISINES     object\n",
       "LOCALITY     object\n",
       "RATING      float64\n",
       "VOTES        object\n",
       "COST          int64\n",
       "zcost       float64\n",
       "dtype: object"
      ]
     },
     "execution_count": 30,
     "metadata": {},
     "output_type": "execute_result"
    }
   ],
   "source": [
    "df.dtypes"
   ]
  },
  {
   "cell_type": "code",
   "execution_count": 31,
   "metadata": {},
   "outputs": [
    {
     "data": {
      "text/plain": [
       "Int64Index([   13,    62,    69,    85,   111,   117,   120,   156,   165,\n",
       "              178,\n",
       "            ...\n",
       "            12584, 12585, 12591, 12602, 12613, 12630, 12641, 12646, 12658,\n",
       "            12660],\n",
       "           dtype='int64', length=1182)"
      ]
     },
     "execution_count": 31,
     "metadata": {},
     "output_type": "execute_result"
    }
   ],
   "source": [
    "df_New = pd.DataFrame()\n",
    "df_New['VOTES'] = df['VOTES']\n",
    "arr = df_New.loc[df_New['VOTES'].isnull(), 'VOTES'].index\n",
    "arr"
   ]
  },
  {
   "cell_type": "code",
   "execution_count": 32,
   "metadata": {},
   "outputs": [
    {
     "data": {
      "text/plain": [
       "412.2"
      ]
     },
     "execution_count": 32,
     "metadata": {},
     "output_type": "execute_result"
    }
   ],
   "source": [
    "for i in arr:\n",
    "    df_New.drop(i, inplace=True)\n",
    "\n",
    "df_New['VOTES'] = df_New['VOTES'].astype('int64')\n",
    "aoV = round(df_New['VOTES'].mean(),1)\n",
    "aoV"
   ]
  },
  {
   "cell_type": "code",
   "execution_count": 33,
   "metadata": {},
   "outputs": [],
   "source": [
    "df.loc[df['VOTES'].isnull(), 'VOTES'] = aoV"
   ]
  },
  {
   "cell_type": "code",
   "execution_count": 34,
   "metadata": {},
   "outputs": [],
   "source": [
    "df['VOTES'] = df['VOTES'].astype('int64')"
   ]
  },
  {
   "cell_type": "code",
   "execution_count": 35,
   "metadata": {},
   "outputs": [
    {
     "name": "stdout",
     "output_type": "stream",
     "text": [
      "<class 'pandas.core.frame.DataFrame'>\n",
      "Int64Index: 12369 entries, 0 to 12689\n",
      "Data columns (total 6 columns):\n",
      " #   Column    Non-Null Count  Dtype  \n",
      "---  ------    --------------  -----  \n",
      " 0   CUISINES  12369 non-null  object \n",
      " 1   LOCALITY  12369 non-null  object \n",
      " 2   RATING    12369 non-null  float64\n",
      " 3   VOTES     12369 non-null  int64  \n",
      " 4   COST      12369 non-null  int64  \n",
      " 5   zcost     12369 non-null  float64\n",
      "dtypes: float64(2), int64(2), object(2)\n",
      "memory usage: 676.4+ KB\n"
     ]
    }
   ],
   "source": [
    "df.info()"
   ]
  },
  {
   "cell_type": "markdown",
   "metadata": {},
   "source": [
    "Data is cleaned, let's Encode the data"
   ]
  },
  {
   "cell_type": "code",
   "execution_count": 36,
   "metadata": {},
   "outputs": [],
   "source": [
    "from sklearn.preprocessing import LabelEncoder\n",
    "le = LabelEncoder()"
   ]
  },
  {
   "cell_type": "code",
   "execution_count": 37,
   "metadata": {},
   "outputs": [],
   "source": [
    "arr = ['CUISINES','LOCALITY']\n",
    "for i in arr:\n",
    "    df[i] = le.fit_transform(df[i])"
   ]
  },
  {
   "cell_type": "code",
   "execution_count": 38,
   "metadata": {},
   "outputs": [
    {
     "data": {
      "image/png": "[encoded data removed]",
      "text/plain": [
       "<Figure size 1080x360 with 5 Axes>"
      ]
     },
     "metadata": {
      "needs_background": "light"
     },
     "output_type": "display_data"
    }
   ],
   "source": [
    "plt.figure(figsize=(15,5))\n",
    "for i,j in enumerate(df.columns[:-1]):\n",
    "    plt.subplot(2,3, i+1)\n",
    "    sns.boxplot(df[j], orient='v')"
   ]
  },
  {
   "cell_type": "markdown",
   "metadata": {},
   "source": [
    "RATING, VOTE, COST and COST have outliers, VOTES have some outliers which can be removed."
   ]
  },
  {
   "cell_type": "code",
   "execution_count": 39,
   "metadata": {},
   "outputs": [
    {
     "data": {
      "text/plain": [
       "CUISINES    -0.221783\n",
       "LOCALITY     0.342248\n",
       "RATING      -0.549645\n",
       "VOTES       15.032169\n",
       "COST         1.765018\n",
       "zcost        1.765018\n",
       "zvote       15.032169\n",
       "dtype: float64"
      ]
     },
     "execution_count": 39,
     "metadata": {},
     "output_type": "execute_result"
    }
   ],
   "source": [
    "df['zvote'] = zscore(df['VOTES'])\n",
    "df.skew()"
   ]
  },
  {
   "cell_type": "code",
   "execution_count": 40,
   "metadata": {},
   "outputs": [
    {
     "data": {
      "text/plain": [
       "<matplotlib.axes._subplots.AxesSubplot at 0x278dbdd1a30>"
      ]
     },
     "execution_count": 40,
     "metadata": {},
     "output_type": "execute_result"
    },
    {
     "data": {
      "image/png": "[encoded data removed]",
      "text/plain": [
       "<Figure size 432x288 with 1 Axes>"
      ]
     },
     "metadata": {
      "needs_background": "light"
     },
     "output_type": "display_data"
    }
   ],
   "source": [
    "df = df[df['zvote'] < 3]\n",
    "sns.boxplot(df['zvote'], orient='v')"
   ]
  },
  {
   "cell_type": "code",
   "execution_count": 41,
   "metadata": {},
   "outputs": [],
   "source": [
    "df.drop(['zcost','zvote'],1,inplace=True)"
   ]
  },
  {
   "cell_type": "code",
   "execution_count": 42,
   "metadata": {},
   "outputs": [
    {
     "data": {
      "text/plain": [
       "(12173, 5)"
      ]
     },
     "execution_count": 42,
     "metadata": {},
     "output_type": "execute_result"
    }
   ],
   "source": [
    "df.shape"
   ]
  },
  {
   "cell_type": "code",
   "execution_count": 43,
   "metadata": {},
   "outputs": [
    {
     "data": {
      "image/png": "[encoded data removed]",
      "text/plain": [
       "<Figure size 1080x360 with 4 Axes>"
      ]
     },
     "metadata": {
      "needs_background": "light"
     },
     "output_type": "display_data"
    }
   ],
   "source": [
    "plt.figure(figsize=(15,5))\n",
    "for i,j in enumerate(df.columns[:-1]):\n",
    "    plt.subplot(2,3, i+1)\n",
    "    sns.distplot(df[j])"
   ]
  },
  {
   "cell_type": "markdown",
   "metadata": {},
   "source": [
    "3.8 rating is the maximum given to the restaurants, it is also the case since we have replaced the missing rating rows with the average which is 3.8, all other columns also seems fine in terms of distribution."
   ]
  },
  {
   "cell_type": "code",
   "execution_count": 44,
   "metadata": {},
   "outputs": [
    {
     "data": {
      "text/plain": [
       "CUISINES   -0.222840\n",
       "LOCALITY    0.339110\n",
       "RATING     -0.585640\n",
       "VOTES       2.534746\n",
       "COST        1.816192\n",
       "dtype: float64"
      ]
     },
     "execution_count": 44,
     "metadata": {},
     "output_type": "execute_result"
    }
   ],
   "source": [
    "df.skew()"
   ]
  },
  {
   "cell_type": "code",
   "execution_count": 45,
   "metadata": {},
   "outputs": [
    {
     "data": {
      "text/plain": [
       "<Figure size 1440x432 with 0 Axes>"
      ]
     },
     "metadata": {},
     "output_type": "display_data"
    },
    {
     "data": {
      "image/png": "[encoded data removed]",
      "text/plain": [
       "<Figure size 360x360 with 1 Axes>"
      ]
     },
     "metadata": {
      "needs_background": "light"
     },
     "output_type": "display_data"
    },
    {
     "data": {
      "image/png": "[encoded data removed]",
      "text/plain": [
       "<Figure size 360x360 with 1 Axes>"
      ]
     },
     "metadata": {
      "needs_background": "light"
     },
     "output_type": "display_data"
    },
    {
     "data": {
      "image/png": "[encoded data removed]",
      "text/plain": [
       "<Figure size 360x360 with 1 Axes>"
      ]
     },
     "metadata": {
      "needs_background": "light"
     },
     "output_type": "display_data"
    },
    {
     "data": {
      "image/png": "[encoded data removed]",
      "text/plain": [
       "<Figure size 360x360 with 1 Axes>"
      ]
     },
     "metadata": {
      "needs_background": "light"
     },
     "output_type": "display_data"
    },
    {
     "data": {
      "image/png": "[encoded data removed]",
      "text/plain": [
       "<Figure size 360x360 with 1 Axes>"
      ]
     },
     "metadata": {
      "needs_background": "light"
     },
     "output_type": "display_data"
    }
   ],
   "source": [
    "plt.figure(figsize=(20,6))\n",
    "for i,j in enumerate(df.columns):\n",
    "    sns.lmplot(x=j, y ='COST', data=df)\n",
    "plt.show()"
   ]
  },
  {
   "cell_type": "markdown",
   "metadata": {},
   "source": [
    "Only Rating and Votes columns line are visible and are positive related to the COST."
   ]
  },
  {
   "cell_type": "code",
   "execution_count": 46,
   "metadata": {},
   "outputs": [
    {
     "data": {
      "text/html": [
       "<div>\n",
       "<style scoped>\n",
       "    .dataframe tbody tr th:only-of-type {\n",
       "        vertical-align: middle;\n",
       "    }\n",
       "\n",
       "    .dataframe tbody tr th {\n",
       "        vertical-align: top;\n",
       "    }\n",
       "\n",
       "    .dataframe thead th {\n",
       "        text-align: right;\n",
       "    }\n",
       "</style>\n",
       "<table border=\"1\" class=\"dataframe\">\n",
       "  <thead>\n",
       "    <tr style=\"text-align: right;\">\n",
       "      <th></th>\n",
       "      <th>CUISINES</th>\n",
       "      <th>LOCALITY</th>\n",
       "      <th>RATING</th>\n",
       "      <th>VOTES</th>\n",
       "      <th>COST</th>\n",
       "    </tr>\n",
       "  </thead>\n",
       "  <tbody>\n",
       "    <tr>\n",
       "      <th>count</th>\n",
       "      <td>12173.000000</td>\n",
       "      <td>12173.000000</td>\n",
       "      <td>12173.000000</td>\n",
       "      <td>12173.000000</td>\n",
       "      <td>12173.000000</td>\n",
       "    </tr>\n",
       "    <tr>\n",
       "      <th>mean</th>\n",
       "      <td>2170.039021</td>\n",
       "      <td>650.300501</td>\n",
       "      <td>3.770615</td>\n",
       "      <td>344.501602</td>\n",
       "      <td>591.916619</td>\n",
       "    </tr>\n",
       "    <tr>\n",
       "      <th>std</th>\n",
       "      <td>1167.653407</td>\n",
       "      <td>398.045012</td>\n",
       "      <td>0.396228</td>\n",
       "      <td>437.337824</td>\n",
       "      <td>445.781379</td>\n",
       "    </tr>\n",
       "    <tr>\n",
       "      <th>min</th>\n",
       "      <td>0.000000</td>\n",
       "      <td>0.000000</td>\n",
       "      <td>2.000000</td>\n",
       "      <td>4.000000</td>\n",
       "      <td>20.000000</td>\n",
       "    </tr>\n",
       "    <tr>\n",
       "      <th>25%</th>\n",
       "      <td>1162.000000</td>\n",
       "      <td>333.000000</td>\n",
       "      <td>3.600000</td>\n",
       "      <td>62.000000</td>\n",
       "      <td>300.000000</td>\n",
       "    </tr>\n",
       "    <tr>\n",
       "      <th>50%</th>\n",
       "      <td>2361.000000</td>\n",
       "      <td>581.000000</td>\n",
       "      <td>3.800000</td>\n",
       "      <td>189.000000</td>\n",
       "      <td>450.000000</td>\n",
       "    </tr>\n",
       "    <tr>\n",
       "      <th>75%</th>\n",
       "      <td>3133.000000</td>\n",
       "      <td>1003.000000</td>\n",
       "      <td>4.000000</td>\n",
       "      <td>412.000000</td>\n",
       "      <td>700.000000</td>\n",
       "    </tr>\n",
       "    <tr>\n",
       "      <th>max</th>\n",
       "      <td>4027.000000</td>\n",
       "      <td>1407.000000</td>\n",
       "      <td>4.900000</td>\n",
       "      <td>2825.000000</td>\n",
       "      <td>2500.000000</td>\n",
       "    </tr>\n",
       "  </tbody>\n",
       "</table>\n",
       "</div>"
      ],
      "text/plain": [
       "           CUISINES      LOCALITY        RATING         VOTES          COST\n",
       "count  12173.000000  12173.000000  12173.000000  12173.000000  12173.000000\n",
       "mean    2170.039021    650.300501      3.770615    344.501602    591.916619\n",
       "std     1167.653407    398.045012      0.396228    437.337824    445.781379\n",
       "min        0.000000      0.000000      2.000000      4.000000     20.000000\n",
       "25%     1162.000000    333.000000      3.600000     62.000000    300.000000\n",
       "50%     2361.000000    581.000000      3.800000    189.000000    450.000000\n",
       "75%     3133.000000   1003.000000      4.000000    412.000000    700.000000\n",
       "max     4027.000000   1407.000000      4.900000   2825.000000   2500.000000"
      ]
     },
     "execution_count": 46,
     "metadata": {},
     "output_type": "execute_result"
    }
   ],
   "source": [
    "df.describe()"
   ]
  },
  {
   "cell_type": "code",
   "execution_count": 47,
   "metadata": {},
   "outputs": [],
   "source": [
    "from sklearn.preprocessing import MinMaxScaler\n",
    "mms = MinMaxScaler()"
   ]
  },
  {
   "cell_type": "code",
   "execution_count": 48,
   "metadata": {},
   "outputs": [],
   "source": [
    "for i in df.columns:\n",
    "    if df[i].max() > 100:\n",
    "        df[i] = mms.fit_transform(df[[i]])"
   ]
  },
  {
   "cell_type": "code",
   "execution_count": 49,
   "metadata": {},
   "outputs": [
    {
     "data": {
      "text/html": [
       "<div>\n",
       "<style scoped>\n",
       "    .dataframe tbody tr th:only-of-type {\n",
       "        vertical-align: middle;\n",
       "    }\n",
       "\n",
       "    .dataframe tbody tr th {\n",
       "        vertical-align: top;\n",
       "    }\n",
       "\n",
       "    .dataframe thead th {\n",
       "        text-align: right;\n",
       "    }\n",
       "</style>\n",
       "<table border=\"1\" class=\"dataframe\">\n",
       "  <thead>\n",
       "    <tr style=\"text-align: right;\">\n",
       "      <th></th>\n",
       "      <th>CUISINES</th>\n",
       "      <th>LOCALITY</th>\n",
       "      <th>RATING</th>\n",
       "      <th>VOTES</th>\n",
       "      <th>COST</th>\n",
       "    </tr>\n",
       "  </thead>\n",
       "  <tbody>\n",
       "    <tr>\n",
       "      <th>count</th>\n",
       "      <td>12173.000000</td>\n",
       "      <td>12173.000000</td>\n",
       "      <td>12173.000000</td>\n",
       "      <td>12173.000000</td>\n",
       "      <td>12173.000000</td>\n",
       "    </tr>\n",
       "    <tr>\n",
       "      <th>mean</th>\n",
       "      <td>0.538872</td>\n",
       "      <td>0.462189</td>\n",
       "      <td>3.770615</td>\n",
       "      <td>0.120702</td>\n",
       "      <td>0.230612</td>\n",
       "    </tr>\n",
       "    <tr>\n",
       "      <th>std</th>\n",
       "      <td>0.289956</td>\n",
       "      <td>0.282903</td>\n",
       "      <td>0.396228</td>\n",
       "      <td>0.155029</td>\n",
       "      <td>0.179751</td>\n",
       "    </tr>\n",
       "    <tr>\n",
       "      <th>min</th>\n",
       "      <td>0.000000</td>\n",
       "      <td>0.000000</td>\n",
       "      <td>2.000000</td>\n",
       "      <td>0.000000</td>\n",
       "      <td>0.000000</td>\n",
       "    </tr>\n",
       "    <tr>\n",
       "      <th>25%</th>\n",
       "      <td>0.288552</td>\n",
       "      <td>0.236674</td>\n",
       "      <td>3.600000</td>\n",
       "      <td>0.020560</td>\n",
       "      <td>0.112903</td>\n",
       "    </tr>\n",
       "    <tr>\n",
       "      <th>50%</th>\n",
       "      <td>0.586293</td>\n",
       "      <td>0.412935</td>\n",
       "      <td>3.800000</td>\n",
       "      <td>0.065580</td>\n",
       "      <td>0.173387</td>\n",
       "    </tr>\n",
       "    <tr>\n",
       "      <th>75%</th>\n",
       "      <td>0.777999</td>\n",
       "      <td>0.712864</td>\n",
       "      <td>4.000000</td>\n",
       "      <td>0.144630</td>\n",
       "      <td>0.274194</td>\n",
       "    </tr>\n",
       "    <tr>\n",
       "      <th>max</th>\n",
       "      <td>1.000000</td>\n",
       "      <td>1.000000</td>\n",
       "      <td>4.900000</td>\n",
       "      <td>1.000000</td>\n",
       "      <td>1.000000</td>\n",
       "    </tr>\n",
       "  </tbody>\n",
       "</table>\n",
       "</div>"
      ],
      "text/plain": [
       "           CUISINES      LOCALITY        RATING         VOTES          COST\n",
       "count  12173.000000  12173.000000  12173.000000  12173.000000  12173.000000\n",
       "mean       0.538872      0.462189      3.770615      0.120702      0.230612\n",
       "std        0.289956      0.282903      0.396228      0.155029      0.179751\n",
       "min        0.000000      0.000000      2.000000      0.000000      0.000000\n",
       "25%        0.288552      0.236674      3.600000      0.020560      0.112903\n",
       "50%        0.586293      0.412935      3.800000      0.065580      0.173387\n",
       "75%        0.777999      0.712864      4.000000      0.144630      0.274194\n",
       "max        1.000000      1.000000      4.900000      1.000000      1.000000"
      ]
     },
     "execution_count": 49,
     "metadata": {},
     "output_type": "execute_result"
    }
   ],
   "source": [
    "df.describe()"
   ]
  },
  {
   "cell_type": "code",
   "execution_count": 50,
   "metadata": {},
   "outputs": [
    {
     "data": {
      "text/html": [
       "<div>\n",
       "<style scoped>\n",
       "    .dataframe tbody tr th:only-of-type {\n",
       "        vertical-align: middle;\n",
       "    }\n",
       "\n",
       "    .dataframe tbody tr th {\n",
       "        vertical-align: top;\n",
       "    }\n",
       "\n",
       "    .dataframe thead th {\n",
       "        text-align: right;\n",
       "    }\n",
       "</style>\n",
       "<table border=\"1\" class=\"dataframe\">\n",
       "  <thead>\n",
       "    <tr style=\"text-align: right;\">\n",
       "      <th></th>\n",
       "      <th>CUISINES</th>\n",
       "      <th>LOCALITY</th>\n",
       "      <th>RATING</th>\n",
       "      <th>VOTES</th>\n",
       "      <th>COST</th>\n",
       "    </tr>\n",
       "  </thead>\n",
       "  <tbody>\n",
       "    <tr>\n",
       "      <th>CUISINES</th>\n",
       "      <td>1.000000</td>\n",
       "      <td>0.015704</td>\n",
       "      <td>-0.063241</td>\n",
       "      <td>-0.025141</td>\n",
       "      <td>-0.029814</td>\n",
       "    </tr>\n",
       "    <tr>\n",
       "      <th>LOCALITY</th>\n",
       "      <td>0.015704</td>\n",
       "      <td>1.000000</td>\n",
       "      <td>-0.025436</td>\n",
       "      <td>-0.041800</td>\n",
       "      <td>-0.016544</td>\n",
       "    </tr>\n",
       "    <tr>\n",
       "      <th>RATING</th>\n",
       "      <td>-0.063241</td>\n",
       "      <td>-0.025436</td>\n",
       "      <td>1.000000</td>\n",
       "      <td>0.432145</td>\n",
       "      <td>0.319969</td>\n",
       "    </tr>\n",
       "    <tr>\n",
       "      <th>VOTES</th>\n",
       "      <td>-0.025141</td>\n",
       "      <td>-0.041800</td>\n",
       "      <td>0.432145</td>\n",
       "      <td>1.000000</td>\n",
       "      <td>0.369390</td>\n",
       "    </tr>\n",
       "    <tr>\n",
       "      <th>COST</th>\n",
       "      <td>-0.029814</td>\n",
       "      <td>-0.016544</td>\n",
       "      <td>0.319969</td>\n",
       "      <td>0.369390</td>\n",
       "      <td>1.000000</td>\n",
       "    </tr>\n",
       "  </tbody>\n",
       "</table>\n",
       "</div>"
      ],
      "text/plain": [
       "          CUISINES  LOCALITY    RATING     VOTES      COST\n",
       "CUISINES  1.000000  0.015704 -0.063241 -0.025141 -0.029814\n",
       "LOCALITY  0.015704  1.000000 -0.025436 -0.041800 -0.016544\n",
       "RATING   -0.063241 -0.025436  1.000000  0.432145  0.319969\n",
       "VOTES    -0.025141 -0.041800  0.432145  1.000000  0.369390\n",
       "COST     -0.029814 -0.016544  0.319969  0.369390  1.000000"
      ]
     },
     "execution_count": 50,
     "metadata": {},
     "output_type": "execute_result"
    }
   ],
   "source": [
    "#Let's find out the correlation matrix\n",
    "\n",
    "corr = df.corr()\n",
    "corr"
   ]
  },
  {
   "cell_type": "code",
   "execution_count": 51,
   "metadata": {},
   "outputs": [
    {
     "data": {
      "text/plain": [
       "<matplotlib.axes._subplots.AxesSubplot at 0x278dbc6f0a0>"
      ]
     },
     "execution_count": 51,
     "metadata": {},
     "output_type": "execute_result"
    },
    {
     "data": {
      "image/png": "[encoded data removed]",
      "text/plain": [
       "<Figure size 432x288 with 2 Axes>"
      ]
     },
     "metadata": {
      "needs_background": "light"
     },
     "output_type": "display_data"
    }
   ],
   "source": [
    "sns.heatmap(corr, annot=True)"
   ]
  },
  {
   "cell_type": "code",
   "execution_count": 52,
   "metadata": {},
   "outputs": [],
   "source": [
    "from sklearn.model_selection import train_test_split, cross_val_score, GridSearchCV, RandomizedSearchCV\n",
    "X = df.drop(\"COST\",1)\n",
    "Y = df['COST']\n",
    "X_train, X_test, y_train, y_test = train_test_split(X, Y, test_size=0.25, random_state=7)"
   ]
  },
  {
   "cell_type": "code",
   "execution_count": 53,
   "metadata": {},
   "outputs": [],
   "source": [
    "#Models Import\n",
    "import sklearn\n",
    "from sklearn.linear_model import LinearRegression, Ridge, Lasso\n",
    "from sklearn.model_selection import train_test_split, cross_val_score, GridSearchCV, RandomizedSearchCV\n",
    "from sklearn.tree import DecisionTreeRegressor\n",
    "from sklearn.ensemble import RandomForestRegressor, ExtraTreesRegressor, GradientBoostingRegressor\n",
    "\n",
    "#Metrics Import\n",
    "from sklearn.metrics import mean_absolute_error, mean_squared_error, r2_score"
   ]
  },
  {
   "cell_type": "code",
   "execution_count": 54,
   "metadata": {},
   "outputs": [],
   "source": [
    "def classify(model, x, y):\n",
    "    # Model training\n",
    "    model.fit(x, y)\n",
    "    pred = model.predict(x)\n",
    "    print(\"MSE is:\",mean_squared_error(y,pred))\n",
    "    #Cross validation\n",
    "    score = cross_val_score(model, x,y, cv=5)\n",
    "    print(\"Cross validation score is :\",(np.mean(score)))\n",
    "    return np.abs(np.mean(score))"
   ]
  },
  {
   "cell_type": "code",
   "execution_count": 55,
   "metadata": {},
   "outputs": [],
   "source": [
    "#Regression\n",
    "lm = LinearRegression()\n",
    "rr = Ridge()\n",
    "ls = Lasso()\n",
    "dtr = DecisionTreeRegressor()\n",
    "rfr = RandomForestRegressor()\n",
    "etr = ExtraTreesRegressor()\n",
    "gbr = GradientBoostingRegressor()\n",
    "\n",
    "#Regression Parameters\n",
    "rrparams = {'alpha' : [0.0001, 0.001, 0.01, 0.1, 1.0], 'random_state': range(70,150)}\n",
    "lsparams = {'alpha' : [0.0001, 0.001, 0.01, 0.1, 1.0], 'random_state': range(70,150)}\n",
    "dtrparams = {'criterion' : ['mse', 'friedman_mse', 'mae', 'poisson'], 'min_samples_split' : range(10),\n",
    "            'random_state' : range(70,150)}\n",
    "rfrparams = {'criterion' : ['mse', 'friedman_mse', 'mae', 'poisson'], 'n_estimators' : range(50,80),\n",
    "             'random_state' : range(70,150)}\n",
    "etrparams = {'criterion' : ['mse', 'friedman_mse', 'mae'], 'min_samples_split' : range(10),\n",
    "            'random_state' : range(70,150)}\n",
    "gbrparams = {'loss' : ['ls', 'lad', 'huber', 'quantile'], 'n_estimators' : range(50,80),\n",
    "             'criterion' : ['mse', 'friedman_mse', 'mae'], 'random_state' : range(70,150)}"
   ]
  },
  {
   "cell_type": "code",
   "execution_count": 56,
   "metadata": {},
   "outputs": [],
   "source": [
    "def rstate(model, X, Y):\n",
    "    mse = []\n",
    "    for i in range(1,201):\n",
    "        X_train, X_test, y_train, y_test = train_test_split(X,Y,test_size=.3, random_state=i)\n",
    "        model.fit(X_train, y_train)\n",
    "        pred = model.predict(X_test)\n",
    "        #print(mean_squared_error(y_test, pred))\n",
    "        #print(np.sqrt(mean_squared_error(y_test, pred)))\n",
    "        #print(mean_absolute_error(y_test, pred))\n",
    "        #print(r2_score(y_test, pred))\n",
    "        mse.append(mean_squared_error(y_test, pred))\n",
    "    return mse.index(min(mse))+1"
   ]
  },
  {
   "cell_type": "code",
   "execution_count": 57,
   "metadata": {},
   "outputs": [
    {
     "name": "stdout",
     "output_type": "stream",
     "text": [
      "Linear Model best random state is:  189\n"
     ]
    }
   ],
   "source": [
    "lmRS = rstate(lm, X, Y)\n",
    "print(\"Linear Model best random state is: \",lmRS)"
   ]
  },
  {
   "cell_type": "code",
   "execution_count": 58,
   "metadata": {},
   "outputs": [],
   "source": [
    "model_score_table = pd.DataFrame(columns=['Model Name','Params', 'MSE Score', 'R2 Score'])"
   ]
  },
  {
   "cell_type": "code",
   "execution_count": 59,
   "metadata": {},
   "outputs": [
    {
     "name": "stdout",
     "output_type": "stream",
     "text": [
      "0.024655548916142963\n",
      "0.1685875073070211\n"
     ]
    }
   ],
   "source": [
    "X_train, X_test, y_train, y_test = train_test_split(X,Y,test_size=.3, random_state=lmRS)\n",
    "lm.fit(X_train, y_train)\n",
    "pred = lm.predict(X_test)\n",
    "print(mean_squared_error(y_test, pred))\n",
    "print(r2_score(y_test, pred))"
   ]
  },
  {
   "cell_type": "code",
   "execution_count": 60,
   "metadata": {},
   "outputs": [
    {
     "data": {
      "text/html": [
       "<div>\n",
       "<style scoped>\n",
       "    .dataframe tbody tr th:only-of-type {\n",
       "        vertical-align: middle;\n",
       "    }\n",
       "\n",
       "    .dataframe tbody tr th {\n",
       "        vertical-align: top;\n",
       "    }\n",
       "\n",
       "    .dataframe thead th {\n",
       "        text-align: right;\n",
       "    }\n",
       "</style>\n",
       "<table border=\"1\" class=\"dataframe\">\n",
       "  <thead>\n",
       "    <tr style=\"text-align: right;\">\n",
       "      <th></th>\n",
       "      <th>Model Name</th>\n",
       "      <th>Params</th>\n",
       "      <th>MSE Score</th>\n",
       "      <th>R2 Score</th>\n",
       "    </tr>\n",
       "  </thead>\n",
       "  <tbody>\n",
       "    <tr>\n",
       "      <th>0</th>\n",
       "      <td>Linear Regression</td>\n",
       "      <td></td>\n",
       "      <td>0.024656</td>\n",
       "      <td>0.168588</td>\n",
       "    </tr>\n",
       "  </tbody>\n",
       "</table>\n",
       "</div>"
      ],
      "text/plain": [
       "          Model Name Params  MSE Score  R2 Score\n",
       "0  Linear Regression          0.024656  0.168588"
      ]
     },
     "execution_count": 60,
     "metadata": {},
     "output_type": "execute_result"
    }
   ],
   "source": [
    "model_score_table.loc[0] = [\"Linear Regression\", '', mean_squared_error(y_test, pred), r2_score(y_test, pred)]\n",
    "model_score_table"
   ]
  },
  {
   "cell_type": "code",
   "execution_count": 61,
   "metadata": {},
   "outputs": [
    {
     "data": {
      "text/html": [
       "<div>\n",
       "<style scoped>\n",
       "    .dataframe tbody tr th:only-of-type {\n",
       "        vertical-align: middle;\n",
       "    }\n",
       "\n",
       "    .dataframe tbody tr th {\n",
       "        vertical-align: top;\n",
       "    }\n",
       "\n",
       "    .dataframe thead th {\n",
       "        text-align: right;\n",
       "    }\n",
       "</style>\n",
       "<table border=\"1\" class=\"dataframe\">\n",
       "  <thead>\n",
       "    <tr style=\"text-align: right;\">\n",
       "      <th></th>\n",
       "      <th>params</th>\n",
       "      <th>mean_test_neg_mean_squared_error</th>\n",
       "      <th>rank_test_neg_mean_squared_error</th>\n",
       "      <th>mean_test_r2</th>\n",
       "      <th>rank_test_r2</th>\n",
       "    </tr>\n",
       "  </thead>\n",
       "  <tbody>\n",
       "    <tr>\n",
       "      <th>23</th>\n",
       "      <td>{'random_state': 82, 'alpha': 1.0}</td>\n",
       "      <td>-0.026907</td>\n",
       "      <td>82</td>\n",
       "      <td>0.166374</td>\n",
       "      <td>1</td>\n",
       "    </tr>\n",
       "    <tr>\n",
       "      <th>26</th>\n",
       "      <td>{'random_state': 97, 'alpha': 1.0}</td>\n",
       "      <td>-0.026907</td>\n",
       "      <td>82</td>\n",
       "      <td>0.166374</td>\n",
       "      <td>1</td>\n",
       "    </tr>\n",
       "    <tr>\n",
       "      <th>24</th>\n",
       "      <td>{'random_state': 74, 'alpha': 1.0}</td>\n",
       "      <td>-0.026907</td>\n",
       "      <td>82</td>\n",
       "      <td>0.166374</td>\n",
       "      <td>1</td>\n",
       "    </tr>\n",
       "    <tr>\n",
       "      <th>27</th>\n",
       "      <td>{'random_state': 145, 'alpha': 1.0}</td>\n",
       "      <td>-0.026907</td>\n",
       "      <td>82</td>\n",
       "      <td>0.166374</td>\n",
       "      <td>1</td>\n",
       "    </tr>\n",
       "    <tr>\n",
       "      <th>81</th>\n",
       "      <td>{'random_state': 92, 'alpha': 1.0}</td>\n",
       "      <td>-0.026907</td>\n",
       "      <td>82</td>\n",
       "      <td>0.166374</td>\n",
       "      <td>1</td>\n",
       "    </tr>\n",
       "    <tr>\n",
       "      <th>...</th>\n",
       "      <td>...</td>\n",
       "      <td>...</td>\n",
       "      <td>...</td>\n",
       "      <td>...</td>\n",
       "      <td>...</td>\n",
       "    </tr>\n",
       "    <tr>\n",
       "      <th>56</th>\n",
       "      <td>{'random_state': 114, 'alpha': 0.0001}</td>\n",
       "      <td>-0.026907</td>\n",
       "      <td>64</td>\n",
       "      <td>0.166373</td>\n",
       "      <td>83</td>\n",
       "    </tr>\n",
       "    <tr>\n",
       "      <th>54</th>\n",
       "      <td>{'random_state': 81, 'alpha': 0.0001}</td>\n",
       "      <td>-0.026907</td>\n",
       "      <td>64</td>\n",
       "      <td>0.166373</td>\n",
       "      <td>83</td>\n",
       "    </tr>\n",
       "    <tr>\n",
       "      <th>45</th>\n",
       "      <td>{'random_state': 138, 'alpha': 0.0001}</td>\n",
       "      <td>-0.026907</td>\n",
       "      <td>64</td>\n",
       "      <td>0.166373</td>\n",
       "      <td>83</td>\n",
       "    </tr>\n",
       "    <tr>\n",
       "      <th>1</th>\n",
       "      <td>{'random_state': 70, 'alpha': 0.0001}</td>\n",
       "      <td>-0.026907</td>\n",
       "      <td>64</td>\n",
       "      <td>0.166373</td>\n",
       "      <td>83</td>\n",
       "    </tr>\n",
       "    <tr>\n",
       "      <th>35</th>\n",
       "      <td>{'random_state': 74, 'alpha': 0.0001}</td>\n",
       "      <td>-0.026907</td>\n",
       "      <td>64</td>\n",
       "      <td>0.166373</td>\n",
       "      <td>83</td>\n",
       "    </tr>\n",
       "  </tbody>\n",
       "</table>\n",
       "<p>100 rows × 5 columns</p>\n",
       "</div>"
      ],
      "text/plain": [
       "                                    params  mean_test_neg_mean_squared_error  \\\n",
       "23      {'random_state': 82, 'alpha': 1.0}                         -0.026907   \n",
       "26      {'random_state': 97, 'alpha': 1.0}                         -0.026907   \n",
       "24      {'random_state': 74, 'alpha': 1.0}                         -0.026907   \n",
       "27     {'random_state': 145, 'alpha': 1.0}                         -0.026907   \n",
       "81      {'random_state': 92, 'alpha': 1.0}                         -0.026907   \n",
       "..                                     ...                               ...   \n",
       "56  {'random_state': 114, 'alpha': 0.0001}                         -0.026907   \n",
       "54   {'random_state': 81, 'alpha': 0.0001}                         -0.026907   \n",
       "45  {'random_state': 138, 'alpha': 0.0001}                         -0.026907   \n",
       "1    {'random_state': 70, 'alpha': 0.0001}                         -0.026907   \n",
       "35   {'random_state': 74, 'alpha': 0.0001}                         -0.026907   \n",
       "\n",
       "    rank_test_neg_mean_squared_error  mean_test_r2  rank_test_r2  \n",
       "23                                82      0.166374             1  \n",
       "26                                82      0.166374             1  \n",
       "24                                82      0.166374             1  \n",
       "27                                82      0.166374             1  \n",
       "81                                82      0.166374             1  \n",
       "..                               ...           ...           ...  \n",
       "56                                64      0.166373            83  \n",
       "54                                64      0.166373            83  \n",
       "45                                64      0.166373            83  \n",
       "1                                 64      0.166373            83  \n",
       "35                                64      0.166373            83  \n",
       "\n",
       "[100 rows x 5 columns]"
      ]
     },
     "execution_count": 61,
     "metadata": {},
     "output_type": "execute_result"
    }
   ],
   "source": [
    "rrgs = RandomizedSearchCV(rr, rrparams, return_train_score = False, n_iter=100, cv = 5, scoring=['neg_mean_squared_error', 'r2'], refit='neg_mean_squared_error')\n",
    "rrgs.fit(X, Y)\n",
    "rrDF = pd.DataFrame(rrgs.cv_results_)\n",
    "rrDF[['params', 'mean_test_neg_mean_squared_error', 'rank_test_neg_mean_squared_error', 'mean_test_r2', 'rank_test_r2']].sort_values(by='mean_test_r2', ascending=False)"
   ]
  },
  {
   "cell_type": "code",
   "execution_count": 62,
   "metadata": {},
   "outputs": [
    {
     "data": {
      "text/html": [
       "<div>\n",
       "<style scoped>\n",
       "    .dataframe tbody tr th:only-of-type {\n",
       "        vertical-align: middle;\n",
       "    }\n",
       "\n",
       "    .dataframe tbody tr th {\n",
       "        vertical-align: top;\n",
       "    }\n",
       "\n",
       "    .dataframe thead th {\n",
       "        text-align: right;\n",
       "    }\n",
       "</style>\n",
       "<table border=\"1\" class=\"dataframe\">\n",
       "  <thead>\n",
       "    <tr style=\"text-align: right;\">\n",
       "      <th></th>\n",
       "      <th>Model Name</th>\n",
       "      <th>Params</th>\n",
       "      <th>MSE Score</th>\n",
       "      <th>R2 Score</th>\n",
       "    </tr>\n",
       "  </thead>\n",
       "  <tbody>\n",
       "    <tr>\n",
       "      <th>0</th>\n",
       "      <td>Linear Regression</td>\n",
       "      <td></td>\n",
       "      <td>0.024656</td>\n",
       "      <td>0.168588</td>\n",
       "    </tr>\n",
       "    <tr>\n",
       "      <th>1</th>\n",
       "      <td>Ridge Regressor</td>\n",
       "      <td>{'random_state': 74, 'alpha': 0.1}</td>\n",
       "      <td>-0.026907</td>\n",
       "      <td>0.166374</td>\n",
       "    </tr>\n",
       "  </tbody>\n",
       "</table>\n",
       "</div>"
      ],
      "text/plain": [
       "          Model Name                              Params  MSE Score  R2 Score\n",
       "0  Linear Regression                                       0.024656  0.168588\n",
       "1    Ridge Regressor  {'random_state': 74, 'alpha': 0.1}  -0.026907  0.166374"
      ]
     },
     "execution_count": 62,
     "metadata": {},
     "output_type": "execute_result"
    }
   ],
   "source": [
    "i = list(rrDF['mean_test_neg_mean_squared_error']).index(rrDF['mean_test_neg_mean_squared_error'].max())\n",
    "model_score_table.loc[1] = [\"Ridge Regressor\", rrDF['params'][i], rrDF['mean_test_neg_mean_squared_error'][i], rrDF['mean_test_r2'][i]]\n",
    "model_score_table"
   ]
  },
  {
   "cell_type": "code",
   "execution_count": 63,
   "metadata": {},
   "outputs": [
    {
     "data": {
      "text/html": [
       "<div>\n",
       "<style scoped>\n",
       "    .dataframe tbody tr th:only-of-type {\n",
       "        vertical-align: middle;\n",
       "    }\n",
       "\n",
       "    .dataframe tbody tr th {\n",
       "        vertical-align: top;\n",
       "    }\n",
       "\n",
       "    .dataframe thead th {\n",
       "        text-align: right;\n",
       "    }\n",
       "</style>\n",
       "<table border=\"1\" class=\"dataframe\">\n",
       "  <thead>\n",
       "    <tr style=\"text-align: right;\">\n",
       "      <th></th>\n",
       "      <th>params</th>\n",
       "      <th>mean_test_neg_mean_squared_error</th>\n",
       "      <th>rank_test_neg_mean_squared_error</th>\n",
       "      <th>mean_test_r2</th>\n",
       "      <th>rank_test_r2</th>\n",
       "    </tr>\n",
       "  </thead>\n",
       "  <tbody>\n",
       "    <tr>\n",
       "      <th>24</th>\n",
       "      <td>{'random_state': 77, 'alpha': 0.0001}</td>\n",
       "      <td>-0.026906</td>\n",
       "      <td>1</td>\n",
       "      <td>0.166406</td>\n",
       "      <td>1</td>\n",
       "    </tr>\n",
       "    <tr>\n",
       "      <th>81</th>\n",
       "      <td>{'random_state': 143, 'alpha': 0.0001}</td>\n",
       "      <td>-0.026906</td>\n",
       "      <td>1</td>\n",
       "      <td>0.166406</td>\n",
       "      <td>1</td>\n",
       "    </tr>\n",
       "    <tr>\n",
       "      <th>47</th>\n",
       "      <td>{'random_state': 138, 'alpha': 0.0001}</td>\n",
       "      <td>-0.026906</td>\n",
       "      <td>1</td>\n",
       "      <td>0.166406</td>\n",
       "      <td>1</td>\n",
       "    </tr>\n",
       "    <tr>\n",
       "      <th>55</th>\n",
       "      <td>{'random_state': 80, 'alpha': 0.0001}</td>\n",
       "      <td>-0.026906</td>\n",
       "      <td>1</td>\n",
       "      <td>0.166406</td>\n",
       "      <td>1</td>\n",
       "    </tr>\n",
       "    <tr>\n",
       "      <th>42</th>\n",
       "      <td>{'random_state': 111, 'alpha': 0.0001}</td>\n",
       "      <td>-0.026906</td>\n",
       "      <td>1</td>\n",
       "      <td>0.166406</td>\n",
       "      <td>1</td>\n",
       "    </tr>\n",
       "    <tr>\n",
       "      <th>...</th>\n",
       "      <td>...</td>\n",
       "      <td>...</td>\n",
       "      <td>...</td>\n",
       "      <td>...</td>\n",
       "      <td>...</td>\n",
       "    </tr>\n",
       "    <tr>\n",
       "      <th>68</th>\n",
       "      <td>{'random_state': 144, 'alpha': 0.1}</td>\n",
       "      <td>-0.032324</td>\n",
       "      <td>61</td>\n",
       "      <td>-0.001495</td>\n",
       "      <td>61</td>\n",
       "    </tr>\n",
       "    <tr>\n",
       "      <th>70</th>\n",
       "      <td>{'random_state': 131, 'alpha': 1.0}</td>\n",
       "      <td>-0.032324</td>\n",
       "      <td>61</td>\n",
       "      <td>-0.001495</td>\n",
       "      <td>61</td>\n",
       "    </tr>\n",
       "    <tr>\n",
       "      <th>71</th>\n",
       "      <td>{'random_state': 76, 'alpha': 0.1}</td>\n",
       "      <td>-0.032324</td>\n",
       "      <td>61</td>\n",
       "      <td>-0.001495</td>\n",
       "      <td>61</td>\n",
       "    </tr>\n",
       "    <tr>\n",
       "      <th>72</th>\n",
       "      <td>{'random_state': 149, 'alpha': 0.1}</td>\n",
       "      <td>-0.032324</td>\n",
       "      <td>61</td>\n",
       "      <td>-0.001495</td>\n",
       "      <td>61</td>\n",
       "    </tr>\n",
       "    <tr>\n",
       "      <th>99</th>\n",
       "      <td>{'random_state': 83, 'alpha': 1.0}</td>\n",
       "      <td>-0.032324</td>\n",
       "      <td>61</td>\n",
       "      <td>-0.001495</td>\n",
       "      <td>61</td>\n",
       "    </tr>\n",
       "  </tbody>\n",
       "</table>\n",
       "<p>100 rows × 5 columns</p>\n",
       "</div>"
      ],
      "text/plain": [
       "                                    params  mean_test_neg_mean_squared_error  \\\n",
       "24   {'random_state': 77, 'alpha': 0.0001}                         -0.026906   \n",
       "81  {'random_state': 143, 'alpha': 0.0001}                         -0.026906   \n",
       "47  {'random_state': 138, 'alpha': 0.0001}                         -0.026906   \n",
       "55   {'random_state': 80, 'alpha': 0.0001}                         -0.026906   \n",
       "42  {'random_state': 111, 'alpha': 0.0001}                         -0.026906   \n",
       "..                                     ...                               ...   \n",
       "68     {'random_state': 144, 'alpha': 0.1}                         -0.032324   \n",
       "70     {'random_state': 131, 'alpha': 1.0}                         -0.032324   \n",
       "71      {'random_state': 76, 'alpha': 0.1}                         -0.032324   \n",
       "72     {'random_state': 149, 'alpha': 0.1}                         -0.032324   \n",
       "99      {'random_state': 83, 'alpha': 1.0}                         -0.032324   \n",
       "\n",
       "    rank_test_neg_mean_squared_error  mean_test_r2  rank_test_r2  \n",
       "24                                 1      0.166406             1  \n",
       "81                                 1      0.166406             1  \n",
       "47                                 1      0.166406             1  \n",
       "55                                 1      0.166406             1  \n",
       "42                                 1      0.166406             1  \n",
       "..                               ...           ...           ...  \n",
       "68                                61     -0.001495            61  \n",
       "70                                61     -0.001495            61  \n",
       "71                                61     -0.001495            61  \n",
       "72                                61     -0.001495            61  \n",
       "99                                61     -0.001495            61  \n",
       "\n",
       "[100 rows x 5 columns]"
      ]
     },
     "execution_count": 63,
     "metadata": {},
     "output_type": "execute_result"
    }
   ],
   "source": [
    "lsgs = RandomizedSearchCV(ls, lsparams,return_train_score = False, n_iter=100, cv = 5, scoring=['neg_mean_squared_error', 'r2'], refit='neg_mean_squared_error')\n",
    "lsgs.fit(X, Y)\n",
    "lsDF = pd.DataFrame(lsgs.cv_results_)\n",
    "lsDF[['params', 'mean_test_neg_mean_squared_error', 'rank_test_neg_mean_squared_error', 'mean_test_r2', 'rank_test_r2']].sort_values(by='mean_test_r2', ascending=False)"
   ]
  },
  {
   "cell_type": "code",
   "execution_count": 64,
   "metadata": {},
   "outputs": [
    {
     "data": {
      "text/html": [
       "<div>\n",
       "<style scoped>\n",
       "    .dataframe tbody tr th:only-of-type {\n",
       "        vertical-align: middle;\n",
       "    }\n",
       "\n",
       "    .dataframe tbody tr th {\n",
       "        vertical-align: top;\n",
       "    }\n",
       "\n",
       "    .dataframe thead th {\n",
       "        text-align: right;\n",
       "    }\n",
       "</style>\n",
       "<table border=\"1\" class=\"dataframe\">\n",
       "  <thead>\n",
       "    <tr style=\"text-align: right;\">\n",
       "      <th></th>\n",
       "      <th>Model Name</th>\n",
       "      <th>Params</th>\n",
       "      <th>MSE Score</th>\n",
       "      <th>R2 Score</th>\n",
       "    </tr>\n",
       "  </thead>\n",
       "  <tbody>\n",
       "    <tr>\n",
       "      <th>0</th>\n",
       "      <td>Linear Regression</td>\n",
       "      <td></td>\n",
       "      <td>0.024656</td>\n",
       "      <td>0.168588</td>\n",
       "    </tr>\n",
       "    <tr>\n",
       "      <th>1</th>\n",
       "      <td>Ridge Regressor</td>\n",
       "      <td>{'random_state': 74, 'alpha': 0.1}</td>\n",
       "      <td>-0.026907</td>\n",
       "      <td>0.166374</td>\n",
       "    </tr>\n",
       "    <tr>\n",
       "      <th>2</th>\n",
       "      <td>Lasso Regressor</td>\n",
       "      <td>{'random_state': 132, 'alpha': 0.0001}</td>\n",
       "      <td>-0.026906</td>\n",
       "      <td>0.166406</td>\n",
       "    </tr>\n",
       "  </tbody>\n",
       "</table>\n",
       "</div>"
      ],
      "text/plain": [
       "          Model Name                                  Params  MSE Score  \\\n",
       "0  Linear Regression                                           0.024656   \n",
       "1    Ridge Regressor      {'random_state': 74, 'alpha': 0.1}  -0.026907   \n",
       "2    Lasso Regressor  {'random_state': 132, 'alpha': 0.0001}  -0.026906   \n",
       "\n",
       "   R2 Score  \n",
       "0  0.168588  \n",
       "1  0.166374  \n",
       "2  0.166406  "
      ]
     },
     "execution_count": 64,
     "metadata": {},
     "output_type": "execute_result"
    }
   ],
   "source": [
    "i = list(lsDF['mean_test_neg_mean_squared_error']).index(lsDF['mean_test_neg_mean_squared_error'].max())\n",
    "model_score_table.loc[2] = [\"Lasso Regressor\", lsDF['params'][i], lsDF['mean_test_neg_mean_squared_error'][i], lsDF['mean_test_r2'][i]]\n",
    "model_score_table"
   ]
  },
  {
   "cell_type": "code",
   "execution_count": 65,
   "metadata": {},
   "outputs": [
    {
     "data": {
      "text/html": [
       "<div>\n",
       "<style scoped>\n",
       "    .dataframe tbody tr th:only-of-type {\n",
       "        vertical-align: middle;\n",
       "    }\n",
       "\n",
       "    .dataframe tbody tr th {\n",
       "        vertical-align: top;\n",
       "    }\n",
       "\n",
       "    .dataframe thead th {\n",
       "        text-align: right;\n",
       "    }\n",
       "</style>\n",
       "<table border=\"1\" class=\"dataframe\">\n",
       "  <thead>\n",
       "    <tr style=\"text-align: right;\">\n",
       "      <th></th>\n",
       "      <th>params</th>\n",
       "      <th>mean_test_neg_mean_squared_error</th>\n",
       "      <th>rank_test_neg_mean_squared_error</th>\n",
       "      <th>mean_test_r2</th>\n",
       "      <th>rank_test_r2</th>\n",
       "    </tr>\n",
       "  </thead>\n",
       "  <tbody>\n",
       "    <tr>\n",
       "      <th>41</th>\n",
       "      <td>{'random_state': 143, 'min_samples_split': 9, ...</td>\n",
       "      <td>-0.028089</td>\n",
       "      <td>1</td>\n",
       "      <td>0.128567</td>\n",
       "      <td>1</td>\n",
       "    </tr>\n",
       "    <tr>\n",
       "      <th>21</th>\n",
       "      <td>{'random_state': 138, 'min_samples_split': 9, ...</td>\n",
       "      <td>-0.028128</td>\n",
       "      <td>2</td>\n",
       "      <td>0.127094</td>\n",
       "      <td>2</td>\n",
       "    </tr>\n",
       "    <tr>\n",
       "      <th>70</th>\n",
       "      <td>{'random_state': 92, 'min_samples_split': 9, '...</td>\n",
       "      <td>-0.028136</td>\n",
       "      <td>3</td>\n",
       "      <td>0.127087</td>\n",
       "      <td>3</td>\n",
       "    </tr>\n",
       "    <tr>\n",
       "      <th>96</th>\n",
       "      <td>{'random_state': 121, 'min_samples_split': 9, ...</td>\n",
       "      <td>-0.028140</td>\n",
       "      <td>4</td>\n",
       "      <td>0.126906</td>\n",
       "      <td>4</td>\n",
       "    </tr>\n",
       "    <tr>\n",
       "      <th>56</th>\n",
       "      <td>{'random_state': 135, 'min_samples_split': 9, ...</td>\n",
       "      <td>-0.028177</td>\n",
       "      <td>5</td>\n",
       "      <td>0.125565</td>\n",
       "      <td>5</td>\n",
       "    </tr>\n",
       "    <tr>\n",
       "      <th>...</th>\n",
       "      <td>...</td>\n",
       "      <td>...</td>\n",
       "      <td>...</td>\n",
       "      <td>...</td>\n",
       "      <td>...</td>\n",
       "    </tr>\n",
       "    <tr>\n",
       "      <th>89</th>\n",
       "      <td>{'random_state': 138, 'min_samples_split': 0, ...</td>\n",
       "      <td>NaN</td>\n",
       "      <td>71</td>\n",
       "      <td>NaN</td>\n",
       "      <td>71</td>\n",
       "    </tr>\n",
       "    <tr>\n",
       "      <th>90</th>\n",
       "      <td>{'random_state': 107, 'min_samples_split': 0, ...</td>\n",
       "      <td>NaN</td>\n",
       "      <td>73</td>\n",
       "      <td>NaN</td>\n",
       "      <td>73</td>\n",
       "    </tr>\n",
       "    <tr>\n",
       "      <th>92</th>\n",
       "      <td>{'random_state': 138, 'min_samples_split': 1, ...</td>\n",
       "      <td>NaN</td>\n",
       "      <td>74</td>\n",
       "      <td>NaN</td>\n",
       "      <td>74</td>\n",
       "    </tr>\n",
       "    <tr>\n",
       "      <th>93</th>\n",
       "      <td>{'random_state': 117, 'min_samples_split': 7, ...</td>\n",
       "      <td>NaN</td>\n",
       "      <td>75</td>\n",
       "      <td>NaN</td>\n",
       "      <td>75</td>\n",
       "    </tr>\n",
       "    <tr>\n",
       "      <th>99</th>\n",
       "      <td>{'random_state': 126, 'min_samples_split': 0, ...</td>\n",
       "      <td>NaN</td>\n",
       "      <td>100</td>\n",
       "      <td>NaN</td>\n",
       "      <td>100</td>\n",
       "    </tr>\n",
       "  </tbody>\n",
       "</table>\n",
       "<p>100 rows × 5 columns</p>\n",
       "</div>"
      ],
      "text/plain": [
       "                                               params  \\\n",
       "41  {'random_state': 143, 'min_samples_split': 9, ...   \n",
       "21  {'random_state': 138, 'min_samples_split': 9, ...   \n",
       "70  {'random_state': 92, 'min_samples_split': 9, '...   \n",
       "96  {'random_state': 121, 'min_samples_split': 9, ...   \n",
       "56  {'random_state': 135, 'min_samples_split': 9, ...   \n",
       "..                                                ...   \n",
       "89  {'random_state': 138, 'min_samples_split': 0, ...   \n",
       "90  {'random_state': 107, 'min_samples_split': 0, ...   \n",
       "92  {'random_state': 138, 'min_samples_split': 1, ...   \n",
       "93  {'random_state': 117, 'min_samples_split': 7, ...   \n",
       "99  {'random_state': 126, 'min_samples_split': 0, ...   \n",
       "\n",
       "    mean_test_neg_mean_squared_error  rank_test_neg_mean_squared_error  \\\n",
       "41                         -0.028089                                 1   \n",
       "21                         -0.028128                                 2   \n",
       "70                         -0.028136                                 3   \n",
       "96                         -0.028140                                 4   \n",
       "56                         -0.028177                                 5   \n",
       "..                               ...                               ...   \n",
       "89                               NaN                                71   \n",
       "90                               NaN                                73   \n",
       "92                               NaN                                74   \n",
       "93                               NaN                                75   \n",
       "99                               NaN                               100   \n",
       "\n",
       "    mean_test_r2  rank_test_r2  \n",
       "41      0.128567             1  \n",
       "21      0.127094             2  \n",
       "70      0.127087             3  \n",
       "96      0.126906             4  \n",
       "56      0.125565             5  \n",
       "..           ...           ...  \n",
       "89           NaN            71  \n",
       "90           NaN            73  \n",
       "92           NaN            74  \n",
       "93           NaN            75  \n",
       "99           NaN           100  \n",
       "\n",
       "[100 rows x 5 columns]"
      ]
     },
     "execution_count": 65,
     "metadata": {},
     "output_type": "execute_result"
    }
   ],
   "source": [
    "dtrgs = RandomizedSearchCV(dtr, dtrparams,return_train_score = False, n_iter=100, cv = 5, scoring=['neg_mean_squared_error', 'r2'], refit='neg_mean_squared_error')\n",
    "dtrgs.fit(X, Y)\n",
    "dtrDF = pd.DataFrame(dtrgs.cv_results_)\n",
    "dtrDF[['params', 'mean_test_neg_mean_squared_error', 'rank_test_neg_mean_squared_error', 'mean_test_r2', 'rank_test_r2']].sort_values(by='mean_test_r2', ascending=False)"
   ]
  },
  {
   "cell_type": "code",
   "execution_count": 66,
   "metadata": {},
   "outputs": [
    {
     "data": {
      "text/html": [
       "<div>\n",
       "<style scoped>\n",
       "    .dataframe tbody tr th:only-of-type {\n",
       "        vertical-align: middle;\n",
       "    }\n",
       "\n",
       "    .dataframe tbody tr th {\n",
       "        vertical-align: top;\n",
       "    }\n",
       "\n",
       "    .dataframe thead th {\n",
       "        text-align: right;\n",
       "    }\n",
       "</style>\n",
       "<table border=\"1\" class=\"dataframe\">\n",
       "  <thead>\n",
       "    <tr style=\"text-align: right;\">\n",
       "      <th></th>\n",
       "      <th>Model Name</th>\n",
       "      <th>Params</th>\n",
       "      <th>MSE Score</th>\n",
       "      <th>R2 Score</th>\n",
       "    </tr>\n",
       "  </thead>\n",
       "  <tbody>\n",
       "    <tr>\n",
       "      <th>0</th>\n",
       "      <td>Linear Regression</td>\n",
       "      <td></td>\n",
       "      <td>0.024656</td>\n",
       "      <td>0.168588</td>\n",
       "    </tr>\n",
       "    <tr>\n",
       "      <th>1</th>\n",
       "      <td>Ridge Regressor</td>\n",
       "      <td>{'random_state': 74, 'alpha': 0.1}</td>\n",
       "      <td>-0.026907</td>\n",
       "      <td>0.166374</td>\n",
       "    </tr>\n",
       "    <tr>\n",
       "      <th>2</th>\n",
       "      <td>Lasso Regressor</td>\n",
       "      <td>{'random_state': 132, 'alpha': 0.0001}</td>\n",
       "      <td>-0.026906</td>\n",
       "      <td>0.166406</td>\n",
       "    </tr>\n",
       "    <tr>\n",
       "      <th>3</th>\n",
       "      <td>Decision Tree Regressor</td>\n",
       "      <td>{'random_state': 143, 'min_samples_split': 9, ...</td>\n",
       "      <td>-0.028089</td>\n",
       "      <td>0.128567</td>\n",
       "    </tr>\n",
       "  </tbody>\n",
       "</table>\n",
       "</div>"
      ],
      "text/plain": [
       "                Model Name                                             Params  \\\n",
       "0        Linear Regression                                                      \n",
       "1          Ridge Regressor                 {'random_state': 74, 'alpha': 0.1}   \n",
       "2          Lasso Regressor             {'random_state': 132, 'alpha': 0.0001}   \n",
       "3  Decision Tree Regressor  {'random_state': 143, 'min_samples_split': 9, ...   \n",
       "\n",
       "   MSE Score  R2 Score  \n",
       "0   0.024656  0.168588  \n",
       "1  -0.026907  0.166374  \n",
       "2  -0.026906  0.166406  \n",
       "3  -0.028089  0.128567  "
      ]
     },
     "execution_count": 66,
     "metadata": {},
     "output_type": "execute_result"
    }
   ],
   "source": [
    "i = list(dtrDF['mean_test_neg_mean_squared_error']).index(dtrDF['mean_test_neg_mean_squared_error'].max())\n",
    "model_score_table.loc[3] = [\"Decision Tree Regressor\", dtrDF['params'][i], dtrDF['mean_test_neg_mean_squared_error'][i], dtrDF['mean_test_r2'][i]]\n",
    "model_score_table"
   ]
  },
  {
   "cell_type": "code",
   "execution_count": 67,
   "metadata": {},
   "outputs": [
    {
     "data": {
      "text/html": [
       "<div>\n",
       "<style scoped>\n",
       "    .dataframe tbody tr th:only-of-type {\n",
       "        vertical-align: middle;\n",
       "    }\n",
       "\n",
       "    .dataframe tbody tr th {\n",
       "        vertical-align: top;\n",
       "    }\n",
       "\n",
       "    .dataframe thead th {\n",
       "        text-align: right;\n",
       "    }\n",
       "</style>\n",
       "<table border=\"1\" class=\"dataframe\">\n",
       "  <thead>\n",
       "    <tr style=\"text-align: right;\">\n",
       "      <th></th>\n",
       "      <th>params</th>\n",
       "      <th>mean_test_neg_mean_squared_error</th>\n",
       "      <th>rank_test_neg_mean_squared_error</th>\n",
       "      <th>mean_test_r2</th>\n",
       "      <th>rank_test_r2</th>\n",
       "    </tr>\n",
       "  </thead>\n",
       "  <tbody>\n",
       "    <tr>\n",
       "      <th>2</th>\n",
       "      <td>{'random_state': 142, 'n_estimators': 78, 'cri...</td>\n",
       "      <td>-0.018798</td>\n",
       "      <td>1</td>\n",
       "      <td>0.417914</td>\n",
       "      <td>1</td>\n",
       "    </tr>\n",
       "    <tr>\n",
       "      <th>17</th>\n",
       "      <td>{'random_state': 132, 'n_estimators': 77, 'cri...</td>\n",
       "      <td>-0.018848</td>\n",
       "      <td>2</td>\n",
       "      <td>0.416525</td>\n",
       "      <td>2</td>\n",
       "    </tr>\n",
       "    <tr>\n",
       "      <th>60</th>\n",
       "      <td>{'random_state': 106, 'n_estimators': 50, 'cri...</td>\n",
       "      <td>-0.018851</td>\n",
       "      <td>3</td>\n",
       "      <td>0.416404</td>\n",
       "      <td>3</td>\n",
       "    </tr>\n",
       "    <tr>\n",
       "      <th>39</th>\n",
       "      <td>{'random_state': 143, 'n_estimators': 73, 'cri...</td>\n",
       "      <td>-0.018853</td>\n",
       "      <td>4</td>\n",
       "      <td>0.416106</td>\n",
       "      <td>4</td>\n",
       "    </tr>\n",
       "    <tr>\n",
       "      <th>88</th>\n",
       "      <td>{'random_state': 125, 'n_estimators': 79, 'cri...</td>\n",
       "      <td>-0.018877</td>\n",
       "      <td>5</td>\n",
       "      <td>0.415585</td>\n",
       "      <td>5</td>\n",
       "    </tr>\n",
       "    <tr>\n",
       "      <th>...</th>\n",
       "      <td>...</td>\n",
       "      <td>...</td>\n",
       "      <td>...</td>\n",
       "      <td>...</td>\n",
       "      <td>...</td>\n",
       "    </tr>\n",
       "    <tr>\n",
       "      <th>74</th>\n",
       "      <td>{'random_state': 138, 'n_estimators': 67, 'cri...</td>\n",
       "      <td>NaN</td>\n",
       "      <td>87</td>\n",
       "      <td>NaN</td>\n",
       "      <td>87</td>\n",
       "    </tr>\n",
       "    <tr>\n",
       "      <th>78</th>\n",
       "      <td>{'random_state': 99, 'n_estimators': 78, 'crit...</td>\n",
       "      <td>NaN</td>\n",
       "      <td>85</td>\n",
       "      <td>NaN</td>\n",
       "      <td>85</td>\n",
       "    </tr>\n",
       "    <tr>\n",
       "      <th>80</th>\n",
       "      <td>{'random_state': 130, 'n_estimators': 55, 'cri...</td>\n",
       "      <td>NaN</td>\n",
       "      <td>99</td>\n",
       "      <td>NaN</td>\n",
       "      <td>99</td>\n",
       "    </tr>\n",
       "    <tr>\n",
       "      <th>94</th>\n",
       "      <td>{'random_state': 112, 'n_estimators': 56, 'cri...</td>\n",
       "      <td>NaN</td>\n",
       "      <td>83</td>\n",
       "      <td>NaN</td>\n",
       "      <td>83</td>\n",
       "    </tr>\n",
       "    <tr>\n",
       "      <th>96</th>\n",
       "      <td>{'random_state': 144, 'n_estimators': 72, 'cri...</td>\n",
       "      <td>NaN</td>\n",
       "      <td>77</td>\n",
       "      <td>NaN</td>\n",
       "      <td>77</td>\n",
       "    </tr>\n",
       "  </tbody>\n",
       "</table>\n",
       "<p>100 rows × 5 columns</p>\n",
       "</div>"
      ],
      "text/plain": [
       "                                               params  \\\n",
       "2   {'random_state': 142, 'n_estimators': 78, 'cri...   \n",
       "17  {'random_state': 132, 'n_estimators': 77, 'cri...   \n",
       "60  {'random_state': 106, 'n_estimators': 50, 'cri...   \n",
       "39  {'random_state': 143, 'n_estimators': 73, 'cri...   \n",
       "88  {'random_state': 125, 'n_estimators': 79, 'cri...   \n",
       "..                                                ...   \n",
       "74  {'random_state': 138, 'n_estimators': 67, 'cri...   \n",
       "78  {'random_state': 99, 'n_estimators': 78, 'crit...   \n",
       "80  {'random_state': 130, 'n_estimators': 55, 'cri...   \n",
       "94  {'random_state': 112, 'n_estimators': 56, 'cri...   \n",
       "96  {'random_state': 144, 'n_estimators': 72, 'cri...   \n",
       "\n",
       "    mean_test_neg_mean_squared_error  rank_test_neg_mean_squared_error  \\\n",
       "2                          -0.018798                                 1   \n",
       "17                         -0.018848                                 2   \n",
       "60                         -0.018851                                 3   \n",
       "39                         -0.018853                                 4   \n",
       "88                         -0.018877                                 5   \n",
       "..                               ...                               ...   \n",
       "74                               NaN                                87   \n",
       "78                               NaN                                85   \n",
       "80                               NaN                                99   \n",
       "94                               NaN                                83   \n",
       "96                               NaN                                77   \n",
       "\n",
       "    mean_test_r2  rank_test_r2  \n",
       "2       0.417914             1  \n",
       "17      0.416525             2  \n",
       "60      0.416404             3  \n",
       "39      0.416106             4  \n",
       "88      0.415585             5  \n",
       "..           ...           ...  \n",
       "74           NaN            87  \n",
       "78           NaN            85  \n",
       "80           NaN            99  \n",
       "94           NaN            83  \n",
       "96           NaN            77  \n",
       "\n",
       "[100 rows x 5 columns]"
      ]
     },
     "execution_count": 67,
     "metadata": {},
     "output_type": "execute_result"
    }
   ],
   "source": [
    "rfrgs = RandomizedSearchCV(rfr, rfrparams,return_train_score = False, n_iter=100, cv = 5, scoring=['neg_mean_squared_error', 'r2'], refit='neg_mean_squared_error')\n",
    "rfrgs.fit(X, Y)\n",
    "rfrDF = pd.DataFrame(rfrgs.cv_results_)\n",
    "rfrDF[['params', 'mean_test_neg_mean_squared_error', 'rank_test_neg_mean_squared_error', 'mean_test_r2', 'rank_test_r2']].sort_values(by='mean_test_r2', ascending=False)"
   ]
  },
  {
   "cell_type": "code",
   "execution_count": 68,
   "metadata": {},
   "outputs": [
    {
     "data": {
      "text/html": [
       "<div>\n",
       "<style scoped>\n",
       "    .dataframe tbody tr th:only-of-type {\n",
       "        vertical-align: middle;\n",
       "    }\n",
       "\n",
       "    .dataframe tbody tr th {\n",
       "        vertical-align: top;\n",
       "    }\n",
       "\n",
       "    .dataframe thead th {\n",
       "        text-align: right;\n",
       "    }\n",
       "</style>\n",
       "<table border=\"1\" class=\"dataframe\">\n",
       "  <thead>\n",
       "    <tr style=\"text-align: right;\">\n",
       "      <th></th>\n",
       "      <th>Model Name</th>\n",
       "      <th>Params</th>\n",
       "      <th>MSE Score</th>\n",
       "      <th>R2 Score</th>\n",
       "    </tr>\n",
       "  </thead>\n",
       "  <tbody>\n",
       "    <tr>\n",
       "      <th>0</th>\n",
       "      <td>Linear Regression</td>\n",
       "      <td></td>\n",
       "      <td>0.024656</td>\n",
       "      <td>0.168588</td>\n",
       "    </tr>\n",
       "    <tr>\n",
       "      <th>1</th>\n",
       "      <td>Ridge Regressor</td>\n",
       "      <td>{'random_state': 74, 'alpha': 0.1}</td>\n",
       "      <td>-0.026907</td>\n",
       "      <td>0.166374</td>\n",
       "    </tr>\n",
       "    <tr>\n",
       "      <th>2</th>\n",
       "      <td>Lasso Regressor</td>\n",
       "      <td>{'random_state': 132, 'alpha': 0.0001}</td>\n",
       "      <td>-0.026906</td>\n",
       "      <td>0.166406</td>\n",
       "    </tr>\n",
       "    <tr>\n",
       "      <th>3</th>\n",
       "      <td>Decision Tree Regressor</td>\n",
       "      <td>{'random_state': 143, 'min_samples_split': 9, ...</td>\n",
       "      <td>-0.028089</td>\n",
       "      <td>0.128567</td>\n",
       "    </tr>\n",
       "    <tr>\n",
       "      <th>4</th>\n",
       "      <td>Random Forest Regressor</td>\n",
       "      <td>{'random_state': 142, 'n_estimators': 78, 'cri...</td>\n",
       "      <td>-0.018798</td>\n",
       "      <td>0.417914</td>\n",
       "    </tr>\n",
       "  </tbody>\n",
       "</table>\n",
       "</div>"
      ],
      "text/plain": [
       "                Model Name                                             Params  \\\n",
       "0        Linear Regression                                                      \n",
       "1          Ridge Regressor                 {'random_state': 74, 'alpha': 0.1}   \n",
       "2          Lasso Regressor             {'random_state': 132, 'alpha': 0.0001}   \n",
       "3  Decision Tree Regressor  {'random_state': 143, 'min_samples_split': 9, ...   \n",
       "4  Random Forest Regressor  {'random_state': 142, 'n_estimators': 78, 'cri...   \n",
       "\n",
       "   MSE Score  R2 Score  \n",
       "0   0.024656  0.168588  \n",
       "1  -0.026907  0.166374  \n",
       "2  -0.026906  0.166406  \n",
       "3  -0.028089  0.128567  \n",
       "4  -0.018798  0.417914  "
      ]
     },
     "execution_count": 68,
     "metadata": {},
     "output_type": "execute_result"
    }
   ],
   "source": [
    "i = list(rfrDF['mean_test_neg_mean_squared_error']).index(rfrDF['mean_test_neg_mean_squared_error'].max())\n",
    "model_score_table.loc[4] = [\"Random Forest Regressor\", rfrDF['params'][i], rfrDF['mean_test_neg_mean_squared_error'][i], rfrDF['mean_test_r2'][i]]\n",
    "model_score_table"
   ]
  },
  {
   "cell_type": "code",
   "execution_count": 69,
   "metadata": {},
   "outputs": [
    {
     "data": {
      "text/html": [
       "<div>\n",
       "<style scoped>\n",
       "    .dataframe tbody tr th:only-of-type {\n",
       "        vertical-align: middle;\n",
       "    }\n",
       "\n",
       "    .dataframe tbody tr th {\n",
       "        vertical-align: top;\n",
       "    }\n",
       "\n",
       "    .dataframe thead th {\n",
       "        text-align: right;\n",
       "    }\n",
       "</style>\n",
       "<table border=\"1\" class=\"dataframe\">\n",
       "  <thead>\n",
       "    <tr style=\"text-align: right;\">\n",
       "      <th></th>\n",
       "      <th>params</th>\n",
       "      <th>mean_test_neg_mean_squared_error</th>\n",
       "      <th>rank_test_neg_mean_squared_error</th>\n",
       "      <th>mean_test_r2</th>\n",
       "      <th>rank_test_r2</th>\n",
       "    </tr>\n",
       "  </thead>\n",
       "  <tbody>\n",
       "    <tr>\n",
       "      <th>52</th>\n",
       "      <td>{'random_state': 128, 'min_samples_split': 5, ...</td>\n",
       "      <td>-0.021681</td>\n",
       "      <td>1</td>\n",
       "      <td>0.328533</td>\n",
       "      <td>1</td>\n",
       "    </tr>\n",
       "    <tr>\n",
       "      <th>10</th>\n",
       "      <td>{'random_state': 80, 'min_samples_split': 4, '...</td>\n",
       "      <td>-0.021713</td>\n",
       "      <td>2</td>\n",
       "      <td>0.327516</td>\n",
       "      <td>2</td>\n",
       "    </tr>\n",
       "    <tr>\n",
       "      <th>94</th>\n",
       "      <td>{'random_state': 71, 'min_samples_split': 5, '...</td>\n",
       "      <td>-0.021721</td>\n",
       "      <td>3</td>\n",
       "      <td>0.327397</td>\n",
       "      <td>3</td>\n",
       "    </tr>\n",
       "    <tr>\n",
       "      <th>88</th>\n",
       "      <td>{'random_state': 82, 'min_samples_split': 7, '...</td>\n",
       "      <td>-0.021766</td>\n",
       "      <td>4</td>\n",
       "      <td>0.325990</td>\n",
       "      <td>4</td>\n",
       "    </tr>\n",
       "    <tr>\n",
       "      <th>75</th>\n",
       "      <td>{'random_state': 140, 'min_samples_split': 5, ...</td>\n",
       "      <td>-0.021789</td>\n",
       "      <td>5</td>\n",
       "      <td>0.325483</td>\n",
       "      <td>5</td>\n",
       "    </tr>\n",
       "    <tr>\n",
       "      <th>...</th>\n",
       "      <td>...</td>\n",
       "      <td>...</td>\n",
       "      <td>...</td>\n",
       "      <td>...</td>\n",
       "      <td>...</td>\n",
       "    </tr>\n",
       "    <tr>\n",
       "      <th>74</th>\n",
       "      <td>{'random_state': 87, 'min_samples_split': 0, '...</td>\n",
       "      <td>NaN</td>\n",
       "      <td>93</td>\n",
       "      <td>NaN</td>\n",
       "      <td>93</td>\n",
       "    </tr>\n",
       "    <tr>\n",
       "      <th>77</th>\n",
       "      <td>{'random_state': 123, 'min_samples_split': 0, ...</td>\n",
       "      <td>NaN</td>\n",
       "      <td>91</td>\n",
       "      <td>NaN</td>\n",
       "      <td>91</td>\n",
       "    </tr>\n",
       "    <tr>\n",
       "      <th>83</th>\n",
       "      <td>{'random_state': 145, 'min_samples_split': 1, ...</td>\n",
       "      <td>NaN</td>\n",
       "      <td>88</td>\n",
       "      <td>NaN</td>\n",
       "      <td>88</td>\n",
       "    </tr>\n",
       "    <tr>\n",
       "      <th>89</th>\n",
       "      <td>{'random_state': 112, 'min_samples_split': 0, ...</td>\n",
       "      <td>NaN</td>\n",
       "      <td>79</td>\n",
       "      <td>NaN</td>\n",
       "      <td>79</td>\n",
       "    </tr>\n",
       "    <tr>\n",
       "      <th>90</th>\n",
       "      <td>{'random_state': 141, 'min_samples_split': 0, ...</td>\n",
       "      <td>NaN</td>\n",
       "      <td>85</td>\n",
       "      <td>NaN</td>\n",
       "      <td>85</td>\n",
       "    </tr>\n",
       "  </tbody>\n",
       "</table>\n",
       "<p>100 rows × 5 columns</p>\n",
       "</div>"
      ],
      "text/plain": [
       "                                               params  \\\n",
       "52  {'random_state': 128, 'min_samples_split': 5, ...   \n",
       "10  {'random_state': 80, 'min_samples_split': 4, '...   \n",
       "94  {'random_state': 71, 'min_samples_split': 5, '...   \n",
       "88  {'random_state': 82, 'min_samples_split': 7, '...   \n",
       "75  {'random_state': 140, 'min_samples_split': 5, ...   \n",
       "..                                                ...   \n",
       "74  {'random_state': 87, 'min_samples_split': 0, '...   \n",
       "77  {'random_state': 123, 'min_samples_split': 0, ...   \n",
       "83  {'random_state': 145, 'min_samples_split': 1, ...   \n",
       "89  {'random_state': 112, 'min_samples_split': 0, ...   \n",
       "90  {'random_state': 141, 'min_samples_split': 0, ...   \n",
       "\n",
       "    mean_test_neg_mean_squared_error  rank_test_neg_mean_squared_error  \\\n",
       "52                         -0.021681                                 1   \n",
       "10                         -0.021713                                 2   \n",
       "94                         -0.021721                                 3   \n",
       "88                         -0.021766                                 4   \n",
       "75                         -0.021789                                 5   \n",
       "..                               ...                               ...   \n",
       "74                               NaN                                93   \n",
       "77                               NaN                                91   \n",
       "83                               NaN                                88   \n",
       "89                               NaN                                79   \n",
       "90                               NaN                                85   \n",
       "\n",
       "    mean_test_r2  rank_test_r2  \n",
       "52      0.328533             1  \n",
       "10      0.327516             2  \n",
       "94      0.327397             3  \n",
       "88      0.325990             4  \n",
       "75      0.325483             5  \n",
       "..           ...           ...  \n",
       "74           NaN            93  \n",
       "77           NaN            91  \n",
       "83           NaN            88  \n",
       "89           NaN            79  \n",
       "90           NaN            85  \n",
       "\n",
       "[100 rows x 5 columns]"
      ]
     },
     "execution_count": 69,
     "metadata": {},
     "output_type": "execute_result"
    }
   ],
   "source": [
    "etrgs = RandomizedSearchCV(etr, etrparams,return_train_score = False, n_iter=100, cv = 5, scoring=['neg_mean_squared_error', 'r2'], refit='neg_mean_squared_error')\n",
    "etrgs.fit(X, Y)\n",
    "etrDF = pd.DataFrame(etrgs.cv_results_)\n",
    "etrDF[['params', 'mean_test_neg_mean_squared_error', 'rank_test_neg_mean_squared_error', 'mean_test_r2', 'rank_test_r2']].sort_values(by='mean_test_r2', ascending=False)"
   ]
  },
  {
   "cell_type": "code",
   "execution_count": 70,
   "metadata": {},
   "outputs": [
    {
     "data": {
      "text/html": [
       "<div>\n",
       "<style scoped>\n",
       "    .dataframe tbody tr th:only-of-type {\n",
       "        vertical-align: middle;\n",
       "    }\n",
       "\n",
       "    .dataframe tbody tr th {\n",
       "        vertical-align: top;\n",
       "    }\n",
       "\n",
       "    .dataframe thead th {\n",
       "        text-align: right;\n",
       "    }\n",
       "</style>\n",
       "<table border=\"1\" class=\"dataframe\">\n",
       "  <thead>\n",
       "    <tr style=\"text-align: right;\">\n",
       "      <th></th>\n",
       "      <th>Model Name</th>\n",
       "      <th>Params</th>\n",
       "      <th>MSE Score</th>\n",
       "      <th>R2 Score</th>\n",
       "    </tr>\n",
       "  </thead>\n",
       "  <tbody>\n",
       "    <tr>\n",
       "      <th>0</th>\n",
       "      <td>Linear Regression</td>\n",
       "      <td></td>\n",
       "      <td>0.024656</td>\n",
       "      <td>0.168588</td>\n",
       "    </tr>\n",
       "    <tr>\n",
       "      <th>1</th>\n",
       "      <td>Ridge Regressor</td>\n",
       "      <td>{'random_state': 74, 'alpha': 0.1}</td>\n",
       "      <td>-0.026907</td>\n",
       "      <td>0.166374</td>\n",
       "    </tr>\n",
       "    <tr>\n",
       "      <th>2</th>\n",
       "      <td>Lasso Regressor</td>\n",
       "      <td>{'random_state': 132, 'alpha': 0.0001}</td>\n",
       "      <td>-0.026906</td>\n",
       "      <td>0.166406</td>\n",
       "    </tr>\n",
       "    <tr>\n",
       "      <th>3</th>\n",
       "      <td>Decision Tree Regressor</td>\n",
       "      <td>{'random_state': 143, 'min_samples_split': 9, ...</td>\n",
       "      <td>-0.028089</td>\n",
       "      <td>0.128567</td>\n",
       "    </tr>\n",
       "    <tr>\n",
       "      <th>4</th>\n",
       "      <td>Random Forest Regressor</td>\n",
       "      <td>{'random_state': 142, 'n_estimators': 78, 'cri...</td>\n",
       "      <td>-0.018798</td>\n",
       "      <td>0.417914</td>\n",
       "    </tr>\n",
       "    <tr>\n",
       "      <th>5</th>\n",
       "      <td>Extra Trees Regressor</td>\n",
       "      <td>{'random_state': 128, 'min_samples_split': 5, ...</td>\n",
       "      <td>-0.021681</td>\n",
       "      <td>0.328533</td>\n",
       "    </tr>\n",
       "  </tbody>\n",
       "</table>\n",
       "</div>"
      ],
      "text/plain": [
       "                Model Name                                             Params  \\\n",
       "0        Linear Regression                                                      \n",
       "1          Ridge Regressor                 {'random_state': 74, 'alpha': 0.1}   \n",
       "2          Lasso Regressor             {'random_state': 132, 'alpha': 0.0001}   \n",
       "3  Decision Tree Regressor  {'random_state': 143, 'min_samples_split': 9, ...   \n",
       "4  Random Forest Regressor  {'random_state': 142, 'n_estimators': 78, 'cri...   \n",
       "5    Extra Trees Regressor  {'random_state': 128, 'min_samples_split': 5, ...   \n",
       "\n",
       "   MSE Score  R2 Score  \n",
       "0   0.024656  0.168588  \n",
       "1  -0.026907  0.166374  \n",
       "2  -0.026906  0.166406  \n",
       "3  -0.028089  0.128567  \n",
       "4  -0.018798  0.417914  \n",
       "5  -0.021681  0.328533  "
      ]
     },
     "execution_count": 70,
     "metadata": {},
     "output_type": "execute_result"
    }
   ],
   "source": [
    "i = list(etrDF['mean_test_neg_mean_squared_error']).index(etrDF['mean_test_neg_mean_squared_error'].max())\n",
    "model_score_table.loc[5] = [\"Extra Trees Regressor\", etrDF['params'][i], etrDF['mean_test_neg_mean_squared_error'][i], etrDF['mean_test_r2'][i]]\n",
    "model_score_table"
   ]
  },
  {
   "cell_type": "code",
   "execution_count": 72,
   "metadata": {},
   "outputs": [
    {
     "data": {
      "text/html": [
       "<div>\n",
       "<style scoped>\n",
       "    .dataframe tbody tr th:only-of-type {\n",
       "        vertical-align: middle;\n",
       "    }\n",
       "\n",
       "    .dataframe tbody tr th {\n",
       "        vertical-align: top;\n",
       "    }\n",
       "\n",
       "    .dataframe thead th {\n",
       "        text-align: right;\n",
       "    }\n",
       "</style>\n",
       "<table border=\"1\" class=\"dataframe\">\n",
       "  <thead>\n",
       "    <tr style=\"text-align: right;\">\n",
       "      <th></th>\n",
       "      <th>Model Name</th>\n",
       "      <th>Params</th>\n",
       "      <th>MSE Score</th>\n",
       "      <th>R2 Score</th>\n",
       "    </tr>\n",
       "  </thead>\n",
       "  <tbody>\n",
       "    <tr>\n",
       "      <th>4</th>\n",
       "      <td>Random Forest Regressor</td>\n",
       "      <td>{'random_state': 142, 'n_estimators': 78, 'cri...</td>\n",
       "      <td>-0.018798</td>\n",
       "      <td>0.417914</td>\n",
       "    </tr>\n",
       "    <tr>\n",
       "      <th>5</th>\n",
       "      <td>Extra Trees Regressor</td>\n",
       "      <td>{'random_state': 128, 'min_samples_split': 5, ...</td>\n",
       "      <td>-0.021681</td>\n",
       "      <td>0.328533</td>\n",
       "    </tr>\n",
       "    <tr>\n",
       "      <th>0</th>\n",
       "      <td>Linear Regression</td>\n",
       "      <td></td>\n",
       "      <td>0.024656</td>\n",
       "      <td>0.168588</td>\n",
       "    </tr>\n",
       "    <tr>\n",
       "      <th>2</th>\n",
       "      <td>Lasso Regressor</td>\n",
       "      <td>{'random_state': 132, 'alpha': 0.0001}</td>\n",
       "      <td>-0.026906</td>\n",
       "      <td>0.166406</td>\n",
       "    </tr>\n",
       "    <tr>\n",
       "      <th>1</th>\n",
       "      <td>Ridge Regressor</td>\n",
       "      <td>{'random_state': 74, 'alpha': 0.1}</td>\n",
       "      <td>-0.026907</td>\n",
       "      <td>0.166374</td>\n",
       "    </tr>\n",
       "    <tr>\n",
       "      <th>3</th>\n",
       "      <td>Decision Tree Regressor</td>\n",
       "      <td>{'random_state': 143, 'min_samples_split': 9, ...</td>\n",
       "      <td>-0.028089</td>\n",
       "      <td>0.128567</td>\n",
       "    </tr>\n",
       "  </tbody>\n",
       "</table>\n",
       "</div>"
      ],
      "text/plain": [
       "                Model Name                                             Params  \\\n",
       "4  Random Forest Regressor  {'random_state': 142, 'n_estimators': 78, 'cri...   \n",
       "5    Extra Trees Regressor  {'random_state': 128, 'min_samples_split': 5, ...   \n",
       "0        Linear Regression                                                      \n",
       "2          Lasso Regressor             {'random_state': 132, 'alpha': 0.0001}   \n",
       "1          Ridge Regressor                 {'random_state': 74, 'alpha': 0.1}   \n",
       "3  Decision Tree Regressor  {'random_state': 143, 'min_samples_split': 9, ...   \n",
       "\n",
       "   MSE Score  R2 Score  \n",
       "4  -0.018798  0.417914  \n",
       "5  -0.021681  0.328533  \n",
       "0   0.024656  0.168588  \n",
       "2  -0.026906  0.166406  \n",
       "1  -0.026907  0.166374  \n",
       "3  -0.028089  0.128567  "
      ]
     },
     "execution_count": 72,
     "metadata": {},
     "output_type": "execute_result"
    }
   ],
   "source": [
    "model_score_table.sort_values(by=\"R2 Score\", ascending=False)"
   ]
  },
  {
   "cell_type": "code",
   "execution_count": 73,
   "metadata": {},
   "outputs": [],
   "source": [
    "model_score_table['MSE Score'] = model_score_table['MSE Score'].abs()"
   ]
  },
  {
   "cell_type": "code",
   "execution_count": 74,
   "metadata": {},
   "outputs": [
    {
     "data": {
      "text/html": [
       "<div>\n",
       "<style scoped>\n",
       "    .dataframe tbody tr th:only-of-type {\n",
       "        vertical-align: middle;\n",
       "    }\n",
       "\n",
       "    .dataframe tbody tr th {\n",
       "        vertical-align: top;\n",
       "    }\n",
       "\n",
       "    .dataframe thead th {\n",
       "        text-align: right;\n",
       "    }\n",
       "</style>\n",
       "<table border=\"1\" class=\"dataframe\">\n",
       "  <thead>\n",
       "    <tr style=\"text-align: right;\">\n",
       "      <th></th>\n",
       "      <th>Model Name</th>\n",
       "      <th>Params</th>\n",
       "      <th>MSE Score</th>\n",
       "      <th>R2 Score</th>\n",
       "    </tr>\n",
       "  </thead>\n",
       "  <tbody>\n",
       "    <tr>\n",
       "      <th>4</th>\n",
       "      <td>Random Forest Regressor</td>\n",
       "      <td>{'random_state': 142, 'n_estimators': 78, 'cri...</td>\n",
       "      <td>0.018798</td>\n",
       "      <td>0.417914</td>\n",
       "    </tr>\n",
       "    <tr>\n",
       "      <th>5</th>\n",
       "      <td>Extra Trees Regressor</td>\n",
       "      <td>{'random_state': 128, 'min_samples_split': 5, ...</td>\n",
       "      <td>0.021681</td>\n",
       "      <td>0.328533</td>\n",
       "    </tr>\n",
       "    <tr>\n",
       "      <th>0</th>\n",
       "      <td>Linear Regression</td>\n",
       "      <td></td>\n",
       "      <td>0.024656</td>\n",
       "      <td>0.168588</td>\n",
       "    </tr>\n",
       "    <tr>\n",
       "      <th>2</th>\n",
       "      <td>Lasso Regressor</td>\n",
       "      <td>{'random_state': 132, 'alpha': 0.0001}</td>\n",
       "      <td>0.026906</td>\n",
       "      <td>0.166406</td>\n",
       "    </tr>\n",
       "    <tr>\n",
       "      <th>1</th>\n",
       "      <td>Ridge Regressor</td>\n",
       "      <td>{'random_state': 74, 'alpha': 0.1}</td>\n",
       "      <td>0.026907</td>\n",
       "      <td>0.166374</td>\n",
       "    </tr>\n",
       "    <tr>\n",
       "      <th>3</th>\n",
       "      <td>Decision Tree Regressor</td>\n",
       "      <td>{'random_state': 143, 'min_samples_split': 9, ...</td>\n",
       "      <td>0.028089</td>\n",
       "      <td>0.128567</td>\n",
       "    </tr>\n",
       "  </tbody>\n",
       "</table>\n",
       "</div>"
      ],
      "text/plain": [
       "                Model Name                                             Params  \\\n",
       "4  Random Forest Regressor  {'random_state': 142, 'n_estimators': 78, 'cri...   \n",
       "5    Extra Trees Regressor  {'random_state': 128, 'min_samples_split': 5, ...   \n",
       "0        Linear Regression                                                      \n",
       "2          Lasso Regressor             {'random_state': 132, 'alpha': 0.0001}   \n",
       "1          Ridge Regressor                 {'random_state': 74, 'alpha': 0.1}   \n",
       "3  Decision Tree Regressor  {'random_state': 143, 'min_samples_split': 9, ...   \n",
       "\n",
       "   MSE Score  R2 Score  \n",
       "4   0.018798  0.417914  \n",
       "5   0.021681  0.328533  \n",
       "0   0.024656  0.168588  \n",
       "2   0.026906  0.166406  \n",
       "1   0.026907  0.166374  \n",
       "3   0.028089  0.128567  "
      ]
     },
     "execution_count": 74,
     "metadata": {},
     "output_type": "execute_result"
    }
   ],
   "source": [
    "model_score_table.sort_values(by=\"MSE Score\")"
   ]
  },
  {
   "cell_type": "markdown",
   "metadata": {},
   "source": [
    "Best performing model is Random Forest Regressor"
   ]
  },
  {
   "cell_type": "code",
   "execution_count": 75,
   "metadata": {},
   "outputs": [
    {
     "data": {
      "text/plain": [
       "{'random_state': 142, 'n_estimators': 78, 'criterion': 'friedman_mse'}"
      ]
     },
     "execution_count": 75,
     "metadata": {},
     "output_type": "execute_result"
    }
   ],
   "source": [
    "#Parameters of the Random Forest Regression\n",
    "model_score_table['Params'][4]"
   ]
  },
  {
   "cell_type": "code",
   "execution_count": 76,
   "metadata": {},
   "outputs": [
    {
     "data": {
      "text/html": [
       "<div>\n",
       "<style scoped>\n",
       "    .dataframe tbody tr th:only-of-type {\n",
       "        vertical-align: middle;\n",
       "    }\n",
       "\n",
       "    .dataframe tbody tr th {\n",
       "        vertical-align: top;\n",
       "    }\n",
       "\n",
       "    .dataframe thead th {\n",
       "        text-align: right;\n",
       "    }\n",
       "</style>\n",
       "<table border=\"1\" class=\"dataframe\">\n",
       "  <thead>\n",
       "    <tr style=\"text-align: right;\">\n",
       "      <th></th>\n",
       "      <th>0</th>\n",
       "    </tr>\n",
       "  </thead>\n",
       "  <tbody>\n",
       "    <tr>\n",
       "      <th>0</th>\n",
       "      <td>0.139526</td>\n",
       "    </tr>\n",
       "    <tr>\n",
       "      <th>1</th>\n",
       "      <td>0.378102</td>\n",
       "    </tr>\n",
       "    <tr>\n",
       "      <th>2</th>\n",
       "      <td>0.157103</td>\n",
       "    </tr>\n",
       "    <tr>\n",
       "      <th>3</th>\n",
       "      <td>0.404725</td>\n",
       "    </tr>\n",
       "    <tr>\n",
       "      <th>4</th>\n",
       "      <td>0.157103</td>\n",
       "    </tr>\n",
       "    <tr>\n",
       "      <th>...</th>\n",
       "      <td>...</td>\n",
       "    </tr>\n",
       "    <tr>\n",
       "      <th>3039</th>\n",
       "      <td>0.311931</td>\n",
       "    </tr>\n",
       "    <tr>\n",
       "      <th>3040</th>\n",
       "      <td>0.154260</td>\n",
       "    </tr>\n",
       "    <tr>\n",
       "      <th>3041</th>\n",
       "      <td>0.218879</td>\n",
       "    </tr>\n",
       "    <tr>\n",
       "      <th>3042</th>\n",
       "      <td>0.439620</td>\n",
       "    </tr>\n",
       "    <tr>\n",
       "      <th>3043</th>\n",
       "      <td>0.130221</td>\n",
       "    </tr>\n",
       "  </tbody>\n",
       "</table>\n",
       "<p>3044 rows × 1 columns</p>\n",
       "</div>"
      ],
      "text/plain": [
       "             0\n",
       "0     0.139526\n",
       "1     0.378102\n",
       "2     0.157103\n",
       "3     0.404725\n",
       "4     0.157103\n",
       "...        ...\n",
       "3039  0.311931\n",
       "3040  0.154260\n",
       "3041  0.218879\n",
       "3042  0.439620\n",
       "3043  0.130221\n",
       "\n",
       "[3044 rows x 1 columns]"
      ]
     },
     "execution_count": 76,
     "metadata": {},
     "output_type": "execute_result"
    }
   ],
   "source": [
    "X_train, X_test, y_train, y_test = train_test_split(X, Y, test_size=0.25, random_state=142)\n",
    "rfr_model = RandomForestRegressor(random_state = 142, n_estimators = 78, criterion = 'friedman_mse')\n",
    "rfr_model.fit(X_train, y_train)\n",
    "pred = rfr_model.predict(X_test)\n",
    "pred = pd.DataFrame(pred)\n",
    "pred"
   ]
  },
  {
   "cell_type": "code",
   "execution_count": 77,
   "metadata": {},
   "outputs": [
    {
     "data": {
      "text/plain": [
       "0.9172641709437224"
      ]
     },
     "execution_count": 77,
     "metadata": {},
     "output_type": "execute_result"
    }
   ],
   "source": [
    "rfr_model.score(X_train,y_train)"
   ]
  },
  {
   "cell_type": "code",
   "execution_count": 78,
   "metadata": {},
   "outputs": [
    {
     "data": {
      "text/plain": [
       "0.4113612195300278"
      ]
     },
     "execution_count": 78,
     "metadata": {},
     "output_type": "execute_result"
    }
   ],
   "source": [
    "rfr_model.score(X_test,y_test)"
   ]
  },
  {
   "cell_type": "code",
   "execution_count": 79,
   "metadata": {},
   "outputs": [
    {
     "name": "stdout",
     "output_type": "stream",
     "text": [
      "0.01896638899417086\n",
      "0.0936181124632661\n"
     ]
    }
   ],
   "source": [
    "print(mean_squared_error(y_test , pred))\n",
    "print(mean_absolute_error(y_test , pred))"
   ]
  },
  {
   "cell_type": "code",
   "execution_count": 101,
   "metadata": {},
   "outputs": [
    {
     "data": {
      "text/html": [
       "<div>\n",
       "<style scoped>\n",
       "    .dataframe tbody tr th:only-of-type {\n",
       "        vertical-align: middle;\n",
       "    }\n",
       "\n",
       "    .dataframe tbody tr th {\n",
       "        vertical-align: top;\n",
       "    }\n",
       "\n",
       "    .dataframe thead th {\n",
       "        text-align: right;\n",
       "    }\n",
       "</style>\n",
       "<table border=\"1\" class=\"dataframe\">\n",
       "  <thead>\n",
       "    <tr style=\"text-align: right;\">\n",
       "      <th></th>\n",
       "      <th>TITLE</th>\n",
       "      <th>RESTAURANT_ID</th>\n",
       "      <th>CUISINES</th>\n",
       "      <th>TIME</th>\n",
       "      <th>CITY</th>\n",
       "      <th>LOCALITY</th>\n",
       "      <th>RATING</th>\n",
       "      <th>VOTES</th>\n",
       "    </tr>\n",
       "  </thead>\n",
       "  <tbody>\n",
       "    <tr>\n",
       "      <th>0</th>\n",
       "      <td>CASUAL DINING</td>\n",
       "      <td>4085</td>\n",
       "      <td>North Indian, Chinese, Mughlai, Kebab</td>\n",
       "      <td>12noon – 12midnight (Mon-Sun)</td>\n",
       "      <td>Noida</td>\n",
       "      <td>Sector 18</td>\n",
       "      <td>4.3</td>\n",
       "      <td>564 votes</td>\n",
       "    </tr>\n",
       "    <tr>\n",
       "      <th>1</th>\n",
       "      <td>QUICK BITES</td>\n",
       "      <td>12680</td>\n",
       "      <td>South Indian, Fast Food, Pizza, North Indian</td>\n",
       "      <td>7am – 12:30AM (Mon-Sun)</td>\n",
       "      <td>Mumbai</td>\n",
       "      <td>Grant Road</td>\n",
       "      <td>4.2</td>\n",
       "      <td>61 votes</td>\n",
       "    </tr>\n",
       "    <tr>\n",
       "      <th>2</th>\n",
       "      <td>CASUAL DINING</td>\n",
       "      <td>1411</td>\n",
       "      <td>North Indian, Seafood, Biryani, Chinese</td>\n",
       "      <td>11am – 11:30pm (Mon-Sun)</td>\n",
       "      <td>Mumbai</td>\n",
       "      <td>Marine Lines</td>\n",
       "      <td>3.8</td>\n",
       "      <td>350 votes</td>\n",
       "    </tr>\n",
       "    <tr>\n",
       "      <th>3</th>\n",
       "      <td>None</td>\n",
       "      <td>204</td>\n",
       "      <td>Biryani</td>\n",
       "      <td>9am – 10pm (Mon, Wed, Thu, Fri, Sat, Sun), 10:...</td>\n",
       "      <td>Faridabad</td>\n",
       "      <td>NIT</td>\n",
       "      <td>3.8</td>\n",
       "      <td>1445 votes</td>\n",
       "    </tr>\n",
       "    <tr>\n",
       "      <th>4</th>\n",
       "      <td>QUICK BITES</td>\n",
       "      <td>13453</td>\n",
       "      <td>South Indian, Kerala</td>\n",
       "      <td>11am – 10pm (Mon-Sun)</td>\n",
       "      <td>Kochi</td>\n",
       "      <td>Kaloor</td>\n",
       "      <td>3.6</td>\n",
       "      <td>23 votes</td>\n",
       "    </tr>\n",
       "  </tbody>\n",
       "</table>\n",
       "</div>"
      ],
      "text/plain": [
       "           TITLE  RESTAURANT_ID                                      CUISINES  \\\n",
       "0  CASUAL DINING           4085         North Indian, Chinese, Mughlai, Kebab   \n",
       "1    QUICK BITES          12680  South Indian, Fast Food, Pizza, North Indian   \n",
       "2  CASUAL DINING           1411       North Indian, Seafood, Biryani, Chinese   \n",
       "3           None            204                                       Biryani   \n",
       "4    QUICK BITES          13453                          South Indian, Kerala   \n",
       "\n",
       "                                                TIME       CITY      LOCALITY  \\\n",
       "0                      12noon – 12midnight (Mon-Sun)      Noida     Sector 18   \n",
       "1                            7am – 12:30AM (Mon-Sun)     Mumbai    Grant Road   \n",
       "2                           11am – 11:30pm (Mon-Sun)     Mumbai  Marine Lines   \n",
       "3  9am – 10pm (Mon, Wed, Thu, Fri, Sat, Sun), 10:...  Faridabad           NIT   \n",
       "4                              11am – 10pm (Mon-Sun)      Kochi        Kaloor   \n",
       "\n",
       "  RATING       VOTES  \n",
       "0    4.3   564 votes  \n",
       "1    4.2    61 votes  \n",
       "2    3.8   350 votes  \n",
       "3    3.8  1445 votes  \n",
       "4    3.6    23 votes  "
      ]
     },
     "execution_count": 101,
     "metadata": {},
     "output_type": "execute_result"
    }
   ],
   "source": [
    "dftest = pd.read_excel('Restaurant_Test.xlsx')\n",
    "dftest.head()"
   ]
  },
  {
   "cell_type": "code",
   "execution_count": 102,
   "metadata": {},
   "outputs": [],
   "source": [
    "dftest.drop(['RESTAURANT_ID','TITLE', 'TIME', 'CITY'],1,inplace=True)"
   ]
  },
  {
   "cell_type": "code",
   "execution_count": 103,
   "metadata": {},
   "outputs": [
    {
     "data": {
      "text/plain": [
       "Int64Index([   6,   21,   24,   27,   29,   37,   66,   68,   73,   76,\n",
       "            ...\n",
       "            4108, 4109, 4168, 4172, 4181, 4183, 4185, 4198, 4223, 4229],\n",
       "           dtype='int64', length=402)"
      ]
     },
     "execution_count": 103,
     "metadata": {},
     "output_type": "execute_result"
    }
   ],
   "source": [
    "dftest_New = pd.DataFrame()\n",
    "dftest_New['RATING'] = dftest['RATING']\n",
    "#dftest_New.dropna(inplace=True)\n",
    "dftest_New.loc[(dftest_New['RATING'].isnull()) | (dftest_New['RATING'] == '-') | (dftest_New['RATING'] == 'NEW'), 'RATING'].index"
   ]
  },
  {
   "cell_type": "code",
   "execution_count": 104,
   "metadata": {},
   "outputs": [],
   "source": [
    "for i in dftest_New.loc[(dftest_New['RATING'].isnull()) | (dftest_New['RATING'] == '-') | (dftest_New['RATING'] == 'NEW'), 'RATING'].index:\n",
    "    dftest_New.drop(i, inplace=True)"
   ]
  },
  {
   "cell_type": "code",
   "execution_count": 105,
   "metadata": {},
   "outputs": [
    {
     "data": {
      "text/plain": [
       "3.8"
      ]
     },
     "execution_count": 105,
     "metadata": {},
     "output_type": "execute_result"
    }
   ],
   "source": [
    "#Average of RATINGS in the dataset\n",
    "dftest_New['RATING'] = dftest_New['RATING'].astype('float64')\n",
    "avg_of_RATING = dftest_New['RATING'].mean()\n",
    "avg_of_RATING = round(avg_of_RATING,1)\n",
    "avg_of_RATING"
   ]
  },
  {
   "cell_type": "code",
   "execution_count": 106,
   "metadata": {},
   "outputs": [],
   "source": [
    "#Replace the not RATING value in dataset with the average RATING\n",
    "dftest.loc[(dftest['RATING'].isnull()) | (dftest['RATING'] == '-') | (dftest['RATING'] == 'NEW'), 'RATING'] = avg_of_RATING\n",
    "dftest['RATING'] = dftest['RATING'].astype('float64')"
   ]
  },
  {
   "cell_type": "code",
   "execution_count": 107,
   "metadata": {},
   "outputs": [],
   "source": [
    "for i in dftest[dftest['LOCALITY'].isnull()].index:\n",
    "    dftest.drop(i, inplace=True)"
   ]
  },
  {
   "cell_type": "code",
   "execution_count": 108,
   "metadata": {},
   "outputs": [
    {
     "data": {
      "text/plain": [
       "0        564\n",
       "1         61\n",
       "2        350\n",
       "3       1445\n",
       "4         23\n",
       "        ... \n",
       "4226     287\n",
       "4227     469\n",
       "4228      53\n",
       "4229     NaN\n",
       "4230      63\n",
       "Name: VOTES_split, Length: 4201, dtype: object"
      ]
     },
     "execution_count": 108,
     "metadata": {},
     "output_type": "execute_result"
    }
   ],
   "source": [
    "dftest['VOTES_split'] = dftest['VOTES'].str.split(\" \", n = -1, expand = True)[0]\n",
    "dftest['VOTES_split']"
   ]
  },
  {
   "cell_type": "code",
   "execution_count": 109,
   "metadata": {},
   "outputs": [],
   "source": [
    "dftest['VOTES'] = dftest['VOTES_split']\n",
    "dftest.drop('VOTES_split',1,inplace=True)"
   ]
  },
  {
   "cell_type": "code",
   "execution_count": 110,
   "metadata": {},
   "outputs": [
    {
     "data": {
      "text/plain": [
       "Int64Index([   6,   21,   24,   27,   29,   37,   66,   68,   73,   76,\n",
       "            ...\n",
       "            4108, 4109, 4168, 4172, 4181, 4183, 4185, 4198, 4223, 4229],\n",
       "           dtype='int64', length=399)"
      ]
     },
     "execution_count": 110,
     "metadata": {},
     "output_type": "execute_result"
    }
   ],
   "source": [
    "dftest_New = pd.DataFrame()\n",
    "dftest_New['VOTES'] = dftest['VOTES']\n",
    "arr = dftest_New.loc[dftest_New['VOTES'].isnull(), 'VOTES'].index\n",
    "arr"
   ]
  },
  {
   "cell_type": "code",
   "execution_count": 111,
   "metadata": {},
   "outputs": [],
   "source": [
    "for i in arr:\n",
    "    dftest_New.drop(i, inplace=True)"
   ]
  },
  {
   "cell_type": "code",
   "execution_count": 112,
   "metadata": {},
   "outputs": [
    {
     "data": {
      "text/plain": [
       "431.3"
      ]
     },
     "execution_count": 112,
     "metadata": {},
     "output_type": "execute_result"
    }
   ],
   "source": [
    "dftest_New['VOTES'] = dftest_New['VOTES'].astype('int64')\n",
    "aoV = round(dftest_New['VOTES'].mean(),1)\n",
    "aoV"
   ]
  },
  {
   "cell_type": "code",
   "execution_count": 113,
   "metadata": {},
   "outputs": [],
   "source": [
    "dftest.loc[dftest['VOTES'].isnull(), 'VOTES'] = aoV\n",
    "dftest['VOTES'] = dftest['VOTES'].astype('int64')"
   ]
  },
  {
   "cell_type": "code",
   "execution_count": 114,
   "metadata": {},
   "outputs": [],
   "source": [
    "arr = ['CUISINES','LOCALITY']\n",
    "for i in arr:\n",
    "    dftest[i] = le.fit_transform(dftest[i])"
   ]
  },
  {
   "cell_type": "code",
   "execution_count": 115,
   "metadata": {},
   "outputs": [],
   "source": [
    "dftest['zvote'] = zscore(dftest['VOTES'])"
   ]
  },
  {
   "cell_type": "code",
   "execution_count": 116,
   "metadata": {},
   "outputs": [],
   "source": [
    "dftest = dftest[dftest['zvote'] < 3]"
   ]
  },
  {
   "cell_type": "code",
   "execution_count": 117,
   "metadata": {},
   "outputs": [],
   "source": [
    "dftest.drop(['zvote'],1,inplace=True)"
   ]
  },
  {
   "cell_type": "code",
   "execution_count": 118,
   "metadata": {},
   "outputs": [],
   "source": [
    "for i in dftest.columns:\n",
    "    if dftest[i].max() > 100:\n",
    "        dftest[i] = mms.fit_transform(dftest[[i]])"
   ]
  },
  {
   "cell_type": "code",
   "execution_count": 119,
   "metadata": {},
   "outputs": [],
   "source": [
    "import joblib"
   ]
  },
  {
   "cell_type": "code",
   "execution_count": 120,
   "metadata": {},
   "outputs": [
    {
     "data": {
      "text/plain": [
       "['final_model.pkl']"
      ]
     },
     "execution_count": 120,
     "metadata": {},
     "output_type": "execute_result"
    }
   ],
   "source": [
    "# save the model to disk\n",
    "filename = 'final_model.pkl'\n",
    "joblib.dump(rfr_model, filename)"
   ]
  },
  {
   "cell_type": "code",
   "execution_count": 121,
   "metadata": {},
   "outputs": [
    {
     "data": {
      "text/html": [
       "<div>\n",
       "<style scoped>\n",
       "    .dataframe tbody tr th:only-of-type {\n",
       "        vertical-align: middle;\n",
       "    }\n",
       "\n",
       "    .dataframe tbody tr th {\n",
       "        vertical-align: top;\n",
       "    }\n",
       "\n",
       "    .dataframe thead th {\n",
       "        text-align: right;\n",
       "    }\n",
       "</style>\n",
       "<table border=\"1\" class=\"dataframe\">\n",
       "  <thead>\n",
       "    <tr style=\"text-align: right;\">\n",
       "      <th></th>\n",
       "      <th>CUISINES</th>\n",
       "      <th>LOCALITY</th>\n",
       "      <th>RATING</th>\n",
       "      <th>VOTES</th>\n",
       "    </tr>\n",
       "  </thead>\n",
       "  <tbody>\n",
       "    <tr>\n",
       "      <th>count</th>\n",
       "      <td>4129.000000</td>\n",
       "      <td>4129.000000</td>\n",
       "      <td>4129.000000</td>\n",
       "      <td>4129.000000</td>\n",
       "    </tr>\n",
       "    <tr>\n",
       "      <th>mean</th>\n",
       "      <td>0.537573</td>\n",
       "      <td>0.460975</td>\n",
       "      <td>3.772221</td>\n",
       "      <td>0.125352</td>\n",
       "    </tr>\n",
       "    <tr>\n",
       "      <th>std</th>\n",
       "      <td>0.288454</td>\n",
       "      <td>0.283004</td>\n",
       "      <td>0.406573</td>\n",
       "      <td>0.156074</td>\n",
       "    </tr>\n",
       "    <tr>\n",
       "      <th>min</th>\n",
       "      <td>0.000000</td>\n",
       "      <td>0.000000</td>\n",
       "      <td>2.100000</td>\n",
       "      <td>0.000000</td>\n",
       "    </tr>\n",
       "    <tr>\n",
       "      <th>25%</th>\n",
       "      <td>0.280794</td>\n",
       "      <td>0.230492</td>\n",
       "      <td>3.600000</td>\n",
       "      <td>0.022135</td>\n",
       "    </tr>\n",
       "    <tr>\n",
       "      <th>50%</th>\n",
       "      <td>0.582604</td>\n",
       "      <td>0.426170</td>\n",
       "      <td>3.800000</td>\n",
       "      <td>0.072831</td>\n",
       "    </tr>\n",
       "    <tr>\n",
       "      <th>75%</th>\n",
       "      <td>0.762405</td>\n",
       "      <td>0.698679</td>\n",
       "      <td>4.000000</td>\n",
       "      <td>0.152803</td>\n",
       "    </tr>\n",
       "    <tr>\n",
       "      <th>max</th>\n",
       "      <td>1.000000</td>\n",
       "      <td>1.000000</td>\n",
       "      <td>4.900000</td>\n",
       "      <td>1.000000</td>\n",
       "    </tr>\n",
       "  </tbody>\n",
       "</table>\n",
       "</div>"
      ],
      "text/plain": [
       "          CUISINES     LOCALITY       RATING        VOTES\n",
       "count  4129.000000  4129.000000  4129.000000  4129.000000\n",
       "mean      0.537573     0.460975     3.772221     0.125352\n",
       "std       0.288454     0.283004     0.406573     0.156074\n",
       "min       0.000000     0.000000     2.100000     0.000000\n",
       "25%       0.280794     0.230492     3.600000     0.022135\n",
       "50%       0.582604     0.426170     3.800000     0.072831\n",
       "75%       0.762405     0.698679     4.000000     0.152803\n",
       "max       1.000000     1.000000     4.900000     1.000000"
      ]
     },
     "execution_count": 121,
     "metadata": {},
     "output_type": "execute_result"
    }
   ],
   "source": [
    "dftest.describe()"
   ]
  },
  {
   "cell_type": "code",
   "execution_count": 122,
   "metadata": {},
   "outputs": [
    {
     "name": "stdout",
     "output_type": "stream",
     "text": [
      "0.4113612195300278\n"
     ]
    }
   ],
   "source": [
    "# load the model from disk\n",
    "load_model = joblib.load(filename)\n",
    "result = load_model.score(X_test, y_test)\n",
    "print(result)"
   ]
  },
  {
   "cell_type": "code",
   "execution_count": 123,
   "metadata": {},
   "outputs": [
    {
     "data": {
      "text/plain": [
       "array([0.40550041, 0.21215881, 0.19354839, ..., 0.42436931, 0.2382651 ,\n",
       "       0.14314516])"
      ]
     },
     "execution_count": 123,
     "metadata": {},
     "output_type": "execute_result"
    }
   ],
   "source": [
    "pred = load_model.predict(dftest)\n",
    "pred"
   ]
  },
  {
   "cell_type": "code",
   "execution_count": null,
   "metadata": {},
   "outputs": [],
   "source": []
  }
 ],
 "metadata": {
  "kernelspec": {
   "display_name": "Python 3",
   "language": "python",
   "name": "python3"
  },
  "language_info": {
   "codemirror_mode": {
    "name": "ipython",
    "version": 3
   },
   "file_extension": ".py",
   "mimetype": "text/x-python",
   "name": "python",
   "nbconvert_exporter": "python",
   "pygments_lexer": "ipython3",
   "version": "3.8.3"
  }
 },
 "nbformat": 4,
 "nbformat_minor": 4
}
