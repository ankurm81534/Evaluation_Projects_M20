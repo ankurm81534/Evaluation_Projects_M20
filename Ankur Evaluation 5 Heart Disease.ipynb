{
 "cells": [
  {
   "cell_type": "markdown",
   "metadata": {},
   "source": [
    "# Program to predict if a person has a heart disease."
   ]
  },
  {
   "cell_type": "code",
   "execution_count": 1,
   "metadata": {},
   "outputs": [],
   "source": [
    "import numpy as np\n",
    "import pandas as pd\n",
    "import matplotlib.pyplot as plt\n",
    "import seaborn as sns\n",
    "import warnings\n",
    "import sklearn\n",
    "warnings.filterwarnings('ignore')"
   ]
  },
  {
   "cell_type": "code",
   "execution_count": 2,
   "metadata": {},
   "outputs": [
    {
     "data": {
      "text/html": [
       "<div>\n",
       "<style scoped>\n",
       "    .dataframe tbody tr th:only-of-type {\n",
       "        vertical-align: middle;\n",
       "    }\n",
       "\n",
       "    .dataframe tbody tr th {\n",
       "        vertical-align: top;\n",
       "    }\n",
       "\n",
       "    .dataframe thead th {\n",
       "        text-align: right;\n",
       "    }\n",
       "</style>\n",
       "<table border=\"1\" class=\"dataframe\">\n",
       "  <thead>\n",
       "    <tr style=\"text-align: right;\">\n",
       "      <th></th>\n",
       "      <th>age</th>\n",
       "      <th>sex</th>\n",
       "      <th>cp</th>\n",
       "      <th>trestbps</th>\n",
       "      <th>chol</th>\n",
       "      <th>fbs</th>\n",
       "      <th>restecg</th>\n",
       "      <th>thalach</th>\n",
       "      <th>exang</th>\n",
       "      <th>oldpeak</th>\n",
       "      <th>slope</th>\n",
       "      <th>ca</th>\n",
       "      <th>thal</th>\n",
       "      <th>num</th>\n",
       "    </tr>\n",
       "  </thead>\n",
       "  <tbody>\n",
       "    <tr>\n",
       "      <th>0</th>\n",
       "      <td>63</td>\n",
       "      <td>1</td>\n",
       "      <td>4</td>\n",
       "      <td>140</td>\n",
       "      <td>260</td>\n",
       "      <td>0</td>\n",
       "      <td>1</td>\n",
       "      <td>112</td>\n",
       "      <td>1</td>\n",
       "      <td>3</td>\n",
       "      <td>2</td>\n",
       "      <td>?</td>\n",
       "      <td>?</td>\n",
       "      <td>2</td>\n",
       "    </tr>\n",
       "    <tr>\n",
       "      <th>1</th>\n",
       "      <td>44</td>\n",
       "      <td>1</td>\n",
       "      <td>4</td>\n",
       "      <td>130</td>\n",
       "      <td>209</td>\n",
       "      <td>0</td>\n",
       "      <td>1</td>\n",
       "      <td>127</td>\n",
       "      <td>0</td>\n",
       "      <td>0</td>\n",
       "      <td>?</td>\n",
       "      <td>?</td>\n",
       "      <td>?</td>\n",
       "      <td>0</td>\n",
       "    </tr>\n",
       "    <tr>\n",
       "      <th>2</th>\n",
       "      <td>60</td>\n",
       "      <td>1</td>\n",
       "      <td>4</td>\n",
       "      <td>132</td>\n",
       "      <td>218</td>\n",
       "      <td>0</td>\n",
       "      <td>1</td>\n",
       "      <td>140</td>\n",
       "      <td>1</td>\n",
       "      <td>1.5</td>\n",
       "      <td>3</td>\n",
       "      <td>?</td>\n",
       "      <td>?</td>\n",
       "      <td>2</td>\n",
       "    </tr>\n",
       "    <tr>\n",
       "      <th>3</th>\n",
       "      <td>55</td>\n",
       "      <td>1</td>\n",
       "      <td>4</td>\n",
       "      <td>142</td>\n",
       "      <td>228</td>\n",
       "      <td>0</td>\n",
       "      <td>1</td>\n",
       "      <td>149</td>\n",
       "      <td>1</td>\n",
       "      <td>2.5</td>\n",
       "      <td>1</td>\n",
       "      <td>?</td>\n",
       "      <td>?</td>\n",
       "      <td>1</td>\n",
       "    </tr>\n",
       "    <tr>\n",
       "      <th>4</th>\n",
       "      <td>66</td>\n",
       "      <td>1</td>\n",
       "      <td>3</td>\n",
       "      <td>110</td>\n",
       "      <td>213</td>\n",
       "      <td>1</td>\n",
       "      <td>2</td>\n",
       "      <td>99</td>\n",
       "      <td>1</td>\n",
       "      <td>1.3</td>\n",
       "      <td>2</td>\n",
       "      <td>?</td>\n",
       "      <td>?</td>\n",
       "      <td>0</td>\n",
       "    </tr>\n",
       "  </tbody>\n",
       "</table>\n",
       "</div>"
      ],
      "text/plain": [
       "   age  sex  cp trestbps chol fbs  restecg thalach exang oldpeak slope ca  \\\n",
       "0   63    1   4      140  260   0        1     112     1       3     2  ?   \n",
       "1   44    1   4      130  209   0        1     127     0       0     ?  ?   \n",
       "2   60    1   4      132  218   0        1     140     1     1.5     3  ?   \n",
       "3   55    1   4      142  228   0        1     149     1     2.5     1  ?   \n",
       "4   66    1   3      110  213   1        2      99     1     1.3     2  ?   \n",
       "\n",
       "  thal  num  \n",
       "0    ?    2  \n",
       "1    ?    0  \n",
       "2    ?    2  \n",
       "3    ?    1  \n",
       "4    ?    0  "
      ]
     },
     "execution_count": 2,
     "metadata": {},
     "output_type": "execute_result"
    }
   ],
   "source": [
    "hrtdf = pd.read_csv(\"heartdisease_data.csv\")\n",
    "hrtdf.head()"
   ]
  },
  {
   "cell_type": "code",
   "execution_count": 3,
   "metadata": {},
   "outputs": [
    {
     "name": "stdout",
     "output_type": "stream",
     "text": [
      "<class 'pandas.core.frame.DataFrame'>\n",
      "RangeIndex: 200 entries, 0 to 199\n",
      "Data columns (total 14 columns):\n",
      " #   Column    Non-Null Count  Dtype \n",
      "---  ------    --------------  ----- \n",
      " 0   age       200 non-null    int64 \n",
      " 1   sex       200 non-null    int64 \n",
      " 2   cp        200 non-null    int64 \n",
      " 3   trestbps  200 non-null    object\n",
      " 4   chol      200 non-null    object\n",
      " 5   fbs       200 non-null    object\n",
      " 6   restecg   200 non-null    int64 \n",
      " 7   thalach   200 non-null    object\n",
      " 8   exang     200 non-null    object\n",
      " 9   oldpeak   200 non-null    object\n",
      " 10  slope     200 non-null    object\n",
      " 11  ca        200 non-null    object\n",
      " 12  thal      200 non-null    object\n",
      " 13  num       200 non-null    int64 \n",
      "dtypes: int64(5), object(9)\n",
      "memory usage: 22.0+ KB\n"
     ]
    }
   ],
   "source": [
    "hrtdf.info()"
   ]
  },
  {
   "cell_type": "markdown",
   "metadata": {},
   "source": [
    "There are no null values in the dataset, but there are strange values indeed '?'. Let's see what values they contain."
   ]
  },
  {
   "cell_type": "code",
   "execution_count": 4,
   "metadata": {},
   "outputs": [
    {
     "data": {
      "text/plain": [
       "age         0\n",
       "sex         0\n",
       "cp          0\n",
       "trestbps    0\n",
       "chol        0\n",
       "fbs         0\n",
       "restecg     0\n",
       "thalach     0\n",
       "exang       0\n",
       "oldpeak     0\n",
       "slope       0\n",
       "ca          0\n",
       "thal        0\n",
       "num         0\n",
       "dtype: int64"
      ]
     },
     "execution_count": 4,
     "metadata": {},
     "output_type": "execute_result"
    }
   ],
   "source": [
    "hrtdf.isnull().sum()"
   ]
  },
  {
   "cell_type": "code",
   "execution_count": 5,
   "metadata": {},
   "outputs": [
    {
     "data": {
      "text/plain": [
       "?    102\n",
       "2     53\n",
       "3     29\n",
       "1     16\n",
       "Name: slope, dtype: int64"
      ]
     },
     "execution_count": 5,
     "metadata": {},
     "output_type": "execute_result"
    }
   ],
   "source": [
    "hrtdf['slope'].value_counts()"
   ]
  },
  {
   "cell_type": "code",
   "execution_count": 6,
   "metadata": {},
   "outputs": [
    {
     "data": {
      "text/plain": [
       "?    198\n",
       "0      2\n",
       "Name: ca, dtype: int64"
      ]
     },
     "execution_count": 6,
     "metadata": {},
     "output_type": "execute_result"
    }
   ],
   "source": [
    "hrtdf['ca'].value_counts()"
   ]
  },
  {
   "cell_type": "code",
   "execution_count": 7,
   "metadata": {},
   "outputs": [
    {
     "data": {
      "text/plain": [
       "?    166\n",
       "7     22\n",
       "6      8\n",
       "3      4\n",
       "Name: thal, dtype: int64"
      ]
     },
     "execution_count": 7,
     "metadata": {},
     "output_type": "execute_result"
    }
   ],
   "source": [
    "hrtdf['thal'].value_counts()"
   ]
  },
  {
   "cell_type": "code",
   "execution_count": 8,
   "metadata": {},
   "outputs": [
    {
     "data": {
      "text/plain": [
       "['trestbps',\n",
       " 'chol',\n",
       " 'fbs',\n",
       " 'thalach',\n",
       " 'exang',\n",
       " 'oldpeak',\n",
       " 'slope',\n",
       " 'ca',\n",
       " 'thal']"
      ]
     },
     "execution_count": 8,
     "metadata": {},
     "output_type": "execute_result"
    }
   ],
   "source": [
    "#Finding the columns containing '?' in their values\n",
    "arr = []\n",
    "for i in hrtdf.columns:\n",
    "    if hrtdf[i].dtype == 'object' and '?' in list(hrtdf[i]):\n",
    "        arr.append(i)\n",
    "\n",
    "arr"
   ]
  },
  {
   "cell_type": "code",
   "execution_count": 9,
   "metadata": {},
   "outputs": [
    {
     "name": "stdout",
     "output_type": "stream",
     "text": [
      "?      56\n",
      "120    16\n",
      "130    15\n",
      "140    10\n",
      "110     9\n",
      "150     9\n",
      "160     8\n",
      "122     6\n",
      "142     5\n",
      "124     4\n",
      "144     4\n",
      "128     4\n",
      "136     4\n",
      "126     4\n",
      "170     4\n",
      "134     4\n",
      "158     3\n",
      "132     3\n",
      "155     2\n",
      "125     2\n",
      "180     2\n",
      "154     2\n",
      "152     2\n",
      "116     2\n",
      "104     2\n",
      "138     2\n",
      "112     2\n",
      "0       1\n",
      "100     1\n",
      "127     1\n",
      "118     1\n",
      "114     1\n",
      "172     1\n",
      "96      1\n",
      "156     1\n",
      "178     1\n",
      "146     1\n",
      "106     1\n",
      "190     1\n",
      "135     1\n",
      "102     1\n",
      "Name: trestbps, dtype: int64\n",
      "0      49\n",
      "?       7\n",
      "258     4\n",
      "203     4\n",
      "220     4\n",
      "       ..\n",
      "248     1\n",
      "233     1\n",
      "237     1\n",
      "182     1\n",
      "222     1\n",
      "Name: chol, Length: 100, dtype: int64\n",
      "0    125\n",
      "1     68\n",
      "?      7\n",
      "Name: fbs, dtype: int64\n",
      "?      53\n",
      "120    12\n",
      "140    12\n",
      "110     8\n",
      "112     6\n",
      "130     6\n",
      "150     4\n",
      "105     4\n",
      "100     4\n",
      "128     4\n",
      "160     4\n",
      "118     4\n",
      "135     3\n",
      "84      3\n",
      "122     3\n",
      "117     3\n",
      "102     3\n",
      "108     3\n",
      "148     3\n",
      "86      3\n",
      "125     3\n",
      "106     3\n",
      "165     2\n",
      "111     2\n",
      "98      2\n",
      "119     2\n",
      "80      2\n",
      "154     2\n",
      "96      2\n",
      "129     2\n",
      "180     2\n",
      "138     2\n",
      "127     2\n",
      "69      1\n",
      "161     1\n",
      "113     1\n",
      "133     1\n",
      "115     1\n",
      "155     1\n",
      "131     1\n",
      "73      1\n",
      "162     1\n",
      "107     1\n",
      "88      1\n",
      "126     1\n",
      "144     1\n",
      "121     1\n",
      "97      1\n",
      "141     1\n",
      "94      1\n",
      "145     1\n",
      "157     1\n",
      "124     1\n",
      "151     1\n",
      "159     1\n",
      "149     1\n",
      "93      1\n",
      "123     1\n",
      "99      1\n",
      "132     1\n",
      "Name: thalach, dtype: int64\n",
      "1    95\n",
      "?    53\n",
      "0    52\n",
      "Name: exang, dtype: int64\n",
      "?       56\n",
      "0       40\n",
      "2       25\n",
      "1.5     21\n",
      "1       18\n",
      "3       13\n",
      "2.5      9\n",
      "0.5      7\n",
      "4        4\n",
      "1.3      2\n",
      "3.5      1\n",
      "1.6      1\n",
      "-0.5     1\n",
      "0.8      1\n",
      "1.7      1\n",
      "Name: oldpeak, dtype: int64\n",
      "?    102\n",
      "2     53\n",
      "3     29\n",
      "1     16\n",
      "Name: slope, dtype: int64\n",
      "?    198\n",
      "0      2\n",
      "Name: ca, dtype: int64\n",
      "?    166\n",
      "7     22\n",
      "6      8\n",
      "3      4\n",
      "Name: thal, dtype: int64\n"
     ]
    }
   ],
   "source": [
    "for i in arr:\n",
    "    print(hrtdf[i].value_counts())"
   ]
  },
  {
   "cell_type": "code",
   "execution_count": 10,
   "metadata": {},
   "outputs": [
    {
     "data": {
      "image/png": "[encoded data removed]",
      "text/plain": [
       "<Figure size 1080x360 with 9 Axes>"
      ]
     },
     "metadata": {
      "needs_background": "light"
     },
     "output_type": "display_data"
    }
   ],
   "source": [
    "plt.figure(figsize=(15,5))\n",
    "for i,j in enumerate(arr):\n",
    "    plt.subplot(1,9,i+1)\n",
    "    sns.countplot(hrtdf.loc[hrtdf[j] == '?', j])\n",
    "    plt.tight_layout()"
   ]
  },
  {
   "cell_type": "markdown",
   "metadata": {},
   "source": [
    "There are lots of '?' as values in many columns throughout the data set. We have only 2 '0' in column 'ca' and all other value is '?'. We can drop it. For the rest we can transform the '?' to some value."
   ]
  },
  {
   "cell_type": "code",
   "execution_count": 11,
   "metadata": {},
   "outputs": [],
   "source": [
    "hrtdf.loc[hrtdf['trestbps'] == '?', 'trestbps' ] = '191'\n",
    "hrtdf.loc[hrtdf['chol'] == '?', 'chol' ] = '459'\n",
    "hrtdf.loc[hrtdf['fbs'] == '?', 'fbs' ] = '2'\n",
    "hrtdf.loc[hrtdf['thalach'] == '?', 'thalach' ] = '181'\n",
    "hrtdf.loc[hrtdf['exang'] == '?', 'exang' ] = '2'\n",
    "hrtdf.loc[hrtdf['oldpeak'] == '?', 'oldpeak' ] = '4.5'\n",
    "hrtdf.loc[hrtdf['slope'] == '?', 'slope' ] = '4'\n",
    "hrtdf.loc[hrtdf['ca'] == '?', 'ca' ] = '1'\n",
    "hrtdf.loc[hrtdf['thal'] == '?', 'thal' ] = '8'"
   ]
  },
  {
   "cell_type": "code",
   "execution_count": 12,
   "metadata": {},
   "outputs": [
    {
     "data": {
      "text/plain": [
       "[]"
      ]
     },
     "execution_count": 12,
     "metadata": {},
     "output_type": "execute_result"
    }
   ],
   "source": [
    "#Finding the columns containing '?' in their values\n",
    "arr1 = []\n",
    "for i in hrtdf.columns:\n",
    "    if hrtdf[i].dtype == 'object' and '?' in list(hrtdf[i]):\n",
    "        arr1.append(i)\n",
    "\n",
    "arr1"
   ]
  },
  {
   "cell_type": "markdown",
   "metadata": {},
   "source": [
    "All the '?' values are converted to some value, the logic I used is I have replaced '?' with the next possible max value in that column."
   ]
  },
  {
   "cell_type": "code",
   "execution_count": 13,
   "metadata": {},
   "outputs": [
    {
     "name": "stdout",
     "output_type": "stream",
     "text": [
      "191    56\n",
      "120    16\n",
      "130    15\n",
      "140    10\n",
      "150     9\n",
      "110     9\n",
      "160     8\n",
      "122     6\n",
      "142     5\n",
      "124     4\n",
      "144     4\n",
      "128     4\n",
      "136     4\n",
      "126     4\n",
      "170     4\n",
      "134     4\n",
      "158     3\n",
      "132     3\n",
      "155     2\n",
      "125     2\n",
      "180     2\n",
      "154     2\n",
      "152     2\n",
      "116     2\n",
      "104     2\n",
      "138     2\n",
      "112     2\n",
      "0       1\n",
      "100     1\n",
      "127     1\n",
      "118     1\n",
      "114     1\n",
      "172     1\n",
      "96      1\n",
      "156     1\n",
      "178     1\n",
      "146     1\n",
      "106     1\n",
      "190     1\n",
      "135     1\n",
      "102     1\n",
      "Name: trestbps, dtype: int64\n",
      "0      49\n",
      "459     7\n",
      "220     4\n",
      "258     4\n",
      "203     4\n",
      "       ..\n",
      "248     1\n",
      "233     1\n",
      "237     1\n",
      "182     1\n",
      "222     1\n",
      "Name: chol, Length: 100, dtype: int64\n",
      "0    125\n",
      "1     68\n",
      "2      7\n",
      "Name: fbs, dtype: int64\n",
      "181    53\n",
      "120    12\n",
      "140    12\n",
      "110     8\n",
      "130     6\n",
      "112     6\n",
      "128     4\n",
      "160     4\n",
      "118     4\n",
      "150     4\n",
      "100     4\n",
      "105     4\n",
      "122     3\n",
      "117     3\n",
      "84      3\n",
      "135     3\n",
      "102     3\n",
      "108     3\n",
      "106     3\n",
      "125     3\n",
      "86      3\n",
      "148     3\n",
      "119     2\n",
      "98      2\n",
      "80      2\n",
      "96      2\n",
      "111     2\n",
      "154     2\n",
      "180     2\n",
      "138     2\n",
      "129     2\n",
      "165     2\n",
      "127     2\n",
      "155     1\n",
      "69      1\n",
      "161     1\n",
      "145     1\n",
      "133     1\n",
      "115     1\n",
      "113     1\n",
      "149     1\n",
      "162     1\n",
      "131     1\n",
      "88      1\n",
      "126     1\n",
      "121     1\n",
      "97      1\n",
      "141     1\n",
      "94      1\n",
      "107     1\n",
      "124     1\n",
      "157     1\n",
      "151     1\n",
      "144     1\n",
      "73      1\n",
      "159     1\n",
      "93      1\n",
      "123     1\n",
      "99      1\n",
      "132     1\n",
      "Name: thalach, dtype: int64\n",
      "1    95\n",
      "2    53\n",
      "0    52\n",
      "Name: exang, dtype: int64\n",
      "4.5     56\n",
      "0       40\n",
      "2       25\n",
      "1.5     21\n",
      "1       18\n",
      "3       13\n",
      "2.5      9\n",
      "0.5      7\n",
      "4        4\n",
      "1.3      2\n",
      "3.5      1\n",
      "-0.5     1\n",
      "1.6      1\n",
      "0.8      1\n",
      "1.7      1\n",
      "Name: oldpeak, dtype: int64\n",
      "4    102\n",
      "2     53\n",
      "3     29\n",
      "1     16\n",
      "Name: slope, dtype: int64\n",
      "1    198\n",
      "0      2\n",
      "Name: ca, dtype: int64\n",
      "8    166\n",
      "7     22\n",
      "6      8\n",
      "3      4\n",
      "Name: thal, dtype: int64\n"
     ]
    }
   ],
   "source": [
    "for i in arr:\n",
    "    print(hrtdf[i].value_counts())"
   ]
  },
  {
   "cell_type": "code",
   "execution_count": 14,
   "metadata": {},
   "outputs": [],
   "source": [
    "for i in arr:\n",
    "    hrtdf[i] = hrtdf[i].astype('float64')"
   ]
  },
  {
   "cell_type": "code",
   "execution_count": 15,
   "metadata": {},
   "outputs": [
    {
     "data": {
      "text/plain": [
       "age           int64\n",
       "sex           int64\n",
       "cp            int64\n",
       "trestbps    float64\n",
       "chol        float64\n",
       "fbs         float64\n",
       "restecg       int64\n",
       "thalach     float64\n",
       "exang       float64\n",
       "oldpeak     float64\n",
       "slope       float64\n",
       "ca          float64\n",
       "thal        float64\n",
       "num           int64\n",
       "dtype: object"
      ]
     },
     "execution_count": 15,
     "metadata": {},
     "output_type": "execute_result"
    }
   ],
   "source": [
    "hrtdf.dtypes"
   ]
  },
  {
   "cell_type": "code",
   "execution_count": 16,
   "metadata": {},
   "outputs": [
    {
     "data": {
      "image/png": "[encoded data removed]",
      "text/plain": [
       "<Figure size 1440x1440 with 14 Axes>"
      ]
     },
     "metadata": {
      "needs_background": "light"
     },
     "output_type": "display_data"
    }
   ],
   "source": [
    "plt.figure(figsize=(20,20))\n",
    "for i,j in enumerate(hrtdf.columns):\n",
    "    plt.subplot(5,3,i+1)\n",
    "    sns.distplot(hrtdf[j])\n",
    "    plt.tight_layout()\n",
    "plt.show()"
   ]
  },
  {
   "cell_type": "code",
   "execution_count": 17,
   "metadata": {},
   "outputs": [
    {
     "data": {
      "text/plain": [
       "age        -0.404091\n",
       "sex        -5.552105\n",
       "cp         -1.648734\n",
       "trestbps   -0.270014\n",
       "chol       -0.253012\n",
       "fbs         0.968540\n",
       "restecg     0.391463\n",
       "thalach     0.084198\n",
       "exang      -0.007615\n",
       "oldpeak     0.173826\n",
       "slope      -0.597696\n",
       "ca         -9.923956\n",
       "thal       -4.095304\n",
       "num         0.297393\n",
       "dtype: float64"
      ]
     },
     "execution_count": 17,
     "metadata": {},
     "output_type": "execute_result"
    }
   ],
   "source": [
    "hrtdf.skew()"
   ]
  },
  {
   "cell_type": "markdown",
   "metadata": {},
   "source": [
    "The high skew columns have less number of unique values, so no need to transform them, its fine."
   ]
  },
  {
   "cell_type": "code",
   "execution_count": 18,
   "metadata": {},
   "outputs": [
    {
     "data": {
      "text/html": [
       "<div>\n",
       "<style scoped>\n",
       "    .dataframe tbody tr th:only-of-type {\n",
       "        vertical-align: middle;\n",
       "    }\n",
       "\n",
       "    .dataframe tbody tr th {\n",
       "        vertical-align: top;\n",
       "    }\n",
       "\n",
       "    .dataframe thead th {\n",
       "        text-align: right;\n",
       "    }\n",
       "</style>\n",
       "<table border=\"1\" class=\"dataframe\">\n",
       "  <thead>\n",
       "    <tr style=\"text-align: right;\">\n",
       "      <th></th>\n",
       "      <th>age</th>\n",
       "      <th>sex</th>\n",
       "      <th>cp</th>\n",
       "      <th>trestbps</th>\n",
       "      <th>chol</th>\n",
       "      <th>fbs</th>\n",
       "      <th>restecg</th>\n",
       "      <th>thalach</th>\n",
       "      <th>exang</th>\n",
       "      <th>oldpeak</th>\n",
       "      <th>slope</th>\n",
       "      <th>ca</th>\n",
       "      <th>thal</th>\n",
       "      <th>num</th>\n",
       "    </tr>\n",
       "  </thead>\n",
       "  <tbody>\n",
       "    <tr>\n",
       "      <th>count</th>\n",
       "      <td>200.000000</td>\n",
       "      <td>200.000000</td>\n",
       "      <td>200.000000</td>\n",
       "      <td>200.000000</td>\n",
       "      <td>200.000000</td>\n",
       "      <td>200.000000</td>\n",
       "      <td>200.000000</td>\n",
       "      <td>200.000000</td>\n",
       "      <td>200.00000</td>\n",
       "      <td>200.000000</td>\n",
       "      <td>200.000000</td>\n",
       "      <td>200.000000</td>\n",
       "      <td>200.000000</td>\n",
       "      <td>200.000000</td>\n",
       "    </tr>\n",
       "    <tr>\n",
       "      <th>mean</th>\n",
       "      <td>59.350000</td>\n",
       "      <td>0.970000</td>\n",
       "      <td>3.505000</td>\n",
       "      <td>149.790000</td>\n",
       "      <td>188.555000</td>\n",
       "      <td>0.410000</td>\n",
       "      <td>0.735000</td>\n",
       "      <td>138.220000</td>\n",
       "      <td>1.00500</td>\n",
       "      <td>2.211000</td>\n",
       "      <td>3.085000</td>\n",
       "      <td>0.990000</td>\n",
       "      <td>7.710000</td>\n",
       "      <td>1.520000</td>\n",
       "    </tr>\n",
       "    <tr>\n",
       "      <th>std</th>\n",
       "      <td>7.811697</td>\n",
       "      <td>0.171015</td>\n",
       "      <td>0.795701</td>\n",
       "      <td>31.576753</td>\n",
       "      <td>123.339777</td>\n",
       "      <td>0.559882</td>\n",
       "      <td>0.683455</td>\n",
       "      <td>31.905192</td>\n",
       "      <td>0.72637</td>\n",
       "      <td>1.710911</td>\n",
       "      <td>1.045582</td>\n",
       "      <td>0.099748</td>\n",
       "      <td>0.830269</td>\n",
       "      <td>1.219441</td>\n",
       "    </tr>\n",
       "    <tr>\n",
       "      <th>min</th>\n",
       "      <td>35.000000</td>\n",
       "      <td>0.000000</td>\n",
       "      <td>1.000000</td>\n",
       "      <td>0.000000</td>\n",
       "      <td>0.000000</td>\n",
       "      <td>0.000000</td>\n",
       "      <td>0.000000</td>\n",
       "      <td>69.000000</td>\n",
       "      <td>0.00000</td>\n",
       "      <td>-0.500000</td>\n",
       "      <td>1.000000</td>\n",
       "      <td>0.000000</td>\n",
       "      <td>3.000000</td>\n",
       "      <td>0.000000</td>\n",
       "    </tr>\n",
       "    <tr>\n",
       "      <th>25%</th>\n",
       "      <td>55.000000</td>\n",
       "      <td>1.000000</td>\n",
       "      <td>3.000000</td>\n",
       "      <td>125.750000</td>\n",
       "      <td>129.250000</td>\n",
       "      <td>0.000000</td>\n",
       "      <td>0.000000</td>\n",
       "      <td>112.000000</td>\n",
       "      <td>0.00000</td>\n",
       "      <td>1.000000</td>\n",
       "      <td>2.000000</td>\n",
       "      <td>1.000000</td>\n",
       "      <td>8.000000</td>\n",
       "      <td>0.000000</td>\n",
       "    </tr>\n",
       "    <tr>\n",
       "      <th>50%</th>\n",
       "      <td>60.000000</td>\n",
       "      <td>1.000000</td>\n",
       "      <td>4.000000</td>\n",
       "      <td>142.000000</td>\n",
       "      <td>217.500000</td>\n",
       "      <td>0.000000</td>\n",
       "      <td>1.000000</td>\n",
       "      <td>130.500000</td>\n",
       "      <td>1.00000</td>\n",
       "      <td>2.000000</td>\n",
       "      <td>4.000000</td>\n",
       "      <td>1.000000</td>\n",
       "      <td>8.000000</td>\n",
       "      <td>1.000000</td>\n",
       "    </tr>\n",
       "    <tr>\n",
       "      <th>75%</th>\n",
       "      <td>64.000000</td>\n",
       "      <td>1.000000</td>\n",
       "      <td>4.000000</td>\n",
       "      <td>191.000000</td>\n",
       "      <td>260.250000</td>\n",
       "      <td>1.000000</td>\n",
       "      <td>1.000000</td>\n",
       "      <td>181.000000</td>\n",
       "      <td>2.00000</td>\n",
       "      <td>4.500000</td>\n",
       "      <td>4.000000</td>\n",
       "      <td>1.000000</td>\n",
       "      <td>8.000000</td>\n",
       "      <td>3.000000</td>\n",
       "    </tr>\n",
       "    <tr>\n",
       "      <th>max</th>\n",
       "      <td>77.000000</td>\n",
       "      <td>1.000000</td>\n",
       "      <td>4.000000</td>\n",
       "      <td>191.000000</td>\n",
       "      <td>459.000000</td>\n",
       "      <td>2.000000</td>\n",
       "      <td>2.000000</td>\n",
       "      <td>181.000000</td>\n",
       "      <td>2.00000</td>\n",
       "      <td>4.500000</td>\n",
       "      <td>4.000000</td>\n",
       "      <td>1.000000</td>\n",
       "      <td>8.000000</td>\n",
       "      <td>4.000000</td>\n",
       "    </tr>\n",
       "  </tbody>\n",
       "</table>\n",
       "</div>"
      ],
      "text/plain": [
       "              age         sex          cp    trestbps        chol         fbs  \\\n",
       "count  200.000000  200.000000  200.000000  200.000000  200.000000  200.000000   \n",
       "mean    59.350000    0.970000    3.505000  149.790000  188.555000    0.410000   \n",
       "std      7.811697    0.171015    0.795701   31.576753  123.339777    0.559882   \n",
       "min     35.000000    0.000000    1.000000    0.000000    0.000000    0.000000   \n",
       "25%     55.000000    1.000000    3.000000  125.750000  129.250000    0.000000   \n",
       "50%     60.000000    1.000000    4.000000  142.000000  217.500000    0.000000   \n",
       "75%     64.000000    1.000000    4.000000  191.000000  260.250000    1.000000   \n",
       "max     77.000000    1.000000    4.000000  191.000000  459.000000    2.000000   \n",
       "\n",
       "          restecg     thalach      exang     oldpeak       slope          ca  \\\n",
       "count  200.000000  200.000000  200.00000  200.000000  200.000000  200.000000   \n",
       "mean     0.735000  138.220000    1.00500    2.211000    3.085000    0.990000   \n",
       "std      0.683455   31.905192    0.72637    1.710911    1.045582    0.099748   \n",
       "min      0.000000   69.000000    0.00000   -0.500000    1.000000    0.000000   \n",
       "25%      0.000000  112.000000    0.00000    1.000000    2.000000    1.000000   \n",
       "50%      1.000000  130.500000    1.00000    2.000000    4.000000    1.000000   \n",
       "75%      1.000000  181.000000    2.00000    4.500000    4.000000    1.000000   \n",
       "max      2.000000  181.000000    2.00000    4.500000    4.000000    1.000000   \n",
       "\n",
       "             thal         num  \n",
       "count  200.000000  200.000000  \n",
       "mean     7.710000    1.520000  \n",
       "std      0.830269    1.219441  \n",
       "min      3.000000    0.000000  \n",
       "25%      8.000000    0.000000  \n",
       "50%      8.000000    1.000000  \n",
       "75%      8.000000    3.000000  \n",
       "max      8.000000    4.000000  "
      ]
     },
     "execution_count": 18,
     "metadata": {},
     "output_type": "execute_result"
    }
   ],
   "source": [
    "hrtdf.describe()"
   ]
  },
  {
   "cell_type": "markdown",
   "metadata": {},
   "source": [
    "chol column seems to be having some outliers."
   ]
  },
  {
   "cell_type": "markdown",
   "metadata": {},
   "source": [
    "Let's check outliers"
   ]
  },
  {
   "cell_type": "code",
   "execution_count": 19,
   "metadata": {},
   "outputs": [
    {
     "data": {
      "image/png": "[encoded data removed]",
      "text/plain": [
       "<Figure size 1440x720 with 13 Axes>"
      ]
     },
     "metadata": {
      "needs_background": "light"
     },
     "output_type": "display_data"
    }
   ],
   "source": [
    "plt.figure(figsize=(20,10))\n",
    "for i,j in enumerate(hrtdf.columns[:-1]):\n",
    "    plt.subplot(1,13,i+1)\n",
    "    sns.boxplot(hrtdf[j], orient='v')\n",
    "    plt.tight_layout()\n",
    "plt.show()"
   ]
  },
  {
   "cell_type": "code",
   "execution_count": 20,
   "metadata": {},
   "outputs": [
    {
     "data": {
      "text/plain": [
       "(200, 14)"
      ]
     },
     "execution_count": 20,
     "metadata": {},
     "output_type": "execute_result"
    }
   ],
   "source": [
    "hrtdf.shape"
   ]
  },
  {
   "cell_type": "markdown",
   "metadata": {},
   "source": [
    "There are few outliers in columns age, cp, tresbps, chol, ca and thal"
   ]
  },
  {
   "cell_type": "code",
   "execution_count": 21,
   "metadata": {},
   "outputs": [
    {
     "name": "stdout",
     "output_type": "stream",
     "text": [
      "age [63 44 60 55 66 65 56 59 62 57 46 58 64 74 52 69 51 54 77 61 40 41 42 53\n",
      " 68 67 72 75 49 35 43 48 50 45 76 70 71 38 37]\n",
      "sex [1 0]\n",
      "cp [4 3 2 1]\n",
      "trestbps [140. 130. 132. 142. 110. 120. 150. 180. 160. 126. 191. 128. 170. 152.\n",
      " 116. 124.   0. 122. 144. 154. 125. 104. 136. 134. 138. 178. 146. 135.\n",
      " 158. 106. 112. 102.  96. 172. 155. 156. 118. 100. 190. 114. 127.]\n",
      "chol [260. 209. 218. 228. 213.   0. 236. 267. 166. 220. 177. 186. 100. 171.\n",
      " 230. 281. 203. 277. 233. 240. 153. 224. 316. 311. 270. 217. 214. 252.\n",
      " 339. 216. 276. 458. 241. 384. 297. 248. 308. 208. 227. 210. 245. 225.\n",
      " 198. 195. 161. 258. 235. 305. 223. 282. 349. 459. 160. 312. 283. 142.\n",
      " 211. 306. 222. 202. 197. 204. 274. 192. 298. 272. 200. 261. 181. 221.\n",
      " 175. 219. 310. 232. 273. 182. 292. 289. 193. 170. 369. 173. 271. 244.\n",
      " 285. 243. 237. 165. 287. 256. 264. 226. 207. 284. 337. 254. 300. 333.\n",
      " 139. 385.]\n",
      "fbs [0. 1. 2.]\n",
      "restecg [1 2 0]\n",
      "thalach [112. 127. 140. 149.  99. 120. 105. 141. 157. 117. 181. 148.  86.  84.\n",
      " 125. 118. 124. 106. 111. 180. 129. 110. 155. 122. 133. 131.  80. 165.\n",
      " 107. 128. 160.  97. 161. 130. 108. 123. 144. 102. 145.  69. 138. 150.\n",
      "  88. 132. 121. 135. 100. 162.  73. 154. 115. 119. 159.  94. 113.  98.\n",
      "  96. 151. 126.  93.]\n",
      "exang [1. 0. 2.]\n",
      "oldpeak [ 3.   0.   1.5  2.5  1.3 -0.5  2.   0.5  1.   4.5  1.6  4.   3.5  0.8\n",
      "  1.7]\n",
      "slope [2. 4. 3. 1.]\n",
      "ca [1. 0.]\n",
      "thal [8. 3. 7. 6.]\n",
      "num [2 0 1 3 4]\n"
     ]
    }
   ],
   "source": [
    "for i in hrtdf.columns:\n",
    "    print(i,hrtdf[i].unique())"
   ]
  },
  {
   "cell_type": "code",
   "execution_count": 22,
   "metadata": {},
   "outputs": [],
   "source": [
    "hrtdf_copy = hrtdf.copy()"
   ]
  },
  {
   "cell_type": "code",
   "execution_count": 23,
   "metadata": {},
   "outputs": [],
   "source": [
    "from scipy.stats import zscore"
   ]
  },
  {
   "cell_type": "code",
   "execution_count": 24,
   "metadata": {},
   "outputs": [],
   "source": [
    "hrtdf_copy['trestbps_Zscore'] = zscore(hrtdf_copy['trestbps'])\n",
    "hrtdf_copy['chol_Zscore'] = zscore(hrtdf_copy['chol'])"
   ]
  },
  {
   "cell_type": "markdown",
   "metadata": {},
   "source": [
    "There are several unique values which can be removed as outliers are only present in trestbps and chol, so let's clean the data of outliers."
   ]
  },
  {
   "cell_type": "code",
   "execution_count": 25,
   "metadata": {},
   "outputs": [
    {
     "data": {
      "text/plain": [
       "69     1.308349\n",
       "137    1.308349\n",
       "167    1.308349\n",
       "26     1.308349\n",
       "44     1.308349\n",
       "         ...   \n",
       "125   -1.453756\n",
       "102   -1.517253\n",
       "175   -1.580750\n",
       "103   -1.707743\n",
       "33    -4.755583\n",
       "Name: trestbps_Zscore, Length: 200, dtype: float64"
      ]
     },
     "execution_count": 25,
     "metadata": {},
     "output_type": "execute_result"
    }
   ],
   "source": [
    "hrtdf_copy['trestbps_Zscore'].sort_values(ascending=False)"
   ]
  },
  {
   "cell_type": "code",
   "execution_count": 26,
   "metadata": {},
   "outputs": [
    {
     "data": {
      "text/plain": [
       "107    2.198185\n",
       "164    2.198185\n",
       "165    2.198185\n",
       "157    2.198185\n",
       "155    2.198185\n",
       "         ...   \n",
       "40    -1.532581\n",
       "39    -1.532581\n",
       "37    -1.532581\n",
       "35    -1.532581\n",
       "99    -1.532581\n",
       "Name: chol_Zscore, Length: 200, dtype: float64"
      ]
     },
     "execution_count": 26,
     "metadata": {},
     "output_type": "execute_result"
    }
   ],
   "source": [
    "hrtdf_copy['chol_Zscore'].sort_values(ascending=False)"
   ]
  },
  {
   "cell_type": "code",
   "execution_count": 27,
   "metadata": {},
   "outputs": [
    {
     "data": {
      "text/plain": [
       "(200, 16)"
      ]
     },
     "execution_count": 27,
     "metadata": {},
     "output_type": "execute_result"
    }
   ],
   "source": [
    "hrtdf_copy.shape"
   ]
  },
  {
   "cell_type": "code",
   "execution_count": 28,
   "metadata": {},
   "outputs": [],
   "source": [
    "hrtdf_copy = hrtdf_copy[((hrtdf_copy['trestbps_Zscore'] < 3) & (hrtdf_copy['trestbps_Zscore'] > -3)) & ((hrtdf_copy['chol_Zscore'] < 3) & (hrtdf_copy['chol_Zscore'] > -3))]"
   ]
  },
  {
   "cell_type": "code",
   "execution_count": 29,
   "metadata": {},
   "outputs": [
    {
     "data": {
      "text/plain": [
       "(199, 16)"
      ]
     },
     "execution_count": 29,
     "metadata": {},
     "output_type": "execute_result"
    }
   ],
   "source": [
    "hrtdf_copy.shape"
   ]
  },
  {
   "cell_type": "code",
   "execution_count": 30,
   "metadata": {},
   "outputs": [
    {
     "name": "stdout",
     "output_type": "stream",
     "text": [
      "Max Zscore of trestbps: 1.3083489745188606\n",
      "Min Zscore of trestbps: -1.7077430560390556\n"
     ]
    }
   ],
   "source": [
    "print(\"Max Zscore of trestbps:\",hrtdf_copy['trestbps_Zscore'].max())\n",
    "print(\"Min Zscore of trestbps:\",hrtdf_copy['trestbps_Zscore'].min())"
   ]
  },
  {
   "cell_type": "code",
   "execution_count": 31,
   "metadata": {},
   "outputs": [
    {
     "name": "stdout",
     "output_type": "stream",
     "text": [
      "Max Zscore of chol: 2.198185095954222\n",
      "Min Zscore of chol: -1.532580712409726\n"
     ]
    }
   ],
   "source": [
    "print(\"Max Zscore of chol:\",hrtdf_copy['chol_Zscore'].max())\n",
    "print(\"Min Zscore of chol:\",hrtdf_copy['chol_Zscore'].min())"
   ]
  },
  {
   "cell_type": "code",
   "execution_count": 32,
   "metadata": {},
   "outputs": [
    {
     "data": {
      "image/png": "[encoded data removed]",
      "text/plain": [
       "<Figure size 1440x720 with 13 Axes>"
      ]
     },
     "metadata": {
      "needs_background": "light"
     },
     "output_type": "display_data"
    }
   ],
   "source": [
    "plt.figure(figsize=(20,10))\n",
    "for i,j in enumerate(hrtdf_copy.columns[:-3]):\n",
    "    plt.subplot(1,13,i+1)\n",
    "    sns.boxplot(hrtdf_copy[j], orient='v')\n",
    "    plt.tight_layout()\n",
    "plt.show()"
   ]
  },
  {
   "cell_type": "markdown",
   "metadata": {},
   "source": [
    "Let's do some correlation checks."
   ]
  },
  {
   "cell_type": "code",
   "execution_count": 33,
   "metadata": {},
   "outputs": [],
   "source": [
    "hrtdf_copy.drop([\"trestbps_Zscore\", \"chol_Zscore\"], 1, inplace=True)"
   ]
  },
  {
   "cell_type": "code",
   "execution_count": 34,
   "metadata": {},
   "outputs": [
    {
     "data": {
      "text/html": [
       "<div>\n",
       "<style scoped>\n",
       "    .dataframe tbody tr th:only-of-type {\n",
       "        vertical-align: middle;\n",
       "    }\n",
       "\n",
       "    .dataframe tbody tr th {\n",
       "        vertical-align: top;\n",
       "    }\n",
       "\n",
       "    .dataframe thead th {\n",
       "        text-align: right;\n",
       "    }\n",
       "</style>\n",
       "<table border=\"1\" class=\"dataframe\">\n",
       "  <thead>\n",
       "    <tr style=\"text-align: right;\">\n",
       "      <th></th>\n",
       "      <th>age</th>\n",
       "      <th>sex</th>\n",
       "      <th>cp</th>\n",
       "      <th>trestbps</th>\n",
       "      <th>chol</th>\n",
       "      <th>fbs</th>\n",
       "      <th>restecg</th>\n",
       "      <th>thalach</th>\n",
       "      <th>exang</th>\n",
       "      <th>oldpeak</th>\n",
       "      <th>slope</th>\n",
       "      <th>ca</th>\n",
       "      <th>thal</th>\n",
       "      <th>num</th>\n",
       "    </tr>\n",
       "  </thead>\n",
       "  <tbody>\n",
       "    <tr>\n",
       "      <th>num</th>\n",
       "      <td>0.292018</td>\n",
       "      <td>0.146953</td>\n",
       "      <td>0.172920</td>\n",
       "      <td>0.077588</td>\n",
       "      <td>0.101872</td>\n",
       "      <td>0.051561</td>\n",
       "      <td>-0.026384</td>\n",
       "      <td>-0.122317</td>\n",
       "      <td>0.079966</td>\n",
       "      <td>0.109839</td>\n",
       "      <td>-0.111966</td>\n",
       "      <td>0.083978</td>\n",
       "      <td>0.113265</td>\n",
       "      <td>1.000000</td>\n",
       "    </tr>\n",
       "    <tr>\n",
       "      <th>age</th>\n",
       "      <td>1.000000</td>\n",
       "      <td>0.034753</td>\n",
       "      <td>-0.040137</td>\n",
       "      <td>0.109076</td>\n",
       "      <td>0.078313</td>\n",
       "      <td>0.054701</td>\n",
       "      <td>-0.000627</td>\n",
       "      <td>-0.080770</td>\n",
       "      <td>0.079494</td>\n",
       "      <td>0.081923</td>\n",
       "      <td>-0.009689</td>\n",
       "      <td>0.024163</td>\n",
       "      <td>0.107478</td>\n",
       "      <td>0.292018</td>\n",
       "    </tr>\n",
       "    <tr>\n",
       "      <th>cp</th>\n",
       "      <td>-0.040137</td>\n",
       "      <td>0.038641</td>\n",
       "      <td>1.000000</td>\n",
       "      <td>-0.156259</td>\n",
       "      <td>0.076425</td>\n",
       "      <td>-0.052215</td>\n",
       "      <td>0.031467</td>\n",
       "      <td>-0.253344</td>\n",
       "      <td>-0.087588</td>\n",
       "      <td>-0.217625</td>\n",
       "      <td>-0.188766</td>\n",
       "      <td>-0.062423</td>\n",
       "      <td>-0.065218</td>\n",
       "      <td>0.172920</td>\n",
       "    </tr>\n",
       "    <tr>\n",
       "      <th>sex</th>\n",
       "      <td>0.034753</td>\n",
       "      <td>1.000000</td>\n",
       "      <td>0.038641</td>\n",
       "      <td>0.050667</td>\n",
       "      <td>-0.072378</td>\n",
       "      <td>-0.027732</td>\n",
       "      <td>0.061759</td>\n",
       "      <td>0.030245</td>\n",
       "      <td>0.043105</td>\n",
       "      <td>0.090856</td>\n",
       "      <td>0.043477</td>\n",
       "      <td>-0.017766</td>\n",
       "      <td>0.008896</td>\n",
       "      <td>0.146953</td>\n",
       "    </tr>\n",
       "    <tr>\n",
       "      <th>thal</th>\n",
       "      <td>0.107478</td>\n",
       "      <td>0.008896</td>\n",
       "      <td>-0.065218</td>\n",
       "      <td>0.201714</td>\n",
       "      <td>0.016895</td>\n",
       "      <td>-0.022745</td>\n",
       "      <td>-0.010268</td>\n",
       "      <td>0.085426</td>\n",
       "      <td>0.214271</td>\n",
       "      <td>0.253636</td>\n",
       "      <td>0.018848</td>\n",
       "      <td>0.025316</td>\n",
       "      <td>1.000000</td>\n",
       "      <td>0.113265</td>\n",
       "    </tr>\n",
       "    <tr>\n",
       "      <th>oldpeak</th>\n",
       "      <td>0.081923</td>\n",
       "      <td>0.090856</td>\n",
       "      <td>-0.217625</td>\n",
       "      <td>0.706233</td>\n",
       "      <td>0.118258</td>\n",
       "      <td>-0.031506</td>\n",
       "      <td>-0.022173</td>\n",
       "      <td>0.743240</td>\n",
       "      <td>0.749062</td>\n",
       "      <td>1.000000</td>\n",
       "      <td>0.273167</td>\n",
       "      <td>0.042101</td>\n",
       "      <td>0.253636</td>\n",
       "      <td>0.109839</td>\n",
       "    </tr>\n",
       "    <tr>\n",
       "      <th>chol</th>\n",
       "      <td>0.078313</td>\n",
       "      <td>-0.072378</td>\n",
       "      <td>0.076425</td>\n",
       "      <td>0.114049</td>\n",
       "      <td>1.000000</td>\n",
       "      <td>0.028866</td>\n",
       "      <td>0.045115</td>\n",
       "      <td>0.091924</td>\n",
       "      <td>0.125304</td>\n",
       "      <td>0.118258</td>\n",
       "      <td>0.105139</td>\n",
       "      <td>0.114641</td>\n",
       "      <td>0.016895</td>\n",
       "      <td>0.101872</td>\n",
       "    </tr>\n",
       "    <tr>\n",
       "      <th>ca</th>\n",
       "      <td>0.024163</td>\n",
       "      <td>-0.017766</td>\n",
       "      <td>-0.062423</td>\n",
       "      <td>0.045900</td>\n",
       "      <td>0.114641</td>\n",
       "      <td>0.074257</td>\n",
       "      <td>0.035293</td>\n",
       "      <td>0.039932</td>\n",
       "      <td>0.001401</td>\n",
       "      <td>0.042101</td>\n",
       "      <td>0.008740</td>\n",
       "      <td>1.000000</td>\n",
       "      <td>0.025316</td>\n",
       "      <td>0.083978</td>\n",
       "    </tr>\n",
       "    <tr>\n",
       "      <th>exang</th>\n",
       "      <td>0.079494</td>\n",
       "      <td>0.043105</td>\n",
       "      <td>-0.087588</td>\n",
       "      <td>0.733785</td>\n",
       "      <td>0.125304</td>\n",
       "      <td>-0.109714</td>\n",
       "      <td>-0.025273</td>\n",
       "      <td>0.647745</td>\n",
       "      <td>1.000000</td>\n",
       "      <td>0.749062</td>\n",
       "      <td>0.325473</td>\n",
       "      <td>0.001401</td>\n",
       "      <td>0.214271</td>\n",
       "      <td>0.079966</td>\n",
       "    </tr>\n",
       "    <tr>\n",
       "      <th>trestbps</th>\n",
       "      <td>0.109076</td>\n",
       "      <td>0.050667</td>\n",
       "      <td>-0.156259</td>\n",
       "      <td>1.000000</td>\n",
       "      <td>0.114049</td>\n",
       "      <td>0.037034</td>\n",
       "      <td>0.055370</td>\n",
       "      <td>0.672209</td>\n",
       "      <td>0.733785</td>\n",
       "      <td>0.706233</td>\n",
       "      <td>0.474849</td>\n",
       "      <td>0.045900</td>\n",
       "      <td>0.201714</td>\n",
       "      <td>0.077588</td>\n",
       "    </tr>\n",
       "    <tr>\n",
       "      <th>fbs</th>\n",
       "      <td>0.054701</td>\n",
       "      <td>-0.027732</td>\n",
       "      <td>-0.052215</td>\n",
       "      <td>0.037034</td>\n",
       "      <td>0.028866</td>\n",
       "      <td>1.000000</td>\n",
       "      <td>0.111143</td>\n",
       "      <td>0.045913</td>\n",
       "      <td>-0.109714</td>\n",
       "      <td>-0.031506</td>\n",
       "      <td>0.022263</td>\n",
       "      <td>0.074257</td>\n",
       "      <td>-0.022745</td>\n",
       "      <td>0.051561</td>\n",
       "    </tr>\n",
       "    <tr>\n",
       "      <th>restecg</th>\n",
       "      <td>-0.000627</td>\n",
       "      <td>0.061759</td>\n",
       "      <td>0.031467</td>\n",
       "      <td>0.055370</td>\n",
       "      <td>0.045115</td>\n",
       "      <td>0.111143</td>\n",
       "      <td>1.000000</td>\n",
       "      <td>0.037713</td>\n",
       "      <td>-0.025273</td>\n",
       "      <td>-0.022173</td>\n",
       "      <td>0.118125</td>\n",
       "      <td>0.035293</td>\n",
       "      <td>-0.010268</td>\n",
       "      <td>-0.026384</td>\n",
       "    </tr>\n",
       "    <tr>\n",
       "      <th>slope</th>\n",
       "      <td>-0.009689</td>\n",
       "      <td>0.043477</td>\n",
       "      <td>-0.188766</td>\n",
       "      <td>0.474849</td>\n",
       "      <td>0.105139</td>\n",
       "      <td>0.022263</td>\n",
       "      <td>0.118125</td>\n",
       "      <td>0.345468</td>\n",
       "      <td>0.325473</td>\n",
       "      <td>0.273167</td>\n",
       "      <td>1.000000</td>\n",
       "      <td>0.008740</td>\n",
       "      <td>0.018848</td>\n",
       "      <td>-0.111966</td>\n",
       "    </tr>\n",
       "    <tr>\n",
       "      <th>thalach</th>\n",
       "      <td>-0.080770</td>\n",
       "      <td>0.030245</td>\n",
       "      <td>-0.253344</td>\n",
       "      <td>0.672209</td>\n",
       "      <td>0.091924</td>\n",
       "      <td>0.045913</td>\n",
       "      <td>0.037713</td>\n",
       "      <td>1.000000</td>\n",
       "      <td>0.647745</td>\n",
       "      <td>0.743240</td>\n",
       "      <td>0.345468</td>\n",
       "      <td>0.039932</td>\n",
       "      <td>0.085426</td>\n",
       "      <td>-0.122317</td>\n",
       "    </tr>\n",
       "  </tbody>\n",
       "</table>\n",
       "</div>"
      ],
      "text/plain": [
       "               age       sex        cp  trestbps      chol       fbs  \\\n",
       "num       0.292018  0.146953  0.172920  0.077588  0.101872  0.051561   \n",
       "age       1.000000  0.034753 -0.040137  0.109076  0.078313  0.054701   \n",
       "cp       -0.040137  0.038641  1.000000 -0.156259  0.076425 -0.052215   \n",
       "sex       0.034753  1.000000  0.038641  0.050667 -0.072378 -0.027732   \n",
       "thal      0.107478  0.008896 -0.065218  0.201714  0.016895 -0.022745   \n",
       "oldpeak   0.081923  0.090856 -0.217625  0.706233  0.118258 -0.031506   \n",
       "chol      0.078313 -0.072378  0.076425  0.114049  1.000000  0.028866   \n",
       "ca        0.024163 -0.017766 -0.062423  0.045900  0.114641  0.074257   \n",
       "exang     0.079494  0.043105 -0.087588  0.733785  0.125304 -0.109714   \n",
       "trestbps  0.109076  0.050667 -0.156259  1.000000  0.114049  0.037034   \n",
       "fbs       0.054701 -0.027732 -0.052215  0.037034  0.028866  1.000000   \n",
       "restecg  -0.000627  0.061759  0.031467  0.055370  0.045115  0.111143   \n",
       "slope    -0.009689  0.043477 -0.188766  0.474849  0.105139  0.022263   \n",
       "thalach  -0.080770  0.030245 -0.253344  0.672209  0.091924  0.045913   \n",
       "\n",
       "           restecg   thalach     exang   oldpeak     slope        ca  \\\n",
       "num      -0.026384 -0.122317  0.079966  0.109839 -0.111966  0.083978   \n",
       "age      -0.000627 -0.080770  0.079494  0.081923 -0.009689  0.024163   \n",
       "cp        0.031467 -0.253344 -0.087588 -0.217625 -0.188766 -0.062423   \n",
       "sex       0.061759  0.030245  0.043105  0.090856  0.043477 -0.017766   \n",
       "thal     -0.010268  0.085426  0.214271  0.253636  0.018848  0.025316   \n",
       "oldpeak  -0.022173  0.743240  0.749062  1.000000  0.273167  0.042101   \n",
       "chol      0.045115  0.091924  0.125304  0.118258  0.105139  0.114641   \n",
       "ca        0.035293  0.039932  0.001401  0.042101  0.008740  1.000000   \n",
       "exang    -0.025273  0.647745  1.000000  0.749062  0.325473  0.001401   \n",
       "trestbps  0.055370  0.672209  0.733785  0.706233  0.474849  0.045900   \n",
       "fbs       0.111143  0.045913 -0.109714 -0.031506  0.022263  0.074257   \n",
       "restecg   1.000000  0.037713 -0.025273 -0.022173  0.118125  0.035293   \n",
       "slope     0.118125  0.345468  0.325473  0.273167  1.000000  0.008740   \n",
       "thalach   0.037713  1.000000  0.647745  0.743240  0.345468  0.039932   \n",
       "\n",
       "              thal       num  \n",
       "num       0.113265  1.000000  \n",
       "age       0.107478  0.292018  \n",
       "cp       -0.065218  0.172920  \n",
       "sex       0.008896  0.146953  \n",
       "thal      1.000000  0.113265  \n",
       "oldpeak   0.253636  0.109839  \n",
       "chol      0.016895  0.101872  \n",
       "ca        0.025316  0.083978  \n",
       "exang     0.214271  0.079966  \n",
       "trestbps  0.201714  0.077588  \n",
       "fbs      -0.022745  0.051561  \n",
       "restecg  -0.010268 -0.026384  \n",
       "slope     0.018848 -0.111966  \n",
       "thalach   0.085426 -0.122317  "
      ]
     },
     "execution_count": 34,
     "metadata": {},
     "output_type": "execute_result"
    }
   ],
   "source": [
    "cor = hrtdf_copy.corr()\n",
    "cor.sort_values(by='num', ascending=False)"
   ]
  },
  {
   "cell_type": "code",
   "execution_count": 35,
   "metadata": {},
   "outputs": [
    {
     "data": {
      "image/png": "[encoded data removed]",
      "text/plain": [
       "<Figure size 2160x2160 with 2 Axes>"
      ]
     },
     "metadata": {
      "needs_background": "light"
     },
     "output_type": "display_data"
    }
   ],
   "source": [
    "#Let's plot the correlation matrix\n",
    "plt.figure(figsize=(30,30))\n",
    "sns.heatmap(cor, annot=True, cmap='coolwarm')\n",
    "plt.show()"
   ]
  },
  {
   "cell_type": "markdown",
   "metadata": {},
   "source": [
    "Highest positive correlation with num is of clumns age, cp, sex, thal, oldpeak, chol.\n",
    "\n",
    "ca, exang, trestbps and fbs also have some positive correlation.\n",
    "\n",
    "Highest negative correlation with num is of columns thalach, slope\n",
    "\n",
    "restecg also have little negative correlation with num."
   ]
  },
  {
   "cell_type": "markdown",
   "metadata": {},
   "source": [
    "let's split trai and test data"
   ]
  },
  {
   "cell_type": "code",
   "execution_count": 36,
   "metadata": {},
   "outputs": [
    {
     "data": {
      "text/html": [
       "<div>\n",
       "<style scoped>\n",
       "    .dataframe tbody tr th:only-of-type {\n",
       "        vertical-align: middle;\n",
       "    }\n",
       "\n",
       "    .dataframe tbody tr th {\n",
       "        vertical-align: top;\n",
       "    }\n",
       "\n",
       "    .dataframe thead th {\n",
       "        text-align: right;\n",
       "    }\n",
       "</style>\n",
       "<table border=\"1\" class=\"dataframe\">\n",
       "  <thead>\n",
       "    <tr style=\"text-align: right;\">\n",
       "      <th></th>\n",
       "      <th>age</th>\n",
       "      <th>sex</th>\n",
       "      <th>cp</th>\n",
       "      <th>trestbps</th>\n",
       "      <th>chol</th>\n",
       "      <th>fbs</th>\n",
       "      <th>restecg</th>\n",
       "      <th>thalach</th>\n",
       "      <th>exang</th>\n",
       "      <th>oldpeak</th>\n",
       "      <th>slope</th>\n",
       "      <th>ca</th>\n",
       "      <th>thal</th>\n",
       "      <th>num</th>\n",
       "    </tr>\n",
       "  </thead>\n",
       "  <tbody>\n",
       "    <tr>\n",
       "      <th>count</th>\n",
       "      <td>199.000000</td>\n",
       "      <td>199.000000</td>\n",
       "      <td>199.000000</td>\n",
       "      <td>199.000000</td>\n",
       "      <td>199.000000</td>\n",
       "      <td>199.000000</td>\n",
       "      <td>199.000000</td>\n",
       "      <td>199.000000</td>\n",
       "      <td>199.000000</td>\n",
       "      <td>199.000000</td>\n",
       "      <td>199.000000</td>\n",
       "      <td>199.000000</td>\n",
       "      <td>199.000000</td>\n",
       "      <td>199.000000</td>\n",
       "    </tr>\n",
       "    <tr>\n",
       "      <th>mean</th>\n",
       "      <td>59.371859</td>\n",
       "      <td>0.969849</td>\n",
       "      <td>3.507538</td>\n",
       "      <td>150.542714</td>\n",
       "      <td>189.502513</td>\n",
       "      <td>0.412060</td>\n",
       "      <td>0.738693</td>\n",
       "      <td>138.135678</td>\n",
       "      <td>1.010050</td>\n",
       "      <td>2.214573</td>\n",
       "      <td>3.090452</td>\n",
       "      <td>0.989950</td>\n",
       "      <td>7.708543</td>\n",
       "      <td>1.512563</td>\n",
       "    </tr>\n",
       "    <tr>\n",
       "      <th>std</th>\n",
       "      <td>7.825264</td>\n",
       "      <td>0.171433</td>\n",
       "      <td>0.796896</td>\n",
       "      <td>29.803344</td>\n",
       "      <td>122.918955</td>\n",
       "      <td>0.560533</td>\n",
       "      <td>0.683175</td>\n",
       "      <td>31.963310</td>\n",
       "      <td>0.724673</td>\n",
       "      <td>1.714477</td>\n",
       "      <td>1.045365</td>\n",
       "      <td>0.099997</td>\n",
       "      <td>0.832107</td>\n",
       "      <td>1.217960</td>\n",
       "    </tr>\n",
       "    <tr>\n",
       "      <th>min</th>\n",
       "      <td>35.000000</td>\n",
       "      <td>0.000000</td>\n",
       "      <td>1.000000</td>\n",
       "      <td>96.000000</td>\n",
       "      <td>0.000000</td>\n",
       "      <td>0.000000</td>\n",
       "      <td>0.000000</td>\n",
       "      <td>69.000000</td>\n",
       "      <td>0.000000</td>\n",
       "      <td>-0.500000</td>\n",
       "      <td>1.000000</td>\n",
       "      <td>0.000000</td>\n",
       "      <td>3.000000</td>\n",
       "      <td>0.000000</td>\n",
       "    </tr>\n",
       "    <tr>\n",
       "      <th>25%</th>\n",
       "      <td>55.000000</td>\n",
       "      <td>1.000000</td>\n",
       "      <td>3.000000</td>\n",
       "      <td>126.000000</td>\n",
       "      <td>140.500000</td>\n",
       "      <td>0.000000</td>\n",
       "      <td>0.000000</td>\n",
       "      <td>112.000000</td>\n",
       "      <td>0.000000</td>\n",
       "      <td>1.000000</td>\n",
       "      <td>2.000000</td>\n",
       "      <td>1.000000</td>\n",
       "      <td>8.000000</td>\n",
       "      <td>0.000000</td>\n",
       "    </tr>\n",
       "    <tr>\n",
       "      <th>50%</th>\n",
       "      <td>60.000000</td>\n",
       "      <td>1.000000</td>\n",
       "      <td>4.000000</td>\n",
       "      <td>142.000000</td>\n",
       "      <td>218.000000</td>\n",
       "      <td>0.000000</td>\n",
       "      <td>1.000000</td>\n",
       "      <td>130.000000</td>\n",
       "      <td>1.000000</td>\n",
       "      <td>2.000000</td>\n",
       "      <td>4.000000</td>\n",
       "      <td>1.000000</td>\n",
       "      <td>8.000000</td>\n",
       "      <td>1.000000</td>\n",
       "    </tr>\n",
       "    <tr>\n",
       "      <th>75%</th>\n",
       "      <td>64.000000</td>\n",
       "      <td>1.000000</td>\n",
       "      <td>4.000000</td>\n",
       "      <td>191.000000</td>\n",
       "      <td>260.500000</td>\n",
       "      <td>1.000000</td>\n",
       "      <td>1.000000</td>\n",
       "      <td>181.000000</td>\n",
       "      <td>2.000000</td>\n",
       "      <td>4.500000</td>\n",
       "      <td>4.000000</td>\n",
       "      <td>1.000000</td>\n",
       "      <td>8.000000</td>\n",
       "      <td>3.000000</td>\n",
       "    </tr>\n",
       "    <tr>\n",
       "      <th>max</th>\n",
       "      <td>77.000000</td>\n",
       "      <td>1.000000</td>\n",
       "      <td>4.000000</td>\n",
       "      <td>191.000000</td>\n",
       "      <td>459.000000</td>\n",
       "      <td>2.000000</td>\n",
       "      <td>2.000000</td>\n",
       "      <td>181.000000</td>\n",
       "      <td>2.000000</td>\n",
       "      <td>4.500000</td>\n",
       "      <td>4.000000</td>\n",
       "      <td>1.000000</td>\n",
       "      <td>8.000000</td>\n",
       "      <td>4.000000</td>\n",
       "    </tr>\n",
       "  </tbody>\n",
       "</table>\n",
       "</div>"
      ],
      "text/plain": [
       "              age         sex          cp    trestbps        chol         fbs  \\\n",
       "count  199.000000  199.000000  199.000000  199.000000  199.000000  199.000000   \n",
       "mean    59.371859    0.969849    3.507538  150.542714  189.502513    0.412060   \n",
       "std      7.825264    0.171433    0.796896   29.803344  122.918955    0.560533   \n",
       "min     35.000000    0.000000    1.000000   96.000000    0.000000    0.000000   \n",
       "25%     55.000000    1.000000    3.000000  126.000000  140.500000    0.000000   \n",
       "50%     60.000000    1.000000    4.000000  142.000000  218.000000    0.000000   \n",
       "75%     64.000000    1.000000    4.000000  191.000000  260.500000    1.000000   \n",
       "max     77.000000    1.000000    4.000000  191.000000  459.000000    2.000000   \n",
       "\n",
       "          restecg     thalach       exang     oldpeak       slope          ca  \\\n",
       "count  199.000000  199.000000  199.000000  199.000000  199.000000  199.000000   \n",
       "mean     0.738693  138.135678    1.010050    2.214573    3.090452    0.989950   \n",
       "std      0.683175   31.963310    0.724673    1.714477    1.045365    0.099997   \n",
       "min      0.000000   69.000000    0.000000   -0.500000    1.000000    0.000000   \n",
       "25%      0.000000  112.000000    0.000000    1.000000    2.000000    1.000000   \n",
       "50%      1.000000  130.000000    1.000000    2.000000    4.000000    1.000000   \n",
       "75%      1.000000  181.000000    2.000000    4.500000    4.000000    1.000000   \n",
       "max      2.000000  181.000000    2.000000    4.500000    4.000000    1.000000   \n",
       "\n",
       "             thal         num  \n",
       "count  199.000000  199.000000  \n",
       "mean     7.708543    1.512563  \n",
       "std      0.832107    1.217960  \n",
       "min      3.000000    0.000000  \n",
       "25%      8.000000    0.000000  \n",
       "50%      8.000000    1.000000  \n",
       "75%      8.000000    3.000000  \n",
       "max      8.000000    4.000000  "
      ]
     },
     "execution_count": 36,
     "metadata": {},
     "output_type": "execute_result"
    }
   ],
   "source": [
    "hrtdf_copy.describe()"
   ]
  },
  {
   "cell_type": "code",
   "execution_count": 37,
   "metadata": {},
   "outputs": [
    {
     "data": {
      "text/html": [
       "<div>\n",
       "<style scoped>\n",
       "    .dataframe tbody tr th:only-of-type {\n",
       "        vertical-align: middle;\n",
       "    }\n",
       "\n",
       "    .dataframe tbody tr th {\n",
       "        vertical-align: top;\n",
       "    }\n",
       "\n",
       "    .dataframe thead th {\n",
       "        text-align: right;\n",
       "    }\n",
       "</style>\n",
       "<table border=\"1\" class=\"dataframe\">\n",
       "  <thead>\n",
       "    <tr style=\"text-align: right;\">\n",
       "      <th></th>\n",
       "      <th>age</th>\n",
       "      <th>sex</th>\n",
       "      <th>cp</th>\n",
       "      <th>trestbps</th>\n",
       "      <th>chol</th>\n",
       "      <th>fbs</th>\n",
       "      <th>restecg</th>\n",
       "      <th>thalach</th>\n",
       "      <th>exang</th>\n",
       "      <th>oldpeak</th>\n",
       "      <th>slope</th>\n",
       "      <th>ca</th>\n",
       "      <th>thal</th>\n",
       "      <th>num</th>\n",
       "    </tr>\n",
       "  </thead>\n",
       "  <tbody>\n",
       "    <tr>\n",
       "      <th>count</th>\n",
       "      <td>199.000000</td>\n",
       "      <td>199.000000</td>\n",
       "      <td>199.000000</td>\n",
       "      <td>199.000000</td>\n",
       "      <td>199.000000</td>\n",
       "      <td>199.000000</td>\n",
       "      <td>199.000000</td>\n",
       "      <td>199.000000</td>\n",
       "      <td>199.000000</td>\n",
       "      <td>199.000000</td>\n",
       "      <td>199.000000</td>\n",
       "      <td>199.000000</td>\n",
       "      <td>199.000000</td>\n",
       "      <td>199.000000</td>\n",
       "    </tr>\n",
       "    <tr>\n",
       "      <th>mean</th>\n",
       "      <td>0.580282</td>\n",
       "      <td>0.969849</td>\n",
       "      <td>0.835846</td>\n",
       "      <td>0.574134</td>\n",
       "      <td>0.412860</td>\n",
       "      <td>0.206030</td>\n",
       "      <td>0.369347</td>\n",
       "      <td>0.617283</td>\n",
       "      <td>0.505025</td>\n",
       "      <td>0.542915</td>\n",
       "      <td>0.696817</td>\n",
       "      <td>0.989950</td>\n",
       "      <td>0.941709</td>\n",
       "      <td>1.512563</td>\n",
       "    </tr>\n",
       "    <tr>\n",
       "      <th>std</th>\n",
       "      <td>0.186316</td>\n",
       "      <td>0.171433</td>\n",
       "      <td>0.265632</td>\n",
       "      <td>0.313719</td>\n",
       "      <td>0.267797</td>\n",
       "      <td>0.280267</td>\n",
       "      <td>0.341587</td>\n",
       "      <td>0.285387</td>\n",
       "      <td>0.362337</td>\n",
       "      <td>0.342895</td>\n",
       "      <td>0.348455</td>\n",
       "      <td>0.099997</td>\n",
       "      <td>0.166421</td>\n",
       "      <td>1.217960</td>\n",
       "    </tr>\n",
       "    <tr>\n",
       "      <th>min</th>\n",
       "      <td>0.000000</td>\n",
       "      <td>0.000000</td>\n",
       "      <td>0.000000</td>\n",
       "      <td>0.000000</td>\n",
       "      <td>0.000000</td>\n",
       "      <td>0.000000</td>\n",
       "      <td>0.000000</td>\n",
       "      <td>0.000000</td>\n",
       "      <td>0.000000</td>\n",
       "      <td>0.000000</td>\n",
       "      <td>0.000000</td>\n",
       "      <td>0.000000</td>\n",
       "      <td>0.000000</td>\n",
       "      <td>0.000000</td>\n",
       "    </tr>\n",
       "    <tr>\n",
       "      <th>25%</th>\n",
       "      <td>0.476190</td>\n",
       "      <td>1.000000</td>\n",
       "      <td>0.666667</td>\n",
       "      <td>0.315789</td>\n",
       "      <td>0.306100</td>\n",
       "      <td>0.000000</td>\n",
       "      <td>0.000000</td>\n",
       "      <td>0.383929</td>\n",
       "      <td>0.000000</td>\n",
       "      <td>0.300000</td>\n",
       "      <td>0.333333</td>\n",
       "      <td>1.000000</td>\n",
       "      <td>1.000000</td>\n",
       "      <td>0.000000</td>\n",
       "    </tr>\n",
       "    <tr>\n",
       "      <th>50%</th>\n",
       "      <td>0.595238</td>\n",
       "      <td>1.000000</td>\n",
       "      <td>1.000000</td>\n",
       "      <td>0.484211</td>\n",
       "      <td>0.474946</td>\n",
       "      <td>0.000000</td>\n",
       "      <td>0.500000</td>\n",
       "      <td>0.544643</td>\n",
       "      <td>0.500000</td>\n",
       "      <td>0.500000</td>\n",
       "      <td>1.000000</td>\n",
       "      <td>1.000000</td>\n",
       "      <td>1.000000</td>\n",
       "      <td>1.000000</td>\n",
       "    </tr>\n",
       "    <tr>\n",
       "      <th>75%</th>\n",
       "      <td>0.690476</td>\n",
       "      <td>1.000000</td>\n",
       "      <td>1.000000</td>\n",
       "      <td>1.000000</td>\n",
       "      <td>0.567538</td>\n",
       "      <td>0.500000</td>\n",
       "      <td>0.500000</td>\n",
       "      <td>1.000000</td>\n",
       "      <td>1.000000</td>\n",
       "      <td>1.000000</td>\n",
       "      <td>1.000000</td>\n",
       "      <td>1.000000</td>\n",
       "      <td>1.000000</td>\n",
       "      <td>3.000000</td>\n",
       "    </tr>\n",
       "    <tr>\n",
       "      <th>max</th>\n",
       "      <td>1.000000</td>\n",
       "      <td>1.000000</td>\n",
       "      <td>1.000000</td>\n",
       "      <td>1.000000</td>\n",
       "      <td>1.000000</td>\n",
       "      <td>1.000000</td>\n",
       "      <td>1.000000</td>\n",
       "      <td>1.000000</td>\n",
       "      <td>1.000000</td>\n",
       "      <td>1.000000</td>\n",
       "      <td>1.000000</td>\n",
       "      <td>1.000000</td>\n",
       "      <td>1.000000</td>\n",
       "      <td>4.000000</td>\n",
       "    </tr>\n",
       "  </tbody>\n",
       "</table>\n",
       "</div>"
      ],
      "text/plain": [
       "              age         sex          cp    trestbps        chol         fbs  \\\n",
       "count  199.000000  199.000000  199.000000  199.000000  199.000000  199.000000   \n",
       "mean     0.580282    0.969849    0.835846    0.574134    0.412860    0.206030   \n",
       "std      0.186316    0.171433    0.265632    0.313719    0.267797    0.280267   \n",
       "min      0.000000    0.000000    0.000000    0.000000    0.000000    0.000000   \n",
       "25%      0.476190    1.000000    0.666667    0.315789    0.306100    0.000000   \n",
       "50%      0.595238    1.000000    1.000000    0.484211    0.474946    0.000000   \n",
       "75%      0.690476    1.000000    1.000000    1.000000    0.567538    0.500000   \n",
       "max      1.000000    1.000000    1.000000    1.000000    1.000000    1.000000   \n",
       "\n",
       "          restecg     thalach       exang     oldpeak       slope          ca  \\\n",
       "count  199.000000  199.000000  199.000000  199.000000  199.000000  199.000000   \n",
       "mean     0.369347    0.617283    0.505025    0.542915    0.696817    0.989950   \n",
       "std      0.341587    0.285387    0.362337    0.342895    0.348455    0.099997   \n",
       "min      0.000000    0.000000    0.000000    0.000000    0.000000    0.000000   \n",
       "25%      0.000000    0.383929    0.000000    0.300000    0.333333    1.000000   \n",
       "50%      0.500000    0.544643    0.500000    0.500000    1.000000    1.000000   \n",
       "75%      0.500000    1.000000    1.000000    1.000000    1.000000    1.000000   \n",
       "max      1.000000    1.000000    1.000000    1.000000    1.000000    1.000000   \n",
       "\n",
       "             thal         num  \n",
       "count  199.000000  199.000000  \n",
       "mean     0.941709    1.512563  \n",
       "std      0.166421    1.217960  \n",
       "min      0.000000    0.000000  \n",
       "25%      1.000000    0.000000  \n",
       "50%      1.000000    1.000000  \n",
       "75%      1.000000    3.000000  \n",
       "max      1.000000    4.000000  "
      ]
     },
     "execution_count": 37,
     "metadata": {},
     "output_type": "execute_result"
    }
   ],
   "source": [
    "from sklearn.preprocessing import MinMaxScaler\n",
    "scaler = MinMaxScaler()\n",
    "for i in hrtdf_copy.columns:\n",
    "    if i != 'num':\n",
    "        hrtdf_copy[[i]] = scaler.fit_transform(hrtdf_copy[[i]])\n",
    "\n",
    "hrtdf_copy.describe()"
   ]
  },
  {
   "cell_type": "code",
   "execution_count": 38,
   "metadata": {},
   "outputs": [
    {
     "data": {
      "text/plain": [
       "1    56\n",
       "0    51\n",
       "3    41\n",
       "2    41\n",
       "4    10\n",
       "Name: num, dtype: int64"
      ]
     },
     "execution_count": 38,
     "metadata": {},
     "output_type": "execute_result"
    }
   ],
   "source": [
    "hrtdf_copy['num'].value_counts()"
   ]
  },
  {
   "cell_type": "code",
   "execution_count": 39,
   "metadata": {},
   "outputs": [],
   "source": [
    "hrtdf_copy.loc[(hrtdf_copy['num'] == 2) | (hrtdf_copy['num'] == 3) | (hrtdf_copy['num'] == 4)] = 1"
   ]
  },
  {
   "cell_type": "code",
   "execution_count": 40,
   "metadata": {},
   "outputs": [
    {
     "data": {
      "text/plain": [
       "1    148\n",
       "0     51\n",
       "Name: num, dtype: int64"
      ]
     },
     "execution_count": 40,
     "metadata": {},
     "output_type": "execute_result"
    }
   ],
   "source": [
    "hrtdf_copy['num'].value_counts()"
   ]
  },
  {
   "cell_type": "code",
   "execution_count": 41,
   "metadata": {},
   "outputs": [],
   "source": [
    "from sklearn.model_selection import train_test_split, cross_val_score, GridSearchCV\n",
    "X = hrtdf_copy.drop(\"num\",1)\n",
    "Y = hrtdf_copy['num']\n",
    "X_train, X_test, y_train, y_test = train_test_split(X, Y, test_size=0.25, random_state=7, stratify=hrtdf_copy['num'])"
   ]
  },
  {
   "cell_type": "code",
   "execution_count": 42,
   "metadata": {},
   "outputs": [
    {
     "data": {
      "text/plain": [
       "dict_keys(['explained_variance', 'r2', 'max_error', 'neg_median_absolute_error', 'neg_mean_absolute_error', 'neg_mean_squared_error', 'neg_mean_squared_log_error', 'neg_root_mean_squared_error', 'neg_mean_poisson_deviance', 'neg_mean_gamma_deviance', 'accuracy', 'roc_auc', 'roc_auc_ovr', 'roc_auc_ovo', 'roc_auc_ovr_weighted', 'roc_auc_ovo_weighted', 'balanced_accuracy', 'average_precision', 'neg_log_loss', 'neg_brier_score', 'adjusted_rand_score', 'homogeneity_score', 'completeness_score', 'v_measure_score', 'mutual_info_score', 'adjusted_mutual_info_score', 'normalized_mutual_info_score', 'fowlkes_mallows_score', 'precision', 'precision_macro', 'precision_micro', 'precision_samples', 'precision_weighted', 'recall', 'recall_macro', 'recall_micro', 'recall_samples', 'recall_weighted', 'f1', 'f1_macro', 'f1_micro', 'f1_samples', 'f1_weighted', 'jaccard', 'jaccard_macro', 'jaccard_micro', 'jaccard_samples', 'jaccard_weighted'])"
      ]
     },
     "execution_count": 42,
     "metadata": {},
     "output_type": "execute_result"
    }
   ],
   "source": [
    "sklearn.metrics.SCORERS.keys()"
   ]
  },
  {
   "cell_type": "code",
   "execution_count": 43,
   "metadata": {},
   "outputs": [],
   "source": [
    "from sklearn.linear_model import LogisticRegression\n",
    "from sklearn.tree import DecisionTreeClassifier\n",
    "from sklearn.neighbors import KNeighborsClassifier\n",
    "from sklearn.naive_bayes import GaussianNB\n",
    "from sklearn.svm import SVC\n",
    "from xgboost import XGBClassifier\n",
    "from sklearn.ensemble import RandomForestClassifier, GradientBoostingRegressor\n",
    "\n",
    "from sklearn.metrics import confusion_matrix, classification_report, auc, roc_auc_score, roc_curve, f1_score, accuracy_score, roc_auc_score, make_scorer, average_precision_score"
   ]
  },
  {
   "cell_type": "code",
   "execution_count": 44,
   "metadata": {},
   "outputs": [],
   "source": [
    "lm = LogisticRegression()\n",
    "dtc = DecisionTreeClassifier()\n",
    "knc = KNeighborsClassifier()\n",
    "gnc = GaussianNB()\n",
    "svc = SVC()\n",
    "rfc = RandomForestClassifier()\n",
    "gbc = GradientBoostingRegressor()\n",
    "xbc = XGBClassifier()"
   ]
  },
  {
   "cell_type": "code",
   "execution_count": 45,
   "metadata": {},
   "outputs": [],
   "source": [
    "models = [dtc, knc, gnc, svc, rfc, gbc]\n",
    "modelname = ['DecisionTree Classification',\n",
    "             'KNeighbors Classification', 'Gaussian NB', 'SVC',\n",
    "             'RandomForestClassifier', 'GradientBoostingRegressor']"
   ]
  },
  {
   "cell_type": "code",
   "execution_count": 46,
   "metadata": {},
   "outputs": [
    {
     "data": {
      "text/html": [
       "<div>\n",
       "<style scoped>\n",
       "    .dataframe tbody tr th:only-of-type {\n",
       "        vertical-align: middle;\n",
       "    }\n",
       "\n",
       "    .dataframe tbody tr th {\n",
       "        vertical-align: top;\n",
       "    }\n",
       "\n",
       "    .dataframe thead th {\n",
       "        text-align: right;\n",
       "    }\n",
       "</style>\n",
       "<table border=\"1\" class=\"dataframe\">\n",
       "  <thead>\n",
       "    <tr style=\"text-align: right;\">\n",
       "      <th></th>\n",
       "      <th>Model Name</th>\n",
       "      <th>Average Precision Score Mean</th>\n",
       "      <th>ROC AUC Score Mean</th>\n",
       "    </tr>\n",
       "  </thead>\n",
       "  <tbody>\n",
       "    <tr>\n",
       "      <th>1</th>\n",
       "      <td>KNeighbors Classification</td>\n",
       "      <td>0.938477</td>\n",
       "      <td>0.831134</td>\n",
       "    </tr>\n",
       "    <tr>\n",
       "      <th>4</th>\n",
       "      <td>RandomForestClassifier</td>\n",
       "      <td>0.937654</td>\n",
       "      <td>0.816558</td>\n",
       "    </tr>\n",
       "    <tr>\n",
       "      <th>3</th>\n",
       "      <td>SVC</td>\n",
       "      <td>0.923003</td>\n",
       "      <td>0.795624</td>\n",
       "    </tr>\n",
       "    <tr>\n",
       "      <th>2</th>\n",
       "      <td>Gaussian NB</td>\n",
       "      <td>0.932633</td>\n",
       "      <td>0.793626</td>\n",
       "    </tr>\n",
       "    <tr>\n",
       "      <th>5</th>\n",
       "      <td>GradientBoostingRegressor</td>\n",
       "      <td>0.883761</td>\n",
       "      <td>0.733112</td>\n",
       "    </tr>\n",
       "    <tr>\n",
       "      <th>0</th>\n",
       "      <td>DecisionTree Classification</td>\n",
       "      <td>0.816386</td>\n",
       "      <td>0.667095</td>\n",
       "    </tr>\n",
       "  </tbody>\n",
       "</table>\n",
       "</div>"
      ],
      "text/plain": [
       "                    Model Name  Average Precision Score Mean  \\\n",
       "1    KNeighbors Classification                      0.938477   \n",
       "4       RandomForestClassifier                      0.937654   \n",
       "3                          SVC                      0.923003   \n",
       "2                  Gaussian NB                      0.932633   \n",
       "5    GradientBoostingRegressor                      0.883761   \n",
       "0  DecisionTree Classification                      0.816386   \n",
       "\n",
       "   ROC AUC Score Mean  \n",
       "1            0.831134  \n",
       "4            0.816558  \n",
       "3            0.795624  \n",
       "2            0.793626  \n",
       "5            0.733112  \n",
       "0            0.667095  "
      ]
     },
     "execution_count": 46,
     "metadata": {},
     "output_type": "execute_result"
    }
   ],
   "source": [
    "score_table = pd.DataFrame(columns=['Model Name', 'Average Precision Score Mean', 'ROC AUC Score Mean'])\n",
    "for i,j in enumerate(models):\n",
    "    cv_avpsc_score = cross_val_score(j, X_train, y_train, cv=5, scoring='average_precision')\n",
    "    cv_roc_auc_score = cross_val_score(j, X_train, y_train, cv=5, scoring='roc_auc')\n",
    "    score_table.loc[i] = [modelname[i], np.mean(cv_avpsc_score), np.mean(cv_roc_auc_score)]\n",
    "\n",
    "score_table.sort_values(by='ROC AUC Score Mean', ascending=False)"
   ]
  },
  {
   "cell_type": "markdown",
   "metadata": {},
   "source": [
    "KNeighbors Classification and Random Forest Classification seems best for this prediction, let's fine tune their parameters."
   ]
  },
  {
   "cell_type": "code",
   "execution_count": 47,
   "metadata": {},
   "outputs": [],
   "source": [
    "#Parameters\n",
    "kncparams = {'n_neighbors' : range(3,11), 'weights' : ['uniform', 'distance']}\n",
    "rfcparams = {'criterion' : ['gini', 'entropy'], 'n_estimators' : range(50,80), 'random_state' : range(50,110)}\n",
    "svcparams = {'kernel' : ['linear', 'rbf', 'poly', 'sigmoid'], 'C' : range(50,80), 'random_state' : range(50,110)}\n",
    "gncparams = {'var_smoothing': np.logspace(0,-9, num=100)}"
   ]
  },
  {
   "cell_type": "code",
   "execution_count": 48,
   "metadata": {},
   "outputs": [
    {
     "data": {
      "text/html": [
       "<div>\n",
       "<style scoped>\n",
       "    .dataframe tbody tr th:only-of-type {\n",
       "        vertical-align: middle;\n",
       "    }\n",
       "\n",
       "    .dataframe tbody tr th {\n",
       "        vertical-align: top;\n",
       "    }\n",
       "\n",
       "    .dataframe thead th {\n",
       "        text-align: right;\n",
       "    }\n",
       "</style>\n",
       "<table border=\"1\" class=\"dataframe\">\n",
       "  <thead>\n",
       "    <tr style=\"text-align: right;\">\n",
       "      <th></th>\n",
       "      <th>params</th>\n",
       "      <th>mean_test_score</th>\n",
       "    </tr>\n",
       "  </thead>\n",
       "  <tbody>\n",
       "    <tr>\n",
       "      <th>14</th>\n",
       "      <td>{'n_neighbors': 10, 'weights': 'uniform'}</td>\n",
       "      <td>0.863612</td>\n",
       "    </tr>\n",
       "    <tr>\n",
       "      <th>10</th>\n",
       "      <td>{'n_neighbors': 8, 'weights': 'uniform'}</td>\n",
       "      <td>0.862373</td>\n",
       "    </tr>\n",
       "    <tr>\n",
       "      <th>12</th>\n",
       "      <td>{'n_neighbors': 9, 'weights': 'uniform'}</td>\n",
       "      <td>0.862270</td>\n",
       "    </tr>\n",
       "    <tr>\n",
       "      <th>11</th>\n",
       "      <td>{'n_neighbors': 8, 'weights': 'distance'}</td>\n",
       "      <td>0.861202</td>\n",
       "    </tr>\n",
       "    <tr>\n",
       "      <th>13</th>\n",
       "      <td>{'n_neighbors': 9, 'weights': 'distance'}</td>\n",
       "      <td>0.861126</td>\n",
       "    </tr>\n",
       "    <tr>\n",
       "      <th>15</th>\n",
       "      <td>{'n_neighbors': 10, 'weights': 'distance'}</td>\n",
       "      <td>0.860529</td>\n",
       "    </tr>\n",
       "    <tr>\n",
       "      <th>8</th>\n",
       "      <td>{'n_neighbors': 7, 'weights': 'uniform'}</td>\n",
       "      <td>0.856896</td>\n",
       "    </tr>\n",
       "    <tr>\n",
       "      <th>9</th>\n",
       "      <td>{'n_neighbors': 7, 'weights': 'distance'}</td>\n",
       "      <td>0.843760</td>\n",
       "    </tr>\n",
       "    <tr>\n",
       "      <th>6</th>\n",
       "      <td>{'n_neighbors': 6, 'weights': 'uniform'}</td>\n",
       "      <td>0.837676</td>\n",
       "    </tr>\n",
       "    <tr>\n",
       "      <th>7</th>\n",
       "      <td>{'n_neighbors': 6, 'weights': 'distance'}</td>\n",
       "      <td>0.832230</td>\n",
       "    </tr>\n",
       "    <tr>\n",
       "      <th>4</th>\n",
       "      <td>{'n_neighbors': 5, 'weights': 'uniform'}</td>\n",
       "      <td>0.812567</td>\n",
       "    </tr>\n",
       "    <tr>\n",
       "      <th>5</th>\n",
       "      <td>{'n_neighbors': 5, 'weights': 'distance'}</td>\n",
       "      <td>0.812461</td>\n",
       "    </tr>\n",
       "    <tr>\n",
       "      <th>3</th>\n",
       "      <td>{'n_neighbors': 4, 'weights': 'distance'}</td>\n",
       "      <td>0.811915</td>\n",
       "    </tr>\n",
       "    <tr>\n",
       "      <th>2</th>\n",
       "      <td>{'n_neighbors': 4, 'weights': 'uniform'}</td>\n",
       "      <td>0.810730</td>\n",
       "    </tr>\n",
       "    <tr>\n",
       "      <th>0</th>\n",
       "      <td>{'n_neighbors': 3, 'weights': 'uniform'}</td>\n",
       "      <td>0.797950</td>\n",
       "    </tr>\n",
       "    <tr>\n",
       "      <th>1</th>\n",
       "      <td>{'n_neighbors': 3, 'weights': 'distance'}</td>\n",
       "      <td>0.795379</td>\n",
       "    </tr>\n",
       "  </tbody>\n",
       "</table>\n",
       "</div>"
      ],
      "text/plain": [
       "                                        params  mean_test_score\n",
       "14   {'n_neighbors': 10, 'weights': 'uniform'}         0.863612\n",
       "10    {'n_neighbors': 8, 'weights': 'uniform'}         0.862373\n",
       "12    {'n_neighbors': 9, 'weights': 'uniform'}         0.862270\n",
       "11   {'n_neighbors': 8, 'weights': 'distance'}         0.861202\n",
       "13   {'n_neighbors': 9, 'weights': 'distance'}         0.861126\n",
       "15  {'n_neighbors': 10, 'weights': 'distance'}         0.860529\n",
       "8     {'n_neighbors': 7, 'weights': 'uniform'}         0.856896\n",
       "9    {'n_neighbors': 7, 'weights': 'distance'}         0.843760\n",
       "6     {'n_neighbors': 6, 'weights': 'uniform'}         0.837676\n",
       "7    {'n_neighbors': 6, 'weights': 'distance'}         0.832230\n",
       "4     {'n_neighbors': 5, 'weights': 'uniform'}         0.812567\n",
       "5    {'n_neighbors': 5, 'weights': 'distance'}         0.812461\n",
       "3    {'n_neighbors': 4, 'weights': 'distance'}         0.811915\n",
       "2     {'n_neighbors': 4, 'weights': 'uniform'}         0.810730\n",
       "0     {'n_neighbors': 3, 'weights': 'uniform'}         0.797950\n",
       "1    {'n_neighbors': 3, 'weights': 'distance'}         0.795379"
      ]
     },
     "execution_count": 48,
     "metadata": {},
     "output_type": "execute_result"
    }
   ],
   "source": [
    "kncgs = GridSearchCV(knc, kncparams,return_train_score = False, cv = 5, scoring='roc_auc')\n",
    "kncgs.fit(X, Y)\n",
    "kncDF = pd.DataFrame(kncgs.cv_results_)\n",
    "kncDF['mean_test_score'] = np.abs(kncDF['mean_test_score'])\n",
    "kncDF[['params', 'mean_test_score']].sort_values(by='mean_test_score', ascending=False)"
   ]
  },
  {
   "cell_type": "code",
   "execution_count": 49,
   "metadata": {},
   "outputs": [
    {
     "data": {
      "text/html": [
       "<div>\n",
       "<style scoped>\n",
       "    .dataframe tbody tr th:only-of-type {\n",
       "        vertical-align: middle;\n",
       "    }\n",
       "\n",
       "    .dataframe tbody tr th {\n",
       "        vertical-align: top;\n",
       "    }\n",
       "\n",
       "    .dataframe thead th {\n",
       "        text-align: right;\n",
       "    }\n",
       "</style>\n",
       "<table border=\"1\" class=\"dataframe\">\n",
       "  <thead>\n",
       "    <tr style=\"text-align: right;\">\n",
       "      <th></th>\n",
       "      <th>params</th>\n",
       "      <th>mean_test_score</th>\n",
       "    </tr>\n",
       "  </thead>\n",
       "  <tbody>\n",
       "    <tr>\n",
       "      <th>4321</th>\n",
       "      <td>{'C': 68, 'kernel': 'linear', 'random_state': 51}</td>\n",
       "      <td>0.824871</td>\n",
       "    </tr>\n",
       "    <tr>\n",
       "      <th>5044</th>\n",
       "      <td>{'C': 71, 'kernel': 'linear', 'random_state': 54}</td>\n",
       "      <td>0.824871</td>\n",
       "    </tr>\n",
       "    <tr>\n",
       "      <th>5066</th>\n",
       "      <td>{'C': 71, 'kernel': 'linear', 'random_state': 76}</td>\n",
       "      <td>0.824871</td>\n",
       "    </tr>\n",
       "    <tr>\n",
       "      <th>5065</th>\n",
       "      <td>{'C': 71, 'kernel': 'linear', 'random_state': 75}</td>\n",
       "      <td>0.824871</td>\n",
       "    </tr>\n",
       "    <tr>\n",
       "      <th>5064</th>\n",
       "      <td>{'C': 71, 'kernel': 'linear', 'random_state': 74}</td>\n",
       "      <td>0.824871</td>\n",
       "    </tr>\n",
       "    <tr>\n",
       "      <th>...</th>\n",
       "      <td>...</td>\n",
       "      <td>...</td>\n",
       "    </tr>\n",
       "    <tr>\n",
       "      <th>682</th>\n",
       "      <td>{'C': 52, 'kernel': 'sigmoid', 'random_state':...</td>\n",
       "      <td>0.197703</td>\n",
       "    </tr>\n",
       "    <tr>\n",
       "      <th>681</th>\n",
       "      <td>{'C': 52, 'kernel': 'sigmoid', 'random_state':...</td>\n",
       "      <td>0.197703</td>\n",
       "    </tr>\n",
       "    <tr>\n",
       "      <th>680</th>\n",
       "      <td>{'C': 52, 'kernel': 'sigmoid', 'random_state':...</td>\n",
       "      <td>0.197703</td>\n",
       "    </tr>\n",
       "    <tr>\n",
       "      <th>679</th>\n",
       "      <td>{'C': 52, 'kernel': 'sigmoid', 'random_state':...</td>\n",
       "      <td>0.197703</td>\n",
       "    </tr>\n",
       "    <tr>\n",
       "      <th>420</th>\n",
       "      <td>{'C': 51, 'kernel': 'sigmoid', 'random_state':...</td>\n",
       "      <td>0.197703</td>\n",
       "    </tr>\n",
       "  </tbody>\n",
       "</table>\n",
       "<p>7200 rows × 2 columns</p>\n",
       "</div>"
      ],
      "text/plain": [
       "                                                 params  mean_test_score\n",
       "4321  {'C': 68, 'kernel': 'linear', 'random_state': 51}         0.824871\n",
       "5044  {'C': 71, 'kernel': 'linear', 'random_state': 54}         0.824871\n",
       "5066  {'C': 71, 'kernel': 'linear', 'random_state': 76}         0.824871\n",
       "5065  {'C': 71, 'kernel': 'linear', 'random_state': 75}         0.824871\n",
       "5064  {'C': 71, 'kernel': 'linear', 'random_state': 74}         0.824871\n",
       "...                                                 ...              ...\n",
       "682   {'C': 52, 'kernel': 'sigmoid', 'random_state':...         0.197703\n",
       "681   {'C': 52, 'kernel': 'sigmoid', 'random_state':...         0.197703\n",
       "680   {'C': 52, 'kernel': 'sigmoid', 'random_state':...         0.197703\n",
       "679   {'C': 52, 'kernel': 'sigmoid', 'random_state':...         0.197703\n",
       "420   {'C': 51, 'kernel': 'sigmoid', 'random_state':...         0.197703\n",
       "\n",
       "[7200 rows x 2 columns]"
      ]
     },
     "execution_count": 49,
     "metadata": {},
     "output_type": "execute_result"
    }
   ],
   "source": [
    "svcgs = GridSearchCV(svc, svcparams,return_train_score = False, cv = 5, scoring='roc_auc')\n",
    "svcgs.fit(X, Y)\n",
    "svcDF = pd.DataFrame(svcgs.cv_results_)\n",
    "svcDF['mean_test_score'] = np.abs(svcDF['mean_test_score'])\n",
    "svcDF[['params', 'mean_test_score']].sort_values(by='mean_test_score', ascending=False)"
   ]
  },
  {
   "cell_type": "code",
   "execution_count": 50,
   "metadata": {},
   "outputs": [
    {
     "data": {
      "text/html": [
       "<div>\n",
       "<style scoped>\n",
       "    .dataframe tbody tr th:only-of-type {\n",
       "        vertical-align: middle;\n",
       "    }\n",
       "\n",
       "    .dataframe tbody tr th {\n",
       "        vertical-align: top;\n",
       "    }\n",
       "\n",
       "    .dataframe thead th {\n",
       "        text-align: right;\n",
       "    }\n",
       "</style>\n",
       "<table border=\"1\" class=\"dataframe\">\n",
       "  <thead>\n",
       "    <tr style=\"text-align: right;\">\n",
       "      <th></th>\n",
       "      <th>params</th>\n",
       "      <th>mean_test_score</th>\n",
       "    </tr>\n",
       "  </thead>\n",
       "  <tbody>\n",
       "    <tr>\n",
       "      <th>24</th>\n",
       "      <td>{'criterion': 'gini', 'n_estimators': 50, 'ran...</td>\n",
       "      <td>0.871586</td>\n",
       "    </tr>\n",
       "    <tr>\n",
       "      <th>84</th>\n",
       "      <td>{'criterion': 'gini', 'n_estimators': 51, 'ran...</td>\n",
       "      <td>0.870218</td>\n",
       "    </tr>\n",
       "    <tr>\n",
       "      <th>444</th>\n",
       "      <td>{'criterion': 'gini', 'n_estimators': 57, 'ran...</td>\n",
       "      <td>0.870131</td>\n",
       "    </tr>\n",
       "    <tr>\n",
       "      <th>384</th>\n",
       "      <td>{'criterion': 'gini', 'n_estimators': 56, 'ran...</td>\n",
       "      <td>0.870127</td>\n",
       "    </tr>\n",
       "    <tr>\n",
       "      <th>857</th>\n",
       "      <td>{'criterion': 'gini', 'n_estimators': 64, 'ran...</td>\n",
       "      <td>0.869150</td>\n",
       "    </tr>\n",
       "    <tr>\n",
       "      <th>...</th>\n",
       "      <td>...</td>\n",
       "      <td>...</td>\n",
       "    </tr>\n",
       "    <tr>\n",
       "      <th>2961</th>\n",
       "      <td>{'criterion': 'entropy', 'n_estimators': 69, '...</td>\n",
       "      <td>0.832231</td>\n",
       "    </tr>\n",
       "    <tr>\n",
       "      <th>2481</th>\n",
       "      <td>{'criterion': 'entropy', 'n_estimators': 61, '...</td>\n",
       "      <td>0.831858</td>\n",
       "    </tr>\n",
       "    <tr>\n",
       "      <th>1865</th>\n",
       "      <td>{'criterion': 'entropy', 'n_estimators': 51, '...</td>\n",
       "      <td>0.831482</td>\n",
       "    </tr>\n",
       "    <tr>\n",
       "      <th>42</th>\n",
       "      <td>{'criterion': 'gini', 'n_estimators': 50, 'ran...</td>\n",
       "      <td>0.830751</td>\n",
       "    </tr>\n",
       "    <tr>\n",
       "      <th>1805</th>\n",
       "      <td>{'criterion': 'entropy', 'n_estimators': 50, '...</td>\n",
       "      <td>0.829761</td>\n",
       "    </tr>\n",
       "  </tbody>\n",
       "</table>\n",
       "<p>3600 rows × 2 columns</p>\n",
       "</div>"
      ],
      "text/plain": [
       "                                                 params  mean_test_score\n",
       "24    {'criterion': 'gini', 'n_estimators': 50, 'ran...         0.871586\n",
       "84    {'criterion': 'gini', 'n_estimators': 51, 'ran...         0.870218\n",
       "444   {'criterion': 'gini', 'n_estimators': 57, 'ran...         0.870131\n",
       "384   {'criterion': 'gini', 'n_estimators': 56, 'ran...         0.870127\n",
       "857   {'criterion': 'gini', 'n_estimators': 64, 'ran...         0.869150\n",
       "...                                                 ...              ...\n",
       "2961  {'criterion': 'entropy', 'n_estimators': 69, '...         0.832231\n",
       "2481  {'criterion': 'entropy', 'n_estimators': 61, '...         0.831858\n",
       "1865  {'criterion': 'entropy', 'n_estimators': 51, '...         0.831482\n",
       "42    {'criterion': 'gini', 'n_estimators': 50, 'ran...         0.830751\n",
       "1805  {'criterion': 'entropy', 'n_estimators': 50, '...         0.829761\n",
       "\n",
       "[3600 rows x 2 columns]"
      ]
     },
     "execution_count": 50,
     "metadata": {},
     "output_type": "execute_result"
    }
   ],
   "source": [
    "rfcgs = GridSearchCV(rfc, rfcparams,return_train_score = False, cv = 5, scoring='roc_auc')\n",
    "rfcgs.fit(X, Y)\n",
    "rfcDF = pd.DataFrame(rfcgs.cv_results_)\n",
    "rfcDF['mean_test_score'] = np.abs(rfcDF['mean_test_score'])\n",
    "rfcDF[['params', 'mean_test_score']].sort_values(by='mean_test_score', ascending=False)"
   ]
  },
  {
   "cell_type": "code",
   "execution_count": 53,
   "metadata": {},
   "outputs": [
    {
     "data": {
      "text/plain": [
       "mean_fit_time                                                  0.077352\n",
       "std_fit_time                                                  0.0072178\n",
       "mean_score_time                                              0.00859475\n",
       "std_score_time                                               0.00135609\n",
       "param_criterion                                                    gini\n",
       "param_n_estimators                                                   50\n",
       "param_random_state                                                   74\n",
       "params                {'criterion': 'gini', 'n_estimators': 50, 'ran...\n",
       "split0_test_score                                              0.878333\n",
       "split1_test_score                                                 0.925\n",
       "split2_test_score                                              0.866667\n",
       "split3_test_score                                              0.896552\n",
       "split4_test_score                                              0.791379\n",
       "mean_test_score                                                0.871586\n",
       "std_test_score                                                0.0446748\n",
       "rank_test_score                                                       1\n",
       "Name: 24, dtype: object"
      ]
     },
     "execution_count": 53,
     "metadata": {},
     "output_type": "execute_result"
    }
   ],
   "source": [
    "param = rfcDF.iloc[24]\n",
    "param"
   ]
  },
  {
   "cell_type": "code",
   "execution_count": 51,
   "metadata": {},
   "outputs": [
    {
     "data": {
      "text/html": [
       "<div>\n",
       "<style scoped>\n",
       "    .dataframe tbody tr th:only-of-type {\n",
       "        vertical-align: middle;\n",
       "    }\n",
       "\n",
       "    .dataframe tbody tr th {\n",
       "        vertical-align: top;\n",
       "    }\n",
       "\n",
       "    .dataframe thead th {\n",
       "        text-align: right;\n",
       "    }\n",
       "</style>\n",
       "<table border=\"1\" class=\"dataframe\">\n",
       "  <thead>\n",
       "    <tr style=\"text-align: right;\">\n",
       "      <th></th>\n",
       "      <th>params</th>\n",
       "      <th>mean_test_score</th>\n",
       "    </tr>\n",
       "  </thead>\n",
       "  <tbody>\n",
       "    <tr>\n",
       "      <th>4</th>\n",
       "      <td>{'var_smoothing': 0.43287612810830584}</td>\n",
       "      <td>0.820617</td>\n",
       "    </tr>\n",
       "    <tr>\n",
       "      <th>3</th>\n",
       "      <td>{'var_smoothing': 0.533669923120631}</td>\n",
       "      <td>0.819340</td>\n",
       "    </tr>\n",
       "    <tr>\n",
       "      <th>0</th>\n",
       "      <td>{'var_smoothing': 1.0}</td>\n",
       "      <td>0.818644</td>\n",
       "    </tr>\n",
       "    <tr>\n",
       "      <th>2</th>\n",
       "      <td>{'var_smoothing': 0.657933224657568}</td>\n",
       "      <td>0.818604</td>\n",
       "    </tr>\n",
       "    <tr>\n",
       "      <th>10</th>\n",
       "      <td>{'var_smoothing': 0.12328467394420659}</td>\n",
       "      <td>0.817904</td>\n",
       "    </tr>\n",
       "    <tr>\n",
       "      <th>...</th>\n",
       "      <td>...</td>\n",
       "      <td>...</td>\n",
       "    </tr>\n",
       "    <tr>\n",
       "      <th>43</th>\n",
       "      <td>{'var_smoothing': 0.0001232846739442066}</td>\n",
       "      <td>0.784706</td>\n",
       "    </tr>\n",
       "    <tr>\n",
       "      <th>42</th>\n",
       "      <td>{'var_smoothing': 0.0001519911082952933}</td>\n",
       "      <td>0.784706</td>\n",
       "    </tr>\n",
       "    <tr>\n",
       "      <th>41</th>\n",
       "      <td>{'var_smoothing': 0.0001873817422860383}</td>\n",
       "      <td>0.784706</td>\n",
       "    </tr>\n",
       "    <tr>\n",
       "      <th>40</th>\n",
       "      <td>{'var_smoothing': 0.0002310129700083158}</td>\n",
       "      <td>0.784706</td>\n",
       "    </tr>\n",
       "    <tr>\n",
       "      <th>39</th>\n",
       "      <td>{'var_smoothing': 0.0002848035868435802}</td>\n",
       "      <td>0.784706</td>\n",
       "    </tr>\n",
       "  </tbody>\n",
       "</table>\n",
       "<p>100 rows × 2 columns</p>\n",
       "</div>"
      ],
      "text/plain": [
       "                                      params  mean_test_score\n",
       "4     {'var_smoothing': 0.43287612810830584}         0.820617\n",
       "3       {'var_smoothing': 0.533669923120631}         0.819340\n",
       "0                     {'var_smoothing': 1.0}         0.818644\n",
       "2       {'var_smoothing': 0.657933224657568}         0.818604\n",
       "10    {'var_smoothing': 0.12328467394420659}         0.817904\n",
       "..                                       ...              ...\n",
       "43  {'var_smoothing': 0.0001232846739442066}         0.784706\n",
       "42  {'var_smoothing': 0.0001519911082952933}         0.784706\n",
       "41  {'var_smoothing': 0.0001873817422860383}         0.784706\n",
       "40  {'var_smoothing': 0.0002310129700083158}         0.784706\n",
       "39  {'var_smoothing': 0.0002848035868435802}         0.784706\n",
       "\n",
       "[100 rows x 2 columns]"
      ]
     },
     "execution_count": 51,
     "metadata": {},
     "output_type": "execute_result"
    }
   ],
   "source": [
    "gncgs = GridSearchCV(gnc, gncparams,return_train_score = False, cv = 5, scoring='roc_auc')\n",
    "gncgs.fit(X, Y)\n",
    "gncDF = pd.DataFrame(gncgs.cv_results_)\n",
    "gncDF['mean_test_score'] = np.abs(gncDF['mean_test_score'])\n",
    "gncDF[['params', 'mean_test_score']].sort_values(by='mean_test_score', ascending=False)"
   ]
  },
  {
   "cell_type": "markdown",
   "metadata": {},
   "source": [
    "Best working model is Random Forest Classifier. Let's get the best parmeterized model."
   ]
  },
  {
   "cell_type": "code",
   "execution_count": 57,
   "metadata": {},
   "outputs": [],
   "source": [
    "rf_model = rfcgs.fit(X_train, y_train).best_estimator_\n",
    "rf_model.fit(X_train, y_train)\n",
    "pred = rf_model.predict(X_test)"
   ]
  },
  {
   "cell_type": "code",
   "execution_count": 58,
   "metadata": {},
   "outputs": [
    {
     "data": {
      "text/plain": [
       "array([[ 7,  5],\n",
       "       [ 6, 32]], dtype=int64)"
      ]
     },
     "execution_count": 58,
     "metadata": {},
     "output_type": "execute_result"
    }
   ],
   "source": [
    "confusion_matrix(pred, y_test)"
   ]
  },
  {
   "cell_type": "code",
   "execution_count": 59,
   "metadata": {},
   "outputs": [
    {
     "name": "stdout",
     "output_type": "stream",
     "text": [
      "              precision    recall  f1-score   support\n",
      "\n",
      "           0       0.54      0.58      0.56        12\n",
      "           1       0.86      0.84      0.85        38\n",
      "\n",
      "    accuracy                           0.78        50\n",
      "   macro avg       0.70      0.71      0.71        50\n",
      "weighted avg       0.79      0.78      0.78        50\n",
      "\n",
      "0.78\n"
     ]
    }
   ],
   "source": [
    "print(classification_report(pred, y_test))\n",
    "print(accuracy_score(pred, y_test))"
   ]
  },
  {
   "cell_type": "code",
   "execution_count": 64,
   "metadata": {},
   "outputs": [],
   "source": [
    "fpr, tpr, thresholds = roc_curve(y_test, pred)"
   ]
  },
  {
   "cell_type": "code",
   "execution_count": 65,
   "metadata": {},
   "outputs": [
    {
     "data": {
      "image/png": "[encoded data removed]",
      "text/plain": [
       "<Figure size 432x288 with 1 Axes>"
      ]
     },
     "metadata": {
      "needs_background": "light"
     },
     "output_type": "display_data"
    }
   ],
   "source": [
    "plt.plot(fpr, tpr, label='Random Foret Classifier (area = {})' .format(round(roc_auc_score(y_test, pred),2)))\n",
    "plt.legend(loc=\"top left\")\n",
    "plt.xlabel('False Positive Rate')\n",
    "plt.ylabel('True Positive Rate')\n",
    "plt.title('ROC Graph')\n",
    "plt.show()"
   ]
  },
  {
   "cell_type": "code",
   "execution_count": 61,
   "metadata": {},
   "outputs": [
    {
     "data": {
      "text/plain": [
       "['final_model.pkl']"
      ]
     },
     "execution_count": 61,
     "metadata": {},
     "output_type": "execute_result"
    }
   ],
   "source": [
    "# save the model to disk\n",
    "filename = 'final_model.pkl'\n",
    "joblib.dump(rf_model, filename)"
   ]
  },
  {
   "cell_type": "code",
   "execution_count": 63,
   "metadata": {},
   "outputs": [
    {
     "name": "stdout",
     "output_type": "stream",
     "text": [
      "0.78\n"
     ]
    }
   ],
   "source": [
    "# load the model from disk\n",
    "load_model = joblib.load(filename)\n",
    "result = load_model.score(X_test, y_test)\n",
    "print(result)"
   ]
  },
  {
   "cell_type": "code",
   "execution_count": null,
   "metadata": {},
   "outputs": [],
   "source": []
  }
 ],
 "metadata": {
  "kernelspec": {
   "display_name": "Python 3",
   "language": "python",
   "name": "python3"
  },
  "language_info": {
   "codemirror_mode": {
    "name": "ipython",
    "version": 3
   },
   "file_extension": ".py",
   "mimetype": "text/x-python",
   "name": "python",
   "nbconvert_exporter": "python",
   "pygments_lexer": "ipython3",
   "version": "3.8.3"
  }
 },
 "nbformat": 4,
 "nbformat_minor": 4
}
