{
 "cells": [
  {
   "cell_type": "code",
   "execution_count": 1,
   "metadata": {},
   "outputs": [],
   "source": [
    "import numpy as np\n",
    "import pandas as pd\n",
    "import matplotlib.pyplot as plt\n",
    "import seaborn as sns\n",
    "import warnings\n",
    "import sklearn\n",
    "warnings.filterwarnings('ignore')"
   ]
  },
  {
   "cell_type": "code",
   "execution_count": 2,
   "metadata": {},
   "outputs": [
    {
     "data": {
      "text/html": [
       "<div>\n",
       "<style scoped>\n",
       "    .dataframe tbody tr th:only-of-type {\n",
       "        vertical-align: middle;\n",
       "    }\n",
       "\n",
       "    .dataframe tbody tr th {\n",
       "        vertical-align: top;\n",
       "    }\n",
       "\n",
       "    .dataframe thead th {\n",
       "        text-align: right;\n",
       "    }\n",
       "</style>\n",
       "<table border=\"1\" class=\"dataframe\">\n",
       "  <thead>\n",
       "    <tr style=\"text-align: right;\">\n",
       "      <th></th>\n",
       "      <th>Province_State</th>\n",
       "      <th>Country_Region</th>\n",
       "      <th>Last_Update</th>\n",
       "      <th>Lat</th>\n",
       "      <th>Long_</th>\n",
       "      <th>Confirmed</th>\n",
       "      <th>Deaths</th>\n",
       "      <th>Recovered</th>\n",
       "      <th>Active</th>\n",
       "      <th>FIPS</th>\n",
       "      <th>Incident_Rate</th>\n",
       "      <th>People_Tested</th>\n",
       "      <th>People_Hospitalized</th>\n",
       "      <th>Mortality_Rate</th>\n",
       "      <th>UID</th>\n",
       "      <th>ISO3</th>\n",
       "      <th>Testing_Rate</th>\n",
       "      <th>Hospitalization_Rate</th>\n",
       "    </tr>\n",
       "  </thead>\n",
       "  <tbody>\n",
       "    <tr>\n",
       "      <th>0</th>\n",
       "      <td>Alabama</td>\n",
       "      <td>US</td>\n",
       "      <td>2020-05-21 02:32:54</td>\n",
       "      <td>32.3182</td>\n",
       "      <td>-86.9023</td>\n",
       "      <td>13052</td>\n",
       "      <td>522</td>\n",
       "      <td>NaN</td>\n",
       "      <td>12530.0</td>\n",
       "      <td>1</td>\n",
       "      <td>266.194321</td>\n",
       "      <td>164450.0</td>\n",
       "      <td>1493.0</td>\n",
       "      <td>3.999387</td>\n",
       "      <td>84000001</td>\n",
       "      <td>USA</td>\n",
       "      <td>3353.942386</td>\n",
       "      <td>11.438860</td>\n",
       "    </tr>\n",
       "    <tr>\n",
       "      <th>1</th>\n",
       "      <td>Alaska</td>\n",
       "      <td>US</td>\n",
       "      <td>2020-05-21 02:32:54</td>\n",
       "      <td>61.3707</td>\n",
       "      <td>-152.4044</td>\n",
       "      <td>401</td>\n",
       "      <td>10</td>\n",
       "      <td>352.0</td>\n",
       "      <td>39.0</td>\n",
       "      <td>2</td>\n",
       "      <td>54.815493</td>\n",
       "      <td>37045.0</td>\n",
       "      <td>NaN</td>\n",
       "      <td>2.493766</td>\n",
       "      <td>84000002</td>\n",
       "      <td>USA</td>\n",
       "      <td>5063.940017</td>\n",
       "      <td>NaN</td>\n",
       "    </tr>\n",
       "    <tr>\n",
       "      <th>2</th>\n",
       "      <td>American Samoa</td>\n",
       "      <td>US</td>\n",
       "      <td>2020-05-21 02:32:54</td>\n",
       "      <td>-14.2710</td>\n",
       "      <td>-170.1320</td>\n",
       "      <td>0</td>\n",
       "      <td>0</td>\n",
       "      <td>NaN</td>\n",
       "      <td>0.0</td>\n",
       "      <td>60</td>\n",
       "      <td>0.000000</td>\n",
       "      <td>124.0</td>\n",
       "      <td>NaN</td>\n",
       "      <td>NaN</td>\n",
       "      <td>16</td>\n",
       "      <td>ASM</td>\n",
       "      <td>222.857246</td>\n",
       "      <td>NaN</td>\n",
       "    </tr>\n",
       "    <tr>\n",
       "      <th>3</th>\n",
       "      <td>Arizona</td>\n",
       "      <td>US</td>\n",
       "      <td>2020-05-21 02:32:54</td>\n",
       "      <td>33.7298</td>\n",
       "      <td>-111.4312</td>\n",
       "      <td>14906</td>\n",
       "      <td>747</td>\n",
       "      <td>3773.0</td>\n",
       "      <td>10386.0</td>\n",
       "      <td>4</td>\n",
       "      <td>204.788838</td>\n",
       "      <td>165435.0</td>\n",
       "      <td>1792.0</td>\n",
       "      <td>5.011405</td>\n",
       "      <td>84000004</td>\n",
       "      <td>USA</td>\n",
       "      <td>2272.859351</td>\n",
       "      <td>12.022005</td>\n",
       "    </tr>\n",
       "    <tr>\n",
       "      <th>4</th>\n",
       "      <td>Arkansas</td>\n",
       "      <td>US</td>\n",
       "      <td>2020-05-21 02:32:54</td>\n",
       "      <td>34.9697</td>\n",
       "      <td>-92.3731</td>\n",
       "      <td>5003</td>\n",
       "      <td>107</td>\n",
       "      <td>3852.0</td>\n",
       "      <td>1044.0</td>\n",
       "      <td>5</td>\n",
       "      <td>165.782801</td>\n",
       "      <td>96258.0</td>\n",
       "      <td>535.0</td>\n",
       "      <td>2.138717</td>\n",
       "      <td>84000005</td>\n",
       "      <td>USA</td>\n",
       "      <td>3189.670370</td>\n",
       "      <td>10.693584</td>\n",
       "    </tr>\n",
       "  </tbody>\n",
       "</table>\n",
       "</div>"
      ],
      "text/plain": [
       "   Province_State Country_Region          Last_Update      Lat     Long_  \\\n",
       "0         Alabama             US  2020-05-21 02:32:54  32.3182  -86.9023   \n",
       "1          Alaska             US  2020-05-21 02:32:54  61.3707 -152.4044   \n",
       "2  American Samoa             US  2020-05-21 02:32:54 -14.2710 -170.1320   \n",
       "3         Arizona             US  2020-05-21 02:32:54  33.7298 -111.4312   \n",
       "4        Arkansas             US  2020-05-21 02:32:54  34.9697  -92.3731   \n",
       "\n",
       "   Confirmed  Deaths  Recovered   Active  FIPS  Incident_Rate  People_Tested  \\\n",
       "0      13052     522        NaN  12530.0     1     266.194321       164450.0   \n",
       "1        401      10      352.0     39.0     2      54.815493        37045.0   \n",
       "2          0       0        NaN      0.0    60       0.000000          124.0   \n",
       "3      14906     747     3773.0  10386.0     4     204.788838       165435.0   \n",
       "4       5003     107     3852.0   1044.0     5     165.782801        96258.0   \n",
       "\n",
       "   People_Hospitalized  Mortality_Rate       UID ISO3  Testing_Rate  \\\n",
       "0               1493.0        3.999387  84000001  USA   3353.942386   \n",
       "1                  NaN        2.493766  84000002  USA   5063.940017   \n",
       "2                  NaN             NaN        16  ASM    222.857246   \n",
       "3               1792.0        5.011405  84000004  USA   2272.859351   \n",
       "4                535.0        2.138717  84000005  USA   3189.670370   \n",
       "\n",
       "   Hospitalization_Rate  \n",
       "0             11.438860  \n",
       "1                   NaN  \n",
       "2                   NaN  \n",
       "3             12.022005  \n",
       "4             10.693584  "
      ]
     },
     "execution_count": 2,
     "metadata": {},
     "output_type": "execute_result"
    }
   ],
   "source": [
    "df = pd.read_csv(\"csse_covid_19_daily_reports_us.csv\")\n",
    "df.head()"
   ]
  },
  {
   "cell_type": "code",
   "execution_count": 3,
   "metadata": {},
   "outputs": [
    {
     "name": "stdout",
     "output_type": "stream",
     "text": [
      "<class 'pandas.core.frame.DataFrame'>\n",
      "RangeIndex: 58 entries, 0 to 57\n",
      "Data columns (total 18 columns):\n",
      " #   Column                Non-Null Count  Dtype  \n",
      "---  ------                --------------  -----  \n",
      " 0   Province_State        58 non-null     object \n",
      " 1   Country_Region        58 non-null     object \n",
      " 2   Last_Update           58 non-null     object \n",
      " 3   Lat                   56 non-null     float64\n",
      " 4   Long_                 56 non-null     float64\n",
      " 5   Confirmed             58 non-null     int64  \n",
      " 6   Deaths                58 non-null     int64  \n",
      " 7   Recovered             42 non-null     float64\n",
      " 8   Active                58 non-null     float64\n",
      " 9   FIPS                  58 non-null     int64  \n",
      " 10  Incident_Rate         56 non-null     float64\n",
      " 11  People_Tested         56 non-null     float64\n",
      " 12  People_Hospitalized   33 non-null     float64\n",
      " 13  Mortality_Rate        57 non-null     float64\n",
      " 14  UID                   58 non-null     int64  \n",
      " 15  ISO3                  58 non-null     object \n",
      " 16  Testing_Rate          56 non-null     float64\n",
      " 17  Hospitalization_Rate  33 non-null     float64\n",
      "dtypes: float64(10), int64(4), object(4)\n",
      "memory usage: 8.3+ KB\n"
     ]
    }
   ],
   "source": [
    "df.info()"
   ]
  },
  {
   "cell_type": "markdown",
   "metadata": {},
   "source": [
    "There are 58 rows in the dataset.\n",
    "\n",
    "Province_State, Country_Region, Last_Update, ISO3 are categorical columns.\n",
    "\n",
    "Lat, Long_, Recovered, Active, Incident_Rate, People_Tested, People_Hospitalized, Mortality_Rate, Testing_Rate, Hospitalization_Rate are float columns.\n",
    "\n",
    "Confirmed, Deaths, FIPS, UID are Integer columns."
   ]
  },
  {
   "cell_type": "markdown",
   "metadata": {},
   "source": [
    "We have some blank values in columns, also there are many unnecessary columns which we can remove straight away as per the description of the dataset."
   ]
  },
  {
   "cell_type": "markdown",
   "metadata": {},
   "source": [
    "We can straight away remove these columns as they are unnecessary for our model."
   ]
  },
  {
   "cell_type": "code",
   "execution_count": 4,
   "metadata": {},
   "outputs": [],
   "source": [
    "df.drop([\"Country_Region\", \"Last_Update\", \"FIPS\", \"UID\", \"ISO3\"],1,inplace=True)"
   ]
  },
  {
   "cell_type": "code",
   "execution_count": 5,
   "metadata": {},
   "outputs": [
    {
     "data": {
      "text/html": [
       "<div>\n",
       "<style scoped>\n",
       "    .dataframe tbody tr th:only-of-type {\n",
       "        vertical-align: middle;\n",
       "    }\n",
       "\n",
       "    .dataframe tbody tr th {\n",
       "        vertical-align: top;\n",
       "    }\n",
       "\n",
       "    .dataframe thead th {\n",
       "        text-align: right;\n",
       "    }\n",
       "</style>\n",
       "<table border=\"1\" class=\"dataframe\">\n",
       "  <thead>\n",
       "    <tr style=\"text-align: right;\">\n",
       "      <th></th>\n",
       "      <th>Lat</th>\n",
       "      <th>Long_</th>\n",
       "      <th>Confirmed</th>\n",
       "      <th>Deaths</th>\n",
       "      <th>Recovered</th>\n",
       "      <th>Active</th>\n",
       "      <th>Incident_Rate</th>\n",
       "      <th>People_Tested</th>\n",
       "      <th>People_Hospitalized</th>\n",
       "      <th>Mortality_Rate</th>\n",
       "      <th>Testing_Rate</th>\n",
       "      <th>Hospitalization_Rate</th>\n",
       "    </tr>\n",
       "  </thead>\n",
       "  <tbody>\n",
       "    <tr>\n",
       "      <th>count</th>\n",
       "      <td>56.000000</td>\n",
       "      <td>56.000000</td>\n",
       "      <td>58.000000</td>\n",
       "      <td>58.000000</td>\n",
       "      <td>42.000000</td>\n",
       "      <td>58.000000</td>\n",
       "      <td>56.000000</td>\n",
       "      <td>5.600000e+01</td>\n",
       "      <td>33.000000</td>\n",
       "      <td>57.000000</td>\n",
       "      <td>56.000000</td>\n",
       "      <td>33.000000</td>\n",
       "    </tr>\n",
       "    <tr>\n",
       "      <th>mean</th>\n",
       "      <td>36.840089</td>\n",
       "      <td>-85.206614</td>\n",
       "      <td>26756.086207</td>\n",
       "      <td>1611.017241</td>\n",
       "      <td>7007.428571</td>\n",
       "      <td>20070.724138</td>\n",
       "      <td>396.230806</td>\n",
       "      <td>2.258534e+05</td>\n",
       "      <td>4897.454545</td>\n",
       "      <td>4.458248</td>\n",
       "      <td>3894.186870</td>\n",
       "      <td>14.342541</td>\n",
       "    </tr>\n",
       "    <tr>\n",
       "      <th>std</th>\n",
       "      <td>10.887035</td>\n",
       "      <td>49.754449</td>\n",
       "      <td>52562.031122</td>\n",
       "      <td>4084.750891</td>\n",
       "      <td>11674.490020</td>\n",
       "      <td>41294.705318</td>\n",
       "      <td>402.682539</td>\n",
       "      <td>2.987834e+05</td>\n",
       "      <td>13185.628145</td>\n",
       "      <td>2.135002</td>\n",
       "      <td>1933.169297</td>\n",
       "      <td>5.047403</td>\n",
       "    </tr>\n",
       "    <tr>\n",
       "      <th>min</th>\n",
       "      <td>-14.271000</td>\n",
       "      <td>-170.132000</td>\n",
       "      <td>0.000000</td>\n",
       "      <td>0.000000</td>\n",
       "      <td>13.000000</td>\n",
       "      <td>0.000000</td>\n",
       "      <td>0.000000</td>\n",
       "      <td>1.240000e+02</td>\n",
       "      <td>65.000000</td>\n",
       "      <td>0.000000</td>\n",
       "      <td>97.702058</td>\n",
       "      <td>6.778043</td>\n",
       "    </tr>\n",
       "    <tr>\n",
       "      <th>25%</th>\n",
       "      <td>34.594600</td>\n",
       "      <td>-101.165775</td>\n",
       "      <td>2596.000000</td>\n",
       "      <td>74.000000</td>\n",
       "      <td>970.000000</td>\n",
       "      <td>812.500000</td>\n",
       "      <td>148.521021</td>\n",
       "      <td>4.608100e+04</td>\n",
       "      <td>535.000000</td>\n",
       "      <td>3.072626</td>\n",
       "      <td>2712.800274</td>\n",
       "      <td>10.000000</td>\n",
       "    </tr>\n",
       "    <tr>\n",
       "      <th>50%</th>\n",
       "      <td>39.061850</td>\n",
       "      <td>-87.944200</td>\n",
       "      <td>10148.500000</td>\n",
       "      <td>385.000000</td>\n",
       "      <td>3008.000000</td>\n",
       "      <td>5644.500000</td>\n",
       "      <td>250.477287</td>\n",
       "      <td>1.386545e+05</td>\n",
       "      <td>1493.000000</td>\n",
       "      <td>4.403318</td>\n",
       "      <td>3469.782532</td>\n",
       "      <td>13.598326</td>\n",
       "    </tr>\n",
       "    <tr>\n",
       "      <th>75%</th>\n",
       "      <td>42.361650</td>\n",
       "      <td>-76.970625</td>\n",
       "      <td>29395.500000</td>\n",
       "      <td>1394.250000</td>\n",
       "      <td>7326.750000</td>\n",
       "      <td>19291.250000</td>\n",
       "      <td>477.888542</td>\n",
       "      <td>2.796948e+05</td>\n",
       "      <td>4389.000000</td>\n",
       "      <td>5.466238</td>\n",
       "      <td>4763.649736</td>\n",
       "      <td>17.658649</td>\n",
       "    </tr>\n",
       "    <tr>\n",
       "      <th>max</th>\n",
       "      <td>61.370700</td>\n",
       "      <td>145.673900</td>\n",
       "      <td>354370.000000</td>\n",
       "      <td>28636.000000</td>\n",
       "      <td>61886.000000</td>\n",
       "      <td>263848.000000</td>\n",
       "      <td>1821.620216</td>\n",
       "      <td>1.505836e+06</td>\n",
       "      <td>76410.000000</td>\n",
       "      <td>9.545549</td>\n",
       "      <td>11377.424693</td>\n",
       "      <td>28.054438</td>\n",
       "    </tr>\n",
       "  </tbody>\n",
       "</table>\n",
       "</div>"
      ],
      "text/plain": [
       "             Lat       Long_      Confirmed        Deaths     Recovered  \\\n",
       "count  56.000000   56.000000      58.000000     58.000000     42.000000   \n",
       "mean   36.840089  -85.206614   26756.086207   1611.017241   7007.428571   \n",
       "std    10.887035   49.754449   52562.031122   4084.750891  11674.490020   \n",
       "min   -14.271000 -170.132000       0.000000      0.000000     13.000000   \n",
       "25%    34.594600 -101.165775    2596.000000     74.000000    970.000000   \n",
       "50%    39.061850  -87.944200   10148.500000    385.000000   3008.000000   \n",
       "75%    42.361650  -76.970625   29395.500000   1394.250000   7326.750000   \n",
       "max    61.370700  145.673900  354370.000000  28636.000000  61886.000000   \n",
       "\n",
       "              Active  Incident_Rate  People_Tested  People_Hospitalized  \\\n",
       "count      58.000000      56.000000   5.600000e+01            33.000000   \n",
       "mean    20070.724138     396.230806   2.258534e+05          4897.454545   \n",
       "std     41294.705318     402.682539   2.987834e+05         13185.628145   \n",
       "min         0.000000       0.000000   1.240000e+02            65.000000   \n",
       "25%       812.500000     148.521021   4.608100e+04           535.000000   \n",
       "50%      5644.500000     250.477287   1.386545e+05          1493.000000   \n",
       "75%     19291.250000     477.888542   2.796948e+05          4389.000000   \n",
       "max    263848.000000    1821.620216   1.505836e+06         76410.000000   \n",
       "\n",
       "       Mortality_Rate  Testing_Rate  Hospitalization_Rate  \n",
       "count       57.000000     56.000000             33.000000  \n",
       "mean         4.458248   3894.186870             14.342541  \n",
       "std          2.135002   1933.169297              5.047403  \n",
       "min          0.000000     97.702058              6.778043  \n",
       "25%          3.072626   2712.800274             10.000000  \n",
       "50%          4.403318   3469.782532             13.598326  \n",
       "75%          5.466238   4763.649736             17.658649  \n",
       "max          9.545549  11377.424693             28.054438  "
      ]
     },
     "execution_count": 5,
     "metadata": {},
     "output_type": "execute_result"
    }
   ],
   "source": [
    "#Let's see some statistical features of the columns\n",
    "\n",
    "df.describe()"
   ]
  },
  {
   "cell_type": "markdown",
   "metadata": {},
   "source": [
    "Minimum count in Confirmed is 0 but recovered is 13, this dataset doesn't seems so reliable in real world. Never matter, we need to make the model using the given dataset only."
   ]
  },
  {
   "cell_type": "markdown",
   "metadata": {},
   "source": [
    "Since we have 2 missing vaues in Lat_ and Long_ and no missing value in Province_State, so i think it s better to keep it rather than Lat and Long_.\n",
    "But first let's see what is the value of Province where Lat and Long are missing"
   ]
  },
  {
   "cell_type": "code",
   "execution_count": 6,
   "metadata": {},
   "outputs": [
    {
     "data": {
      "text/plain": [
       "58"
      ]
     },
     "execution_count": 6,
     "metadata": {},
     "output_type": "execute_result"
    }
   ],
   "source": [
    "len(df['Province_State'].unique())"
   ]
  },
  {
   "cell_type": "code",
   "execution_count": 7,
   "metadata": {},
   "outputs": [
    {
     "data": {
      "text/plain": [
       "array([ 32.3182,  61.3707, -14.271 ,  33.7298,  34.9697,  36.1162,\n",
       "        39.0598,  41.5978,  39.3185,      nan,  38.8974,  27.7663,\n",
       "        33.0406,  13.4443,  21.0943,  44.2405,  40.3495,  39.8494,\n",
       "        42.0115,  38.5266,  37.6681,  31.1695,  44.6939,  39.0639,\n",
       "        42.2302,  43.3266,  45.6945,  32.7416,  38.4561,  46.9219,\n",
       "        41.1254,  38.3135,  43.4525,  40.2989,  34.8405,  42.1657,\n",
       "        35.6301,  47.5289,  15.0979,  40.3888,  35.5653,  44.572 ,\n",
       "        40.5908,  18.2208,  41.6809,  33.8569,  44.2998,  35.7478,\n",
       "        31.0545,  40.15  ,  44.0459,  18.3358,  37.7693,  47.4009,\n",
       "        38.4912,  44.2685,  42.756 ])"
      ]
     },
     "execution_count": 7,
     "metadata": {},
     "output_type": "execute_result"
    }
   ],
   "source": [
    "df['Lat'].unique()"
   ]
  },
  {
   "cell_type": "code",
   "execution_count": 8,
   "metadata": {},
   "outputs": [
    {
     "data": {
      "text/plain": [
       "9     Diamond Princess\n",
       "13      Grand Princess\n",
       "Name: Province_State, dtype: object"
      ]
     },
     "execution_count": 8,
     "metadata": {},
     "output_type": "execute_result"
    }
   ],
   "source": [
    "df.loc[df['Lat'].isna(), 'Province_State']"
   ]
  },
  {
   "cell_type": "code",
   "execution_count": 9,
   "metadata": {},
   "outputs": [
    {
     "data": {
      "text/plain": [
       "9     Diamond Princess\n",
       "13      Grand Princess\n",
       "Name: Province_State, dtype: object"
      ]
     },
     "execution_count": 9,
     "metadata": {},
     "output_type": "execute_result"
    }
   ],
   "source": [
    "df.loc[df['Long_'].isna(), 'Province_State']"
   ]
  },
  {
   "cell_type": "markdown",
   "metadata": {},
   "source": [
    "Where Lat and Long_ values are missing we have Province_State values as [\"Diamond Princess\" and \"Grand Princess\"], but we don't have any other row where we have \"Diamond Princess\" and \"Grand Princess\" as \"Province_State\" values but \"Lat\" and \"Long_\" values present, also Lat and Long_ are no such value which we could replace with any substitute, so let's remove these columns as well."
   ]
  },
  {
   "cell_type": "code",
   "execution_count": 10,
   "metadata": {},
   "outputs": [],
   "source": [
    "df.drop([\"Lat\", \"Long_\"],1,inplace=True)"
   ]
  },
  {
   "cell_type": "code",
   "execution_count": 11,
   "metadata": {},
   "outputs": [
    {
     "name": "stdout",
     "output_type": "stream",
     "text": [
      "<class 'pandas.core.frame.DataFrame'>\n",
      "RangeIndex: 58 entries, 0 to 57\n",
      "Data columns (total 11 columns):\n",
      " #   Column                Non-Null Count  Dtype  \n",
      "---  ------                --------------  -----  \n",
      " 0   Province_State        58 non-null     object \n",
      " 1   Confirmed             58 non-null     int64  \n",
      " 2   Deaths                58 non-null     int64  \n",
      " 3   Recovered             42 non-null     float64\n",
      " 4   Active                58 non-null     float64\n",
      " 5   Incident_Rate         56 non-null     float64\n",
      " 6   People_Tested         56 non-null     float64\n",
      " 7   People_Hospitalized   33 non-null     float64\n",
      " 8   Mortality_Rate        57 non-null     float64\n",
      " 9   Testing_Rate          56 non-null     float64\n",
      " 10  Hospitalization_Rate  33 non-null     float64\n",
      "dtypes: float64(8), int64(2), object(1)\n",
      "memory usage: 5.1+ KB\n"
     ]
    }
   ],
   "source": [
    "df.info()"
   ]
  },
  {
   "cell_type": "markdown",
   "metadata": {},
   "source": [
    "11 columns remaining."
   ]
  },
  {
   "cell_type": "markdown",
   "metadata": {},
   "source": [
    "Seems we have some missing values in Recoveres column which is our target variable. let's take some insight into it."
   ]
  },
  {
   "cell_type": "code",
   "execution_count": 12,
   "metadata": {},
   "outputs": [
    {
     "data": {
      "text/plain": [
       "array([       nan, 3.5200e+02, 3.7730e+03, 3.8520e+03, 3.4780e+03,\n",
       "       6.2640e+03, 3.9650e+03, 1.0590e+03, 1.2500e+02, 5.7800e+02,\n",
       "       1.6680e+03, 8.3620e+03, 4.7300e+02, 2.8260e+03, 2.6249e+04,\n",
       "       1.1000e+03, 2.9930e+03, 2.8234e+04, 1.2227e+04, 7.6810e+03,\n",
       "       4.4000e+02, 3.3600e+02, 1.2750e+03, 2.3945e+04, 1.8820e+03,\n",
       "       6.1886e+04, 1.1637e+04, 1.3020e+03, 1.3000e+01, 4.2660e+03,\n",
       "       1.4060e+03, 1.0300e+03, 5.4510e+03, 3.0230e+03, 1.1783e+04,\n",
       "       3.0341e+04, 4.4230e+03, 8.2400e+02, 6.1000e+01, 4.5230e+03,\n",
       "       9.5000e+02, 7.7280e+03, 5.2800e+02])"
      ]
     },
     "execution_count": 12,
     "metadata": {},
     "output_type": "execute_result"
    }
   ],
   "source": [
    "df['Recovered'].unique()"
   ]
  },
  {
   "cell_type": "code",
   "execution_count": 13,
   "metadata": {},
   "outputs": [
    {
     "data": {
      "text/plain": [
       "0      13052\n",
       "2          0\n",
       "5      85997\n",
       "9         49\n",
       "11     47471\n",
       "12     39801\n",
       "13       103\n",
       "17    100418\n",
       "18     29274\n",
       "25     88970\n",
       "29     11528\n",
       "31     11122\n",
       "40     29436\n",
       "43     68126\n",
       "44      2866\n",
       "54     18971\n",
       "Name: Confirmed, dtype: int64"
      ]
     },
     "execution_count": 13,
     "metadata": {},
     "output_type": "execute_result"
    }
   ],
   "source": [
    "#Let's see number of cases confirmed where number of recoveries is unknown/missing.\n",
    "\n",
    "df.loc[df['Recovered'].isna(), 'Confirmed']"
   ]
  },
  {
   "cell_type": "code",
   "execution_count": 14,
   "metadata": {},
   "outputs": [],
   "source": [
    "#Putting 0 in Recovered where Confirmed is 0\n",
    "\n",
    "df['Recovered'][(df['Recovered'].isna()) & (df['Confirmed'] == 0)] = 0"
   ]
  },
  {
   "cell_type": "code",
   "execution_count": 15,
   "metadata": {},
   "outputs": [
    {
     "data": {
      "text/html": [
       "<div>\n",
       "<style scoped>\n",
       "    .dataframe tbody tr th:only-of-type {\n",
       "        vertical-align: middle;\n",
       "    }\n",
       "\n",
       "    .dataframe tbody tr th {\n",
       "        vertical-align: top;\n",
       "    }\n",
       "\n",
       "    .dataframe thead th {\n",
       "        text-align: right;\n",
       "    }\n",
       "</style>\n",
       "<table border=\"1\" class=\"dataframe\">\n",
       "  <thead>\n",
       "    <tr style=\"text-align: right;\">\n",
       "      <th></th>\n",
       "      <th>Confirmed</th>\n",
       "      <th>Recovered</th>\n",
       "    </tr>\n",
       "  </thead>\n",
       "  <tbody>\n",
       "    <tr>\n",
       "      <th>0</th>\n",
       "      <td>13052</td>\n",
       "      <td>NaN</td>\n",
       "    </tr>\n",
       "    <tr>\n",
       "      <th>5</th>\n",
       "      <td>85997</td>\n",
       "      <td>NaN</td>\n",
       "    </tr>\n",
       "    <tr>\n",
       "      <th>9</th>\n",
       "      <td>49</td>\n",
       "      <td>NaN</td>\n",
       "    </tr>\n",
       "    <tr>\n",
       "      <th>11</th>\n",
       "      <td>47471</td>\n",
       "      <td>NaN</td>\n",
       "    </tr>\n",
       "    <tr>\n",
       "      <th>12</th>\n",
       "      <td>39801</td>\n",
       "      <td>NaN</td>\n",
       "    </tr>\n",
       "    <tr>\n",
       "      <th>13</th>\n",
       "      <td>103</td>\n",
       "      <td>NaN</td>\n",
       "    </tr>\n",
       "    <tr>\n",
       "      <th>17</th>\n",
       "      <td>100418</td>\n",
       "      <td>NaN</td>\n",
       "    </tr>\n",
       "    <tr>\n",
       "      <th>18</th>\n",
       "      <td>29274</td>\n",
       "      <td>NaN</td>\n",
       "    </tr>\n",
       "    <tr>\n",
       "      <th>25</th>\n",
       "      <td>88970</td>\n",
       "      <td>NaN</td>\n",
       "    </tr>\n",
       "    <tr>\n",
       "      <th>29</th>\n",
       "      <td>11528</td>\n",
       "      <td>NaN</td>\n",
       "    </tr>\n",
       "    <tr>\n",
       "      <th>31</th>\n",
       "      <td>11122</td>\n",
       "      <td>NaN</td>\n",
       "    </tr>\n",
       "    <tr>\n",
       "      <th>40</th>\n",
       "      <td>29436</td>\n",
       "      <td>NaN</td>\n",
       "    </tr>\n",
       "    <tr>\n",
       "      <th>43</th>\n",
       "      <td>68126</td>\n",
       "      <td>NaN</td>\n",
       "    </tr>\n",
       "    <tr>\n",
       "      <th>44</th>\n",
       "      <td>2866</td>\n",
       "      <td>NaN</td>\n",
       "    </tr>\n",
       "    <tr>\n",
       "      <th>54</th>\n",
       "      <td>18971</td>\n",
       "      <td>NaN</td>\n",
       "    </tr>\n",
       "  </tbody>\n",
       "</table>\n",
       "</div>"
      ],
      "text/plain": [
       "    Confirmed  Recovered\n",
       "0       13052        NaN\n",
       "5       85997        NaN\n",
       "9          49        NaN\n",
       "11      47471        NaN\n",
       "12      39801        NaN\n",
       "13        103        NaN\n",
       "17     100418        NaN\n",
       "18      29274        NaN\n",
       "25      88970        NaN\n",
       "29      11528        NaN\n",
       "31      11122        NaN\n",
       "40      29436        NaN\n",
       "43      68126        NaN\n",
       "44       2866        NaN\n",
       "54      18971        NaN"
      ]
     },
     "execution_count": 15,
     "metadata": {},
     "output_type": "execute_result"
    }
   ],
   "source": [
    "df[['Confirmed','Recovered']][(df['Recovered'].isna())]"
   ]
  },
  {
   "cell_type": "markdown",
   "metadata": {},
   "source": [
    "Since we have missing values for the target variable in the dataset, then we can either remove them or maybe impute them using a model prediction itself."
   ]
  },
  {
   "cell_type": "markdown",
   "metadata": {},
   "source": [
    "Let's leave them as is and we can predict the missing values for recovered column using model prediction, by keeping the missing value rows as test data."
   ]
  },
  {
   "cell_type": "code",
   "execution_count": 16,
   "metadata": {},
   "outputs": [
    {
     "data": {
      "text/plain": [
       "count       58.000000\n",
       "mean      1611.017241\n",
       "std       4084.750891\n",
       "min          0.000000\n",
       "25%         74.000000\n",
       "50%        385.000000\n",
       "75%       1394.250000\n",
       "max      28636.000000\n",
       "Name: Deaths, dtype: float64"
      ]
     },
     "execution_count": 16,
     "metadata": {},
     "output_type": "execute_result"
    }
   ],
   "source": [
    "df['Deaths'].describe()"
   ]
  },
  {
   "cell_type": "markdown",
   "metadata": {},
   "source": [
    "We don't have missing values in deaths column so we can easily divide our dataset and we can use the same train data and test data for predicting our missing recovered values."
   ]
  },
  {
   "cell_type": "markdown",
   "metadata": {},
   "source": [
    "# EDA"
   ]
  },
  {
   "cell_type": "code",
   "execution_count": 17,
   "metadata": {},
   "outputs": [
    {
     "name": "stdout",
     "output_type": "stream",
     "text": [
      "<class 'pandas.core.frame.DataFrame'>\n",
      "RangeIndex: 58 entries, 0 to 57\n",
      "Data columns (total 11 columns):\n",
      " #   Column                Non-Null Count  Dtype  \n",
      "---  ------                --------------  -----  \n",
      " 0   Province_State        58 non-null     object \n",
      " 1   Confirmed             58 non-null     int64  \n",
      " 2   Deaths                58 non-null     int64  \n",
      " 3   Recovered             43 non-null     float64\n",
      " 4   Active                58 non-null     float64\n",
      " 5   Incident_Rate         56 non-null     float64\n",
      " 6   People_Tested         56 non-null     float64\n",
      " 7   People_Hospitalized   33 non-null     float64\n",
      " 8   Mortality_Rate        57 non-null     float64\n",
      " 9   Testing_Rate          56 non-null     float64\n",
      " 10  Hospitalization_Rate  33 non-null     float64\n",
      "dtypes: float64(8), int64(2), object(1)\n",
      "memory usage: 5.1+ KB\n"
     ]
    }
   ],
   "source": [
    "df.info()"
   ]
  },
  {
   "cell_type": "code",
   "execution_count": 18,
   "metadata": {},
   "outputs": [
    {
     "data": {
      "image/png": "[encoded data removed]",
      "text/plain": [
       "<Figure size 1080x216 with 3 Axes>"
      ]
     },
     "metadata": {
      "needs_background": "light"
     },
     "output_type": "display_data"
    }
   ],
   "source": [
    "arr = [\"Incident_Rate\",\"Mortality_Rate\", \"Testing_Rate\"]\n",
    "plt.figure(figsize=(15,3))\n",
    "for i,j in enumerate(arr):\n",
    "    plt.subplot(1,3,i+1)\n",
    "    sns.stripplot(df[j])\n",
    "plt.show()"
   ]
  },
  {
   "cell_type": "markdown",
   "metadata": {},
   "source": [
    "We can see that unique values of above three columns have approx same number of occurrences, with some putliers as well."
   ]
  },
  {
   "cell_type": "code",
   "execution_count": 19,
   "metadata": {},
   "outputs": [
    {
     "data": {
      "image/png": "[encoded data removed]",
      "text/plain": [
       "<Figure size 1440x432 with 10 Axes>"
      ]
     },
     "metadata": {
      "needs_background": "light"
     },
     "output_type": "display_data"
    }
   ],
   "source": [
    "plt.figure(figsize=(20,6))\n",
    "for i,j in enumerate(df.columns[1:]):\n",
    "    plt.subplot(2,5,i+1)\n",
    "    sns.boxplot(df[j], orient=\"v\")\n",
    "plt.show()"
   ]
  },
  {
   "cell_type": "markdown",
   "metadata": {},
   "source": [
    "We have some outliers in Confirmed, Deaths, Recovered, Active. But since we can see that there are some outliers in Incident rate also which means that data is outliers are to be expected."
   ]
  },
  {
   "cell_type": "markdown",
   "metadata": {},
   "source": [
    "Mortality Rate seems pretty evenly spread, with negligible outliers, we can treat outliers of Confirmed and we can see how it cacades to other columns."
   ]
  },
  {
   "cell_type": "code",
   "execution_count": 20,
   "metadata": {},
   "outputs": [],
   "source": [
    "from scipy.stats import zscore"
   ]
  },
  {
   "cell_type": "code",
   "execution_count": 21,
   "metadata": {},
   "outputs": [
    {
     "data": {
      "text/plain": [
       "<matplotlib.axes._subplots.AxesSubplot at 0x1e5836c1cd0>"
      ]
     },
     "execution_count": 21,
     "metadata": {},
     "output_type": "execute_result"
    },
    {
     "data": {
      "image/png": "[encoded data removed]",
      "text/plain": [
       "<Figure size 432x288 with 1 Axes>"
      ]
     },
     "metadata": {
      "needs_background": "light"
     },
     "output_type": "display_data"
    }
   ],
   "source": [
    "df['z_Confirmed'] = zscore(df['Confirmed'])\n",
    "sns.distplot(df['z_Confirmed'])"
   ]
  },
  {
   "cell_type": "markdown",
   "metadata": {},
   "source": [
    "Very positively skewed, let's check magnitude of skewness"
   ]
  },
  {
   "cell_type": "code",
   "execution_count": 22,
   "metadata": {},
   "outputs": [
    {
     "data": {
      "text/plain": [
       "4.708614332934411"
      ]
     },
     "execution_count": 22,
     "metadata": {},
     "output_type": "execute_result"
    }
   ],
   "source": [
    "df['z_Confirmed'].skew()"
   ]
  },
  {
   "cell_type": "code",
   "execution_count": 23,
   "metadata": {},
   "outputs": [
    {
     "data": {
      "text/plain": [
       "1"
      ]
     },
     "execution_count": 23,
     "metadata": {},
     "output_type": "execute_result"
    }
   ],
   "source": [
    "#Count number of rows with zscore gteater than 3\n",
    "\n",
    "df.loc[df['z_Confirmed'] > 3, 'z_Confirmed'].count()"
   ]
  },
  {
   "cell_type": "code",
   "execution_count": 24,
   "metadata": {},
   "outputs": [
    {
     "data": {
      "text/plain": [
       "(57, 12)"
      ]
     },
     "execution_count": 24,
     "metadata": {},
     "output_type": "execute_result"
    }
   ],
   "source": [
    "df = df[df['z_Confirmed'] < 3]\n",
    "df.shape"
   ]
  },
  {
   "cell_type": "code",
   "execution_count": 25,
   "metadata": {},
   "outputs": [
    {
     "name": "stdout",
     "output_type": "stream",
     "text": [
      "<class 'pandas.core.frame.DataFrame'>\n",
      "Int64Index: 57 entries, 0 to 57\n",
      "Data columns (total 12 columns):\n",
      " #   Column                Non-Null Count  Dtype  \n",
      "---  ------                --------------  -----  \n",
      " 0   Province_State        57 non-null     object \n",
      " 1   Confirmed             57 non-null     int64  \n",
      " 2   Deaths                57 non-null     int64  \n",
      " 3   Recovered             42 non-null     float64\n",
      " 4   Active                57 non-null     float64\n",
      " 5   Incident_Rate         55 non-null     float64\n",
      " 6   People_Tested         55 non-null     float64\n",
      " 7   People_Hospitalized   32 non-null     float64\n",
      " 8   Mortality_Rate        56 non-null     float64\n",
      " 9   Testing_Rate          55 non-null     float64\n",
      " 10  Hospitalization_Rate  32 non-null     float64\n",
      " 11  z_Confirmed           57 non-null     float64\n",
      "dtypes: float64(9), int64(2), object(1)\n",
      "memory usage: 5.8+ KB\n"
     ]
    }
   ],
   "source": [
    "df.info()"
   ]
  },
  {
   "cell_type": "markdown",
   "metadata": {},
   "source": [
    "We have removed 1 row, let's see what impact it has on outliers in other columns"
   ]
  },
  {
   "cell_type": "code",
   "execution_count": 26,
   "metadata": {},
   "outputs": [
    {
     "data": {
      "image/png": "[encoded data removed]",
      "text/plain": [
       "<Figure size 1440x432 with 10 Axes>"
      ]
     },
     "metadata": {
      "needs_background": "light"
     },
     "output_type": "display_data"
    }
   ],
   "source": [
    "plt.figure(figsize=(20,6))\n",
    "for i,j in enumerate(df.columns[1:-1]):\n",
    "    plt.subplot(2,5,i+1)\n",
    "    sns.boxplot(df[j], orient=\"v\")\n",
    "plt.show()"
   ]
  },
  {
   "cell_type": "markdown",
   "metadata": {},
   "source": [
    "It has substantially improved the boxplot."
   ]
  },
  {
   "cell_type": "markdown",
   "metadata": {},
   "source": [
    "Let's see plot between Deaths, Recovered with other columns usinf bivariate analysis."
   ]
  },
  {
   "cell_type": "code",
   "execution_count": 27,
   "metadata": {},
   "outputs": [
    {
     "data": {
      "text/plain": [
       "<Figure size 1440x432 with 0 Axes>"
      ]
     },
     "metadata": {},
     "output_type": "display_data"
    },
    {
     "data": {
      "image/png": "[encoded data removed]",
      "text/plain": [
       "<Figure size 360x360 with 1 Axes>"
      ]
     },
     "metadata": {
      "needs_background": "light"
     },
     "output_type": "display_data"
    },
    {
     "data": {
      "image/png": "[encoded data removed]",
      "text/plain": [
       "<Figure size 360x360 with 1 Axes>"
      ]
     },
     "metadata": {
      "needs_background": "light"
     },
     "output_type": "display_data"
    },
    {
     "data": {
      "image/png": "[encoded data removed]",
      "text/plain": [
       "<Figure size 360x360 with 1 Axes>"
      ]
     },
     "metadata": {
      "needs_background": "light"
     },
     "output_type": "display_data"
    },
    {
     "data": {
      "image/png": "[encoded data removed]",
      "text/plain": [
       "<Figure size 360x360 with 1 Axes>"
      ]
     },
     "metadata": {
      "needs_background": "light"
     },
     "output_type": "display_data"
    },
    {
     "data": {
      "image/png": "[encoded data removed]",
      "text/plain": [
       "<Figure size 360x360 with 1 Axes>"
      ]
     },
     "metadata": {
      "needs_background": "light"
     },
     "output_type": "display_data"
    },
    {
     "data": {
      "image/png": "[encoded data removed]",
      "text/plain": [
       "<Figure size 360x360 with 1 Axes>"
      ]
     },
     "metadata": {
      "needs_background": "light"
     },
     "output_type": "display_data"
    },
    {
     "data": {
      "image/png": "[encoded data removed]",
      "text/plain": [
       "<Figure size 360x360 with 1 Axes>"
      ]
     },
     "metadata": {
      "needs_background": "light"
     },
     "output_type": "display_data"
    },
    {
     "data": {
      "image/png": "[encoded data removed]",
      "text/plain": [
       "<Figure size 360x360 with 1 Axes>"
      ]
     },
     "metadata": {
      "needs_background": "light"
     },
     "output_type": "display_data"
    },
    {
     "data": {
      "image/png": "[encoded data removed]",
      "text/plain": [
       "<Figure size 360x360 with 1 Axes>"
      ]
     },
     "metadata": {
      "needs_background": "light"
     },
     "output_type": "display_data"
    },
    {
     "data": {
      "image/png": "[encoded data removed]",
      "text/plain": [
       "<Figure size 360x360 with 1 Axes>"
      ]
     },
     "metadata": {
      "needs_background": "light"
     },
     "output_type": "display_data"
    }
   ],
   "source": [
    "plt.figure(figsize=(20,6))\n",
    "for i,j in enumerate(df.columns[1:-1]):\n",
    "    sns.lmplot(x=j, y ='Deaths', data=df)\n",
    "plt.show()"
   ]
  },
  {
   "cell_type": "markdown",
   "metadata": {},
   "source": [
    "Deaths is heavily dependent on almost all columns positively.\n",
    "\n",
    "Since Deaths is also positively related to Recoveres theat means REcoveres is also positively dependent on other columns."
   ]
  },
  {
   "cell_type": "code",
   "execution_count": 28,
   "metadata": {},
   "outputs": [
    {
     "data": {
      "text/plain": [
       "Index(['Province_State', 'Confirmed', 'Deaths', 'Recovered', 'Active',\n",
       "       'Incident_Rate', 'People_Tested', 'People_Hospitalized',\n",
       "       'Mortality_Rate', 'Testing_Rate', 'Hospitalization_Rate',\n",
       "       'z_Confirmed'],\n",
       "      dtype='object')"
      ]
     },
     "execution_count": 28,
     "metadata": {},
     "output_type": "execute_result"
    }
   ],
   "source": [
    "df.columns"
   ]
  },
  {
   "cell_type": "code",
   "execution_count": 29,
   "metadata": {},
   "outputs": [],
   "source": [
    "df.drop(\"z_Confirmed\",1,inplace=True)"
   ]
  },
  {
   "cell_type": "code",
   "execution_count": 30,
   "metadata": {},
   "outputs": [
    {
     "data": {
      "text/html": [
       "<div>\n",
       "<style scoped>\n",
       "    .dataframe tbody tr th:only-of-type {\n",
       "        vertical-align: middle;\n",
       "    }\n",
       "\n",
       "    .dataframe tbody tr th {\n",
       "        vertical-align: top;\n",
       "    }\n",
       "\n",
       "    .dataframe thead th {\n",
       "        text-align: right;\n",
       "    }\n",
       "</style>\n",
       "<table border=\"1\" class=\"dataframe\">\n",
       "  <thead>\n",
       "    <tr style=\"text-align: right;\">\n",
       "      <th></th>\n",
       "      <th>Confirmed</th>\n",
       "      <th>Deaths</th>\n",
       "      <th>Recovered</th>\n",
       "      <th>Active</th>\n",
       "      <th>Incident_Rate</th>\n",
       "      <th>People_Tested</th>\n",
       "      <th>People_Hospitalized</th>\n",
       "      <th>Mortality_Rate</th>\n",
       "      <th>Testing_Rate</th>\n",
       "      <th>Hospitalization_Rate</th>\n",
       "    </tr>\n",
       "  </thead>\n",
       "  <tbody>\n",
       "    <tr>\n",
       "      <th>Deaths</th>\n",
       "      <td>0.950569</td>\n",
       "      <td>1.000000</td>\n",
       "      <td>0.657796</td>\n",
       "      <td>0.894723</td>\n",
       "      <td>0.700420</td>\n",
       "      <td>0.596947</td>\n",
       "      <td>0.868399</td>\n",
       "      <td>0.496133</td>\n",
       "      <td>0.236119</td>\n",
       "      <td>0.320883</td>\n",
       "    </tr>\n",
       "    <tr>\n",
       "      <th>Confirmed</th>\n",
       "      <td>1.000000</td>\n",
       "      <td>0.950569</td>\n",
       "      <td>0.715161</td>\n",
       "      <td>0.964897</td>\n",
       "      <td>0.641713</td>\n",
       "      <td>0.763012</td>\n",
       "      <td>0.896684</td>\n",
       "      <td>0.358454</td>\n",
       "      <td>0.203823</td>\n",
       "      <td>0.282873</td>\n",
       "    </tr>\n",
       "    <tr>\n",
       "      <th>Active</th>\n",
       "      <td>0.964897</td>\n",
       "      <td>0.894723</td>\n",
       "      <td>0.486260</td>\n",
       "      <td>1.000000</td>\n",
       "      <td>0.602002</td>\n",
       "      <td>0.741136</td>\n",
       "      <td>0.875712</td>\n",
       "      <td>0.314297</td>\n",
       "      <td>0.184509</td>\n",
       "      <td>0.258234</td>\n",
       "    </tr>\n",
       "    <tr>\n",
       "      <th>People_Hospitalized</th>\n",
       "      <td>0.896684</td>\n",
       "      <td>0.868399</td>\n",
       "      <td>0.307939</td>\n",
       "      <td>0.875712</td>\n",
       "      <td>0.590779</td>\n",
       "      <td>0.732600</td>\n",
       "      <td>1.000000</td>\n",
       "      <td>0.668013</td>\n",
       "      <td>0.078721</td>\n",
       "      <td>0.578519</td>\n",
       "    </tr>\n",
       "    <tr>\n",
       "      <th>Incident_Rate</th>\n",
       "      <td>0.641713</td>\n",
       "      <td>0.700420</td>\n",
       "      <td>0.363686</td>\n",
       "      <td>0.602002</td>\n",
       "      <td>1.000000</td>\n",
       "      <td>0.226010</td>\n",
       "      <td>0.590779</td>\n",
       "      <td>0.306411</td>\n",
       "      <td>0.581086</td>\n",
       "      <td>0.126487</td>\n",
       "    </tr>\n",
       "    <tr>\n",
       "      <th>Recovered</th>\n",
       "      <td>0.715161</td>\n",
       "      <td>0.657796</td>\n",
       "      <td>1.000000</td>\n",
       "      <td>0.486260</td>\n",
       "      <td>0.363686</td>\n",
       "      <td>0.890609</td>\n",
       "      <td>0.307939</td>\n",
       "      <td>0.263507</td>\n",
       "      <td>0.085174</td>\n",
       "      <td>0.138484</td>\n",
       "    </tr>\n",
       "    <tr>\n",
       "      <th>People_Tested</th>\n",
       "      <td>0.763012</td>\n",
       "      <td>0.596947</td>\n",
       "      <td>0.890609</td>\n",
       "      <td>0.741136</td>\n",
       "      <td>0.226010</td>\n",
       "      <td>1.000000</td>\n",
       "      <td>0.732600</td>\n",
       "      <td>0.120864</td>\n",
       "      <td>0.093266</td>\n",
       "      <td>0.267862</td>\n",
       "    </tr>\n",
       "    <tr>\n",
       "      <th>Mortality_Rate</th>\n",
       "      <td>0.358454</td>\n",
       "      <td>0.496133</td>\n",
       "      <td>0.263507</td>\n",
       "      <td>0.314297</td>\n",
       "      <td>0.306411</td>\n",
       "      <td>0.120864</td>\n",
       "      <td>0.668013</td>\n",
       "      <td>1.000000</td>\n",
       "      <td>0.113928</td>\n",
       "      <td>0.660256</td>\n",
       "    </tr>\n",
       "    <tr>\n",
       "      <th>Hospitalization_Rate</th>\n",
       "      <td>0.282873</td>\n",
       "      <td>0.320883</td>\n",
       "      <td>0.138484</td>\n",
       "      <td>0.258234</td>\n",
       "      <td>0.126487</td>\n",
       "      <td>0.267862</td>\n",
       "      <td>0.578519</td>\n",
       "      <td>0.660256</td>\n",
       "      <td>-0.169235</td>\n",
       "      <td>1.000000</td>\n",
       "    </tr>\n",
       "    <tr>\n",
       "      <th>Testing_Rate</th>\n",
       "      <td>0.203823</td>\n",
       "      <td>0.236119</td>\n",
       "      <td>0.085174</td>\n",
       "      <td>0.184509</td>\n",
       "      <td>0.581086</td>\n",
       "      <td>0.093266</td>\n",
       "      <td>0.078721</td>\n",
       "      <td>0.113928</td>\n",
       "      <td>1.000000</td>\n",
       "      <td>-0.169235</td>\n",
       "    </tr>\n",
       "  </tbody>\n",
       "</table>\n",
       "</div>"
      ],
      "text/plain": [
       "                      Confirmed    Deaths  Recovered    Active  Incident_Rate  \\\n",
       "Deaths                 0.950569  1.000000   0.657796  0.894723       0.700420   \n",
       "Confirmed              1.000000  0.950569   0.715161  0.964897       0.641713   \n",
       "Active                 0.964897  0.894723   0.486260  1.000000       0.602002   \n",
       "People_Hospitalized    0.896684  0.868399   0.307939  0.875712       0.590779   \n",
       "Incident_Rate          0.641713  0.700420   0.363686  0.602002       1.000000   \n",
       "Recovered              0.715161  0.657796   1.000000  0.486260       0.363686   \n",
       "People_Tested          0.763012  0.596947   0.890609  0.741136       0.226010   \n",
       "Mortality_Rate         0.358454  0.496133   0.263507  0.314297       0.306411   \n",
       "Hospitalization_Rate   0.282873  0.320883   0.138484  0.258234       0.126487   \n",
       "Testing_Rate           0.203823  0.236119   0.085174  0.184509       0.581086   \n",
       "\n",
       "                      People_Tested  People_Hospitalized  Mortality_Rate  \\\n",
       "Deaths                     0.596947             0.868399        0.496133   \n",
       "Confirmed                  0.763012             0.896684        0.358454   \n",
       "Active                     0.741136             0.875712        0.314297   \n",
       "People_Hospitalized        0.732600             1.000000        0.668013   \n",
       "Incident_Rate              0.226010             0.590779        0.306411   \n",
       "Recovered                  0.890609             0.307939        0.263507   \n",
       "People_Tested              1.000000             0.732600        0.120864   \n",
       "Mortality_Rate             0.120864             0.668013        1.000000   \n",
       "Hospitalization_Rate       0.267862             0.578519        0.660256   \n",
       "Testing_Rate               0.093266             0.078721        0.113928   \n",
       "\n",
       "                      Testing_Rate  Hospitalization_Rate  \n",
       "Deaths                    0.236119              0.320883  \n",
       "Confirmed                 0.203823              0.282873  \n",
       "Active                    0.184509              0.258234  \n",
       "People_Hospitalized       0.078721              0.578519  \n",
       "Incident_Rate             0.581086              0.126487  \n",
       "Recovered                 0.085174              0.138484  \n",
       "People_Tested             0.093266              0.267862  \n",
       "Mortality_Rate            0.113928              0.660256  \n",
       "Hospitalization_Rate     -0.169235              1.000000  \n",
       "Testing_Rate              1.000000             -0.169235  "
      ]
     },
     "execution_count": 30,
     "metadata": {},
     "output_type": "execute_result"
    }
   ],
   "source": [
    "corr = df.corr()\n",
    "corr_sorted = corr.sort_values(by='Deaths', ascending=False)\n",
    "corr_sorted"
   ]
  },
  {
   "cell_type": "code",
   "execution_count": 31,
   "metadata": {},
   "outputs": [
    {
     "data": {
      "image/png": "[encoded data removed]",
      "text/plain": [
       "<Figure size 1440x1080 with 2 Axes>"
      ]
     },
     "metadata": {
      "needs_background": "light"
     },
     "output_type": "display_data"
    }
   ],
   "source": [
    "#Heatmap of correlation matrix\n",
    "plt.figure(figsize=(20,15))\n",
    "sns.heatmap(corr_sorted, annot=True)\n",
    "plt.show()"
   ]
  },
  {
   "cell_type": "markdown",
   "metadata": {},
   "source": [
    "We can remove variables which are correlated mutually other than target variable(Death and Recovered) more than 90%."
   ]
  },
  {
   "cell_type": "code",
   "execution_count": 32,
   "metadata": {},
   "outputs": [
    {
     "data": {
      "text/html": [
       "<div>\n",
       "<style scoped>\n",
       "    .dataframe tbody tr th:only-of-type {\n",
       "        vertical-align: middle;\n",
       "    }\n",
       "\n",
       "    .dataframe tbody tr th {\n",
       "        vertical-align: top;\n",
       "    }\n",
       "\n",
       "    .dataframe thead th {\n",
       "        text-align: right;\n",
       "    }\n",
       "</style>\n",
       "<table border=\"1\" class=\"dataframe\">\n",
       "  <thead>\n",
       "    <tr style=\"text-align: right;\">\n",
       "      <th></th>\n",
       "      <th>Confirmed</th>\n",
       "      <th>Deaths</th>\n",
       "      <th>Recovered</th>\n",
       "      <th>Active</th>\n",
       "      <th>Incident_Rate</th>\n",
       "      <th>People_Tested</th>\n",
       "      <th>People_Hospitalized</th>\n",
       "      <th>Mortality_Rate</th>\n",
       "      <th>Testing_Rate</th>\n",
       "      <th>Hospitalization_Rate</th>\n",
       "    </tr>\n",
       "  </thead>\n",
       "  <tbody>\n",
       "    <tr>\n",
       "      <th>Confirmed</th>\n",
       "      <td>1.000000</td>\n",
       "      <td>0.950569</td>\n",
       "      <td>0.715161</td>\n",
       "      <td>0.964897</td>\n",
       "      <td>0.641713</td>\n",
       "      <td>0.763012</td>\n",
       "      <td>0.896684</td>\n",
       "      <td>0.358454</td>\n",
       "      <td>0.203823</td>\n",
       "      <td>0.282873</td>\n",
       "    </tr>\n",
       "    <tr>\n",
       "      <th>Active</th>\n",
       "      <td>0.964897</td>\n",
       "      <td>0.894723</td>\n",
       "      <td>0.486260</td>\n",
       "      <td>1.000000</td>\n",
       "      <td>0.602002</td>\n",
       "      <td>0.741136</td>\n",
       "      <td>0.875712</td>\n",
       "      <td>0.314297</td>\n",
       "      <td>0.184509</td>\n",
       "      <td>0.258234</td>\n",
       "    </tr>\n",
       "    <tr>\n",
       "      <th>Deaths</th>\n",
       "      <td>0.950569</td>\n",
       "      <td>1.000000</td>\n",
       "      <td>0.657796</td>\n",
       "      <td>0.894723</td>\n",
       "      <td>0.700420</td>\n",
       "      <td>0.596947</td>\n",
       "      <td>0.868399</td>\n",
       "      <td>0.496133</td>\n",
       "      <td>0.236119</td>\n",
       "      <td>0.320883</td>\n",
       "    </tr>\n",
       "    <tr>\n",
       "      <th>People_Hospitalized</th>\n",
       "      <td>0.896684</td>\n",
       "      <td>0.868399</td>\n",
       "      <td>0.307939</td>\n",
       "      <td>0.875712</td>\n",
       "      <td>0.590779</td>\n",
       "      <td>0.732600</td>\n",
       "      <td>1.000000</td>\n",
       "      <td>0.668013</td>\n",
       "      <td>0.078721</td>\n",
       "      <td>0.578519</td>\n",
       "    </tr>\n",
       "    <tr>\n",
       "      <th>People_Tested</th>\n",
       "      <td>0.763012</td>\n",
       "      <td>0.596947</td>\n",
       "      <td>0.890609</td>\n",
       "      <td>0.741136</td>\n",
       "      <td>0.226010</td>\n",
       "      <td>1.000000</td>\n",
       "      <td>0.732600</td>\n",
       "      <td>0.120864</td>\n",
       "      <td>0.093266</td>\n",
       "      <td>0.267862</td>\n",
       "    </tr>\n",
       "    <tr>\n",
       "      <th>Recovered</th>\n",
       "      <td>0.715161</td>\n",
       "      <td>0.657796</td>\n",
       "      <td>1.000000</td>\n",
       "      <td>0.486260</td>\n",
       "      <td>0.363686</td>\n",
       "      <td>0.890609</td>\n",
       "      <td>0.307939</td>\n",
       "      <td>0.263507</td>\n",
       "      <td>0.085174</td>\n",
       "      <td>0.138484</td>\n",
       "    </tr>\n",
       "    <tr>\n",
       "      <th>Incident_Rate</th>\n",
       "      <td>0.641713</td>\n",
       "      <td>0.700420</td>\n",
       "      <td>0.363686</td>\n",
       "      <td>0.602002</td>\n",
       "      <td>1.000000</td>\n",
       "      <td>0.226010</td>\n",
       "      <td>0.590779</td>\n",
       "      <td>0.306411</td>\n",
       "      <td>0.581086</td>\n",
       "      <td>0.126487</td>\n",
       "    </tr>\n",
       "    <tr>\n",
       "      <th>Mortality_Rate</th>\n",
       "      <td>0.358454</td>\n",
       "      <td>0.496133</td>\n",
       "      <td>0.263507</td>\n",
       "      <td>0.314297</td>\n",
       "      <td>0.306411</td>\n",
       "      <td>0.120864</td>\n",
       "      <td>0.668013</td>\n",
       "      <td>1.000000</td>\n",
       "      <td>0.113928</td>\n",
       "      <td>0.660256</td>\n",
       "    </tr>\n",
       "    <tr>\n",
       "      <th>Hospitalization_Rate</th>\n",
       "      <td>0.282873</td>\n",
       "      <td>0.320883</td>\n",
       "      <td>0.138484</td>\n",
       "      <td>0.258234</td>\n",
       "      <td>0.126487</td>\n",
       "      <td>0.267862</td>\n",
       "      <td>0.578519</td>\n",
       "      <td>0.660256</td>\n",
       "      <td>-0.169235</td>\n",
       "      <td>1.000000</td>\n",
       "    </tr>\n",
       "    <tr>\n",
       "      <th>Testing_Rate</th>\n",
       "      <td>0.203823</td>\n",
       "      <td>0.236119</td>\n",
       "      <td>0.085174</td>\n",
       "      <td>0.184509</td>\n",
       "      <td>0.581086</td>\n",
       "      <td>0.093266</td>\n",
       "      <td>0.078721</td>\n",
       "      <td>0.113928</td>\n",
       "      <td>1.000000</td>\n",
       "      <td>-0.169235</td>\n",
       "    </tr>\n",
       "  </tbody>\n",
       "</table>\n",
       "</div>"
      ],
      "text/plain": [
       "                      Confirmed    Deaths  Recovered    Active  Incident_Rate  \\\n",
       "Confirmed              1.000000  0.950569   0.715161  0.964897       0.641713   \n",
       "Active                 0.964897  0.894723   0.486260  1.000000       0.602002   \n",
       "Deaths                 0.950569  1.000000   0.657796  0.894723       0.700420   \n",
       "People_Hospitalized    0.896684  0.868399   0.307939  0.875712       0.590779   \n",
       "People_Tested          0.763012  0.596947   0.890609  0.741136       0.226010   \n",
       "Recovered              0.715161  0.657796   1.000000  0.486260       0.363686   \n",
       "Incident_Rate          0.641713  0.700420   0.363686  0.602002       1.000000   \n",
       "Mortality_Rate         0.358454  0.496133   0.263507  0.314297       0.306411   \n",
       "Hospitalization_Rate   0.282873  0.320883   0.138484  0.258234       0.126487   \n",
       "Testing_Rate           0.203823  0.236119   0.085174  0.184509       0.581086   \n",
       "\n",
       "                      People_Tested  People_Hospitalized  Mortality_Rate  \\\n",
       "Confirmed                  0.763012             0.896684        0.358454   \n",
       "Active                     0.741136             0.875712        0.314297   \n",
       "Deaths                     0.596947             0.868399        0.496133   \n",
       "People_Hospitalized        0.732600             1.000000        0.668013   \n",
       "People_Tested              1.000000             0.732600        0.120864   \n",
       "Recovered                  0.890609             0.307939        0.263507   \n",
       "Incident_Rate              0.226010             0.590779        0.306411   \n",
       "Mortality_Rate             0.120864             0.668013        1.000000   \n",
       "Hospitalization_Rate       0.267862             0.578519        0.660256   \n",
       "Testing_Rate               0.093266             0.078721        0.113928   \n",
       "\n",
       "                      Testing_Rate  Hospitalization_Rate  \n",
       "Confirmed                 0.203823              0.282873  \n",
       "Active                    0.184509              0.258234  \n",
       "Deaths                    0.236119              0.320883  \n",
       "People_Hospitalized       0.078721              0.578519  \n",
       "People_Tested             0.093266              0.267862  \n",
       "Recovered                 0.085174              0.138484  \n",
       "Incident_Rate             0.581086              0.126487  \n",
       "Mortality_Rate            0.113928              0.660256  \n",
       "Hospitalization_Rate     -0.169235              1.000000  \n",
       "Testing_Rate              1.000000             -0.169235  "
      ]
     },
     "execution_count": 32,
     "metadata": {},
     "output_type": "execute_result"
    }
   ],
   "source": [
    "corr = df.corr()\n",
    "corr_C_sorted = corr.sort_values(by='Confirmed', ascending=False)\n",
    "corr_C_sorted"
   ]
  },
  {
   "cell_type": "code",
   "execution_count": 33,
   "metadata": {},
   "outputs": [],
   "source": [
    "#Removing Active with correlation greater than 95% and remove People_Hospitalized with correlation ~ 90%\n",
    "\n",
    "df.drop([\"Active\", \"People_Hospitalized\"],1,inplace=True)"
   ]
  },
  {
   "cell_type": "code",
   "execution_count": 34,
   "metadata": {},
   "outputs": [
    {
     "data": {
      "image/png": "[encoded data removed]",
      "text/plain": [
       "<Figure size 1440x1080 with 2 Axes>"
      ]
     },
     "metadata": {
      "needs_background": "light"
     },
     "output_type": "display_data"
    }
   ],
   "source": [
    "corr = df.corr()\n",
    "corr_sorted = corr.sort_values(by='Deaths', ascending=False)\n",
    "corr_sorted\n",
    "\n",
    "#Heatmap of correlation matrix\n",
    "plt.figure(figsize=(20,15))\n",
    "sns.heatmap(corr_sorted, annot=True)\n",
    "plt.show()"
   ]
  },
  {
   "cell_type": "code",
   "execution_count": 35,
   "metadata": {},
   "outputs": [],
   "source": [
    "from sklearn.preprocessing import MinMaxScaler"
   ]
  },
  {
   "cell_type": "code",
   "execution_count": 36,
   "metadata": {},
   "outputs": [
    {
     "data": {
      "text/html": [
       "<div>\n",
       "<style scoped>\n",
       "    .dataframe tbody tr th:only-of-type {\n",
       "        vertical-align: middle;\n",
       "    }\n",
       "\n",
       "    .dataframe tbody tr th {\n",
       "        vertical-align: top;\n",
       "    }\n",
       "\n",
       "    .dataframe thead th {\n",
       "        text-align: right;\n",
       "    }\n",
       "</style>\n",
       "<table border=\"1\" class=\"dataframe\">\n",
       "  <thead>\n",
       "    <tr style=\"text-align: right;\">\n",
       "      <th></th>\n",
       "      <th>Confirmed</th>\n",
       "      <th>Deaths</th>\n",
       "      <th>Recovered</th>\n",
       "      <th>Incident_Rate</th>\n",
       "      <th>People_Tested</th>\n",
       "      <th>Mortality_Rate</th>\n",
       "      <th>Testing_Rate</th>\n",
       "      <th>Hospitalization_Rate</th>\n",
       "    </tr>\n",
       "  </thead>\n",
       "  <tbody>\n",
       "    <tr>\n",
       "      <th>count</th>\n",
       "      <td>57.000000</td>\n",
       "      <td>57.000000</td>\n",
       "      <td>42.000000</td>\n",
       "      <td>55.000000</td>\n",
       "      <td>5.500000e+01</td>\n",
       "      <td>56.000000</td>\n",
       "      <td>55.000000</td>\n",
       "      <td>32.000000</td>\n",
       "    </tr>\n",
       "    <tr>\n",
       "      <th>mean</th>\n",
       "      <td>21008.473684</td>\n",
       "      <td>1136.894737</td>\n",
       "      <td>5533.952381</td>\n",
       "      <td>370.314634</td>\n",
       "      <td>2.025810e+05</td>\n",
       "      <td>4.393559</td>\n",
       "      <td>3824.250809</td>\n",
       "      <td>14.116927</td>\n",
       "    </tr>\n",
       "    <tr>\n",
       "      <th>std</th>\n",
       "      <td>29357.358304</td>\n",
       "      <td>1926.752335</td>\n",
       "      <td>7862.075243</td>\n",
       "      <td>356.156226</td>\n",
       "      <td>2.450166e+05</td>\n",
       "      <td>2.097200</td>\n",
       "      <td>1878.131717</td>\n",
       "      <td>4.956223</td>\n",
       "    </tr>\n",
       "    <tr>\n",
       "      <th>min</th>\n",
       "      <td>0.000000</td>\n",
       "      <td>0.000000</td>\n",
       "      <td>0.000000</td>\n",
       "      <td>0.000000</td>\n",
       "      <td>1.240000e+02</td>\n",
       "      <td>0.000000</td>\n",
       "      <td>97.702058</td>\n",
       "      <td>6.778043</td>\n",
       "    </tr>\n",
       "    <tr>\n",
       "      <th>25%</th>\n",
       "      <td>2506.000000</td>\n",
       "      <td>73.000000</td>\n",
       "      <td>855.500000</td>\n",
       "      <td>145.757324</td>\n",
       "      <td>4.585800e+04</td>\n",
       "      <td>3.032625</td>\n",
       "      <td>2693.993765</td>\n",
       "      <td>9.975440</td>\n",
       "    </tr>\n",
       "    <tr>\n",
       "      <th>50%</th>\n",
       "      <td>9175.000000</td>\n",
       "      <td>377.000000</td>\n",
       "      <td>2909.500000</td>\n",
       "      <td>249.130224</td>\n",
       "      <td>1.350630e+05</td>\n",
       "      <td>4.382399</td>\n",
       "      <td>3446.671231</td>\n",
       "      <td>13.330006</td>\n",
       "    </tr>\n",
       "    <tr>\n",
       "      <th>75%</th>\n",
       "      <td>29274.000000</td>\n",
       "      <td>1299.000000</td>\n",
       "      <td>6060.750000</td>\n",
       "      <td>453.496834</td>\n",
       "      <td>2.464665e+05</td>\n",
       "      <td>5.420247</td>\n",
       "      <td>4581.619832</td>\n",
       "      <td>17.515695</td>\n",
       "    </tr>\n",
       "    <tr>\n",
       "      <th>max</th>\n",
       "      <td>150776.000000</td>\n",
       "      <td>10749.000000</td>\n",
       "      <td>30341.000000</td>\n",
       "      <td>1697.509285</td>\n",
       "      <td>1.380120e+06</td>\n",
       "      <td>9.545549</td>\n",
       "      <td>11377.424693</td>\n",
       "      <td>28.054438</td>\n",
       "    </tr>\n",
       "  </tbody>\n",
       "</table>\n",
       "</div>"
      ],
      "text/plain": [
       "           Confirmed        Deaths     Recovered  Incident_Rate  \\\n",
       "count      57.000000     57.000000     42.000000      55.000000   \n",
       "mean    21008.473684   1136.894737   5533.952381     370.314634   \n",
       "std     29357.358304   1926.752335   7862.075243     356.156226   \n",
       "min         0.000000      0.000000      0.000000       0.000000   \n",
       "25%      2506.000000     73.000000    855.500000     145.757324   \n",
       "50%      9175.000000    377.000000   2909.500000     249.130224   \n",
       "75%     29274.000000   1299.000000   6060.750000     453.496834   \n",
       "max    150776.000000  10749.000000  30341.000000    1697.509285   \n",
       "\n",
       "       People_Tested  Mortality_Rate  Testing_Rate  Hospitalization_Rate  \n",
       "count   5.500000e+01       56.000000     55.000000             32.000000  \n",
       "mean    2.025810e+05        4.393559   3824.250809             14.116927  \n",
       "std     2.450166e+05        2.097200   1878.131717              4.956223  \n",
       "min     1.240000e+02        0.000000     97.702058              6.778043  \n",
       "25%     4.585800e+04        3.032625   2693.993765              9.975440  \n",
       "50%     1.350630e+05        4.382399   3446.671231             13.330006  \n",
       "75%     2.464665e+05        5.420247   4581.619832             17.515695  \n",
       "max     1.380120e+06        9.545549  11377.424693             28.054438  "
      ]
     },
     "execution_count": 36,
     "metadata": {},
     "output_type": "execute_result"
    }
   ],
   "source": [
    "df.describe()"
   ]
  },
  {
   "cell_type": "markdown",
   "metadata": {},
   "source": [
    "Other than itself rest columns don't have more than 76% positive correlation with Death, we can keep the columns present."
   ]
  },
  {
   "cell_type": "markdown",
   "metadata": {},
   "source": [
    "# Encoding"
   ]
  },
  {
   "cell_type": "code",
   "execution_count": 37,
   "metadata": {},
   "outputs": [
    {
     "data": {
      "text/plain": [
       "Province_State           object\n",
       "Confirmed                 int64\n",
       "Deaths                    int64\n",
       "Recovered               float64\n",
       "Incident_Rate           float64\n",
       "People_Tested           float64\n",
       "Mortality_Rate          float64\n",
       "Testing_Rate            float64\n",
       "Hospitalization_Rate    float64\n",
       "dtype: object"
      ]
     },
     "execution_count": 37,
     "metadata": {},
     "output_type": "execute_result"
    }
   ],
   "source": [
    "df.dtypes"
   ]
  },
  {
   "cell_type": "code",
   "execution_count": 38,
   "metadata": {},
   "outputs": [],
   "source": [
    "from sklearn.preprocessing import LabelEncoder\n",
    "le = LabelEncoder()"
   ]
  },
  {
   "cell_type": "code",
   "execution_count": 39,
   "metadata": {},
   "outputs": [],
   "source": [
    "df['Province_State'] = le.fit_transform(df['Province_State'])"
   ]
  },
  {
   "cell_type": "code",
   "execution_count": 40,
   "metadata": {},
   "outputs": [
    {
     "data": {
      "text/plain": [
       "Province_State           0\n",
       "Confirmed                0\n",
       "Deaths                   0\n",
       "Recovered               15\n",
       "Incident_Rate            2\n",
       "People_Tested            2\n",
       "Mortality_Rate           1\n",
       "Testing_Rate             2\n",
       "Hospitalization_Rate    25\n",
       "dtype: int64"
      ]
     },
     "execution_count": 40,
     "metadata": {},
     "output_type": "execute_result"
    }
   ],
   "source": [
    "df.isnull().sum()"
   ]
  },
  {
   "cell_type": "code",
   "execution_count": 41,
   "metadata": {},
   "outputs": [
    {
     "data": {
      "text/plain": [
       "count    5.500000e+01\n",
       "mean     2.025810e+05\n",
       "std      2.450166e+05\n",
       "min      1.240000e+02\n",
       "25%      4.585800e+04\n",
       "50%      1.350630e+05\n",
       "75%      2.464665e+05\n",
       "max      1.380120e+06\n",
       "Name: People_Tested, dtype: float64"
      ]
     },
     "execution_count": 41,
     "metadata": {},
     "output_type": "execute_result"
    }
   ],
   "source": [
    "df['People_Tested'].describe()"
   ]
  },
  {
   "cell_type": "code",
   "execution_count": 42,
   "metadata": {},
   "outputs": [
    {
     "data": {
      "text/plain": [
       "9     0\n",
       "13    3\n",
       "Name: Deaths, dtype: int64"
      ]
     },
     "execution_count": 42,
     "metadata": {},
     "output_type": "execute_result"
    }
   ],
   "source": [
    "df.loc[df['People_Tested'].isna(),'Deaths']"
   ]
  },
  {
   "cell_type": "markdown",
   "metadata": {},
   "source": [
    "These 2 rows were missing values for Lat and Long_ also, and now missing for People_tested as well, let's drop these 2 rows"
   ]
  },
  {
   "cell_type": "code",
   "execution_count": 43,
   "metadata": {},
   "outputs": [],
   "source": [
    "df.dropna(subset=['People_Tested'], inplace=True)"
   ]
  },
  {
   "cell_type": "code",
   "execution_count": 44,
   "metadata": {},
   "outputs": [
    {
     "data": {
      "text/plain": [
       "Province_State           0\n",
       "Confirmed                0\n",
       "Deaths                   0\n",
       "Recovered               13\n",
       "Incident_Rate            0\n",
       "People_Tested            0\n",
       "Mortality_Rate           1\n",
       "Testing_Rate             0\n",
       "Hospitalization_Rate    23\n",
       "dtype: int64"
      ]
     },
     "execution_count": 44,
     "metadata": {},
     "output_type": "execute_result"
    }
   ],
   "source": [
    "df.isnull().sum()"
   ]
  },
  {
   "cell_type": "code",
   "execution_count": 45,
   "metadata": {},
   "outputs": [],
   "source": [
    "arr = [\"Mortality_Rate\", \"Hospitalization_Rate\"]\n",
    "for i in arr:\n",
    "    df.loc[df[i].isna(), i] = np.mean(df[i])"
   ]
  },
  {
   "cell_type": "code",
   "execution_count": 46,
   "metadata": {},
   "outputs": [
    {
     "data": {
      "text/plain": [
       "Province_State           0\n",
       "Confirmed                0\n",
       "Deaths                   0\n",
       "Recovered               13\n",
       "Incident_Rate            0\n",
       "People_Tested            0\n",
       "Mortality_Rate           0\n",
       "Testing_Rate             0\n",
       "Hospitalization_Rate     0\n",
       "dtype: int64"
      ]
     },
     "execution_count": 46,
     "metadata": {},
     "output_type": "execute_result"
    }
   ],
   "source": [
    "df.isnull().sum()"
   ]
  },
  {
   "cell_type": "code",
   "execution_count": 47,
   "metadata": {},
   "outputs": [],
   "source": [
    "arr = ['Confirmed','Incident_Rate','People_Tested','Testing_Rate']\n",
    "mms = MinMaxScaler()\n",
    "for i in arr:\n",
    "    df[i] = mms.fit_transform(df[[i]])"
   ]
  },
  {
   "cell_type": "code",
   "execution_count": 48,
   "metadata": {},
   "outputs": [
    {
     "data": {
      "text/html": [
       "<div>\n",
       "<style scoped>\n",
       "    .dataframe tbody tr th:only-of-type {\n",
       "        vertical-align: middle;\n",
       "    }\n",
       "\n",
       "    .dataframe tbody tr th {\n",
       "        vertical-align: top;\n",
       "    }\n",
       "\n",
       "    .dataframe thead th {\n",
       "        text-align: right;\n",
       "    }\n",
       "</style>\n",
       "<table border=\"1\" class=\"dataframe\">\n",
       "  <thead>\n",
       "    <tr style=\"text-align: right;\">\n",
       "      <th></th>\n",
       "      <th>Province_State</th>\n",
       "      <th>Confirmed</th>\n",
       "      <th>Deaths</th>\n",
       "      <th>Recovered</th>\n",
       "      <th>Incident_Rate</th>\n",
       "      <th>People_Tested</th>\n",
       "      <th>Mortality_Rate</th>\n",
       "      <th>Testing_Rate</th>\n",
       "      <th>Hospitalization_Rate</th>\n",
       "    </tr>\n",
       "  </thead>\n",
       "  <tbody>\n",
       "    <tr>\n",
       "      <th>count</th>\n",
       "      <td>55.000000</td>\n",
       "      <td>55.000000</td>\n",
       "      <td>55.000000</td>\n",
       "      <td>42.000000</td>\n",
       "      <td>55.000000</td>\n",
       "      <td>55.000000</td>\n",
       "      <td>55.000000</td>\n",
       "      <td>55.000000</td>\n",
       "      <td>55.000000</td>\n",
       "    </tr>\n",
       "    <tr>\n",
       "      <th>mean</th>\n",
       "      <td>28.618182</td>\n",
       "      <td>0.144384</td>\n",
       "      <td>1178.181818</td>\n",
       "      <td>5533.952381</td>\n",
       "      <td>0.218152</td>\n",
       "      <td>0.146708</td>\n",
       "      <td>4.502346</td>\n",
       "      <td>0.330376</td>\n",
       "      <td>14.116927</td>\n",
       "    </tr>\n",
       "    <tr>\n",
       "      <th>std</th>\n",
       "      <td>16.566914</td>\n",
       "      <td>0.196407</td>\n",
       "      <td>1949.458492</td>\n",
       "      <td>7862.075243</td>\n",
       "      <td>0.209811</td>\n",
       "      <td>0.177549</td>\n",
       "      <td>2.017370</td>\n",
       "      <td>0.166505</td>\n",
       "      <td>3.755215</td>\n",
       "    </tr>\n",
       "    <tr>\n",
       "      <th>min</th>\n",
       "      <td>0.000000</td>\n",
       "      <td>0.000000</td>\n",
       "      <td>0.000000</td>\n",
       "      <td>0.000000</td>\n",
       "      <td>0.000000</td>\n",
       "      <td>0.000000</td>\n",
       "      <td>1.101269</td>\n",
       "      <td>0.000000</td>\n",
       "      <td>6.778043</td>\n",
       "    </tr>\n",
       "    <tr>\n",
       "      <th>25%</th>\n",
       "      <td>15.500000</td>\n",
       "      <td>0.022109</td>\n",
       "      <td>83.500000</td>\n",
       "      <td>855.500000</td>\n",
       "      <td>0.085865</td>\n",
       "      <td>0.033141</td>\n",
       "      <td>3.256718</td>\n",
       "      <td>0.230173</td>\n",
       "      <td>12.726003</td>\n",
       "    </tr>\n",
       "    <tr>\n",
       "      <th>50%</th>\n",
       "      <td>29.000000</td>\n",
       "      <td>0.073765</td>\n",
       "      <td>393.000000</td>\n",
       "      <td>2909.500000</td>\n",
       "      <td>0.146762</td>\n",
       "      <td>0.097782</td>\n",
       "      <td>4.415327</td>\n",
       "      <td>0.296902</td>\n",
       "      <td>14.116927</td>\n",
       "    </tr>\n",
       "    <tr>\n",
       "      <th>75%</th>\n",
       "      <td>42.500000</td>\n",
       "      <td>0.194693</td>\n",
       "      <td>1362.500000</td>\n",
       "      <td>6060.750000</td>\n",
       "      <td>0.267154</td>\n",
       "      <td>0.178510</td>\n",
       "      <td>5.435577</td>\n",
       "      <td>0.397520</td>\n",
       "      <td>15.365623</td>\n",
       "    </tr>\n",
       "    <tr>\n",
       "      <th>max</th>\n",
       "      <td>56.000000</td>\n",
       "      <td>1.000000</td>\n",
       "      <td>10749.000000</td>\n",
       "      <td>30341.000000</td>\n",
       "      <td>1.000000</td>\n",
       "      <td>1.000000</td>\n",
       "      <td>9.545549</td>\n",
       "      <td>1.000000</td>\n",
       "      <td>28.054438</td>\n",
       "    </tr>\n",
       "  </tbody>\n",
       "</table>\n",
       "</div>"
      ],
      "text/plain": [
       "       Province_State  Confirmed        Deaths     Recovered  Incident_Rate  \\\n",
       "count       55.000000  55.000000     55.000000     42.000000      55.000000   \n",
       "mean        28.618182   0.144384   1178.181818   5533.952381       0.218152   \n",
       "std         16.566914   0.196407   1949.458492   7862.075243       0.209811   \n",
       "min          0.000000   0.000000      0.000000      0.000000       0.000000   \n",
       "25%         15.500000   0.022109     83.500000    855.500000       0.085865   \n",
       "50%         29.000000   0.073765    393.000000   2909.500000       0.146762   \n",
       "75%         42.500000   0.194693   1362.500000   6060.750000       0.267154   \n",
       "max         56.000000   1.000000  10749.000000  30341.000000       1.000000   \n",
       "\n",
       "       People_Tested  Mortality_Rate  Testing_Rate  Hospitalization_Rate  \n",
       "count      55.000000       55.000000     55.000000             55.000000  \n",
       "mean        0.146708        4.502346      0.330376             14.116927  \n",
       "std         0.177549        2.017370      0.166505              3.755215  \n",
       "min         0.000000        1.101269      0.000000              6.778043  \n",
       "25%         0.033141        3.256718      0.230173             12.726003  \n",
       "50%         0.097782        4.415327      0.296902             14.116927  \n",
       "75%         0.178510        5.435577      0.397520             15.365623  \n",
       "max         1.000000        9.545549      1.000000             28.054438  "
      ]
     },
     "execution_count": 48,
     "metadata": {},
     "output_type": "execute_result"
    }
   ],
   "source": [
    "df.describe()"
   ]
  },
  {
   "cell_type": "code",
   "execution_count": 49,
   "metadata": {},
   "outputs": [],
   "source": [
    "#Let's treat 2 datasets one having only Deaths as Target variable and another one having Recovered as Target variable.\n",
    "\n",
    "dfD = df.drop(\"Recovered\",1)\n",
    "dfR = df.drop(\"Deaths\",1)"
   ]
  },
  {
   "cell_type": "code",
   "execution_count": 50,
   "metadata": {},
   "outputs": [
    {
     "data": {
      "text/html": [
       "<div>\n",
       "<style scoped>\n",
       "    .dataframe tbody tr th:only-of-type {\n",
       "        vertical-align: middle;\n",
       "    }\n",
       "\n",
       "    .dataframe tbody tr th {\n",
       "        vertical-align: top;\n",
       "    }\n",
       "\n",
       "    .dataframe thead th {\n",
       "        text-align: right;\n",
       "    }\n",
       "</style>\n",
       "<table border=\"1\" class=\"dataframe\">\n",
       "  <thead>\n",
       "    <tr style=\"text-align: right;\">\n",
       "      <th></th>\n",
       "      <th>Province_State</th>\n",
       "      <th>Confirmed</th>\n",
       "      <th>Deaths</th>\n",
       "      <th>Incident_Rate</th>\n",
       "      <th>People_Tested</th>\n",
       "      <th>Mortality_Rate</th>\n",
       "      <th>Testing_Rate</th>\n",
       "      <th>Hospitalization_Rate</th>\n",
       "    </tr>\n",
       "  </thead>\n",
       "  <tbody>\n",
       "    <tr>\n",
       "      <th>Deaths</th>\n",
       "      <td>-0.100885</td>\n",
       "      <td>0.950066</td>\n",
       "      <td>1.000000</td>\n",
       "      <td>0.700420</td>\n",
       "      <td>0.596947</td>\n",
       "      <td>0.489064</td>\n",
       "      <td>0.236119</td>\n",
       "      <td>0.157197</td>\n",
       "    </tr>\n",
       "    <tr>\n",
       "      <th>Confirmed</th>\n",
       "      <td>-0.104697</td>\n",
       "      <td>1.000000</td>\n",
       "      <td>0.950066</td>\n",
       "      <td>0.641713</td>\n",
       "      <td>0.763012</td>\n",
       "      <td>0.337629</td>\n",
       "      <td>0.203823</td>\n",
       "      <td>0.136855</td>\n",
       "    </tr>\n",
       "    <tr>\n",
       "      <th>Incident_Rate</th>\n",
       "      <td>-0.117779</td>\n",
       "      <td>0.641713</td>\n",
       "      <td>0.700420</td>\n",
       "      <td>1.000000</td>\n",
       "      <td>0.226010</td>\n",
       "      <td>0.303271</td>\n",
       "      <td>0.581086</td>\n",
       "      <td>0.084392</td>\n",
       "    </tr>\n",
       "    <tr>\n",
       "      <th>People_Tested</th>\n",
       "      <td>-0.122302</td>\n",
       "      <td>0.763012</td>\n",
       "      <td>0.596947</td>\n",
       "      <td>0.226010</td>\n",
       "      <td>1.000000</td>\n",
       "      <td>0.120083</td>\n",
       "      <td>0.093266</td>\n",
       "      <td>0.127903</td>\n",
       "    </tr>\n",
       "    <tr>\n",
       "      <th>Mortality_Rate</th>\n",
       "      <td>-0.053606</td>\n",
       "      <td>0.337629</td>\n",
       "      <td>0.489064</td>\n",
       "      <td>0.303271</td>\n",
       "      <td>0.120083</td>\n",
       "      <td>1.000000</td>\n",
       "      <td>0.109906</td>\n",
       "      <td>0.432054</td>\n",
       "    </tr>\n",
       "    <tr>\n",
       "      <th>Testing_Rate</th>\n",
       "      <td>0.073536</td>\n",
       "      <td>0.203823</td>\n",
       "      <td>0.236119</td>\n",
       "      <td>0.581086</td>\n",
       "      <td>0.093266</td>\n",
       "      <td>0.109906</td>\n",
       "      <td>1.000000</td>\n",
       "      <td>-0.135521</td>\n",
       "    </tr>\n",
       "    <tr>\n",
       "      <th>Hospitalization_Rate</th>\n",
       "      <td>-0.153925</td>\n",
       "      <td>0.136855</td>\n",
       "      <td>0.157197</td>\n",
       "      <td>0.084392</td>\n",
       "      <td>0.127903</td>\n",
       "      <td>0.432054</td>\n",
       "      <td>-0.135521</td>\n",
       "      <td>1.000000</td>\n",
       "    </tr>\n",
       "    <tr>\n",
       "      <th>Province_State</th>\n",
       "      <td>1.000000</td>\n",
       "      <td>-0.104697</td>\n",
       "      <td>-0.100885</td>\n",
       "      <td>-0.117779</td>\n",
       "      <td>-0.122302</td>\n",
       "      <td>-0.053606</td>\n",
       "      <td>0.073536</td>\n",
       "      <td>-0.153925</td>\n",
       "    </tr>\n",
       "  </tbody>\n",
       "</table>\n",
       "</div>"
      ],
      "text/plain": [
       "                      Province_State  Confirmed    Deaths  Incident_Rate  \\\n",
       "Deaths                     -0.100885   0.950066  1.000000       0.700420   \n",
       "Confirmed                  -0.104697   1.000000  0.950066       0.641713   \n",
       "Incident_Rate              -0.117779   0.641713  0.700420       1.000000   \n",
       "People_Tested              -0.122302   0.763012  0.596947       0.226010   \n",
       "Mortality_Rate             -0.053606   0.337629  0.489064       0.303271   \n",
       "Testing_Rate                0.073536   0.203823  0.236119       0.581086   \n",
       "Hospitalization_Rate       -0.153925   0.136855  0.157197       0.084392   \n",
       "Province_State              1.000000  -0.104697 -0.100885      -0.117779   \n",
       "\n",
       "                      People_Tested  Mortality_Rate  Testing_Rate  \\\n",
       "Deaths                     0.596947        0.489064      0.236119   \n",
       "Confirmed                  0.763012        0.337629      0.203823   \n",
       "Incident_Rate              0.226010        0.303271      0.581086   \n",
       "People_Tested              1.000000        0.120083      0.093266   \n",
       "Mortality_Rate             0.120083        1.000000      0.109906   \n",
       "Testing_Rate               0.093266        0.109906      1.000000   \n",
       "Hospitalization_Rate       0.127903        0.432054     -0.135521   \n",
       "Province_State            -0.122302       -0.053606      0.073536   \n",
       "\n",
       "                      Hospitalization_Rate  \n",
       "Deaths                            0.157197  \n",
       "Confirmed                         0.136855  \n",
       "Incident_Rate                     0.084392  \n",
       "People_Tested                     0.127903  \n",
       "Mortality_Rate                    0.432054  \n",
       "Testing_Rate                     -0.135521  \n",
       "Hospitalization_Rate              1.000000  \n",
       "Province_State                   -0.153925  "
      ]
     },
     "execution_count": 50,
     "metadata": {},
     "output_type": "execute_result"
    }
   ],
   "source": [
    "corr = dfD.corr()\n",
    "corr_D = corr.sort_values(by='Deaths', ascending=False)\n",
    "corr_D"
   ]
  },
  {
   "cell_type": "code",
   "execution_count": 51,
   "metadata": {},
   "outputs": [
    {
     "data": {
      "image/png": "[encoded data removed]",
      "text/plain": [
       "<Figure size 1440x1080 with 2 Axes>"
      ]
     },
     "metadata": {
      "needs_background": "light"
     },
     "output_type": "display_data"
    }
   ],
   "source": [
    "#Heatmap of correlation matrix\n",
    "plt.figure(figsize=(20,15))\n",
    "sns.heatmap(corr, annot=True)\n",
    "plt.show()"
   ]
  },
  {
   "cell_type": "markdown",
   "metadata": {},
   "source": [
    "Other than itself and Confirmed, rest columns don't have more than 70% positive correlation with Death, we can keep the columns present."
   ]
  },
  {
   "cell_type": "code",
   "execution_count": 52,
   "metadata": {},
   "outputs": [
    {
     "data": {
      "text/html": [
       "<div>\n",
       "<style scoped>\n",
       "    .dataframe tbody tr th:only-of-type {\n",
       "        vertical-align: middle;\n",
       "    }\n",
       "\n",
       "    .dataframe tbody tr th {\n",
       "        vertical-align: top;\n",
       "    }\n",
       "\n",
       "    .dataframe thead th {\n",
       "        text-align: right;\n",
       "    }\n",
       "</style>\n",
       "<table border=\"1\" class=\"dataframe\">\n",
       "  <thead>\n",
       "    <tr style=\"text-align: right;\">\n",
       "      <th></th>\n",
       "      <th>Province_State</th>\n",
       "      <th>Confirmed</th>\n",
       "      <th>Recovered</th>\n",
       "      <th>Incident_Rate</th>\n",
       "      <th>People_Tested</th>\n",
       "      <th>Mortality_Rate</th>\n",
       "      <th>Testing_Rate</th>\n",
       "      <th>Hospitalization_Rate</th>\n",
       "    </tr>\n",
       "  </thead>\n",
       "  <tbody>\n",
       "    <tr>\n",
       "      <th>Recovered</th>\n",
       "      <td>0.097419</td>\n",
       "      <td>0.715161</td>\n",
       "      <td>1.000000</td>\n",
       "      <td>0.363686</td>\n",
       "      <td>0.890609</td>\n",
       "      <td>0.260768</td>\n",
       "      <td>0.085174</td>\n",
       "      <td>0.052991</td>\n",
       "    </tr>\n",
       "    <tr>\n",
       "      <th>People_Tested</th>\n",
       "      <td>-0.122302</td>\n",
       "      <td>0.763012</td>\n",
       "      <td>0.890609</td>\n",
       "      <td>0.226010</td>\n",
       "      <td>1.000000</td>\n",
       "      <td>0.120083</td>\n",
       "      <td>0.093266</td>\n",
       "      <td>0.127903</td>\n",
       "    </tr>\n",
       "    <tr>\n",
       "      <th>Confirmed</th>\n",
       "      <td>-0.104697</td>\n",
       "      <td>1.000000</td>\n",
       "      <td>0.715161</td>\n",
       "      <td>0.641713</td>\n",
       "      <td>0.763012</td>\n",
       "      <td>0.337629</td>\n",
       "      <td>0.203823</td>\n",
       "      <td>0.136855</td>\n",
       "    </tr>\n",
       "    <tr>\n",
       "      <th>Incident_Rate</th>\n",
       "      <td>-0.117779</td>\n",
       "      <td>0.641713</td>\n",
       "      <td>0.363686</td>\n",
       "      <td>1.000000</td>\n",
       "      <td>0.226010</td>\n",
       "      <td>0.303271</td>\n",
       "      <td>0.581086</td>\n",
       "      <td>0.084392</td>\n",
       "    </tr>\n",
       "    <tr>\n",
       "      <th>Mortality_Rate</th>\n",
       "      <td>-0.053606</td>\n",
       "      <td>0.337629</td>\n",
       "      <td>0.260768</td>\n",
       "      <td>0.303271</td>\n",
       "      <td>0.120083</td>\n",
       "      <td>1.000000</td>\n",
       "      <td>0.109906</td>\n",
       "      <td>0.432054</td>\n",
       "    </tr>\n",
       "    <tr>\n",
       "      <th>Province_State</th>\n",
       "      <td>1.000000</td>\n",
       "      <td>-0.104697</td>\n",
       "      <td>0.097419</td>\n",
       "      <td>-0.117779</td>\n",
       "      <td>-0.122302</td>\n",
       "      <td>-0.053606</td>\n",
       "      <td>0.073536</td>\n",
       "      <td>-0.153925</td>\n",
       "    </tr>\n",
       "    <tr>\n",
       "      <th>Testing_Rate</th>\n",
       "      <td>0.073536</td>\n",
       "      <td>0.203823</td>\n",
       "      <td>0.085174</td>\n",
       "      <td>0.581086</td>\n",
       "      <td>0.093266</td>\n",
       "      <td>0.109906</td>\n",
       "      <td>1.000000</td>\n",
       "      <td>-0.135521</td>\n",
       "    </tr>\n",
       "    <tr>\n",
       "      <th>Hospitalization_Rate</th>\n",
       "      <td>-0.153925</td>\n",
       "      <td>0.136855</td>\n",
       "      <td>0.052991</td>\n",
       "      <td>0.084392</td>\n",
       "      <td>0.127903</td>\n",
       "      <td>0.432054</td>\n",
       "      <td>-0.135521</td>\n",
       "      <td>1.000000</td>\n",
       "    </tr>\n",
       "  </tbody>\n",
       "</table>\n",
       "</div>"
      ],
      "text/plain": [
       "                      Province_State  Confirmed  Recovered  Incident_Rate  \\\n",
       "Recovered                   0.097419   0.715161   1.000000       0.363686   \n",
       "People_Tested              -0.122302   0.763012   0.890609       0.226010   \n",
       "Confirmed                  -0.104697   1.000000   0.715161       0.641713   \n",
       "Incident_Rate              -0.117779   0.641713   0.363686       1.000000   \n",
       "Mortality_Rate             -0.053606   0.337629   0.260768       0.303271   \n",
       "Province_State              1.000000  -0.104697   0.097419      -0.117779   \n",
       "Testing_Rate                0.073536   0.203823   0.085174       0.581086   \n",
       "Hospitalization_Rate       -0.153925   0.136855   0.052991       0.084392   \n",
       "\n",
       "                      People_Tested  Mortality_Rate  Testing_Rate  \\\n",
       "Recovered                  0.890609        0.260768      0.085174   \n",
       "People_Tested              1.000000        0.120083      0.093266   \n",
       "Confirmed                  0.763012        0.337629      0.203823   \n",
       "Incident_Rate              0.226010        0.303271      0.581086   \n",
       "Mortality_Rate             0.120083        1.000000      0.109906   \n",
       "Province_State            -0.122302       -0.053606      0.073536   \n",
       "Testing_Rate               0.093266        0.109906      1.000000   \n",
       "Hospitalization_Rate       0.127903        0.432054     -0.135521   \n",
       "\n",
       "                      Hospitalization_Rate  \n",
       "Recovered                         0.052991  \n",
       "People_Tested                     0.127903  \n",
       "Confirmed                         0.136855  \n",
       "Incident_Rate                     0.084392  \n",
       "Mortality_Rate                    0.432054  \n",
       "Province_State                   -0.153925  \n",
       "Testing_Rate                     -0.135521  \n",
       "Hospitalization_Rate              1.000000  "
      ]
     },
     "execution_count": 52,
     "metadata": {},
     "output_type": "execute_result"
    }
   ],
   "source": [
    "corr = dfR.corr()\n",
    "corr_R = corr.sort_values(by='Recovered', ascending=False)\n",
    "corr_R"
   ]
  },
  {
   "cell_type": "code",
   "execution_count": 53,
   "metadata": {},
   "outputs": [
    {
     "data": {
      "image/png": "[encoded data removed]",
      "text/plain": [
       "<Figure size 1440x1080 with 2 Axes>"
      ]
     },
     "metadata": {
      "needs_background": "light"
     },
     "output_type": "display_data"
    }
   ],
   "source": [
    "#Heatmap of correlation matrix\n",
    "plt.figure(figsize=(20,15))\n",
    "sns.heatmap(corr, annot=True)\n",
    "plt.show()"
   ]
  },
  {
   "cell_type": "markdown",
   "metadata": {},
   "source": [
    "Other than itself rest columns don't have more than 76% positive correlation with Death, we can keep the columns present."
   ]
  },
  {
   "cell_type": "markdown",
   "metadata": {},
   "source": [
    "# Deaths Regression"
   ]
  },
  {
   "cell_type": "code",
   "execution_count": 54,
   "metadata": {},
   "outputs": [],
   "source": [
    "from sklearn.model_selection import train_test_split, cross_val_score, GridSearchCV\n",
    "X = dfD.drop(\"Deaths\",1)\n",
    "Y = dfD['Deaths']\n",
    "X_train, X_test, y_train, y_test = train_test_split(X, Y, test_size=0.25, random_state=7)"
   ]
  },
  {
   "cell_type": "code",
   "execution_count": 55,
   "metadata": {},
   "outputs": [],
   "source": [
    "#Models Import\n",
    "import sklearn\n",
    "from sklearn.linear_model import LinearRegression, Ridge, Lasso\n",
    "from sklearn.model_selection import train_test_split, cross_val_score, GridSearchCV\n",
    "from sklearn.tree import DecisionTreeRegressor\n",
    "from sklearn.ensemble import RandomForestRegressor, ExtraTreesRegressor, GradientBoostingRegressor\n",
    "from sklearn.tree import DecisionTreeClassifier\n",
    "from sklearn.ensemble import RandomForestClassifier, ExtraTreesClassifier, GradientBoostingClassifier\n",
    "from sklearn.svm import SVC\n",
    "from sklearn.neighbors import KNeighborsClassifier\n",
    "\n",
    "#Metrics Import\n",
    "from sklearn.metrics import mean_absolute_error, mean_squared_error, r2_score"
   ]
  },
  {
   "cell_type": "code",
   "execution_count": 56,
   "metadata": {},
   "outputs": [],
   "source": [
    "def classify(model, x, y):\n",
    "    # Model training\n",
    "    model.fit(x, y)\n",
    "    pred = model.predict(x)\n",
    "    print(\"MSE is:\",mean_squared_error(y,pred))\n",
    "    #Cross validation\n",
    "    score = cross_val_score(model, x,y, cv=5)\n",
    "    print(\"Cross validation score is :\",np.abs(np.mean(score)))\n",
    "    return np.abs(np.mean(score))"
   ]
  },
  {
   "cell_type": "code",
   "execution_count": 57,
   "metadata": {},
   "outputs": [],
   "source": [
    "def rstate(model, Y):\n",
    "    mse = []\n",
    "    for i in range(1,201):\n",
    "        x_train, x_test, y_train, y_test = train_test_split(X,Y,test_size=.3, random_state=i)\n",
    "        model.fit(x_train, y_train)\n",
    "        pred = model.predict(x_test)\n",
    "        #print(mean_squared_error(y_test, pred))\n",
    "        #print(np.sqrt(mean_squared_error(y_test, pred)))\n",
    "        #print(mean_absolute_error(y_test, pred))\n",
    "        #print(r2_score(y_test, pred))\n",
    "        mse.append(mean_squared_error(y_test, pred))\n",
    "    return mse.index(max(mse))+1\n",
    "\n",
    "#Regression\n",
    "lm = LinearRegression()\n",
    "rr = Ridge()\n",
    "ls = Lasso()\n",
    "dtr = DecisionTreeRegressor()\n",
    "rfr = RandomForestRegressor()\n",
    "etr = ExtraTreesRegressor()\n",
    "gbr = GradientBoostingRegressor()"
   ]
  },
  {
   "cell_type": "code",
   "execution_count": 58,
   "metadata": {},
   "outputs": [
    {
     "name": "stdout",
     "output_type": "stream",
     "text": [
      "----------------------Regression------------------------------\n",
      "Linear Model best random state is:  5\n",
      "Ridge Model best random state is:  5\n",
      "Lasso Model best random state is:  5\n",
      "Decision Tree Model best random state is:  132\n",
      "Random Forest Model best random state is:  171\n",
      "Extra Trees Model best random state is:  171\n",
      "Gradient Boost Model best random state is:  5\n",
      "------------------------------------------------------------------\n"
     ]
    }
   ],
   "source": [
    "#Regression Random State calculation\n",
    "print(\"----------------------Regression------------------------------\")\n",
    "lmRS = rstate(lm, Y)\n",
    "print(\"Linear Model best random state is: \",lmRS)\n",
    "rrRS = rstate(rr, Y)\n",
    "print(\"Ridge Model best random state is: \",rrRS)\n",
    "lsRS = rstate(ls, Y)\n",
    "print(\"Lasso Model best random state is: \",lsRS)\n",
    "dtrRS = rstate(dtr, Y)\n",
    "print(\"Decision Tree Model best random state is: \",dtrRS)\n",
    "rfrRS = rstate(rfr, Y)\n",
    "print(\"Random Forest Model best random state is: \",rfrRS)\n",
    "etrRS = rstate(etr, Y)\n",
    "print(\"Extra Trees Model best random state is: \",etrRS)\n",
    "gbrRS = rstate(gbr, Y)\n",
    "print(\"Gradient Boost Model best random state is: \",gbrRS)\n",
    "print(\"------------------------------------------------------------------\")"
   ]
  },
  {
   "cell_type": "code",
   "execution_count": 59,
   "metadata": {},
   "outputs": [],
   "source": [
    "#Regression Parameters\n",
    "rrparams = {'alpha' : [0.0001, 0.001, 0.01, 0.1, 1.0], 'random_state': [rrRS]}\n",
    "lsparams = {'alpha' : [0.0001, 0.001, 0.01, 0.1, 1.0], 'random_state': [lsRS]}\n",
    "dtrparams = {'criterion' : ['mse', 'friedman_mse', 'mae', 'poisson'], 'min_samples_split' : range(10),\n",
    "            'random_state' : [dtrRS]}\n",
    "rfrparams = {'criterion' : ['mse', 'friedman_mse', 'mae', 'poisson'], 'n_estimators' : range(50,80), 'random_state' : [rfrRS]}\n",
    "etrparams = {'criterion' : ['mse', 'friedman_mse', 'mae'], 'min_samples_split' : range(10),\n",
    "            'random_state' : [etrRS]}\n",
    "gbrparams = {'loss' : ['ls', 'lad', 'huber', 'quantile'], 'n_estimators' : range(50,80),\n",
    "             'criterion' : ['mse', 'friedman_mse', 'mae'], 'random_state' : [gbrRS]}"
   ]
  },
  {
   "cell_type": "code",
   "execution_count": 60,
   "metadata": {},
   "outputs": [
    {
     "name": "stdout",
     "output_type": "stream",
     "text": [
      "Mean squared error is: 1186478.8363278937\n",
      "R2 score is: 0.7424336377870896\n"
     ]
    }
   ],
   "source": [
    "X_train2, X_test2, y_train2, y_test2 = train_test_split(X,Y,test_size=.3, random_state=lmRS)\n",
    "lm.fit(X_train2, y_train2)\n",
    "pred = lm.predict(X_test2)\n",
    "print(\"Mean squared error is:\",mean_squared_error(y_test2, pred))\n",
    "score = cross_val_score(lm, X,Y, cv=5, scoring='r2')\n",
    "print(\"R2 score is:\",np.mean(score))"
   ]
  },
  {
   "cell_type": "markdown",
   "metadata": {},
   "source": [
    "Model is not over fitting, as R2 score is appropriate."
   ]
  },
  {
   "cell_type": "code",
   "execution_count": 61,
   "metadata": {},
   "outputs": [
    {
     "data": {
      "text/html": [
       "<div>\n",
       "<style scoped>\n",
       "    .dataframe tbody tr th:only-of-type {\n",
       "        vertical-align: middle;\n",
       "    }\n",
       "\n",
       "    .dataframe tbody tr th {\n",
       "        vertical-align: top;\n",
       "    }\n",
       "\n",
       "    .dataframe thead th {\n",
       "        text-align: right;\n",
       "    }\n",
       "</style>\n",
       "<table border=\"1\" class=\"dataframe\">\n",
       "  <thead>\n",
       "    <tr style=\"text-align: right;\">\n",
       "      <th></th>\n",
       "      <th>params</th>\n",
       "      <th>mean_test_score</th>\n",
       "    </tr>\n",
       "  </thead>\n",
       "  <tbody>\n",
       "    <tr>\n",
       "      <th>0</th>\n",
       "      <td>{'alpha': 0.0001, 'random_state': 5}</td>\n",
       "      <td>3.742831e+05</td>\n",
       "    </tr>\n",
       "    <tr>\n",
       "      <th>1</th>\n",
       "      <td>{'alpha': 0.001, 'random_state': 5}</td>\n",
       "      <td>3.750501e+05</td>\n",
       "    </tr>\n",
       "    <tr>\n",
       "      <th>2</th>\n",
       "      <td>{'alpha': 0.01, 'random_state': 5}</td>\n",
       "      <td>3.865373e+05</td>\n",
       "    </tr>\n",
       "    <tr>\n",
       "      <th>3</th>\n",
       "      <td>{'alpha': 0.1, 'random_state': 5}</td>\n",
       "      <td>5.680555e+05</td>\n",
       "    </tr>\n",
       "    <tr>\n",
       "      <th>4</th>\n",
       "      <td>{'alpha': 1.0, 'random_state': 5}</td>\n",
       "      <td>1.294767e+06</td>\n",
       "    </tr>\n",
       "  </tbody>\n",
       "</table>\n",
       "</div>"
      ],
      "text/plain": [
       "                                 params  mean_test_score\n",
       "0  {'alpha': 0.0001, 'random_state': 5}     3.742831e+05\n",
       "1   {'alpha': 0.001, 'random_state': 5}     3.750501e+05\n",
       "2    {'alpha': 0.01, 'random_state': 5}     3.865373e+05\n",
       "3     {'alpha': 0.1, 'random_state': 5}     5.680555e+05\n",
       "4     {'alpha': 1.0, 'random_state': 5}     1.294767e+06"
      ]
     },
     "execution_count": 61,
     "metadata": {},
     "output_type": "execute_result"
    }
   ],
   "source": [
    "rrgs = GridSearchCV(rr, rrparams,return_train_score = False, cv = 5, scoring='neg_mean_squared_error')\n",
    "rrgs.fit(X, Y)\n",
    "rrDF = pd.DataFrame(rrgs.cv_results_)\n",
    "rrDF['mean_test_score'] = np.abs(rrDF['mean_test_score'])\n",
    "rrDF[['params', 'mean_test_score']].sort_values(by='mean_test_score', ascending=True)"
   ]
  },
  {
   "cell_type": "code",
   "execution_count": 62,
   "metadata": {},
   "outputs": [],
   "source": [
    "#rrDF.loc[0,'mean_test_score']"
   ]
  },
  {
   "cell_type": "code",
   "execution_count": 63,
   "metadata": {},
   "outputs": [
    {
     "data": {
      "text/html": [
       "<div>\n",
       "<style scoped>\n",
       "    .dataframe tbody tr th:only-of-type {\n",
       "        vertical-align: middle;\n",
       "    }\n",
       "\n",
       "    .dataframe tbody tr th {\n",
       "        vertical-align: top;\n",
       "    }\n",
       "\n",
       "    .dataframe thead th {\n",
       "        text-align: right;\n",
       "    }\n",
       "</style>\n",
       "<table border=\"1\" class=\"dataframe\">\n",
       "  <thead>\n",
       "    <tr style=\"text-align: right;\">\n",
       "      <th></th>\n",
       "      <th>params</th>\n",
       "      <th>mean_test_score</th>\n",
       "    </tr>\n",
       "  </thead>\n",
       "  <tbody>\n",
       "    <tr>\n",
       "      <th>4</th>\n",
       "      <td>{'alpha': 1.0, 'random_state': 5}</td>\n",
       "      <td>370240.393328</td>\n",
       "    </tr>\n",
       "    <tr>\n",
       "      <th>3</th>\n",
       "      <td>{'alpha': 0.1, 'random_state': 5}</td>\n",
       "      <td>373577.728741</td>\n",
       "    </tr>\n",
       "    <tr>\n",
       "      <th>2</th>\n",
       "      <td>{'alpha': 0.01, 'random_state': 5}</td>\n",
       "      <td>374142.053373</td>\n",
       "    </tr>\n",
       "    <tr>\n",
       "      <th>1</th>\n",
       "      <td>{'alpha': 0.001, 'random_state': 5}</td>\n",
       "      <td>374197.293786</td>\n",
       "    </tr>\n",
       "    <tr>\n",
       "      <th>0</th>\n",
       "      <td>{'alpha': 0.0001, 'random_state': 5}</td>\n",
       "      <td>374202.717287</td>\n",
       "    </tr>\n",
       "  </tbody>\n",
       "</table>\n",
       "</div>"
      ],
      "text/plain": [
       "                                 params  mean_test_score\n",
       "4     {'alpha': 1.0, 'random_state': 5}    370240.393328\n",
       "3     {'alpha': 0.1, 'random_state': 5}    373577.728741\n",
       "2    {'alpha': 0.01, 'random_state': 5}    374142.053373\n",
       "1   {'alpha': 0.001, 'random_state': 5}    374197.293786\n",
       "0  {'alpha': 0.0001, 'random_state': 5}    374202.717287"
      ]
     },
     "execution_count": 63,
     "metadata": {},
     "output_type": "execute_result"
    }
   ],
   "source": [
    "lsgs = GridSearchCV(ls, lsparams,return_train_score = False, cv = 5, scoring='neg_mean_squared_error')\n",
    "lsgs.fit(X, Y)\n",
    "lsDF = pd.DataFrame(lsgs.cv_results_)\n",
    "lsDF['mean_test_score'] = np.abs(lsDF['mean_test_score'])\n",
    "lsDF[['params', 'mean_test_score']].sort_values(by='mean_test_score', ascending=True)"
   ]
  },
  {
   "cell_type": "code",
   "execution_count": 64,
   "metadata": {},
   "outputs": [],
   "source": [
    "#lsDF.loc[0,'mean_test_score']"
   ]
  },
  {
   "cell_type": "code",
   "execution_count": 65,
   "metadata": {},
   "outputs": [
    {
     "data": {
      "text/html": [
       "<div>\n",
       "<style scoped>\n",
       "    .dataframe tbody tr th:only-of-type {\n",
       "        vertical-align: middle;\n",
       "    }\n",
       "\n",
       "    .dataframe tbody tr th {\n",
       "        vertical-align: top;\n",
       "    }\n",
       "\n",
       "    .dataframe thead th {\n",
       "        text-align: right;\n",
       "    }\n",
       "</style>\n",
       "<table border=\"1\" class=\"dataframe\">\n",
       "  <thead>\n",
       "    <tr style=\"text-align: right;\">\n",
       "      <th></th>\n",
       "      <th>params</th>\n",
       "      <th>mean_test_score</th>\n",
       "    </tr>\n",
       "  </thead>\n",
       "  <tbody>\n",
       "    <tr>\n",
       "      <th>23</th>\n",
       "      <td>{'criterion': 'mae', 'min_samples_split': 3, '...</td>\n",
       "      <td>1.010682e+06</td>\n",
       "    </tr>\n",
       "    <tr>\n",
       "      <th>26</th>\n",
       "      <td>{'criterion': 'mae', 'min_samples_split': 6, '...</td>\n",
       "      <td>1.129455e+06</td>\n",
       "    </tr>\n",
       "    <tr>\n",
       "      <th>27</th>\n",
       "      <td>{'criterion': 'mae', 'min_samples_split': 7, '...</td>\n",
       "      <td>1.154944e+06</td>\n",
       "    </tr>\n",
       "    <tr>\n",
       "      <th>3</th>\n",
       "      <td>{'criterion': 'mse', 'min_samples_split': 3, '...</td>\n",
       "      <td>1.157515e+06</td>\n",
       "    </tr>\n",
       "    <tr>\n",
       "      <th>13</th>\n",
       "      <td>{'criterion': 'friedman_mse', 'min_samples_spl...</td>\n",
       "      <td>1.157515e+06</td>\n",
       "    </tr>\n",
       "    <tr>\n",
       "      <th>29</th>\n",
       "      <td>{'criterion': 'mae', 'min_samples_split': 9, '...</td>\n",
       "      <td>1.190865e+06</td>\n",
       "    </tr>\n",
       "    <tr>\n",
       "      <th>28</th>\n",
       "      <td>{'criterion': 'mae', 'min_samples_split': 8, '...</td>\n",
       "      <td>1.192633e+06</td>\n",
       "    </tr>\n",
       "    <tr>\n",
       "      <th>25</th>\n",
       "      <td>{'criterion': 'mae', 'min_samples_split': 5, '...</td>\n",
       "      <td>1.246419e+06</td>\n",
       "    </tr>\n",
       "    <tr>\n",
       "      <th>15</th>\n",
       "      <td>{'criterion': 'friedman_mse', 'min_samples_spl...</td>\n",
       "      <td>1.404802e+06</td>\n",
       "    </tr>\n",
       "    <tr>\n",
       "      <th>5</th>\n",
       "      <td>{'criterion': 'mse', 'min_samples_split': 5, '...</td>\n",
       "      <td>1.404802e+06</td>\n",
       "    </tr>\n",
       "    <tr>\n",
       "      <th>16</th>\n",
       "      <td>{'criterion': 'friedman_mse', 'min_samples_spl...</td>\n",
       "      <td>1.514415e+06</td>\n",
       "    </tr>\n",
       "    <tr>\n",
       "      <th>6</th>\n",
       "      <td>{'criterion': 'mse', 'min_samples_split': 6, '...</td>\n",
       "      <td>1.514415e+06</td>\n",
       "    </tr>\n",
       "    <tr>\n",
       "      <th>17</th>\n",
       "      <td>{'criterion': 'friedman_mse', 'min_samples_spl...</td>\n",
       "      <td>1.531844e+06</td>\n",
       "    </tr>\n",
       "    <tr>\n",
       "      <th>7</th>\n",
       "      <td>{'criterion': 'mse', 'min_samples_split': 7, '...</td>\n",
       "      <td>1.531844e+06</td>\n",
       "    </tr>\n",
       "    <tr>\n",
       "      <th>22</th>\n",
       "      <td>{'criterion': 'mae', 'min_samples_split': 2, '...</td>\n",
       "      <td>1.548962e+06</td>\n",
       "    </tr>\n",
       "    <tr>\n",
       "      <th>12</th>\n",
       "      <td>{'criterion': 'friedman_mse', 'min_samples_spl...</td>\n",
       "      <td>1.584629e+06</td>\n",
       "    </tr>\n",
       "    <tr>\n",
       "      <th>2</th>\n",
       "      <td>{'criterion': 'mse', 'min_samples_split': 2, '...</td>\n",
       "      <td>1.584629e+06</td>\n",
       "    </tr>\n",
       "    <tr>\n",
       "      <th>9</th>\n",
       "      <td>{'criterion': 'mse', 'min_samples_split': 9, '...</td>\n",
       "      <td>1.651881e+06</td>\n",
       "    </tr>\n",
       "    <tr>\n",
       "      <th>19</th>\n",
       "      <td>{'criterion': 'friedman_mse', 'min_samples_spl...</td>\n",
       "      <td>1.651881e+06</td>\n",
       "    </tr>\n",
       "    <tr>\n",
       "      <th>8</th>\n",
       "      <td>{'criterion': 'mse', 'min_samples_split': 8, '...</td>\n",
       "      <td>1.684766e+06</td>\n",
       "    </tr>\n",
       "    <tr>\n",
       "      <th>18</th>\n",
       "      <td>{'criterion': 'friedman_mse', 'min_samples_spl...</td>\n",
       "      <td>1.684766e+06</td>\n",
       "    </tr>\n",
       "    <tr>\n",
       "      <th>24</th>\n",
       "      <td>{'criterion': 'mae', 'min_samples_split': 4, '...</td>\n",
       "      <td>1.772293e+06</td>\n",
       "    </tr>\n",
       "    <tr>\n",
       "      <th>14</th>\n",
       "      <td>{'criterion': 'friedman_mse', 'min_samples_spl...</td>\n",
       "      <td>1.862065e+06</td>\n",
       "    </tr>\n",
       "    <tr>\n",
       "      <th>4</th>\n",
       "      <td>{'criterion': 'mse', 'min_samples_split': 4, '...</td>\n",
       "      <td>1.862065e+06</td>\n",
       "    </tr>\n",
       "    <tr>\n",
       "      <th>0</th>\n",
       "      <td>{'criterion': 'mse', 'min_samples_split': 0, '...</td>\n",
       "      <td>NaN</td>\n",
       "    </tr>\n",
       "    <tr>\n",
       "      <th>1</th>\n",
       "      <td>{'criterion': 'mse', 'min_samples_split': 1, '...</td>\n",
       "      <td>NaN</td>\n",
       "    </tr>\n",
       "    <tr>\n",
       "      <th>10</th>\n",
       "      <td>{'criterion': 'friedman_mse', 'min_samples_spl...</td>\n",
       "      <td>NaN</td>\n",
       "    </tr>\n",
       "    <tr>\n",
       "      <th>11</th>\n",
       "      <td>{'criterion': 'friedman_mse', 'min_samples_spl...</td>\n",
       "      <td>NaN</td>\n",
       "    </tr>\n",
       "    <tr>\n",
       "      <th>20</th>\n",
       "      <td>{'criterion': 'mae', 'min_samples_split': 0, '...</td>\n",
       "      <td>NaN</td>\n",
       "    </tr>\n",
       "    <tr>\n",
       "      <th>21</th>\n",
       "      <td>{'criterion': 'mae', 'min_samples_split': 1, '...</td>\n",
       "      <td>NaN</td>\n",
       "    </tr>\n",
       "    <tr>\n",
       "      <th>30</th>\n",
       "      <td>{'criterion': 'poisson', 'min_samples_split': ...</td>\n",
       "      <td>NaN</td>\n",
       "    </tr>\n",
       "    <tr>\n",
       "      <th>31</th>\n",
       "      <td>{'criterion': 'poisson', 'min_samples_split': ...</td>\n",
       "      <td>NaN</td>\n",
       "    </tr>\n",
       "    <tr>\n",
       "      <th>32</th>\n",
       "      <td>{'criterion': 'poisson', 'min_samples_split': ...</td>\n",
       "      <td>NaN</td>\n",
       "    </tr>\n",
       "    <tr>\n",
       "      <th>33</th>\n",
       "      <td>{'criterion': 'poisson', 'min_samples_split': ...</td>\n",
       "      <td>NaN</td>\n",
       "    </tr>\n",
       "    <tr>\n",
       "      <th>34</th>\n",
       "      <td>{'criterion': 'poisson', 'min_samples_split': ...</td>\n",
       "      <td>NaN</td>\n",
       "    </tr>\n",
       "    <tr>\n",
       "      <th>35</th>\n",
       "      <td>{'criterion': 'poisson', 'min_samples_split': ...</td>\n",
       "      <td>NaN</td>\n",
       "    </tr>\n",
       "    <tr>\n",
       "      <th>36</th>\n",
       "      <td>{'criterion': 'poisson', 'min_samples_split': ...</td>\n",
       "      <td>NaN</td>\n",
       "    </tr>\n",
       "    <tr>\n",
       "      <th>37</th>\n",
       "      <td>{'criterion': 'poisson', 'min_samples_split': ...</td>\n",
       "      <td>NaN</td>\n",
       "    </tr>\n",
       "    <tr>\n",
       "      <th>38</th>\n",
       "      <td>{'criterion': 'poisson', 'min_samples_split': ...</td>\n",
       "      <td>NaN</td>\n",
       "    </tr>\n",
       "    <tr>\n",
       "      <th>39</th>\n",
       "      <td>{'criterion': 'poisson', 'min_samples_split': ...</td>\n",
       "      <td>NaN</td>\n",
       "    </tr>\n",
       "  </tbody>\n",
       "</table>\n",
       "</div>"
      ],
      "text/plain": [
       "                                               params  mean_test_score\n",
       "23  {'criterion': 'mae', 'min_samples_split': 3, '...     1.010682e+06\n",
       "26  {'criterion': 'mae', 'min_samples_split': 6, '...     1.129455e+06\n",
       "27  {'criterion': 'mae', 'min_samples_split': 7, '...     1.154944e+06\n",
       "3   {'criterion': 'mse', 'min_samples_split': 3, '...     1.157515e+06\n",
       "13  {'criterion': 'friedman_mse', 'min_samples_spl...     1.157515e+06\n",
       "29  {'criterion': 'mae', 'min_samples_split': 9, '...     1.190865e+06\n",
       "28  {'criterion': 'mae', 'min_samples_split': 8, '...     1.192633e+06\n",
       "25  {'criterion': 'mae', 'min_samples_split': 5, '...     1.246419e+06\n",
       "15  {'criterion': 'friedman_mse', 'min_samples_spl...     1.404802e+06\n",
       "5   {'criterion': 'mse', 'min_samples_split': 5, '...     1.404802e+06\n",
       "16  {'criterion': 'friedman_mse', 'min_samples_spl...     1.514415e+06\n",
       "6   {'criterion': 'mse', 'min_samples_split': 6, '...     1.514415e+06\n",
       "17  {'criterion': 'friedman_mse', 'min_samples_spl...     1.531844e+06\n",
       "7   {'criterion': 'mse', 'min_samples_split': 7, '...     1.531844e+06\n",
       "22  {'criterion': 'mae', 'min_samples_split': 2, '...     1.548962e+06\n",
       "12  {'criterion': 'friedman_mse', 'min_samples_spl...     1.584629e+06\n",
       "2   {'criterion': 'mse', 'min_samples_split': 2, '...     1.584629e+06\n",
       "9   {'criterion': 'mse', 'min_samples_split': 9, '...     1.651881e+06\n",
       "19  {'criterion': 'friedman_mse', 'min_samples_spl...     1.651881e+06\n",
       "8   {'criterion': 'mse', 'min_samples_split': 8, '...     1.684766e+06\n",
       "18  {'criterion': 'friedman_mse', 'min_samples_spl...     1.684766e+06\n",
       "24  {'criterion': 'mae', 'min_samples_split': 4, '...     1.772293e+06\n",
       "14  {'criterion': 'friedman_mse', 'min_samples_spl...     1.862065e+06\n",
       "4   {'criterion': 'mse', 'min_samples_split': 4, '...     1.862065e+06\n",
       "0   {'criterion': 'mse', 'min_samples_split': 0, '...              NaN\n",
       "1   {'criterion': 'mse', 'min_samples_split': 1, '...              NaN\n",
       "10  {'criterion': 'friedman_mse', 'min_samples_spl...              NaN\n",
       "11  {'criterion': 'friedman_mse', 'min_samples_spl...              NaN\n",
       "20  {'criterion': 'mae', 'min_samples_split': 0, '...              NaN\n",
       "21  {'criterion': 'mae', 'min_samples_split': 1, '...              NaN\n",
       "30  {'criterion': 'poisson', 'min_samples_split': ...              NaN\n",
       "31  {'criterion': 'poisson', 'min_samples_split': ...              NaN\n",
       "32  {'criterion': 'poisson', 'min_samples_split': ...              NaN\n",
       "33  {'criterion': 'poisson', 'min_samples_split': ...              NaN\n",
       "34  {'criterion': 'poisson', 'min_samples_split': ...              NaN\n",
       "35  {'criterion': 'poisson', 'min_samples_split': ...              NaN\n",
       "36  {'criterion': 'poisson', 'min_samples_split': ...              NaN\n",
       "37  {'criterion': 'poisson', 'min_samples_split': ...              NaN\n",
       "38  {'criterion': 'poisson', 'min_samples_split': ...              NaN\n",
       "39  {'criterion': 'poisson', 'min_samples_split': ...              NaN"
      ]
     },
     "execution_count": 65,
     "metadata": {},
     "output_type": "execute_result"
    }
   ],
   "source": [
    "dtrgs = GridSearchCV(dtr, dtrparams,return_train_score = False, cv = 5, scoring='neg_mean_squared_error')\n",
    "dtrgs.fit(X, Y)\n",
    "dtrDF = pd.DataFrame(dtrgs.cv_results_)\n",
    "dtrDF['mean_test_score'] = np.abs(dtrDF['mean_test_score'])\n",
    "dtrDF[['params', 'mean_test_score']].sort_values(by='mean_test_score', ascending=True)"
   ]
  },
  {
   "cell_type": "code",
   "execution_count": 66,
   "metadata": {},
   "outputs": [],
   "source": [
    "#dtrDF.loc[12,'mean_test_score']"
   ]
  },
  {
   "cell_type": "code",
   "execution_count": 67,
   "metadata": {},
   "outputs": [
    {
     "data": {
      "text/html": [
       "<div>\n",
       "<style scoped>\n",
       "    .dataframe tbody tr th:only-of-type {\n",
       "        vertical-align: middle;\n",
       "    }\n",
       "\n",
       "    .dataframe tbody tr th {\n",
       "        vertical-align: top;\n",
       "    }\n",
       "\n",
       "    .dataframe thead th {\n",
       "        text-align: right;\n",
       "    }\n",
       "</style>\n",
       "<table border=\"1\" class=\"dataframe\">\n",
       "  <thead>\n",
       "    <tr style=\"text-align: right;\">\n",
       "      <th></th>\n",
       "      <th>params</th>\n",
       "      <th>mean_test_score</th>\n",
       "    </tr>\n",
       "  </thead>\n",
       "  <tbody>\n",
       "    <tr>\n",
       "      <th>61</th>\n",
       "      <td>{'criterion': 'mae', 'n_estimators': 51, 'rand...</td>\n",
       "      <td>1.234537e+06</td>\n",
       "    </tr>\n",
       "    <tr>\n",
       "      <th>60</th>\n",
       "      <td>{'criterion': 'mae', 'n_estimators': 50, 'rand...</td>\n",
       "      <td>1.239440e+06</td>\n",
       "    </tr>\n",
       "    <tr>\n",
       "      <th>76</th>\n",
       "      <td>{'criterion': 'mae', 'n_estimators': 66, 'rand...</td>\n",
       "      <td>1.242497e+06</td>\n",
       "    </tr>\n",
       "    <tr>\n",
       "      <th>30</th>\n",
       "      <td>{'criterion': 'friedman_mse', 'n_estimators': ...</td>\n",
       "      <td>1.242725e+06</td>\n",
       "    </tr>\n",
       "    <tr>\n",
       "      <th>0</th>\n",
       "      <td>{'criterion': 'mse', 'n_estimators': 50, 'rand...</td>\n",
       "      <td>1.242725e+06</td>\n",
       "    </tr>\n",
       "    <tr>\n",
       "      <th>...</th>\n",
       "      <td>...</td>\n",
       "      <td>...</td>\n",
       "    </tr>\n",
       "    <tr>\n",
       "      <th>115</th>\n",
       "      <td>{'criterion': 'poisson', 'n_estimators': 75, '...</td>\n",
       "      <td>NaN</td>\n",
       "    </tr>\n",
       "    <tr>\n",
       "      <th>116</th>\n",
       "      <td>{'criterion': 'poisson', 'n_estimators': 76, '...</td>\n",
       "      <td>NaN</td>\n",
       "    </tr>\n",
       "    <tr>\n",
       "      <th>117</th>\n",
       "      <td>{'criterion': 'poisson', 'n_estimators': 77, '...</td>\n",
       "      <td>NaN</td>\n",
       "    </tr>\n",
       "    <tr>\n",
       "      <th>118</th>\n",
       "      <td>{'criterion': 'poisson', 'n_estimators': 78, '...</td>\n",
       "      <td>NaN</td>\n",
       "    </tr>\n",
       "    <tr>\n",
       "      <th>119</th>\n",
       "      <td>{'criterion': 'poisson', 'n_estimators': 79, '...</td>\n",
       "      <td>NaN</td>\n",
       "    </tr>\n",
       "  </tbody>\n",
       "</table>\n",
       "<p>120 rows × 2 columns</p>\n",
       "</div>"
      ],
      "text/plain": [
       "                                                params  mean_test_score\n",
       "61   {'criterion': 'mae', 'n_estimators': 51, 'rand...     1.234537e+06\n",
       "60   {'criterion': 'mae', 'n_estimators': 50, 'rand...     1.239440e+06\n",
       "76   {'criterion': 'mae', 'n_estimators': 66, 'rand...     1.242497e+06\n",
       "30   {'criterion': 'friedman_mse', 'n_estimators': ...     1.242725e+06\n",
       "0    {'criterion': 'mse', 'n_estimators': 50, 'rand...     1.242725e+06\n",
       "..                                                 ...              ...\n",
       "115  {'criterion': 'poisson', 'n_estimators': 75, '...              NaN\n",
       "116  {'criterion': 'poisson', 'n_estimators': 76, '...              NaN\n",
       "117  {'criterion': 'poisson', 'n_estimators': 77, '...              NaN\n",
       "118  {'criterion': 'poisson', 'n_estimators': 78, '...              NaN\n",
       "119  {'criterion': 'poisson', 'n_estimators': 79, '...              NaN\n",
       "\n",
       "[120 rows x 2 columns]"
      ]
     },
     "execution_count": 67,
     "metadata": {},
     "output_type": "execute_result"
    }
   ],
   "source": [
    "rfrgs = GridSearchCV(rfr, rfrparams,return_train_score = False, cv = 5, scoring='neg_mean_squared_error')\n",
    "rfrgs.fit(X, Y)\n",
    "rfrDF = pd.DataFrame(rfrgs.cv_results_)\n",
    "rfrDF['mean_test_score'] = np.abs(rfrDF['mean_test_score'])\n",
    "rfrDF[['params', 'mean_test_score']].sort_values(by='mean_test_score', ascending=True)"
   ]
  },
  {
   "cell_type": "code",
   "execution_count": 68,
   "metadata": {},
   "outputs": [],
   "source": [
    "#rfrDF.loc[47,'mean_test_score']"
   ]
  },
  {
   "cell_type": "code",
   "execution_count": 69,
   "metadata": {},
   "outputs": [
    {
     "data": {
      "text/html": [
       "<div>\n",
       "<style scoped>\n",
       "    .dataframe tbody tr th:only-of-type {\n",
       "        vertical-align: middle;\n",
       "    }\n",
       "\n",
       "    .dataframe tbody tr th {\n",
       "        vertical-align: top;\n",
       "    }\n",
       "\n",
       "    .dataframe thead th {\n",
       "        text-align: right;\n",
       "    }\n",
       "</style>\n",
       "<table border=\"1\" class=\"dataframe\">\n",
       "  <thead>\n",
       "    <tr style=\"text-align: right;\">\n",
       "      <th></th>\n",
       "      <th>params</th>\n",
       "      <th>mean_test_score</th>\n",
       "    </tr>\n",
       "  </thead>\n",
       "  <tbody>\n",
       "    <tr>\n",
       "      <th>22</th>\n",
       "      <td>{'criterion': 'mae', 'min_samples_split': 2, '...</td>\n",
       "      <td>9.334293e+05</td>\n",
       "    </tr>\n",
       "    <tr>\n",
       "      <th>2</th>\n",
       "      <td>{'criterion': 'mse', 'min_samples_split': 2, '...</td>\n",
       "      <td>9.576858e+05</td>\n",
       "    </tr>\n",
       "    <tr>\n",
       "      <th>12</th>\n",
       "      <td>{'criterion': 'friedman_mse', 'min_samples_spl...</td>\n",
       "      <td>9.576858e+05</td>\n",
       "    </tr>\n",
       "    <tr>\n",
       "      <th>24</th>\n",
       "      <td>{'criterion': 'mae', 'min_samples_split': 4, '...</td>\n",
       "      <td>9.841894e+05</td>\n",
       "    </tr>\n",
       "    <tr>\n",
       "      <th>23</th>\n",
       "      <td>{'criterion': 'mae', 'min_samples_split': 3, '...</td>\n",
       "      <td>9.985405e+05</td>\n",
       "    </tr>\n",
       "    <tr>\n",
       "      <th>3</th>\n",
       "      <td>{'criterion': 'mse', 'min_samples_split': 3, '...</td>\n",
       "      <td>1.003836e+06</td>\n",
       "    </tr>\n",
       "    <tr>\n",
       "      <th>13</th>\n",
       "      <td>{'criterion': 'friedman_mse', 'min_samples_spl...</td>\n",
       "      <td>1.003836e+06</td>\n",
       "    </tr>\n",
       "    <tr>\n",
       "      <th>14</th>\n",
       "      <td>{'criterion': 'friedman_mse', 'min_samples_spl...</td>\n",
       "      <td>1.046356e+06</td>\n",
       "    </tr>\n",
       "    <tr>\n",
       "      <th>4</th>\n",
       "      <td>{'criterion': 'mse', 'min_samples_split': 4, '...</td>\n",
       "      <td>1.046419e+06</td>\n",
       "    </tr>\n",
       "    <tr>\n",
       "      <th>25</th>\n",
       "      <td>{'criterion': 'mae', 'min_samples_split': 5, '...</td>\n",
       "      <td>1.054071e+06</td>\n",
       "    </tr>\n",
       "    <tr>\n",
       "      <th>15</th>\n",
       "      <td>{'criterion': 'friedman_mse', 'min_samples_spl...</td>\n",
       "      <td>1.093862e+06</td>\n",
       "    </tr>\n",
       "    <tr>\n",
       "      <th>5</th>\n",
       "      <td>{'criterion': 'mse', 'min_samples_split': 5, '...</td>\n",
       "      <td>1.093862e+06</td>\n",
       "    </tr>\n",
       "    <tr>\n",
       "      <th>26</th>\n",
       "      <td>{'criterion': 'mae', 'min_samples_split': 6, '...</td>\n",
       "      <td>1.099517e+06</td>\n",
       "    </tr>\n",
       "    <tr>\n",
       "      <th>27</th>\n",
       "      <td>{'criterion': 'mae', 'min_samples_split': 7, '...</td>\n",
       "      <td>1.144949e+06</td>\n",
       "    </tr>\n",
       "    <tr>\n",
       "      <th>16</th>\n",
       "      <td>{'criterion': 'friedman_mse', 'min_samples_spl...</td>\n",
       "      <td>1.174552e+06</td>\n",
       "    </tr>\n",
       "    <tr>\n",
       "      <th>6</th>\n",
       "      <td>{'criterion': 'mse', 'min_samples_split': 6, '...</td>\n",
       "      <td>1.174552e+06</td>\n",
       "    </tr>\n",
       "    <tr>\n",
       "      <th>17</th>\n",
       "      <td>{'criterion': 'friedman_mse', 'min_samples_spl...</td>\n",
       "      <td>1.238684e+06</td>\n",
       "    </tr>\n",
       "    <tr>\n",
       "      <th>7</th>\n",
       "      <td>{'criterion': 'mse', 'min_samples_split': 7, '...</td>\n",
       "      <td>1.238684e+06</td>\n",
       "    </tr>\n",
       "    <tr>\n",
       "      <th>28</th>\n",
       "      <td>{'criterion': 'mae', 'min_samples_split': 8, '...</td>\n",
       "      <td>1.245794e+06</td>\n",
       "    </tr>\n",
       "    <tr>\n",
       "      <th>29</th>\n",
       "      <td>{'criterion': 'mae', 'min_samples_split': 9, '...</td>\n",
       "      <td>1.265436e+06</td>\n",
       "    </tr>\n",
       "    <tr>\n",
       "      <th>18</th>\n",
       "      <td>{'criterion': 'friedman_mse', 'min_samples_spl...</td>\n",
       "      <td>1.297797e+06</td>\n",
       "    </tr>\n",
       "    <tr>\n",
       "      <th>8</th>\n",
       "      <td>{'criterion': 'mse', 'min_samples_split': 8, '...</td>\n",
       "      <td>1.297797e+06</td>\n",
       "    </tr>\n",
       "    <tr>\n",
       "      <th>19</th>\n",
       "      <td>{'criterion': 'friedman_mse', 'min_samples_spl...</td>\n",
       "      <td>1.331675e+06</td>\n",
       "    </tr>\n",
       "    <tr>\n",
       "      <th>9</th>\n",
       "      <td>{'criterion': 'mse', 'min_samples_split': 9, '...</td>\n",
       "      <td>1.331675e+06</td>\n",
       "    </tr>\n",
       "    <tr>\n",
       "      <th>0</th>\n",
       "      <td>{'criterion': 'mse', 'min_samples_split': 0, '...</td>\n",
       "      <td>NaN</td>\n",
       "    </tr>\n",
       "    <tr>\n",
       "      <th>1</th>\n",
       "      <td>{'criterion': 'mse', 'min_samples_split': 1, '...</td>\n",
       "      <td>NaN</td>\n",
       "    </tr>\n",
       "    <tr>\n",
       "      <th>10</th>\n",
       "      <td>{'criterion': 'friedman_mse', 'min_samples_spl...</td>\n",
       "      <td>NaN</td>\n",
       "    </tr>\n",
       "    <tr>\n",
       "      <th>11</th>\n",
       "      <td>{'criterion': 'friedman_mse', 'min_samples_spl...</td>\n",
       "      <td>NaN</td>\n",
       "    </tr>\n",
       "    <tr>\n",
       "      <th>20</th>\n",
       "      <td>{'criterion': 'mae', 'min_samples_split': 0, '...</td>\n",
       "      <td>NaN</td>\n",
       "    </tr>\n",
       "    <tr>\n",
       "      <th>21</th>\n",
       "      <td>{'criterion': 'mae', 'min_samples_split': 1, '...</td>\n",
       "      <td>NaN</td>\n",
       "    </tr>\n",
       "  </tbody>\n",
       "</table>\n",
       "</div>"
      ],
      "text/plain": [
       "                                               params  mean_test_score\n",
       "22  {'criterion': 'mae', 'min_samples_split': 2, '...     9.334293e+05\n",
       "2   {'criterion': 'mse', 'min_samples_split': 2, '...     9.576858e+05\n",
       "12  {'criterion': 'friedman_mse', 'min_samples_spl...     9.576858e+05\n",
       "24  {'criterion': 'mae', 'min_samples_split': 4, '...     9.841894e+05\n",
       "23  {'criterion': 'mae', 'min_samples_split': 3, '...     9.985405e+05\n",
       "3   {'criterion': 'mse', 'min_samples_split': 3, '...     1.003836e+06\n",
       "13  {'criterion': 'friedman_mse', 'min_samples_spl...     1.003836e+06\n",
       "14  {'criterion': 'friedman_mse', 'min_samples_spl...     1.046356e+06\n",
       "4   {'criterion': 'mse', 'min_samples_split': 4, '...     1.046419e+06\n",
       "25  {'criterion': 'mae', 'min_samples_split': 5, '...     1.054071e+06\n",
       "15  {'criterion': 'friedman_mse', 'min_samples_spl...     1.093862e+06\n",
       "5   {'criterion': 'mse', 'min_samples_split': 5, '...     1.093862e+06\n",
       "26  {'criterion': 'mae', 'min_samples_split': 6, '...     1.099517e+06\n",
       "27  {'criterion': 'mae', 'min_samples_split': 7, '...     1.144949e+06\n",
       "16  {'criterion': 'friedman_mse', 'min_samples_spl...     1.174552e+06\n",
       "6   {'criterion': 'mse', 'min_samples_split': 6, '...     1.174552e+06\n",
       "17  {'criterion': 'friedman_mse', 'min_samples_spl...     1.238684e+06\n",
       "7   {'criterion': 'mse', 'min_samples_split': 7, '...     1.238684e+06\n",
       "28  {'criterion': 'mae', 'min_samples_split': 8, '...     1.245794e+06\n",
       "29  {'criterion': 'mae', 'min_samples_split': 9, '...     1.265436e+06\n",
       "18  {'criterion': 'friedman_mse', 'min_samples_spl...     1.297797e+06\n",
       "8   {'criterion': 'mse', 'min_samples_split': 8, '...     1.297797e+06\n",
       "19  {'criterion': 'friedman_mse', 'min_samples_spl...     1.331675e+06\n",
       "9   {'criterion': 'mse', 'min_samples_split': 9, '...     1.331675e+06\n",
       "0   {'criterion': 'mse', 'min_samples_split': 0, '...              NaN\n",
       "1   {'criterion': 'mse', 'min_samples_split': 1, '...              NaN\n",
       "10  {'criterion': 'friedman_mse', 'min_samples_spl...              NaN\n",
       "11  {'criterion': 'friedman_mse', 'min_samples_spl...              NaN\n",
       "20  {'criterion': 'mae', 'min_samples_split': 0, '...              NaN\n",
       "21  {'criterion': 'mae', 'min_samples_split': 1, '...              NaN"
      ]
     },
     "execution_count": 69,
     "metadata": {},
     "output_type": "execute_result"
    }
   ],
   "source": [
    "etrgs = GridSearchCV(etr, etrparams,return_train_score = False, cv = 5, scoring='neg_mean_squared_error')\n",
    "etrgs.fit(X, Y)\n",
    "etrDF = pd.DataFrame(etrgs.cv_results_)\n",
    "etrDF['mean_test_score'] = np.abs(etrDF['mean_test_score'])\n",
    "etrDF[['params', 'mean_test_score']].sort_values(by='mean_test_score', ascending=True)"
   ]
  },
  {
   "cell_type": "code",
   "execution_count": 70,
   "metadata": {},
   "outputs": [],
   "source": [
    "#etrDF.loc[22,'mean_test_score']"
   ]
  },
  {
   "cell_type": "code",
   "execution_count": 71,
   "metadata": {},
   "outputs": [
    {
     "data": {
      "text/html": [
       "<div>\n",
       "<style scoped>\n",
       "    .dataframe tbody tr th:only-of-type {\n",
       "        vertical-align: middle;\n",
       "    }\n",
       "\n",
       "    .dataframe tbody tr th {\n",
       "        vertical-align: top;\n",
       "    }\n",
       "\n",
       "    .dataframe thead th {\n",
       "        text-align: right;\n",
       "    }\n",
       "</style>\n",
       "<table border=\"1\" class=\"dataframe\">\n",
       "  <thead>\n",
       "    <tr style=\"text-align: right;\">\n",
       "      <th></th>\n",
       "      <th>params</th>\n",
       "      <th>mean_test_score</th>\n",
       "    </tr>\n",
       "  </thead>\n",
       "  <tbody>\n",
       "    <tr>\n",
       "      <th>188</th>\n",
       "      <td>{'criterion': 'friedman_mse', 'loss': 'huber',...</td>\n",
       "      <td>1.063058e+06</td>\n",
       "    </tr>\n",
       "    <tr>\n",
       "      <th>186</th>\n",
       "      <td>{'criterion': 'friedman_mse', 'loss': 'huber',...</td>\n",
       "      <td>1.064155e+06</td>\n",
       "    </tr>\n",
       "    <tr>\n",
       "      <th>187</th>\n",
       "      <td>{'criterion': 'friedman_mse', 'loss': 'huber',...</td>\n",
       "      <td>1.065109e+06</td>\n",
       "    </tr>\n",
       "    <tr>\n",
       "      <th>184</th>\n",
       "      <td>{'criterion': 'friedman_mse', 'loss': 'huber',...</td>\n",
       "      <td>1.068768e+06</td>\n",
       "    </tr>\n",
       "    <tr>\n",
       "      <th>185</th>\n",
       "      <td>{'criterion': 'friedman_mse', 'loss': 'huber',...</td>\n",
       "      <td>1.069927e+06</td>\n",
       "    </tr>\n",
       "    <tr>\n",
       "      <th>...</th>\n",
       "      <td>...</td>\n",
       "      <td>...</td>\n",
       "    </tr>\n",
       "    <tr>\n",
       "      <th>334</th>\n",
       "      <td>{'criterion': 'mae', 'loss': 'quantile', 'n_es...</td>\n",
       "      <td>3.031557e+06</td>\n",
       "    </tr>\n",
       "    <tr>\n",
       "      <th>333</th>\n",
       "      <td>{'criterion': 'mae', 'loss': 'quantile', 'n_es...</td>\n",
       "      <td>3.053112e+06</td>\n",
       "    </tr>\n",
       "    <tr>\n",
       "      <th>332</th>\n",
       "      <td>{'criterion': 'mae', 'loss': 'quantile', 'n_es...</td>\n",
       "      <td>3.056998e+06</td>\n",
       "    </tr>\n",
       "    <tr>\n",
       "      <th>331</th>\n",
       "      <td>{'criterion': 'mae', 'loss': 'quantile', 'n_es...</td>\n",
       "      <td>3.092444e+06</td>\n",
       "    </tr>\n",
       "    <tr>\n",
       "      <th>330</th>\n",
       "      <td>{'criterion': 'mae', 'loss': 'quantile', 'n_es...</td>\n",
       "      <td>3.101750e+06</td>\n",
       "    </tr>\n",
       "  </tbody>\n",
       "</table>\n",
       "<p>360 rows × 2 columns</p>\n",
       "</div>"
      ],
      "text/plain": [
       "                                                params  mean_test_score\n",
       "188  {'criterion': 'friedman_mse', 'loss': 'huber',...     1.063058e+06\n",
       "186  {'criterion': 'friedman_mse', 'loss': 'huber',...     1.064155e+06\n",
       "187  {'criterion': 'friedman_mse', 'loss': 'huber',...     1.065109e+06\n",
       "184  {'criterion': 'friedman_mse', 'loss': 'huber',...     1.068768e+06\n",
       "185  {'criterion': 'friedman_mse', 'loss': 'huber',...     1.069927e+06\n",
       "..                                                 ...              ...\n",
       "334  {'criterion': 'mae', 'loss': 'quantile', 'n_es...     3.031557e+06\n",
       "333  {'criterion': 'mae', 'loss': 'quantile', 'n_es...     3.053112e+06\n",
       "332  {'criterion': 'mae', 'loss': 'quantile', 'n_es...     3.056998e+06\n",
       "331  {'criterion': 'mae', 'loss': 'quantile', 'n_es...     3.092444e+06\n",
       "330  {'criterion': 'mae', 'loss': 'quantile', 'n_es...     3.101750e+06\n",
       "\n",
       "[360 rows x 2 columns]"
      ]
     },
     "execution_count": 71,
     "metadata": {},
     "output_type": "execute_result"
    }
   ],
   "source": [
    "gbrgs = GridSearchCV(gbr, gbrparams,return_train_score = False, cv = 5, scoring='neg_mean_squared_error')\n",
    "gbrgs.fit(X, Y)\n",
    "gbrDF = pd.DataFrame(gbrgs.cv_results_)\n",
    "gbrDF['mean_test_score'] = np.abs(gbrDF['mean_test_score'])\n",
    "gbrDF[['params', 'mean_test_score']].sort_values(by='mean_test_score', ascending=True)"
   ]
  },
  {
   "cell_type": "code",
   "execution_count": 72,
   "metadata": {},
   "outputs": [],
   "source": [
    "#gbrDF.loc[59,'mean_test_score']"
   ]
  },
  {
   "cell_type": "markdown",
   "metadata": {},
   "source": [
    "# Lasso Seems best Model in Deaths case study"
   ]
  },
  {
   "cell_type": "markdown",
   "metadata": {},
   "source": [
    "# Recovered Regression"
   ]
  },
  {
   "cell_type": "code",
   "execution_count": 73,
   "metadata": {},
   "outputs": [],
   "source": [
    "dum_Data = df.dropna(subset=['Recovered'], inplace=False)\n",
    "X_train1 = dum_Data.drop([\"Recovered\", \"Deaths\"],1)\n",
    "y_train1 = dum_Data[\"Recovered\"]\n",
    "dum_Data = df[df[\"Recovered\"].isna()]\n",
    "X_test1 = dum_Data.drop([\"Recovered\", \"Deaths\"],1)\n",
    "y_test1 = dum_Data[\"Recovered\"]"
   ]
  },
  {
   "cell_type": "markdown",
   "metadata": {},
   "source": [
    "Let's find out the best Lasso Model and save it"
   ]
  },
  {
   "cell_type": "code",
   "execution_count": 76,
   "metadata": {},
   "outputs": [
    {
     "name": "stdout",
     "output_type": "stream",
     "text": [
      "(41, 7)\n",
      "(41,)\n"
     ]
    },
    {
     "data": {
      "text/plain": [
       "array([ 2761.76558185,   654.2274401 ,   781.29413189,  6231.43933747,\n",
       "         262.70351523,   234.51868823, 10572.22553775,   429.18254612,\n",
       "        1915.99297749,  -233.62231588,   101.45972148,  -258.93212754,\n",
       "        4671.97822726,   688.96354446])"
      ]
     },
     "execution_count": 76,
     "metadata": {},
     "output_type": "execute_result"
    }
   ],
   "source": [
    "print(X_train.shape)\n",
    "print(y_train.shape)\n",
    "ls_model = lsgs.fit(X_train, y_train).best_estimator_\n",
    "ls_model.fit(X_train, y_train)\n",
    "pred = ls_model.predict(X_test)\n",
    "pred"
   ]
  },
  {
   "cell_type": "code",
   "execution_count": 77,
   "metadata": {},
   "outputs": [],
   "source": [
    "ls_model.fit(X_train1, y_train1)\n",
    "pred = ls_model.predict(X_test1)"
   ]
  },
  {
   "cell_type": "code",
   "execution_count": 78,
   "metadata": {},
   "outputs": [
    {
     "data": {
      "text/plain": [
       "count       42.000000\n",
       "mean      5533.952381\n",
       "std       7862.075243\n",
       "min          0.000000\n",
       "25%        855.500000\n",
       "50%       2909.500000\n",
       "75%       6060.750000\n",
       "max      30341.000000\n",
       "Name: Recovered, dtype: float64"
      ]
     },
     "execution_count": 78,
     "metadata": {},
     "output_type": "execute_result"
    }
   ],
   "source": [
    "y_train1.describe()"
   ]
  },
  {
   "cell_type": "code",
   "execution_count": 79,
   "metadata": {},
   "outputs": [],
   "source": [
    "import joblib"
   ]
  },
  {
   "cell_type": "code",
   "execution_count": 80,
   "metadata": {},
   "outputs": [
    {
     "data": {
      "text/plain": [
       "['final_model.pkl']"
      ]
     },
     "execution_count": 80,
     "metadata": {},
     "output_type": "execute_result"
    }
   ],
   "source": [
    "# save the model to disk\n",
    "filename = 'final_model.pkl'\n",
    "joblib.dump(ls_model, filename)"
   ]
  },
  {
   "cell_type": "code",
   "execution_count": null,
   "metadata": {},
   "outputs": [],
   "source": []
  }
 ],
 "metadata": {
  "kernelspec": {
   "display_name": "Python 3",
   "language": "python",
   "name": "python3"
  },
  "language_info": {
   "codemirror_mode": {
    "name": "ipython",
    "version": 3
   },
   "file_extension": ".py",
   "mimetype": "text/x-python",
   "name": "python",
   "nbconvert_exporter": "python",
   "pygments_lexer": "ipython3",
   "version": "3.8.3"
  }
 },
 "nbformat": 4,
 "nbformat_minor": 4
}
